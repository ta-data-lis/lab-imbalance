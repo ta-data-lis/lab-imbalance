{
  "cells": [
    {
      "cell_type": "markdown",
      "metadata": {
        "id": "wm5qqtoK7_Uj"
      },
      "source": [
        "# Inbalanced Classes\n",
        "## In this lab, we are going to explore a case of imbalanced classes.\n",
        "\n",
        "\n",
        "Like we disussed in class, when we have noisy data, if we are not careful, we can end up fitting our model to the noise in the data and not the 'signal'-- the factors that actually determine the outcome. This is called overfitting, and results in good results in training, and in bad results when the model is applied to real data. Similarly, we could have a model that is too simplistic to accurately model the signal. This produces a model that doesnt work well (ever).\n"
      ]
    },
    {
      "cell_type": "markdown",
      "metadata": {
        "id": "LD51-ZWi7_Uo"
      },
      "source": [
        "### Note: before doing the first commit, make sure you don't include the large csv file, either by adding it to .gitignore, or by deleting it."
      ]
    },
    {
      "cell_type": "markdown",
      "metadata": {
        "id": "cHCNDp7X7_Up"
      },
      "source": [
        "### First, download the data from: https://www.kaggle.com/datasets/ealaxi/paysim1. Import the dataset and provide some discriptive statistics and plots. What do you think will be the important features in determining the outcome?\n",
        "### Note: don't use the entire dataset, use a sample instead, with n=100000 elements, so your computer doesn't freeze."
      ]
    },
    {
      "cell_type": "code",
      "source": [
        "import pandas as pd\n",
        "import matplotlib.pyplot as plt\n",
        "import seaborn as sns"
      ],
      "metadata": {
        "id": "KtupXbbW8o-T"
      },
      "execution_count": null,
      "outputs": []
    },
    {
      "cell_type": "code",
      "execution_count": null,
      "metadata": {
        "id": "THpAQQcP7_Uq",
        "colab": {
          "base_uri": "https://localhost:8080/",
          "height": 206
        },
        "outputId": "74416ed7-5ef3-4d8d-f094-7a3e001c3f61"
      },
      "outputs": [
        {
          "output_type": "execute_result",
          "data": {
            "text/plain": [
              "        step      type     amount     nameOrig  oldbalanceOrg  newbalanceOrig  \\\n",
              "251624    14   PAYMENT    3229.29   C294223571            0.0             0.0   \n",
              "385062    17   PAYMENT   19036.88  C2107114068         5639.0             0.0   \n",
              "391504    17   PAYMENT   11626.88   C177162832            0.0             0.0   \n",
              "119204    11   PAYMENT   15820.53    C41067616            0.0             0.0   \n",
              "129295    11  CASH_OUT  141208.82  C1190920182        62486.0             0.0   \n",
              "\n",
              "           nameDest  oldbalanceDest  newbalanceDest  isFraud  isFlaggedFraud  \n",
              "251624  M2113985372            0.00            0.00      0.0             0.0  \n",
              "385062   M384092134            0.00            0.00      0.0             0.0  \n",
              "391504   M476808705            0.00            0.00      0.0             0.0  \n",
              "119204  M1928968864            0.00            0.00      0.0             0.0  \n",
              "129295  C1414963218       764252.95      1308463.31      0.0             0.0  "
            ],
            "text/html": [
              "\n",
              "  <div id=\"df-cd91518f-ec9b-442b-a1cf-5e33216fd767\" class=\"colab-df-container\">\n",
              "    <div>\n",
              "<style scoped>\n",
              "    .dataframe tbody tr th:only-of-type {\n",
              "        vertical-align: middle;\n",
              "    }\n",
              "\n",
              "    .dataframe tbody tr th {\n",
              "        vertical-align: top;\n",
              "    }\n",
              "\n",
              "    .dataframe thead th {\n",
              "        text-align: right;\n",
              "    }\n",
              "</style>\n",
              "<table border=\"1\" class=\"dataframe\">\n",
              "  <thead>\n",
              "    <tr style=\"text-align: right;\">\n",
              "      <th></th>\n",
              "      <th>step</th>\n",
              "      <th>type</th>\n",
              "      <th>amount</th>\n",
              "      <th>nameOrig</th>\n",
              "      <th>oldbalanceOrg</th>\n",
              "      <th>newbalanceOrig</th>\n",
              "      <th>nameDest</th>\n",
              "      <th>oldbalanceDest</th>\n",
              "      <th>newbalanceDest</th>\n",
              "      <th>isFraud</th>\n",
              "      <th>isFlaggedFraud</th>\n",
              "    </tr>\n",
              "  </thead>\n",
              "  <tbody>\n",
              "    <tr>\n",
              "      <th>251624</th>\n",
              "      <td>14</td>\n",
              "      <td>PAYMENT</td>\n",
              "      <td>3229.29</td>\n",
              "      <td>C294223571</td>\n",
              "      <td>0.0</td>\n",
              "      <td>0.0</td>\n",
              "      <td>M2113985372</td>\n",
              "      <td>0.00</td>\n",
              "      <td>0.00</td>\n",
              "      <td>0.0</td>\n",
              "      <td>0.0</td>\n",
              "    </tr>\n",
              "    <tr>\n",
              "      <th>385062</th>\n",
              "      <td>17</td>\n",
              "      <td>PAYMENT</td>\n",
              "      <td>19036.88</td>\n",
              "      <td>C2107114068</td>\n",
              "      <td>5639.0</td>\n",
              "      <td>0.0</td>\n",
              "      <td>M384092134</td>\n",
              "      <td>0.00</td>\n",
              "      <td>0.00</td>\n",
              "      <td>0.0</td>\n",
              "      <td>0.0</td>\n",
              "    </tr>\n",
              "    <tr>\n",
              "      <th>391504</th>\n",
              "      <td>17</td>\n",
              "      <td>PAYMENT</td>\n",
              "      <td>11626.88</td>\n",
              "      <td>C177162832</td>\n",
              "      <td>0.0</td>\n",
              "      <td>0.0</td>\n",
              "      <td>M476808705</td>\n",
              "      <td>0.00</td>\n",
              "      <td>0.00</td>\n",
              "      <td>0.0</td>\n",
              "      <td>0.0</td>\n",
              "    </tr>\n",
              "    <tr>\n",
              "      <th>119204</th>\n",
              "      <td>11</td>\n",
              "      <td>PAYMENT</td>\n",
              "      <td>15820.53</td>\n",
              "      <td>C41067616</td>\n",
              "      <td>0.0</td>\n",
              "      <td>0.0</td>\n",
              "      <td>M1928968864</td>\n",
              "      <td>0.00</td>\n",
              "      <td>0.00</td>\n",
              "      <td>0.0</td>\n",
              "      <td>0.0</td>\n",
              "    </tr>\n",
              "    <tr>\n",
              "      <th>129295</th>\n",
              "      <td>11</td>\n",
              "      <td>CASH_OUT</td>\n",
              "      <td>141208.82</td>\n",
              "      <td>C1190920182</td>\n",
              "      <td>62486.0</td>\n",
              "      <td>0.0</td>\n",
              "      <td>C1414963218</td>\n",
              "      <td>764252.95</td>\n",
              "      <td>1308463.31</td>\n",
              "      <td>0.0</td>\n",
              "      <td>0.0</td>\n",
              "    </tr>\n",
              "  </tbody>\n",
              "</table>\n",
              "</div>\n",
              "    <div class=\"colab-df-buttons\">\n",
              "\n",
              "  <div class=\"colab-df-container\">\n",
              "    <button class=\"colab-df-convert\" onclick=\"convertToInteractive('df-cd91518f-ec9b-442b-a1cf-5e33216fd767')\"\n",
              "            title=\"Convert this dataframe to an interactive table.\"\n",
              "            style=\"display:none;\">\n",
              "\n",
              "  <svg xmlns=\"http://www.w3.org/2000/svg\" height=\"24px\" viewBox=\"0 -960 960 960\">\n",
              "    <path d=\"M120-120v-720h720v720H120Zm60-500h600v-160H180v160Zm220 220h160v-160H400v160Zm0 220h160v-160H400v160ZM180-400h160v-160H180v160Zm440 0h160v-160H620v160ZM180-180h160v-160H180v160Zm440 0h160v-160H620v160Z\"/>\n",
              "  </svg>\n",
              "    </button>\n",
              "\n",
              "  <style>\n",
              "    .colab-df-container {\n",
              "      display:flex;\n",
              "      gap: 12px;\n",
              "    }\n",
              "\n",
              "    .colab-df-convert {\n",
              "      background-color: #E8F0FE;\n",
              "      border: none;\n",
              "      border-radius: 50%;\n",
              "      cursor: pointer;\n",
              "      display: none;\n",
              "      fill: #1967D2;\n",
              "      height: 32px;\n",
              "      padding: 0 0 0 0;\n",
              "      width: 32px;\n",
              "    }\n",
              "\n",
              "    .colab-df-convert:hover {\n",
              "      background-color: #E2EBFA;\n",
              "      box-shadow: 0px 1px 2px rgba(60, 64, 67, 0.3), 0px 1px 3px 1px rgba(60, 64, 67, 0.15);\n",
              "      fill: #174EA6;\n",
              "    }\n",
              "\n",
              "    .colab-df-buttons div {\n",
              "      margin-bottom: 4px;\n",
              "    }\n",
              "\n",
              "    [theme=dark] .colab-df-convert {\n",
              "      background-color: #3B4455;\n",
              "      fill: #D2E3FC;\n",
              "    }\n",
              "\n",
              "    [theme=dark] .colab-df-convert:hover {\n",
              "      background-color: #434B5C;\n",
              "      box-shadow: 0px 1px 3px 1px rgba(0, 0, 0, 0.15);\n",
              "      filter: drop-shadow(0px 1px 2px rgba(0, 0, 0, 0.3));\n",
              "      fill: #FFFFFF;\n",
              "    }\n",
              "  </style>\n",
              "\n",
              "    <script>\n",
              "      const buttonEl =\n",
              "        document.querySelector('#df-cd91518f-ec9b-442b-a1cf-5e33216fd767 button.colab-df-convert');\n",
              "      buttonEl.style.display =\n",
              "        google.colab.kernel.accessAllowed ? 'block' : 'none';\n",
              "\n",
              "      async function convertToInteractive(key) {\n",
              "        const element = document.querySelector('#df-cd91518f-ec9b-442b-a1cf-5e33216fd767');\n",
              "        const dataTable =\n",
              "          await google.colab.kernel.invokeFunction('convertToInteractive',\n",
              "                                                    [key], {});\n",
              "        if (!dataTable) return;\n",
              "\n",
              "        const docLinkHtml = 'Like what you see? Visit the ' +\n",
              "          '<a target=\"_blank\" href=https://colab.research.google.com/notebooks/data_table.ipynb>data table notebook</a>'\n",
              "          + ' to learn more about interactive tables.';\n",
              "        element.innerHTML = '';\n",
              "        dataTable['output_type'] = 'display_data';\n",
              "        await google.colab.output.renderOutput(dataTable, element);\n",
              "        const docLink = document.createElement('div');\n",
              "        docLink.innerHTML = docLinkHtml;\n",
              "        element.appendChild(docLink);\n",
              "      }\n",
              "    </script>\n",
              "  </div>\n",
              "\n",
              "\n",
              "<div id=\"df-37331651-fb1a-414e-9677-fac77d87d6d9\">\n",
              "  <button class=\"colab-df-quickchart\" onclick=\"quickchart('df-37331651-fb1a-414e-9677-fac77d87d6d9')\"\n",
              "            title=\"Suggest charts\"\n",
              "            style=\"display:none;\">\n",
              "\n",
              "<svg xmlns=\"http://www.w3.org/2000/svg\" height=\"24px\"viewBox=\"0 0 24 24\"\n",
              "     width=\"24px\">\n",
              "    <g>\n",
              "        <path d=\"M19 3H5c-1.1 0-2 .9-2 2v14c0 1.1.9 2 2 2h14c1.1 0 2-.9 2-2V5c0-1.1-.9-2-2-2zM9 17H7v-7h2v7zm4 0h-2V7h2v10zm4 0h-2v-4h2v4z\"/>\n",
              "    </g>\n",
              "</svg>\n",
              "  </button>\n",
              "\n",
              "<style>\n",
              "  .colab-df-quickchart {\n",
              "      --bg-color: #E8F0FE;\n",
              "      --fill-color: #1967D2;\n",
              "      --hover-bg-color: #E2EBFA;\n",
              "      --hover-fill-color: #174EA6;\n",
              "      --disabled-fill-color: #AAA;\n",
              "      --disabled-bg-color: #DDD;\n",
              "  }\n",
              "\n",
              "  [theme=dark] .colab-df-quickchart {\n",
              "      --bg-color: #3B4455;\n",
              "      --fill-color: #D2E3FC;\n",
              "      --hover-bg-color: #434B5C;\n",
              "      --hover-fill-color: #FFFFFF;\n",
              "      --disabled-bg-color: #3B4455;\n",
              "      --disabled-fill-color: #666;\n",
              "  }\n",
              "\n",
              "  .colab-df-quickchart {\n",
              "    background-color: var(--bg-color);\n",
              "    border: none;\n",
              "    border-radius: 50%;\n",
              "    cursor: pointer;\n",
              "    display: none;\n",
              "    fill: var(--fill-color);\n",
              "    height: 32px;\n",
              "    padding: 0;\n",
              "    width: 32px;\n",
              "  }\n",
              "\n",
              "  .colab-df-quickchart:hover {\n",
              "    background-color: var(--hover-bg-color);\n",
              "    box-shadow: 0 1px 2px rgba(60, 64, 67, 0.3), 0 1px 3px 1px rgba(60, 64, 67, 0.15);\n",
              "    fill: var(--button-hover-fill-color);\n",
              "  }\n",
              "\n",
              "  .colab-df-quickchart-complete:disabled,\n",
              "  .colab-df-quickchart-complete:disabled:hover {\n",
              "    background-color: var(--disabled-bg-color);\n",
              "    fill: var(--disabled-fill-color);\n",
              "    box-shadow: none;\n",
              "  }\n",
              "\n",
              "  .colab-df-spinner {\n",
              "    border: 2px solid var(--fill-color);\n",
              "    border-color: transparent;\n",
              "    border-bottom-color: var(--fill-color);\n",
              "    animation:\n",
              "      spin 1s steps(1) infinite;\n",
              "  }\n",
              "\n",
              "  @keyframes spin {\n",
              "    0% {\n",
              "      border-color: transparent;\n",
              "      border-bottom-color: var(--fill-color);\n",
              "      border-left-color: var(--fill-color);\n",
              "    }\n",
              "    20% {\n",
              "      border-color: transparent;\n",
              "      border-left-color: var(--fill-color);\n",
              "      border-top-color: var(--fill-color);\n",
              "    }\n",
              "    30% {\n",
              "      border-color: transparent;\n",
              "      border-left-color: var(--fill-color);\n",
              "      border-top-color: var(--fill-color);\n",
              "      border-right-color: var(--fill-color);\n",
              "    }\n",
              "    40% {\n",
              "      border-color: transparent;\n",
              "      border-right-color: var(--fill-color);\n",
              "      border-top-color: var(--fill-color);\n",
              "    }\n",
              "    60% {\n",
              "      border-color: transparent;\n",
              "      border-right-color: var(--fill-color);\n",
              "    }\n",
              "    80% {\n",
              "      border-color: transparent;\n",
              "      border-right-color: var(--fill-color);\n",
              "      border-bottom-color: var(--fill-color);\n",
              "    }\n",
              "    90% {\n",
              "      border-color: transparent;\n",
              "      border-bottom-color: var(--fill-color);\n",
              "    }\n",
              "  }\n",
              "</style>\n",
              "\n",
              "  <script>\n",
              "    async function quickchart(key) {\n",
              "      const quickchartButtonEl =\n",
              "        document.querySelector('#' + key + ' button');\n",
              "      quickchartButtonEl.disabled = true;  // To prevent multiple clicks.\n",
              "      quickchartButtonEl.classList.add('colab-df-spinner');\n",
              "      try {\n",
              "        const charts = await google.colab.kernel.invokeFunction(\n",
              "            'suggestCharts', [key], {});\n",
              "      } catch (error) {\n",
              "        console.error('Error during call to suggestCharts:', error);\n",
              "      }\n",
              "      quickchartButtonEl.classList.remove('colab-df-spinner');\n",
              "      quickchartButtonEl.classList.add('colab-df-quickchart-complete');\n",
              "    }\n",
              "    (() => {\n",
              "      let quickchartButtonEl =\n",
              "        document.querySelector('#df-37331651-fb1a-414e-9677-fac77d87d6d9 button');\n",
              "      quickchartButtonEl.style.display =\n",
              "        google.colab.kernel.accessAllowed ? 'block' : 'none';\n",
              "    })();\n",
              "  </script>\n",
              "</div>\n",
              "    </div>\n",
              "  </div>\n"
            ]
          },
          "metadata": {},
          "execution_count": 2
        }
      ],
      "source": [
        "# Just a first look\n",
        "df = pd.read_csv(\"/PS_20174392719_1491204439457_log.csv\")\n",
        "sample = df.sample(100000)\n",
        "sample.head()"
      ]
    },
    {
      "cell_type": "code",
      "source": [
        "# Taking a look at the shape of the dataset and checking for categorical/numerical\n",
        "print(f\"The actual shape of my data is {sample.shape[0]} rows and {sample.shape[1]} columns\")"
      ],
      "metadata": {
        "id": "wyMYRepSAaYt",
        "colab": {
          "base_uri": "https://localhost:8080/"
        },
        "outputId": "43da3cf8-365a-4c44-db9d-c2ffbbfacae9"
      },
      "execution_count": null,
      "outputs": [
        {
          "output_type": "stream",
          "name": "stdout",
          "text": [
            "The actual shape of my data is 100000 rows and 11 columns\n"
          ]
        }
      ]
    },
    {
      "cell_type": "code",
      "source": [
        "# Just out of curiosity, these last columns might contain my target, just by checking the unique\n",
        "print(sample[\"isFraud\"].unique())  # this will be my target, most likely\n",
        "print(sample[\"isFlaggedFraud\"].unique())"
      ],
      "metadata": {
        "id": "9KCm2s3LAwJ-",
        "colab": {
          "base_uri": "https://localhost:8080/"
        },
        "outputId": "bef5045f-81e3-4afb-f94d-8ab0911a1141"
      },
      "execution_count": null,
      "outputs": [
        {
          "output_type": "stream",
          "name": "stdout",
          "text": [
            "[0. 1.]\n",
            "[0.]\n"
          ]
        }
      ]
    },
    {
      "cell_type": "code",
      "source": [
        "# If it's what I am thinking, 2 out of 1000 are fraud? Maybe. Let's sit back and enjoy the show\n",
        "print(sample[\"isFraud\"].value_counts())\n",
        "sample[\"isFraud\"].value_counts().plot(kind = \"bar\")"
      ],
      "metadata": {
        "id": "M1kNevqiQtl9",
        "colab": {
          "base_uri": "https://localhost:8080/",
          "height": 507
        },
        "outputId": "ff0bcbe5-79bb-4502-c0b1-e294823f2896"
      },
      "execution_count": null,
      "outputs": [
        {
          "output_type": "stream",
          "name": "stdout",
          "text": [
            "0.0    99947\n",
            "1.0       53\n",
            "Name: isFraud, dtype: int64\n"
          ]
        },
        {
          "output_type": "execute_result",
          "data": {
            "text/plain": [
              "<Axes: >"
            ]
          },
          "metadata": {},
          "execution_count": 5
        },
        {
          "output_type": "display_data",
          "data": {
            "text/plain": [
              "<Figure size 640x480 with 1 Axes>"
            ],
            "image/png": "[encoded data removed]"
          },
          "metadata": {}
        }
      ]
    },
    {
      "cell_type": "code",
      "source": [
        "# Checking for statistics. I can see the \"only 2\" fraud cases in the mean of isFraud. The rest is a bit foggy for me.\n",
        "sample.describe()"
      ],
      "metadata": {
        "id": "s8UOZaZlPD4x",
        "colab": {
          "base_uri": "https://localhost:8080/",
          "height": 300
        },
        "outputId": "75b9d6bf-1cb3-4b8e-9376-212ff351ccc2"
      },
      "execution_count": null,
      "outputs": [
        {
          "output_type": "execute_result",
          "data": {
            "text/plain": [
              "                step        amount  oldbalanceOrg  newbalanceOrig  \\\n",
              "count  100000.000000  1.000000e+05   1.000000e+05    1.000000e+05   \n",
              "mean       13.793930  1.672580e+05   9.083691e+05    9.284839e+05   \n",
              "std         3.662865  2.737220e+05   3.003058e+06    3.040327e+06   \n",
              "min         1.000000  3.000000e-01   0.000000e+00    0.000000e+00   \n",
              "25%        11.000000  1.326794e+04   0.000000e+00    0.000000e+00   \n",
              "50%        14.000000  8.114545e+04   1.803700e+04    0.000000e+00   \n",
              "75%        17.000000  2.240173e+05   1.688683e+05    2.113392e+05   \n",
              "max        19.000000  1.000000e+07   3.836475e+07    3.844183e+07   \n",
              "\n",
              "       oldbalanceDest  newbalanceDest        isFraud  isFlaggedFraud  \n",
              "count    1.000000e+05    1.000000e+05  100000.000000        100000.0  \n",
              "mean     9.872217e+05    1.171648e+06       0.000530             0.0  \n",
              "std      2.354548e+06    2.539133e+06       0.023016             0.0  \n",
              "min      0.000000e+00    0.000000e+00       0.000000             0.0  \n",
              "25%      0.000000e+00    0.000000e+00       0.000000             0.0  \n",
              "50%      1.177247e+05    2.234951e+05       0.000000             0.0  \n",
              "75%      9.029070e+05    1.214240e+06       0.000000             0.0  \n",
              "max      4.133844e+07    4.138365e+07       1.000000             0.0  "
            ],
            "text/html": [
              "\n",
              "  <div id=\"df-fc90b41b-d85f-4003-82a9-3ed44495753a\" class=\"colab-df-container\">\n",
              "    <div>\n",
              "<style scoped>\n",
              "    .dataframe tbody tr th:only-of-type {\n",
              "        vertical-align: middle;\n",
              "    }\n",
              "\n",
              "    .dataframe tbody tr th {\n",
              "        vertical-align: top;\n",
              "    }\n",
              "\n",
              "    .dataframe thead th {\n",
              "        text-align: right;\n",
              "    }\n",
              "</style>\n",
              "<table border=\"1\" class=\"dataframe\">\n",
              "  <thead>\n",
              "    <tr style=\"text-align: right;\">\n",
              "      <th></th>\n",
              "      <th>step</th>\n",
              "      <th>amount</th>\n",
              "      <th>oldbalanceOrg</th>\n",
              "      <th>newbalanceOrig</th>\n",
              "      <th>oldbalanceDest</th>\n",
              "      <th>newbalanceDest</th>\n",
              "      <th>isFraud</th>\n",
              "      <th>isFlaggedFraud</th>\n",
              "    </tr>\n",
              "  </thead>\n",
              "  <tbody>\n",
              "    <tr>\n",
              "      <th>count</th>\n",
              "      <td>100000.000000</td>\n",
              "      <td>1.000000e+05</td>\n",
              "      <td>1.000000e+05</td>\n",
              "      <td>1.000000e+05</td>\n",
              "      <td>1.000000e+05</td>\n",
              "      <td>1.000000e+05</td>\n",
              "      <td>100000.000000</td>\n",
              "      <td>100000.0</td>\n",
              "    </tr>\n",
              "    <tr>\n",
              "      <th>mean</th>\n",
              "      <td>13.793930</td>\n",
              "      <td>1.672580e+05</td>\n",
              "      <td>9.083691e+05</td>\n",
              "      <td>9.284839e+05</td>\n",
              "      <td>9.872217e+05</td>\n",
              "      <td>1.171648e+06</td>\n",
              "      <td>0.000530</td>\n",
              "      <td>0.0</td>\n",
              "    </tr>\n",
              "    <tr>\n",
              "      <th>std</th>\n",
              "      <td>3.662865</td>\n",
              "      <td>2.737220e+05</td>\n",
              "      <td>3.003058e+06</td>\n",
              "      <td>3.040327e+06</td>\n",
              "      <td>2.354548e+06</td>\n",
              "      <td>2.539133e+06</td>\n",
              "      <td>0.023016</td>\n",
              "      <td>0.0</td>\n",
              "    </tr>\n",
              "    <tr>\n",
              "      <th>min</th>\n",
              "      <td>1.000000</td>\n",
              "      <td>3.000000e-01</td>\n",
              "      <td>0.000000e+00</td>\n",
              "      <td>0.000000e+00</td>\n",
              "      <td>0.000000e+00</td>\n",
              "      <td>0.000000e+00</td>\n",
              "      <td>0.000000</td>\n",
              "      <td>0.0</td>\n",
              "    </tr>\n",
              "    <tr>\n",
              "      <th>25%</th>\n",
              "      <td>11.000000</td>\n",
              "      <td>1.326794e+04</td>\n",
              "      <td>0.000000e+00</td>\n",
              "      <td>0.000000e+00</td>\n",
              "      <td>0.000000e+00</td>\n",
              "      <td>0.000000e+00</td>\n",
              "      <td>0.000000</td>\n",
              "      <td>0.0</td>\n",
              "    </tr>\n",
              "    <tr>\n",
              "      <th>50%</th>\n",
              "      <td>14.000000</td>\n",
              "      <td>8.114545e+04</td>\n",
              "      <td>1.803700e+04</td>\n",
              "      <td>0.000000e+00</td>\n",
              "      <td>1.177247e+05</td>\n",
              "      <td>2.234951e+05</td>\n",
              "      <td>0.000000</td>\n",
              "      <td>0.0</td>\n",
              "    </tr>\n",
              "    <tr>\n",
              "      <th>75%</th>\n",
              "      <td>17.000000</td>\n",
              "      <td>2.240173e+05</td>\n",
              "      <td>1.688683e+05</td>\n",
              "      <td>2.113392e+05</td>\n",
              "      <td>9.029070e+05</td>\n",
              "      <td>1.214240e+06</td>\n",
              "      <td>0.000000</td>\n",
              "      <td>0.0</td>\n",
              "    </tr>\n",
              "    <tr>\n",
              "      <th>max</th>\n",
              "      <td>19.000000</td>\n",
              "      <td>1.000000e+07</td>\n",
              "      <td>3.836475e+07</td>\n",
              "      <td>3.844183e+07</td>\n",
              "      <td>4.133844e+07</td>\n",
              "      <td>4.138365e+07</td>\n",
              "      <td>1.000000</td>\n",
              "      <td>0.0</td>\n",
              "    </tr>\n",
              "  </tbody>\n",
              "</table>\n",
              "</div>\n",
              "    <div class=\"colab-df-buttons\">\n",
              "\n",
              "  <div class=\"colab-df-container\">\n",
              "    <button class=\"colab-df-convert\" onclick=\"convertToInteractive('df-fc90b41b-d85f-4003-82a9-3ed44495753a')\"\n",
              "            title=\"Convert this dataframe to an interactive table.\"\n",
              "            style=\"display:none;\">\n",
              "\n",
              "  <svg xmlns=\"http://www.w3.org/2000/svg\" height=\"24px\" viewBox=\"0 -960 960 960\">\n",
              "    <path d=\"M120-120v-720h720v720H120Zm60-500h600v-160H180v160Zm220 220h160v-160H400v160Zm0 220h160v-160H400v160ZM180-400h160v-160H180v160Zm440 0h160v-160H620v160ZM180-180h160v-160H180v160Zm440 0h160v-160H620v160Z\"/>\n",
              "  </svg>\n",
              "    </button>\n",
              "\n",
              "  <style>\n",
              "    .colab-df-container {\n",
              "      display:flex;\n",
              "      gap: 12px;\n",
              "    }\n",
              "\n",
              "    .colab-df-convert {\n",
              "      background-color: #E8F0FE;\n",
              "      border: none;\n",
              "      border-radius: 50%;\n",
              "      cursor: pointer;\n",
              "      display: none;\n",
              "      fill: #1967D2;\n",
              "      height: 32px;\n",
              "      padding: 0 0 0 0;\n",
              "      width: 32px;\n",
              "    }\n",
              "\n",
              "    .colab-df-convert:hover {\n",
              "      background-color: #E2EBFA;\n",
              "      box-shadow: 0px 1px 2px rgba(60, 64, 67, 0.3), 0px 1px 3px 1px rgba(60, 64, 67, 0.15);\n",
              "      fill: #174EA6;\n",
              "    }\n",
              "\n",
              "    .colab-df-buttons div {\n",
              "      margin-bottom: 4px;\n",
              "    }\n",
              "\n",
              "    [theme=dark] .colab-df-convert {\n",
              "      background-color: #3B4455;\n",
              "      fill: #D2E3FC;\n",
              "    }\n",
              "\n",
              "    [theme=dark] .colab-df-convert:hover {\n",
              "      background-color: #434B5C;\n",
              "      box-shadow: 0px 1px 3px 1px rgba(0, 0, 0, 0.15);\n",
              "      filter: drop-shadow(0px 1px 2px rgba(0, 0, 0, 0.3));\n",
              "      fill: #FFFFFF;\n",
              "    }\n",
              "  </style>\n",
              "\n",
              "    <script>\n",
              "      const buttonEl =\n",
              "        document.querySelector('#df-fc90b41b-d85f-4003-82a9-3ed44495753a button.colab-df-convert');\n",
              "      buttonEl.style.display =\n",
              "        google.colab.kernel.accessAllowed ? 'block' : 'none';\n",
              "\n",
              "      async function convertToInteractive(key) {\n",
              "        const element = document.querySelector('#df-fc90b41b-d85f-4003-82a9-3ed44495753a');\n",
              "        const dataTable =\n",
              "          await google.colab.kernel.invokeFunction('convertToInteractive',\n",
              "                                                    [key], {});\n",
              "        if (!dataTable) return;\n",
              "\n",
              "        const docLinkHtml = 'Like what you see? Visit the ' +\n",
              "          '<a target=\"_blank\" href=https://colab.research.google.com/notebooks/data_table.ipynb>data table notebook</a>'\n",
              "          + ' to learn more about interactive tables.';\n",
              "        element.innerHTML = '';\n",
              "        dataTable['output_type'] = 'display_data';\n",
              "        await google.colab.output.renderOutput(dataTable, element);\n",
              "        const docLink = document.createElement('div');\n",
              "        docLink.innerHTML = docLinkHtml;\n",
              "        element.appendChild(docLink);\n",
              "      }\n",
              "    </script>\n",
              "  </div>\n",
              "\n",
              "\n",
              "<div id=\"df-6486d341-7cec-419d-8c52-57a399508470\">\n",
              "  <button class=\"colab-df-quickchart\" onclick=\"quickchart('df-6486d341-7cec-419d-8c52-57a399508470')\"\n",
              "            title=\"Suggest charts\"\n",
              "            style=\"display:none;\">\n",
              "\n",
              "<svg xmlns=\"http://www.w3.org/2000/svg\" height=\"24px\"viewBox=\"0 0 24 24\"\n",
              "     width=\"24px\">\n",
              "    <g>\n",
              "        <path d=\"M19 3H5c-1.1 0-2 .9-2 2v14c0 1.1.9 2 2 2h14c1.1 0 2-.9 2-2V5c0-1.1-.9-2-2-2zM9 17H7v-7h2v7zm4 0h-2V7h2v10zm4 0h-2v-4h2v4z\"/>\n",
              "    </g>\n",
              "</svg>\n",
              "  </button>\n",
              "\n",
              "<style>\n",
              "  .colab-df-quickchart {\n",
              "      --bg-color: #E8F0FE;\n",
              "      --fill-color: #1967D2;\n",
              "      --hover-bg-color: #E2EBFA;\n",
              "      --hover-fill-color: #174EA6;\n",
              "      --disabled-fill-color: #AAA;\n",
              "      --disabled-bg-color: #DDD;\n",
              "  }\n",
              "\n",
              "  [theme=dark] .colab-df-quickchart {\n",
              "      --bg-color: #3B4455;\n",
              "      --fill-color: #D2E3FC;\n",
              "      --hover-bg-color: #434B5C;\n",
              "      --hover-fill-color: #FFFFFF;\n",
              "      --disabled-bg-color: #3B4455;\n",
              "      --disabled-fill-color: #666;\n",
              "  }\n",
              "\n",
              "  .colab-df-quickchart {\n",
              "    background-color: var(--bg-color);\n",
              "    border: none;\n",
              "    border-radius: 50%;\n",
              "    cursor: pointer;\n",
              "    display: none;\n",
              "    fill: var(--fill-color);\n",
              "    height: 32px;\n",
              "    padding: 0;\n",
              "    width: 32px;\n",
              "  }\n",
              "\n",
              "  .colab-df-quickchart:hover {\n",
              "    background-color: var(--hover-bg-color);\n",
              "    box-shadow: 0 1px 2px rgba(60, 64, 67, 0.3), 0 1px 3px 1px rgba(60, 64, 67, 0.15);\n",
              "    fill: var(--button-hover-fill-color);\n",
              "  }\n",
              "\n",
              "  .colab-df-quickchart-complete:disabled,\n",
              "  .colab-df-quickchart-complete:disabled:hover {\n",
              "    background-color: var(--disabled-bg-color);\n",
              "    fill: var(--disabled-fill-color);\n",
              "    box-shadow: none;\n",
              "  }\n",
              "\n",
              "  .colab-df-spinner {\n",
              "    border: 2px solid var(--fill-color);\n",
              "    border-color: transparent;\n",
              "    border-bottom-color: var(--fill-color);\n",
              "    animation:\n",
              "      spin 1s steps(1) infinite;\n",
              "  }\n",
              "\n",
              "  @keyframes spin {\n",
              "    0% {\n",
              "      border-color: transparent;\n",
              "      border-bottom-color: var(--fill-color);\n",
              "      border-left-color: var(--fill-color);\n",
              "    }\n",
              "    20% {\n",
              "      border-color: transparent;\n",
              "      border-left-color: var(--fill-color);\n",
              "      border-top-color: var(--fill-color);\n",
              "    }\n",
              "    30% {\n",
              "      border-color: transparent;\n",
              "      border-left-color: var(--fill-color);\n",
              "      border-top-color: var(--fill-color);\n",
              "      border-right-color: var(--fill-color);\n",
              "    }\n",
              "    40% {\n",
              "      border-color: transparent;\n",
              "      border-right-color: var(--fill-color);\n",
              "      border-top-color: var(--fill-color);\n",
              "    }\n",
              "    60% {\n",
              "      border-color: transparent;\n",
              "      border-right-color: var(--fill-color);\n",
              "    }\n",
              "    80% {\n",
              "      border-color: transparent;\n",
              "      border-right-color: var(--fill-color);\n",
              "      border-bottom-color: var(--fill-color);\n",
              "    }\n",
              "    90% {\n",
              "      border-color: transparent;\n",
              "      border-bottom-color: var(--fill-color);\n",
              "    }\n",
              "  }\n",
              "</style>\n",
              "\n",
              "  <script>\n",
              "    async function quickchart(key) {\n",
              "      const quickchartButtonEl =\n",
              "        document.querySelector('#' + key + ' button');\n",
              "      quickchartButtonEl.disabled = true;  // To prevent multiple clicks.\n",
              "      quickchartButtonEl.classList.add('colab-df-spinner');\n",
              "      try {\n",
              "        const charts = await google.colab.kernel.invokeFunction(\n",
              "            'suggestCharts', [key], {});\n",
              "      } catch (error) {\n",
              "        console.error('Error during call to suggestCharts:', error);\n",
              "      }\n",
              "      quickchartButtonEl.classList.remove('colab-df-spinner');\n",
              "      quickchartButtonEl.classList.add('colab-df-quickchart-complete');\n",
              "    }\n",
              "    (() => {\n",
              "      let quickchartButtonEl =\n",
              "        document.querySelector('#df-6486d341-7cec-419d-8c52-57a399508470 button');\n",
              "      quickchartButtonEl.style.display =\n",
              "        google.colab.kernel.accessAllowed ? 'block' : 'none';\n",
              "    })();\n",
              "  </script>\n",
              "</div>\n",
              "    </div>\n",
              "  </div>\n"
            ]
          },
          "metadata": {},
          "execution_count": 6
        }
      ]
    },
    {
      "cell_type": "markdown",
      "metadata": {
        "id": "tNd05x_17_Us"
      },
      "source": [
        "### What is the distribution of the outcome?"
      ]
    },
    {
      "cell_type": "code",
      "execution_count": null,
      "metadata": {
        "id": "CHmYLtB57_Us"
      },
      "outputs": [],
      "source": [
        "# If the question is related to the outcome variable \"isFraud\" (if a transaction is fraudulent or not and atribioting (fraud - 1 and no fraud - 0)) on the data set.\n",
        "# If my labels are correct, I have 998 instances labeled as \"no fraud\" and 2 instances labeled as \"fraud.\"\n",
        "\n",
        "# (Tip: If you are doing the Imbalance Lab) sure you want to hear that our outcome will be highly imbalanced in favor of \"no fraud\"."
      ]
    },
    {
      "cell_type": "markdown",
      "metadata": {
        "id": "qh9CB98A7_Ut"
      },
      "source": [
        "### Clean the dataset. How are you going to integrate the time variable? Do you think the step (integer) coding in which it is given is appropriate?"
      ]
    },
    {
      "cell_type": "code",
      "source": [
        "# Cleaning the place.\n",
        "# 1st. Checking nulls\n",
        "print(sample.isnull().sum())\n",
        "print(\"\\nThank you baby jesus\")"
      ],
      "metadata": {
        "id": "55q2oSdGgzsS",
        "colab": {
          "base_uri": "https://localhost:8080/"
        },
        "outputId": "d2f789cf-2da3-4164-816d-3a2c169d8e65"
      },
      "execution_count": null,
      "outputs": [
        {
          "output_type": "stream",
          "name": "stdout",
          "text": [
            "step              0\n",
            "type              0\n",
            "amount            0\n",
            "nameOrig          0\n",
            "oldbalanceOrg     0\n",
            "newbalanceOrig    0\n",
            "nameDest          0\n",
            "oldbalanceDest    0\n",
            "newbalanceDest    0\n",
            "isFraud           0\n",
            "isFlaggedFraud    0\n",
            "dtype: int64\n",
            "\n",
            "Thank you baby jesus\n"
          ]
        }
      ]
    },
    {
      "cell_type": "code",
      "source": [
        "# Checking for data in columns. Ok, fine.\n",
        "print(sample[\"type\"].unique())\n",
        "sample[\"type\"].value_counts().plot(kind = \"bar\")"
      ],
      "metadata": {
        "id": "vkt2bPXdg_6A",
        "colab": {
          "base_uri": "https://localhost:8080/",
          "height": 526
        },
        "outputId": "66f58e56-c925-4c84-ce42-02e3299004c1"
      },
      "execution_count": null,
      "outputs": [
        {
          "output_type": "stream",
          "name": "stdout",
          "text": [
            "['PAYMENT' 'CASH_OUT' 'TRANSFER' 'CASH_IN' 'DEBIT']\n"
          ]
        },
        {
          "output_type": "execute_result",
          "data": {
            "text/plain": [
              "<Axes: >"
            ]
          },
          "metadata": {},
          "execution_count": 9
        },
        {
          "output_type": "display_data",
          "data": {
            "text/plain": [
              "<Figure size 640x480 with 1 Axes>"
            ],
            "image/png": "[encoded data removed]"
          },
          "metadata": {}
        }
      ]
    },
    {
      "cell_type": "code",
      "source": [
        "#gonna put type of payments into dummies style :)\n",
        "sample_dummies = pd.get_dummies(sample[\"type\"])"
      ],
      "metadata": {
        "id": "6HOvx_bvh65Q"
      },
      "execution_count": null,
      "outputs": []
    },
    {
      "cell_type": "code",
      "source": [
        "sample = pd.concat([sample, sample_dummies], axis=1)"
      ],
      "metadata": {
        "id": "uAtBV-IOiAD9"
      },
      "execution_count": null,
      "outputs": []
    },
    {
      "cell_type": "code",
      "source": [
        "sample.drop(\"type\", axis=1, inplace = True)"
      ],
      "metadata": {
        "id": "0NxS08OliC15"
      },
      "execution_count": null,
      "outputs": []
    },
    {
      "cell_type": "code",
      "source": [
        "# Checking for data in columns. Can I drop these?\n",
        "print(sample[\"nameDest\"].nunique())\n",
        "print(sample[\"nameOrig\"].nunique())"
      ],
      "metadata": {
        "id": "0VjPBVKbg_3j",
        "colab": {
          "base_uri": "https://localhost:8080/"
        },
        "outputId": "169debca-fc6e-4f3d-a3cf-92eacac3a253"
      },
      "execution_count": null,
      "outputs": [
        {
          "output_type": "stream",
          "name": "stdout",
          "text": [
            "62991\n",
            "99995\n"
          ]
        }
      ]
    },
    {
      "cell_type": "code",
      "source": [
        "print(sample.dtypes)\n",
        "## nameOrig and nameDest -- > objects. Not even thinking of using as features."
      ],
      "metadata": {
        "id": "GN-ZA4eYg_1Z",
        "colab": {
          "base_uri": "https://localhost:8080/"
        },
        "outputId": "42319517-20c1-4186-cd29-4ec8e8e3e840"
      },
      "execution_count": null,
      "outputs": [
        {
          "output_type": "stream",
          "name": "stdout",
          "text": [
            "step                int64\n",
            "amount            float64\n",
            "nameOrig           object\n",
            "oldbalanceOrg     float64\n",
            "newbalanceOrig    float64\n",
            "nameDest           object\n",
            "oldbalanceDest    float64\n",
            "newbalanceDest    float64\n",
            "isFraud           float64\n",
            "isFlaggedFraud    float64\n",
            "CASH_IN             uint8\n",
            "CASH_OUT            uint8\n",
            "DEBIT               uint8\n",
            "PAYMENT             uint8\n",
            "TRANSFER            uint8\n",
            "dtype: object\n"
          ]
        }
      ]
    },
    {
      "cell_type": "code",
      "source": [
        "# Feature selection\n",
        "numeric_columns = [\"step\", \"amount\", \"oldbalanceOrg\", \"oldbalanceDest\", \"newbalanceDest\", \"isFraud\", \"CASH_IN\", \"CASH_OUT\",\"DEBIT\",\n",
        "                   \"PAYMENT\", \"TRANSFER\"]\n",
        "\n",
        "import numpy as np\n",
        "import seaborn as sns\n",
        "import matplotlib.pyplot as plt\n",
        "\n",
        "# example in class with salaries dataset\n",
        "\n",
        "corr=np.abs(sample[numeric_columns].corr())\n",
        "\n",
        "#Set up mask for triangle representation\n",
        "mask = np.zeros_like(corr, dtype=bool)\n",
        "mask[np.triu_indices_from(mask)] = True\n",
        "\n",
        "# Set up the matplotlib figure\n",
        "f, ax = plt.subplots(figsize=(14, 14))\n",
        "# Generate a custom diverging colormap\n",
        "cmap = sns.diverging_palette(220, 10, as_cmap=True)\n",
        "# Draw the heatmap with the mask and correct aspect ratio\n",
        "sns.heatmap(corr, mask=mask,  vmax=1,square=True, linewidths=.5, cbar_kws={\"shrink\": .5},annot = corr)\n",
        "\n",
        "plt.show()"
      ],
      "metadata": {
        "id": "j_f9TtaTPRSX"
      },
      "execution_count": null,
      "outputs": []
    },
    {
      "cell_type": "markdown",
      "metadata": {
        "id": "Z96bJ7k97_Uu"
      },
      "source": [
        "### Run a logisitc regression classifier and evaluate its accuracy."
      ]
    },
    {
      "cell_type": "code",
      "source": [
        "# define my X and y\n",
        "\n",
        "# Assuming 'sample' is your original DataFrame\n",
        "features = sample[[\"step\", \"amount\", \"oldbalanceOrg\", \"oldbalanceDest\", \"newbalanceDest\", \"CASH_IN\", \"CASH_OUT\", \"DEBIT\", \"PAYMENT\", \"TRANSFER\"]]\n",
        "\n",
        "#features = sample.drop(columns = [\"isFraud\", \"nameOrig\", \"nameDest\",\"newbalanceOrig\"])\n",
        "target = sample[\"isFraud\"]\n",
        "\n",
        "# Get the numeric and train\n",
        "from sklearn.model_selection import train_test_split\n",
        "\n",
        "X_train, X_test, y_train, y_test = train_test_split(features, target, test_size = 0.25, random_state = 0)"
      ],
      "metadata": {
        "id": "TWu-u-gpkznE"
      },
      "execution_count": null,
      "outputs": []
    },
    {
      "cell_type": "code",
      "execution_count": null,
      "metadata": {
        "id": "ERAMCiPx7_Uu",
        "colab": {
          "base_uri": "https://localhost:8080/"
        },
        "outputId": "b68b6089-379a-414c-c78b-eadb8d63e156"
      },
      "outputs": [
        {
          "output_type": "stream",
          "name": "stdout",
          "text": [
            "accuracy_score is: 0.99956\n"
          ]
        }
      ],
      "source": [
        "from sklearn.linear_model import LogisticRegression\n",
        "\n",
        "sample_model = LogisticRegression (max_iter = 4000) #used in class the same.\n",
        "sample_model.fit(X_train, y_train)\n",
        "sample_model.score(X_test, y_test)\n",
        "\n",
        "print(\"accuracy_score is:\", sample_model.score(X_test, y_test))"
      ]
    },
    {
      "cell_type": "code",
      "source": [
        "# confusion_matrix, classification_report\n",
        "from sklearn.metrics import confusion_matrix, classification_report\n",
        "\n",
        "pred = sample_model.predict(X_test)\n",
        "print(\"classification_report\\n\",classification_report(y_test, pred),\"\\n\\nconfusion_matrix\") # LOL - recall 1.00\n",
        "confusion_matrix(y_true = y_test, y_pred = pred)"
      ],
      "metadata": {
        "id": "Lu3syibZn4BZ"
      },
      "execution_count": null,
      "outputs": []
    },
    {
      "cell_type": "code",
      "source": [
        "# true negative  false positive\n",
        "# false negative  true positive\n",
        "\n",
        "### The thing is, this is super wrong and I would day it's because of our inbalanced sample [0 and 1's] ---> ### Over sampling"
      ],
      "metadata": {
        "id": "mVl6t_tJ4UoK"
      },
      "execution_count": null,
      "outputs": []
    },
    {
      "cell_type": "code",
      "source": [
        "train = pd.concat([X_train, y_train], axis=1) ### ONLY WITH THE TRAIN\n",
        "print(train.shape)\n",
        "# now, who is our minority and our majority class? Let's separate them\n",
        "no_fraud = train[train[\"isFraud\"] == 0]\n",
        "yes_fraud = train[train[\"isFraud\"] == 1]\n",
        "print(no_fraud.shape)\n",
        "print(yes_fraud.shape)\n",
        "print(\"Holy guacamole!\")"
      ],
      "metadata": {
        "id": "D13G0trhmNTB",
        "colab": {
          "base_uri": "https://localhost:8080/"
        },
        "outputId": "79609231-d25a-4b2a-f5b7-182721840ea2"
      },
      "execution_count": null,
      "outputs": [
        {
          "output_type": "stream",
          "name": "stdout",
          "text": [
            "(75000, 11)\n",
            "(74959, 11)\n",
            "(41, 11)\n",
            "Holy guacamole!\n"
          ]
        }
      ]
    },
    {
      "cell_type": "code",
      "source": [
        "from sklearn.utils import resample\n",
        "\n",
        "yes_fraud_oversampled = resample(yes_fraud, # datapoints I want to resample\n",
        "                                replace = True, # in oversampling always True\n",
        "                                n_samples = len(no_fraud), # len of the majority class\n",
        "                                random_state = 0)\n",
        "\n",
        "# Let's check these babies now\n",
        "print(yes_fraud_oversampled.shape)\n",
        "print(no_fraud.shape)"
      ],
      "metadata": {
        "id": "4ovceMnxpSQt",
        "colab": {
          "base_uri": "https://localhost:8080/"
        },
        "outputId": "abd45dcc-3a19-4b8a-d94c-75c69aa31284"
      },
      "execution_count": null,
      "outputs": [
        {
          "output_type": "stream",
          "name": "stdout",
          "text": [
            "(74959, 11)\n",
            "(74959, 11)\n"
          ]
        }
      ]
    },
    {
      "cell_type": "code",
      "source": [
        "# And let's put them together now\n",
        "train_oversampled = pd.concat([no_fraud, yes_fraud_oversampled])\n",
        "train_oversampled.head()\n",
        "\n",
        "# so we can divide again :D\n",
        "# let's divided again\n",
        "X_train_over = train_oversampled.drop(columns = [\"isFraud\"])\n",
        "y_train_over = train_oversampled[\"isFraud\"] # target here"
      ],
      "metadata": {
        "id": "SIHnx_LTp2lI"
      },
      "execution_count": null,
      "outputs": []
    },
    {
      "cell_type": "code",
      "source": [
        "### Now let's test it:\n",
        "sample_model = LogisticRegression (max_iter = 4000) #used in class the same.\n",
        "sample_model.fit(X_train_over, y_train_over)\n",
        "sample_model.score(X_test, y_test) #### just to test this\n",
        "print(\"Accuracy_score is:\", sample_model.score(X_test, y_test))\n",
        "print(\"Not a great score, but probably more reliable!\")"
      ],
      "metadata": {
        "id": "UVMBmqiIqUIM",
        "colab": {
          "base_uri": "https://localhost:8080/"
        },
        "outputId": "b1b770fe-9ff1-4819-9e58-851018964842"
      },
      "execution_count": null,
      "outputs": [
        {
          "output_type": "stream",
          "name": "stdout",
          "text": [
            "Accuracy_score is: 0.55584\n",
            "Not a great score, but probably more reliable!\n"
          ]
        }
      ]
    },
    {
      "cell_type": "code",
      "source": [
        "pred = sample_model.predict(X_test)\n",
        "print(classification_report(y_true = y_test, y_pred = pred)) ### Remember that we did not oversample the test, so it's y_test/y_pred"
      ],
      "metadata": {
        "id": "IG2SkmRVqUFc"
      },
      "execution_count": null,
      "outputs": []
    },
    {
      "cell_type": "code",
      "source": [
        "from sklearn.metrics import recall_score\n",
        "recall_score(y_test, pred) #### not bad, hein?"
      ],
      "metadata": {
        "id": "nKepCQS_qUAE"
      },
      "execution_count": null,
      "outputs": []
    },
    {
      "cell_type": "markdown",
      "metadata": {
        "id": "cjbRNnsT7_Uu"
      },
      "source": [
        "### Now pick a model of your choice and evaluate its accuracy."
      ]
    },
    {
      "cell_type": "code",
      "execution_count": null,
      "metadata": {
        "id": "n9wWucgV7_Uv",
        "colab": {
          "base_uri": "https://localhost:8080/"
        },
        "outputId": "75063e08-c356-4071-855e-0fb94a280a6c"
      },
      "outputs": [
        {
          "output_type": "stream",
          "name": "stdout",
          "text": [
            "Accuracy_score is: 0.99924\n"
          ]
        }
      ],
      "source": [
        "from sklearn.tree import DecisionTreeClassifier\n",
        "\n",
        "sample_model = DecisionTreeClassifier(random_state = 1)\n",
        "sample_model.fit(X_train_over, y_train_over)\n",
        "print(\"Accuracy_score is:\", sample_model.score(X_test, y_test))\n",
        "# not good i think"
      ]
    },
    {
      "cell_type": "code",
      "source": [
        "pred = sample_model.predict(X_test)\n",
        "print(classification_report(y_true = y_test, y_pred = pred)) ### Remember that we did not oversample the test, so it's y_test/y_pred\n",
        "print(\"Recall score is:\",recall_score(y_test, pred))"
      ],
      "metadata": {
        "id": "8R7xkyVwS0qb"
      },
      "execution_count": null,
      "outputs": []
    },
    {
      "cell_type": "code",
      "source": [],
      "metadata": {
        "id": "a2fECt54S0nx"
      },
      "execution_count": null,
      "outputs": []
    },
    {
      "cell_type": "markdown",
      "metadata": {
        "id": "u8J_5Cmt7_Uv"
      },
      "source": [
        "### Which model worked better and how do you know?"
      ]
    },
    {
      "cell_type": "code",
      "execution_count": null,
      "metadata": {
        "id": "QIt8cE8A7_Uw"
      },
      "outputs": [],
      "source": [
        "## Just gonna open a ticket for this :D kkkkk"
      ]
    },
    {
      "cell_type": "markdown",
      "metadata": {
        "id": "1UqblAe37_Uw"
      },
      "source": [
        "### Note: before doing the first commit, make sure you don't include the large csv file, either by adding it to .gitignore, or by deleting it."
      ]
    },
    {
      "cell_type": "code",
      "source": [],
      "metadata": {
        "id": "fQR6p2LXhWjJ"
      },
      "execution_count": null,
      "outputs": []
    }
  ],
  "metadata": {
    "kernelspec": {
      "display_name": "Python 3",
      "language": "python",
      "name": "python3"
    },
    "language_info": {
      "codemirror_mode": {
        "name": "ipython",
        "version": 3
      },
      "file_extension": ".py",
      "mimetype": "text/x-python",
      "name": "python",
      "nbconvert_exporter": "python",
      "pygments_lexer": "ipython3",
      "version": "3.6.8"
    },
    "colab": {
      "provenance": []
    }
  },
  "nbformat": 4,
  "nbformat_minor": 0
}