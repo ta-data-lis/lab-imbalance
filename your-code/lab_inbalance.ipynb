{
 "cells": [
  {
   "cell_type": "markdown",
   "metadata": {},
   "source": [
    "# Inbalanced Classes\n",
    "## In this lab, we are going to explore a case of imbalanced classes. \n",
    "\n",
    "\n",
    "Like we disussed in class, when we have noisy data, if we are not careful, we can end up fitting our model to the noise in the data and not the 'signal'-- the factors that actually determine the outcome. This is called overfitting, and results in good results in training, and in bad results when the model is applied to real data. Similarly, we could have a model that is too simplistic to accurately model the signal. This produces a model that doesnt work well (ever). \n"
   ]
  },
  {
   "cell_type": "code",
   "execution_count": 1,
   "metadata": {},
   "outputs": [],
   "source": [
    "import pandas as pd\n",
    "import numpy as np\n",
    "import seaborn as sns\n",
    "import matplotlib.pyplot as plt"
   ]
  },
  {
   "cell_type": "markdown",
   "metadata": {},
   "source": [
    "### First, download the data from: https://www.kaggle.com/ntnu-testimon/paysim1. Import the dataset and provide some discriptive statistics and plots. What do you think will be the important features in determining the outcome?"
   ]
  },
  {
   "cell_type": "code",
   "execution_count": 62,
   "metadata": {},
   "outputs": [
    {
     "data": {
      "text/html": [
       "<div>\n",
       "<style scoped>\n",
       "    .dataframe tbody tr th:only-of-type {\n",
       "        vertical-align: middle;\n",
       "    }\n",
       "\n",
       "    .dataframe tbody tr th {\n",
       "        vertical-align: top;\n",
       "    }\n",
       "\n",
       "    .dataframe thead th {\n",
       "        text-align: right;\n",
       "    }\n",
       "</style>\n",
       "<table border=\"1\" class=\"dataframe\">\n",
       "  <thead>\n",
       "    <tr style=\"text-align: right;\">\n",
       "      <th></th>\n",
       "      <th>step</th>\n",
       "      <th>type</th>\n",
       "      <th>amount</th>\n",
       "      <th>nameOrig</th>\n",
       "      <th>oldbalanceOrg</th>\n",
       "      <th>newbalanceOrig</th>\n",
       "      <th>nameDest</th>\n",
       "      <th>oldbalanceDest</th>\n",
       "      <th>newbalanceDest</th>\n",
       "      <th>isFraud</th>\n",
       "      <th>isFlaggedFraud</th>\n",
       "    </tr>\n",
       "  </thead>\n",
       "  <tbody>\n",
       "    <tr>\n",
       "      <th>0</th>\n",
       "      <td>1</td>\n",
       "      <td>PAYMENT</td>\n",
       "      <td>9839.64</td>\n",
       "      <td>C1231006815</td>\n",
       "      <td>170136.0</td>\n",
       "      <td>160296.36</td>\n",
       "      <td>M1979787155</td>\n",
       "      <td>0.0</td>\n",
       "      <td>0.0</td>\n",
       "      <td>0</td>\n",
       "      <td>0</td>\n",
       "    </tr>\n",
       "    <tr>\n",
       "      <th>1</th>\n",
       "      <td>1</td>\n",
       "      <td>PAYMENT</td>\n",
       "      <td>1864.28</td>\n",
       "      <td>C1666544295</td>\n",
       "      <td>21249.0</td>\n",
       "      <td>19384.72</td>\n",
       "      <td>M2044282225</td>\n",
       "      <td>0.0</td>\n",
       "      <td>0.0</td>\n",
       "      <td>0</td>\n",
       "      <td>0</td>\n",
       "    </tr>\n",
       "    <tr>\n",
       "      <th>2</th>\n",
       "      <td>1</td>\n",
       "      <td>TRANSFER</td>\n",
       "      <td>181.00</td>\n",
       "      <td>C1305486145</td>\n",
       "      <td>181.0</td>\n",
       "      <td>0.00</td>\n",
       "      <td>C553264065</td>\n",
       "      <td>0.0</td>\n",
       "      <td>0.0</td>\n",
       "      <td>1</td>\n",
       "      <td>0</td>\n",
       "    </tr>\n",
       "    <tr>\n",
       "      <th>3</th>\n",
       "      <td>1</td>\n",
       "      <td>CASH_OUT</td>\n",
       "      <td>181.00</td>\n",
       "      <td>C840083671</td>\n",
       "      <td>181.0</td>\n",
       "      <td>0.00</td>\n",
       "      <td>C38997010</td>\n",
       "      <td>21182.0</td>\n",
       "      <td>0.0</td>\n",
       "      <td>1</td>\n",
       "      <td>0</td>\n",
       "    </tr>\n",
       "    <tr>\n",
       "      <th>4</th>\n",
       "      <td>1</td>\n",
       "      <td>PAYMENT</td>\n",
       "      <td>11668.14</td>\n",
       "      <td>C2048537720</td>\n",
       "      <td>41554.0</td>\n",
       "      <td>29885.86</td>\n",
       "      <td>M1230701703</td>\n",
       "      <td>0.0</td>\n",
       "      <td>0.0</td>\n",
       "      <td>0</td>\n",
       "      <td>0</td>\n",
       "    </tr>\n",
       "  </tbody>\n",
       "</table>\n",
       "</div>"
      ],
      "text/plain": [
       "   step      type    amount     nameOrig  oldbalanceOrg  newbalanceOrig  \\\n",
       "0     1   PAYMENT   9839.64  C1231006815       170136.0       160296.36   \n",
       "1     1   PAYMENT   1864.28  C1666544295        21249.0        19384.72   \n",
       "2     1  TRANSFER    181.00  C1305486145          181.0            0.00   \n",
       "3     1  CASH_OUT    181.00   C840083671          181.0            0.00   \n",
       "4     1   PAYMENT  11668.14  C2048537720        41554.0        29885.86   \n",
       "\n",
       "      nameDest  oldbalanceDest  newbalanceDest  isFraud  isFlaggedFraud  \n",
       "0  M1979787155             0.0             0.0        0               0  \n",
       "1  M2044282225             0.0             0.0        0               0  \n",
       "2   C553264065             0.0             0.0        1               0  \n",
       "3    C38997010         21182.0             0.0        1               0  \n",
       "4  M1230701703             0.0             0.0        0               0  "
      ]
     },
     "execution_count": 62,
     "metadata": {},
     "output_type": "execute_result"
    }
   ],
   "source": [
    "# Your code here\n",
    "fraud = pd.read_csv('PS_20174392719_1491204439457_log.csv')\n",
    "fraud.head()"
   ]
  },
  {
   "cell_type": "code",
   "execution_count": 3,
   "metadata": {},
   "outputs": [
    {
     "data": {
      "text/plain": [
       "(6362620, 11)"
      ]
     },
     "execution_count": 3,
     "metadata": {},
     "output_type": "execute_result"
    }
   ],
   "source": [
    "fraud.shape #6 million rows! (6362620, 11)"
   ]
  },
  {
   "cell_type": "code",
   "execution_count": 34,
   "metadata": {},
   "outputs": [
    {
     "data": {
      "text/html": [
       "<div>\n",
       "<style scoped>\n",
       "    .dataframe tbody tr th:only-of-type {\n",
       "        vertical-align: middle;\n",
       "    }\n",
       "\n",
       "    .dataframe tbody tr th {\n",
       "        vertical-align: top;\n",
       "    }\n",
       "\n",
       "    .dataframe thead th {\n",
       "        text-align: right;\n",
       "    }\n",
       "</style>\n",
       "<table border=\"1\" class=\"dataframe\">\n",
       "  <thead>\n",
       "    <tr style=\"text-align: right;\">\n",
       "      <th></th>\n",
       "      <th>step</th>\n",
       "      <th>type</th>\n",
       "      <th>amount</th>\n",
       "      <th>nameOrig</th>\n",
       "      <th>oldbalanceOrg</th>\n",
       "      <th>newbalanceOrig</th>\n",
       "      <th>nameDest</th>\n",
       "      <th>oldbalanceDest</th>\n",
       "      <th>newbalanceDest</th>\n",
       "      <th>isFraud</th>\n",
       "      <th>isFlaggedFraud</th>\n",
       "    </tr>\n",
       "  </thead>\n",
       "  <tbody>\n",
       "    <tr>\n",
       "      <th>6322570</th>\n",
       "      <td>688</td>\n",
       "      <td>CASH_IN</td>\n",
       "      <td>23557.12</td>\n",
       "      <td>C867750533</td>\n",
       "      <td>8059.00</td>\n",
       "      <td>31616.12</td>\n",
       "      <td>C1026934669</td>\n",
       "      <td>169508.66</td>\n",
       "      <td>145951.53</td>\n",
       "      <td>0</td>\n",
       "      <td>0</td>\n",
       "    </tr>\n",
       "    <tr>\n",
       "      <th>3621196</th>\n",
       "      <td>274</td>\n",
       "      <td>PAYMENT</td>\n",
       "      <td>6236.13</td>\n",
       "      <td>C601099070</td>\n",
       "      <td>0.00</td>\n",
       "      <td>0.00</td>\n",
       "      <td>M701283411</td>\n",
       "      <td>0.00</td>\n",
       "      <td>0.00</td>\n",
       "      <td>0</td>\n",
       "      <td>0</td>\n",
       "    </tr>\n",
       "    <tr>\n",
       "      <th>1226256</th>\n",
       "      <td>133</td>\n",
       "      <td>PAYMENT</td>\n",
       "      <td>33981.87</td>\n",
       "      <td>C279540931</td>\n",
       "      <td>18745.72</td>\n",
       "      <td>0.00</td>\n",
       "      <td>M577905776</td>\n",
       "      <td>0.00</td>\n",
       "      <td>0.00</td>\n",
       "      <td>0</td>\n",
       "      <td>0</td>\n",
       "    </tr>\n",
       "    <tr>\n",
       "      <th>2803274</th>\n",
       "      <td>225</td>\n",
       "      <td>CASH_OUT</td>\n",
       "      <td>263006.42</td>\n",
       "      <td>C11675531</td>\n",
       "      <td>20072.00</td>\n",
       "      <td>0.00</td>\n",
       "      <td>C529577791</td>\n",
       "      <td>390253.56</td>\n",
       "      <td>653259.98</td>\n",
       "      <td>0</td>\n",
       "      <td>0</td>\n",
       "    </tr>\n",
       "    <tr>\n",
       "      <th>3201247</th>\n",
       "      <td>249</td>\n",
       "      <td>CASH_OUT</td>\n",
       "      <td>152013.74</td>\n",
       "      <td>C530649214</td>\n",
       "      <td>20765.00</td>\n",
       "      <td>0.00</td>\n",
       "      <td>C1304175579</td>\n",
       "      <td>252719.19</td>\n",
       "      <td>404732.93</td>\n",
       "      <td>0</td>\n",
       "      <td>0</td>\n",
       "    </tr>\n",
       "  </tbody>\n",
       "</table>\n",
       "</div>"
      ],
      "text/plain": [
       "         step      type     amount    nameOrig  oldbalanceOrg  newbalanceOrig  \\\n",
       "6322570   688   CASH_IN   23557.12  C867750533        8059.00        31616.12   \n",
       "3621196   274   PAYMENT    6236.13  C601099070           0.00            0.00   \n",
       "1226256   133   PAYMENT   33981.87  C279540931       18745.72            0.00   \n",
       "2803274   225  CASH_OUT  263006.42   C11675531       20072.00            0.00   \n",
       "3201247   249  CASH_OUT  152013.74  C530649214       20765.00            0.00   \n",
       "\n",
       "            nameDest  oldbalanceDest  newbalanceDest  isFraud  isFlaggedFraud  \n",
       "6322570  C1026934669       169508.66       145951.53        0               0  \n",
       "3621196   M701283411            0.00            0.00        0               0  \n",
       "1226256   M577905776            0.00            0.00        0               0  \n",
       "2803274   C529577791       390253.56       653259.98        0               0  \n",
       "3201247  C1304175579       252719.19       404732.93        0               0  "
      ]
     },
     "execution_count": 34,
     "metadata": {},
     "output_type": "execute_result"
    }
   ],
   "source": [
    "#sampling a smaller dataframe from the original one to work on\n",
    "#fraud_detect = fraud.sample(n=20000, random_state=1)\n",
    "#fraud_detect.head()"
   ]
  },
  {
   "cell_type": "code",
   "execution_count": 10,
   "metadata": {},
   "outputs": [
    {
     "data": {
      "text/plain": [
       "\"\\n'isFraud' is the target/outcome\\n\""
      ]
     },
     "execution_count": 10,
     "metadata": {},
     "output_type": "execute_result"
    }
   ],
   "source": [
    "'''\n",
    "'isFraud' is the target/outcome\n",
    "'''"
   ]
  },
  {
   "cell_type": "code",
   "execution_count": 11,
   "metadata": {},
   "outputs": [
    {
     "data": {
      "text/plain": [
       "(2000, 11)"
      ]
     },
     "execution_count": 11,
     "metadata": {},
     "output_type": "execute_result"
    }
   ],
   "source": [
    "fraud.shape"
   ]
  },
  {
   "cell_type": "code",
   "execution_count": 12,
   "metadata": {},
   "outputs": [
    {
     "data": {
      "text/html": [
       "<div>\n",
       "<style scoped>\n",
       "    .dataframe tbody tr th:only-of-type {\n",
       "        vertical-align: middle;\n",
       "    }\n",
       "\n",
       "    .dataframe tbody tr th {\n",
       "        vertical-align: top;\n",
       "    }\n",
       "\n",
       "    .dataframe thead th {\n",
       "        text-align: right;\n",
       "    }\n",
       "</style>\n",
       "<table border=\"1\" class=\"dataframe\">\n",
       "  <thead>\n",
       "    <tr style=\"text-align: right;\">\n",
       "      <th></th>\n",
       "      <th>step</th>\n",
       "      <th>amount</th>\n",
       "      <th>oldbalanceOrg</th>\n",
       "      <th>newbalanceOrig</th>\n",
       "      <th>oldbalanceDest</th>\n",
       "      <th>newbalanceDest</th>\n",
       "      <th>isFraud</th>\n",
       "      <th>isFlaggedFraud</th>\n",
       "    </tr>\n",
       "  </thead>\n",
       "  <tbody>\n",
       "    <tr>\n",
       "      <th>count</th>\n",
       "      <td>2000.000000</td>\n",
       "      <td>2.000000e+03</td>\n",
       "      <td>2.000000e+03</td>\n",
       "      <td>2.000000e+03</td>\n",
       "      <td>2.000000e+03</td>\n",
       "      <td>2.000000e+03</td>\n",
       "      <td>2000.00000</td>\n",
       "      <td>2000.0</td>\n",
       "    </tr>\n",
       "    <tr>\n",
       "      <th>mean</th>\n",
       "      <td>244.520500</td>\n",
       "      <td>1.809750e+05</td>\n",
       "      <td>7.992767e+05</td>\n",
       "      <td>8.177470e+05</td>\n",
       "      <td>1.044972e+06</td>\n",
       "      <td>1.184323e+06</td>\n",
       "      <td>0.00250</td>\n",
       "      <td>0.0</td>\n",
       "    </tr>\n",
       "    <tr>\n",
       "      <th>std</th>\n",
       "      <td>141.242566</td>\n",
       "      <td>5.314963e+05</td>\n",
       "      <td>2.738312e+06</td>\n",
       "      <td>2.775331e+06</td>\n",
       "      <td>2.448306e+06</td>\n",
       "      <td>2.688441e+06</td>\n",
       "      <td>0.04995</td>\n",
       "      <td>0.0</td>\n",
       "    </tr>\n",
       "    <tr>\n",
       "      <th>min</th>\n",
       "      <td>1.000000</td>\n",
       "      <td>2.483000e+01</td>\n",
       "      <td>0.000000e+00</td>\n",
       "      <td>0.000000e+00</td>\n",
       "      <td>0.000000e+00</td>\n",
       "      <td>0.000000e+00</td>\n",
       "      <td>0.00000</td>\n",
       "      <td>0.0</td>\n",
       "    </tr>\n",
       "    <tr>\n",
       "      <th>25%</th>\n",
       "      <td>157.000000</td>\n",
       "      <td>1.378599e+04</td>\n",
       "      <td>0.000000e+00</td>\n",
       "      <td>0.000000e+00</td>\n",
       "      <td>0.000000e+00</td>\n",
       "      <td>0.000000e+00</td>\n",
       "      <td>0.00000</td>\n",
       "      <td>0.0</td>\n",
       "    </tr>\n",
       "    <tr>\n",
       "      <th>50%</th>\n",
       "      <td>236.000000</td>\n",
       "      <td>6.825421e+04</td>\n",
       "      <td>1.473950e+04</td>\n",
       "      <td>0.000000e+00</td>\n",
       "      <td>1.140405e+05</td>\n",
       "      <td>1.906401e+05</td>\n",
       "      <td>0.00000</td>\n",
       "      <td>0.0</td>\n",
       "    </tr>\n",
       "    <tr>\n",
       "      <th>75%</th>\n",
       "      <td>332.000000</td>\n",
       "      <td>2.077654e+05</td>\n",
       "      <td>1.076382e+05</td>\n",
       "      <td>1.442079e+05</td>\n",
       "      <td>1.023041e+06</td>\n",
       "      <td>1.174101e+06</td>\n",
       "      <td>0.00000</td>\n",
       "      <td>0.0</td>\n",
       "    </tr>\n",
       "    <tr>\n",
       "      <th>max</th>\n",
       "      <td>715.000000</td>\n",
       "      <td>1.000000e+07</td>\n",
       "      <td>3.447909e+07</td>\n",
       "      <td>3.467825e+07</td>\n",
       "      <td>4.582730e+07</td>\n",
       "      <td>4.606345e+07</td>\n",
       "      <td>1.00000</td>\n",
       "      <td>0.0</td>\n",
       "    </tr>\n",
       "  </tbody>\n",
       "</table>\n",
       "</div>"
      ],
      "text/plain": [
       "              step        amount  oldbalanceOrg  newbalanceOrig  \\\n",
       "count  2000.000000  2.000000e+03   2.000000e+03    2.000000e+03   \n",
       "mean    244.520500  1.809750e+05   7.992767e+05    8.177470e+05   \n",
       "std     141.242566  5.314963e+05   2.738312e+06    2.775331e+06   \n",
       "min       1.000000  2.483000e+01   0.000000e+00    0.000000e+00   \n",
       "25%     157.000000  1.378599e+04   0.000000e+00    0.000000e+00   \n",
       "50%     236.000000  6.825421e+04   1.473950e+04    0.000000e+00   \n",
       "75%     332.000000  2.077654e+05   1.076382e+05    1.442079e+05   \n",
       "max     715.000000  1.000000e+07   3.447909e+07    3.467825e+07   \n",
       "\n",
       "       oldbalanceDest  newbalanceDest     isFraud  isFlaggedFraud  \n",
       "count    2.000000e+03    2.000000e+03  2000.00000          2000.0  \n",
       "mean     1.044972e+06    1.184323e+06     0.00250             0.0  \n",
       "std      2.448306e+06    2.688441e+06     0.04995             0.0  \n",
       "min      0.000000e+00    0.000000e+00     0.00000             0.0  \n",
       "25%      0.000000e+00    0.000000e+00     0.00000             0.0  \n",
       "50%      1.140405e+05    1.906401e+05     0.00000             0.0  \n",
       "75%      1.023041e+06    1.174101e+06     0.00000             0.0  \n",
       "max      4.582730e+07    4.606345e+07     1.00000             0.0  "
      ]
     },
     "execution_count": 12,
     "metadata": {},
     "output_type": "execute_result"
    }
   ],
   "source": [
    "#fraud_detect.describe()"
   ]
  },
  {
   "cell_type": "code",
   "execution_count": 13,
   "metadata": {},
   "outputs": [
    {
     "data": {
      "text/html": [
       "<div>\n",
       "<style scoped>\n",
       "    .dataframe tbody tr th:only-of-type {\n",
       "        vertical-align: middle;\n",
       "    }\n",
       "\n",
       "    .dataframe tbody tr th {\n",
       "        vertical-align: top;\n",
       "    }\n",
       "\n",
       "    .dataframe thead th {\n",
       "        text-align: right;\n",
       "    }\n",
       "</style>\n",
       "<table border=\"1\" class=\"dataframe\">\n",
       "  <thead>\n",
       "    <tr style=\"text-align: right;\">\n",
       "      <th></th>\n",
       "      <th>step</th>\n",
       "      <th>amount</th>\n",
       "      <th>oldbalanceOrg</th>\n",
       "      <th>newbalanceOrig</th>\n",
       "      <th>oldbalanceDest</th>\n",
       "      <th>newbalanceDest</th>\n",
       "      <th>isFraud</th>\n",
       "      <th>isFlaggedFraud</th>\n",
       "    </tr>\n",
       "  </thead>\n",
       "  <tbody>\n",
       "    <tr>\n",
       "      <th>step</th>\n",
       "      <td>1.000000</td>\n",
       "      <td>0.045751</td>\n",
       "      <td>-0.036690</td>\n",
       "      <td>-0.036765</td>\n",
       "      <td>0.055698</td>\n",
       "      <td>0.053914</td>\n",
       "      <td>0.002297</td>\n",
       "      <td>NaN</td>\n",
       "    </tr>\n",
       "    <tr>\n",
       "      <th>amount</th>\n",
       "      <td>0.045751</td>\n",
       "      <td>1.000000</td>\n",
       "      <td>-0.014172</td>\n",
       "      <td>-0.014796</td>\n",
       "      <td>0.184676</td>\n",
       "      <td>0.438965</td>\n",
       "      <td>0.030227</td>\n",
       "      <td>NaN</td>\n",
       "    </tr>\n",
       "    <tr>\n",
       "      <th>oldbalanceOrg</th>\n",
       "      <td>-0.036690</td>\n",
       "      <td>-0.014172</td>\n",
       "      <td>1.000000</td>\n",
       "      <td>0.999214</td>\n",
       "      <td>0.056548</td>\n",
       "      <td>0.023463</td>\n",
       "      <td>-0.005440</td>\n",
       "      <td>NaN</td>\n",
       "    </tr>\n",
       "    <tr>\n",
       "      <th>newbalanceOrig</th>\n",
       "      <td>-0.036765</td>\n",
       "      <td>-0.014796</td>\n",
       "      <td>0.999214</td>\n",
       "      <td>1.000000</td>\n",
       "      <td>0.057907</td>\n",
       "      <td>0.022726</td>\n",
       "      <td>-0.014755</td>\n",
       "      <td>NaN</td>\n",
       "    </tr>\n",
       "    <tr>\n",
       "      <th>oldbalanceDest</th>\n",
       "      <td>0.055698</td>\n",
       "      <td>0.184676</td>\n",
       "      <td>0.056548</td>\n",
       "      <td>0.057907</td>\n",
       "      <td>1.000000</td>\n",
       "      <td>0.953100</td>\n",
       "      <td>-0.014494</td>\n",
       "      <td>NaN</td>\n",
       "    </tr>\n",
       "    <tr>\n",
       "      <th>newbalanceDest</th>\n",
       "      <td>0.053914</td>\n",
       "      <td>0.438965</td>\n",
       "      <td>0.023463</td>\n",
       "      <td>0.022726</td>\n",
       "      <td>0.953100</td>\n",
       "      <td>1.000000</td>\n",
       "      <td>-0.007053</td>\n",
       "      <td>NaN</td>\n",
       "    </tr>\n",
       "    <tr>\n",
       "      <th>isFraud</th>\n",
       "      <td>0.002297</td>\n",
       "      <td>0.030227</td>\n",
       "      <td>-0.005440</td>\n",
       "      <td>-0.014755</td>\n",
       "      <td>-0.014494</td>\n",
       "      <td>-0.007053</td>\n",
       "      <td>1.000000</td>\n",
       "      <td>NaN</td>\n",
       "    </tr>\n",
       "    <tr>\n",
       "      <th>isFlaggedFraud</th>\n",
       "      <td>NaN</td>\n",
       "      <td>NaN</td>\n",
       "      <td>NaN</td>\n",
       "      <td>NaN</td>\n",
       "      <td>NaN</td>\n",
       "      <td>NaN</td>\n",
       "      <td>NaN</td>\n",
       "      <td>NaN</td>\n",
       "    </tr>\n",
       "  </tbody>\n",
       "</table>\n",
       "</div>"
      ],
      "text/plain": [
       "                    step    amount  oldbalanceOrg  newbalanceOrig  \\\n",
       "step            1.000000  0.045751      -0.036690       -0.036765   \n",
       "amount          0.045751  1.000000      -0.014172       -0.014796   \n",
       "oldbalanceOrg  -0.036690 -0.014172       1.000000        0.999214   \n",
       "newbalanceOrig -0.036765 -0.014796       0.999214        1.000000   \n",
       "oldbalanceDest  0.055698  0.184676       0.056548        0.057907   \n",
       "newbalanceDest  0.053914  0.438965       0.023463        0.022726   \n",
       "isFraud         0.002297  0.030227      -0.005440       -0.014755   \n",
       "isFlaggedFraud       NaN       NaN            NaN             NaN   \n",
       "\n",
       "                oldbalanceDest  newbalanceDest   isFraud  isFlaggedFraud  \n",
       "step                  0.055698        0.053914  0.002297             NaN  \n",
       "amount                0.184676        0.438965  0.030227             NaN  \n",
       "oldbalanceOrg         0.056548        0.023463 -0.005440             NaN  \n",
       "newbalanceOrig        0.057907        0.022726 -0.014755             NaN  \n",
       "oldbalanceDest        1.000000        0.953100 -0.014494             NaN  \n",
       "newbalanceDest        0.953100        1.000000 -0.007053             NaN  \n",
       "isFraud              -0.014494       -0.007053  1.000000             NaN  \n",
       "isFlaggedFraud             NaN             NaN       NaN             NaN  "
      ]
     },
     "execution_count": 13,
     "metadata": {},
     "output_type": "execute_result"
    }
   ],
   "source": [
    "fraud_detect.corr()"
   ]
  },
  {
   "cell_type": "code",
   "execution_count": 35,
   "metadata": {},
   "outputs": [
    {
     "data": {
      "text/html": [
       "<style  type=\"text/css\" >\n",
       "    #T_ccb30ac6_e38f_11e9_8fa5_c8bcc89f66f8row0_col0 {\n",
       "            background-color:  #a50026;\n",
       "            color:  #f1f1f1;\n",
       "        }    #T_ccb30ac6_e38f_11e9_8fa5_c8bcc89f66f8row0_col1 {\n",
       "            background-color:  #a50026;\n",
       "            color:  #f1f1f1;\n",
       "        }    #T_ccb30ac6_e38f_11e9_8fa5_c8bcc89f66f8row0_col2 {\n",
       "            background-color:  #a50026;\n",
       "            color:  #f1f1f1;\n",
       "        }    #T_ccb30ac6_e38f_11e9_8fa5_c8bcc89f66f8row0_col3 {\n",
       "            background-color:  #a50026;\n",
       "            color:  #f1f1f1;\n",
       "        }    #T_ccb30ac6_e38f_11e9_8fa5_c8bcc89f66f8row0_col4 {\n",
       "            background-color:  #a50026;\n",
       "            color:  #f1f1f1;\n",
       "        }    #T_ccb30ac6_e38f_11e9_8fa5_c8bcc89f66f8row0_col5 {\n",
       "            background-color:  #a50026;\n",
       "            color:  #f1f1f1;\n",
       "        }    #T_ccb30ac6_e38f_11e9_8fa5_c8bcc89f66f8row0_col6 {\n",
       "            background-color:  #a50026;\n",
       "            color:  #f1f1f1;\n",
       "        }    #T_ccb30ac6_e38f_11e9_8fa5_c8bcc89f66f8row0_col7 {\n",
       "            background-color:  #a50026;\n",
       "            color:  #f1f1f1;\n",
       "        }    #T_ccb30ac6_e38f_11e9_8fa5_c8bcc89f66f8row1_col0 {\n",
       "            background-color:  #a50026;\n",
       "            color:  #f1f1f1;\n",
       "        }    #T_ccb30ac6_e38f_11e9_8fa5_c8bcc89f66f8row1_col1 {\n",
       "            background-color:  #a50026;\n",
       "            color:  #f1f1f1;\n",
       "        }    #T_ccb30ac6_e38f_11e9_8fa5_c8bcc89f66f8row1_col2 {\n",
       "            background-color:  #a50026;\n",
       "            color:  #f1f1f1;\n",
       "        }    #T_ccb30ac6_e38f_11e9_8fa5_c8bcc89f66f8row1_col3 {\n",
       "            background-color:  #a50026;\n",
       "            color:  #f1f1f1;\n",
       "        }    #T_ccb30ac6_e38f_11e9_8fa5_c8bcc89f66f8row1_col4 {\n",
       "            background-color:  #a50026;\n",
       "            color:  #f1f1f1;\n",
       "        }    #T_ccb30ac6_e38f_11e9_8fa5_c8bcc89f66f8row1_col5 {\n",
       "            background-color:  #a50026;\n",
       "            color:  #f1f1f1;\n",
       "        }    #T_ccb30ac6_e38f_11e9_8fa5_c8bcc89f66f8row1_col6 {\n",
       "            background-color:  #a50026;\n",
       "            color:  #f1f1f1;\n",
       "        }    #T_ccb30ac6_e38f_11e9_8fa5_c8bcc89f66f8row1_col7 {\n",
       "            background-color:  #a50026;\n",
       "            color:  #f1f1f1;\n",
       "        }    #T_ccb30ac6_e38f_11e9_8fa5_c8bcc89f66f8row2_col0 {\n",
       "            background-color:  #a50026;\n",
       "            color:  #f1f1f1;\n",
       "        }    #T_ccb30ac6_e38f_11e9_8fa5_c8bcc89f66f8row2_col1 {\n",
       "            background-color:  #a50026;\n",
       "            color:  #f1f1f1;\n",
       "        }    #T_ccb30ac6_e38f_11e9_8fa5_c8bcc89f66f8row2_col2 {\n",
       "            background-color:  #a50026;\n",
       "            color:  #f1f1f1;\n",
       "        }    #T_ccb30ac6_e38f_11e9_8fa5_c8bcc89f66f8row2_col3 {\n",
       "            background-color:  #a50026;\n",
       "            color:  #f1f1f1;\n",
       "        }    #T_ccb30ac6_e38f_11e9_8fa5_c8bcc89f66f8row2_col4 {\n",
       "            background-color:  #a50026;\n",
       "            color:  #f1f1f1;\n",
       "        }    #T_ccb30ac6_e38f_11e9_8fa5_c8bcc89f66f8row2_col5 {\n",
       "            background-color:  #a50026;\n",
       "            color:  #f1f1f1;\n",
       "        }    #T_ccb30ac6_e38f_11e9_8fa5_c8bcc89f66f8row2_col6 {\n",
       "            background-color:  #a50026;\n",
       "            color:  #f1f1f1;\n",
       "        }    #T_ccb30ac6_e38f_11e9_8fa5_c8bcc89f66f8row2_col7 {\n",
       "            background-color:  #a50026;\n",
       "            color:  #f1f1f1;\n",
       "        }    #T_ccb30ac6_e38f_11e9_8fa5_c8bcc89f66f8row3_col0 {\n",
       "            background-color:  #a50026;\n",
       "            color:  #f1f1f1;\n",
       "        }    #T_ccb30ac6_e38f_11e9_8fa5_c8bcc89f66f8row3_col1 {\n",
       "            background-color:  #a50026;\n",
       "            color:  #f1f1f1;\n",
       "        }    #T_ccb30ac6_e38f_11e9_8fa5_c8bcc89f66f8row3_col2 {\n",
       "            background-color:  #a50026;\n",
       "            color:  #f1f1f1;\n",
       "        }    #T_ccb30ac6_e38f_11e9_8fa5_c8bcc89f66f8row3_col3 {\n",
       "            background-color:  #a50026;\n",
       "            color:  #f1f1f1;\n",
       "        }    #T_ccb30ac6_e38f_11e9_8fa5_c8bcc89f66f8row3_col4 {\n",
       "            background-color:  #a50026;\n",
       "            color:  #f1f1f1;\n",
       "        }    #T_ccb30ac6_e38f_11e9_8fa5_c8bcc89f66f8row3_col5 {\n",
       "            background-color:  #a50026;\n",
       "            color:  #f1f1f1;\n",
       "        }    #T_ccb30ac6_e38f_11e9_8fa5_c8bcc89f66f8row3_col6 {\n",
       "            background-color:  #a50026;\n",
       "            color:  #f1f1f1;\n",
       "        }    #T_ccb30ac6_e38f_11e9_8fa5_c8bcc89f66f8row3_col7 {\n",
       "            background-color:  #a50026;\n",
       "            color:  #f1f1f1;\n",
       "        }    #T_ccb30ac6_e38f_11e9_8fa5_c8bcc89f66f8row4_col0 {\n",
       "            background-color:  #a50026;\n",
       "            color:  #f1f1f1;\n",
       "        }    #T_ccb30ac6_e38f_11e9_8fa5_c8bcc89f66f8row4_col1 {\n",
       "            background-color:  #a50026;\n",
       "            color:  #f1f1f1;\n",
       "        }    #T_ccb30ac6_e38f_11e9_8fa5_c8bcc89f66f8row4_col2 {\n",
       "            background-color:  #a50026;\n",
       "            color:  #f1f1f1;\n",
       "        }    #T_ccb30ac6_e38f_11e9_8fa5_c8bcc89f66f8row4_col3 {\n",
       "            background-color:  #a50026;\n",
       "            color:  #f1f1f1;\n",
       "        }    #T_ccb30ac6_e38f_11e9_8fa5_c8bcc89f66f8row4_col4 {\n",
       "            background-color:  #a50026;\n",
       "            color:  #f1f1f1;\n",
       "        }    #T_ccb30ac6_e38f_11e9_8fa5_c8bcc89f66f8row4_col5 {\n",
       "            background-color:  #a50026;\n",
       "            color:  #f1f1f1;\n",
       "        }    #T_ccb30ac6_e38f_11e9_8fa5_c8bcc89f66f8row4_col6 {\n",
       "            background-color:  #a50026;\n",
       "            color:  #f1f1f1;\n",
       "        }    #T_ccb30ac6_e38f_11e9_8fa5_c8bcc89f66f8row4_col7 {\n",
       "            background-color:  #a50026;\n",
       "            color:  #f1f1f1;\n",
       "        }    #T_ccb30ac6_e38f_11e9_8fa5_c8bcc89f66f8row5_col0 {\n",
       "            background-color:  #a50026;\n",
       "            color:  #f1f1f1;\n",
       "        }    #T_ccb30ac6_e38f_11e9_8fa5_c8bcc89f66f8row5_col1 {\n",
       "            background-color:  #a50026;\n",
       "            color:  #f1f1f1;\n",
       "        }    #T_ccb30ac6_e38f_11e9_8fa5_c8bcc89f66f8row5_col2 {\n",
       "            background-color:  #a50026;\n",
       "            color:  #f1f1f1;\n",
       "        }    #T_ccb30ac6_e38f_11e9_8fa5_c8bcc89f66f8row5_col3 {\n",
       "            background-color:  #a50026;\n",
       "            color:  #f1f1f1;\n",
       "        }    #T_ccb30ac6_e38f_11e9_8fa5_c8bcc89f66f8row5_col4 {\n",
       "            background-color:  #a50026;\n",
       "            color:  #f1f1f1;\n",
       "        }    #T_ccb30ac6_e38f_11e9_8fa5_c8bcc89f66f8row5_col5 {\n",
       "            background-color:  #a50026;\n",
       "            color:  #f1f1f1;\n",
       "        }    #T_ccb30ac6_e38f_11e9_8fa5_c8bcc89f66f8row5_col6 {\n",
       "            background-color:  #a50026;\n",
       "            color:  #f1f1f1;\n",
       "        }    #T_ccb30ac6_e38f_11e9_8fa5_c8bcc89f66f8row5_col7 {\n",
       "            background-color:  #a50026;\n",
       "            color:  #f1f1f1;\n",
       "        }    #T_ccb30ac6_e38f_11e9_8fa5_c8bcc89f66f8row6_col0 {\n",
       "            background-color:  #a50026;\n",
       "            color:  #f1f1f1;\n",
       "        }    #T_ccb30ac6_e38f_11e9_8fa5_c8bcc89f66f8row6_col1 {\n",
       "            background-color:  #a50026;\n",
       "            color:  #f1f1f1;\n",
       "        }    #T_ccb30ac6_e38f_11e9_8fa5_c8bcc89f66f8row6_col2 {\n",
       "            background-color:  #a50026;\n",
       "            color:  #f1f1f1;\n",
       "        }    #T_ccb30ac6_e38f_11e9_8fa5_c8bcc89f66f8row6_col3 {\n",
       "            background-color:  #a50026;\n",
       "            color:  #f1f1f1;\n",
       "        }    #T_ccb30ac6_e38f_11e9_8fa5_c8bcc89f66f8row6_col4 {\n",
       "            background-color:  #a50026;\n",
       "            color:  #f1f1f1;\n",
       "        }    #T_ccb30ac6_e38f_11e9_8fa5_c8bcc89f66f8row6_col5 {\n",
       "            background-color:  #a50026;\n",
       "            color:  #f1f1f1;\n",
       "        }    #T_ccb30ac6_e38f_11e9_8fa5_c8bcc89f66f8row6_col6 {\n",
       "            background-color:  #a50026;\n",
       "            color:  #f1f1f1;\n",
       "        }    #T_ccb30ac6_e38f_11e9_8fa5_c8bcc89f66f8row6_col7 {\n",
       "            background-color:  #a50026;\n",
       "            color:  #f1f1f1;\n",
       "        }    #T_ccb30ac6_e38f_11e9_8fa5_c8bcc89f66f8row7_col0 {\n",
       "            background-color:  #a50026;\n",
       "            color:  #f1f1f1;\n",
       "        }    #T_ccb30ac6_e38f_11e9_8fa5_c8bcc89f66f8row7_col1 {\n",
       "            background-color:  #a50026;\n",
       "            color:  #f1f1f1;\n",
       "        }    #T_ccb30ac6_e38f_11e9_8fa5_c8bcc89f66f8row7_col2 {\n",
       "            background-color:  #a50026;\n",
       "            color:  #f1f1f1;\n",
       "        }    #T_ccb30ac6_e38f_11e9_8fa5_c8bcc89f66f8row7_col3 {\n",
       "            background-color:  #a50026;\n",
       "            color:  #f1f1f1;\n",
       "        }    #T_ccb30ac6_e38f_11e9_8fa5_c8bcc89f66f8row7_col4 {\n",
       "            background-color:  #a50026;\n",
       "            color:  #f1f1f1;\n",
       "        }    #T_ccb30ac6_e38f_11e9_8fa5_c8bcc89f66f8row7_col5 {\n",
       "            background-color:  #a50026;\n",
       "            color:  #f1f1f1;\n",
       "        }    #T_ccb30ac6_e38f_11e9_8fa5_c8bcc89f66f8row7_col6 {\n",
       "            background-color:  #a50026;\n",
       "            color:  #f1f1f1;\n",
       "        }    #T_ccb30ac6_e38f_11e9_8fa5_c8bcc89f66f8row7_col7 {\n",
       "            background-color:  #a50026;\n",
       "            color:  #f1f1f1;\n",
       "        }</style><table id=\"T_ccb30ac6_e38f_11e9_8fa5_c8bcc89f66f8\" ><thead>    <tr>        <th class=\"blank level0\" ></th>        <th class=\"col_heading level0 col0\" >step</th>        <th class=\"col_heading level0 col1\" >amount</th>        <th class=\"col_heading level0 col2\" >oldbalanceOrg</th>        <th class=\"col_heading level0 col3\" >newbalanceOrig</th>        <th class=\"col_heading level0 col4\" >oldbalanceDest</th>        <th class=\"col_heading level0 col5\" >newbalanceDest</th>        <th class=\"col_heading level0 col6\" >isFraud</th>        <th class=\"col_heading level0 col7\" >isFlaggedFraud</th>    </tr></thead><tbody>\n",
       "                <tr>\n",
       "                        <th id=\"T_ccb30ac6_e38f_11e9_8fa5_c8bcc89f66f8level0_row0\" class=\"row_heading level0 row0\" >step</th>\n",
       "                        <td id=\"T_ccb30ac6_e38f_11e9_8fa5_c8bcc89f66f8row0_col0\" class=\"data row0 col0\" >1</td>\n",
       "                        <td id=\"T_ccb30ac6_e38f_11e9_8fa5_c8bcc89f66f8row0_col1\" class=\"data row0 col1\" >0.026</td>\n",
       "                        <td id=\"T_ccb30ac6_e38f_11e9_8fa5_c8bcc89f66f8row0_col2\" class=\"data row0 col2\" >-0.0028</td>\n",
       "                        <td id=\"T_ccb30ac6_e38f_11e9_8fa5_c8bcc89f66f8row0_col3\" class=\"data row0 col3\" >-0.0023</td>\n",
       "                        <td id=\"T_ccb30ac6_e38f_11e9_8fa5_c8bcc89f66f8row0_col4\" class=\"data row0 col4\" >0.032</td>\n",
       "                        <td id=\"T_ccb30ac6_e38f_11e9_8fa5_c8bcc89f66f8row0_col5\" class=\"data row0 col5\" >0.029</td>\n",
       "                        <td id=\"T_ccb30ac6_e38f_11e9_8fa5_c8bcc89f66f8row0_col6\" class=\"data row0 col6\" >0.027</td>\n",
       "                        <td id=\"T_ccb30ac6_e38f_11e9_8fa5_c8bcc89f66f8row0_col7\" class=\"data row0 col7\" >nan</td>\n",
       "            </tr>\n",
       "            <tr>\n",
       "                        <th id=\"T_ccb30ac6_e38f_11e9_8fa5_c8bcc89f66f8level0_row1\" class=\"row_heading level0 row1\" >amount</th>\n",
       "                        <td id=\"T_ccb30ac6_e38f_11e9_8fa5_c8bcc89f66f8row1_col0\" class=\"data row1 col0\" >0.026</td>\n",
       "                        <td id=\"T_ccb30ac6_e38f_11e9_8fa5_c8bcc89f66f8row1_col1\" class=\"data row1 col1\" >1</td>\n",
       "                        <td id=\"T_ccb30ac6_e38f_11e9_8fa5_c8bcc89f66f8row1_col2\" class=\"data row1 col2\" >-0.0075</td>\n",
       "                        <td id=\"T_ccb30ac6_e38f_11e9_8fa5_c8bcc89f66f8row1_col3\" class=\"data row1 col3\" >-0.0095</td>\n",
       "                        <td id=\"T_ccb30ac6_e38f_11e9_8fa5_c8bcc89f66f8row1_col4\" class=\"data row1 col4\" >0.34</td>\n",
       "                        <td id=\"T_ccb30ac6_e38f_11e9_8fa5_c8bcc89f66f8row1_col5\" class=\"data row1 col5\" >0.5</td>\n",
       "                        <td id=\"T_ccb30ac6_e38f_11e9_8fa5_c8bcc89f66f8row1_col6\" class=\"data row1 col6\" >0.069</td>\n",
       "                        <td id=\"T_ccb30ac6_e38f_11e9_8fa5_c8bcc89f66f8row1_col7\" class=\"data row1 col7\" >nan</td>\n",
       "            </tr>\n",
       "            <tr>\n",
       "                        <th id=\"T_ccb30ac6_e38f_11e9_8fa5_c8bcc89f66f8level0_row2\" class=\"row_heading level0 row2\" >oldbalanceOrg</th>\n",
       "                        <td id=\"T_ccb30ac6_e38f_11e9_8fa5_c8bcc89f66f8row2_col0\" class=\"data row2 col0\" >-0.0028</td>\n",
       "                        <td id=\"T_ccb30ac6_e38f_11e9_8fa5_c8bcc89f66f8row2_col1\" class=\"data row2 col1\" >-0.0075</td>\n",
       "                        <td id=\"T_ccb30ac6_e38f_11e9_8fa5_c8bcc89f66f8row2_col2\" class=\"data row2 col2\" >1</td>\n",
       "                        <td id=\"T_ccb30ac6_e38f_11e9_8fa5_c8bcc89f66f8row2_col3\" class=\"data row2 col3\" >1</td>\n",
       "                        <td id=\"T_ccb30ac6_e38f_11e9_8fa5_c8bcc89f66f8row2_col4\" class=\"data row2 col4\" >0.063</td>\n",
       "                        <td id=\"T_ccb30ac6_e38f_11e9_8fa5_c8bcc89f66f8row2_col5\" class=\"data row2 col5\" >0.038</td>\n",
       "                        <td id=\"T_ccb30ac6_e38f_11e9_8fa5_c8bcc89f66f8row2_col6\" class=\"data row2 col6\" >0.0046</td>\n",
       "                        <td id=\"T_ccb30ac6_e38f_11e9_8fa5_c8bcc89f66f8row2_col7\" class=\"data row2 col7\" >nan</td>\n",
       "            </tr>\n",
       "            <tr>\n",
       "                        <th id=\"T_ccb30ac6_e38f_11e9_8fa5_c8bcc89f66f8level0_row3\" class=\"row_heading level0 row3\" >newbalanceOrig</th>\n",
       "                        <td id=\"T_ccb30ac6_e38f_11e9_8fa5_c8bcc89f66f8row3_col0\" class=\"data row3 col0\" >-0.0023</td>\n",
       "                        <td id=\"T_ccb30ac6_e38f_11e9_8fa5_c8bcc89f66f8row3_col1\" class=\"data row3 col1\" >-0.0095</td>\n",
       "                        <td id=\"T_ccb30ac6_e38f_11e9_8fa5_c8bcc89f66f8row3_col2\" class=\"data row3 col2\" >1</td>\n",
       "                        <td id=\"T_ccb30ac6_e38f_11e9_8fa5_c8bcc89f66f8row3_col3\" class=\"data row3 col3\" >1</td>\n",
       "                        <td id=\"T_ccb30ac6_e38f_11e9_8fa5_c8bcc89f66f8row3_col4\" class=\"data row3 col4\" >0.064</td>\n",
       "                        <td id=\"T_ccb30ac6_e38f_11e9_8fa5_c8bcc89f66f8row3_col5\" class=\"data row3 col5\" >0.038</td>\n",
       "                        <td id=\"T_ccb30ac6_e38f_11e9_8fa5_c8bcc89f66f8row3_col6\" class=\"data row3 col6\" >-0.012</td>\n",
       "                        <td id=\"T_ccb30ac6_e38f_11e9_8fa5_c8bcc89f66f8row3_col7\" class=\"data row3 col7\" >nan</td>\n",
       "            </tr>\n",
       "            <tr>\n",
       "                        <th id=\"T_ccb30ac6_e38f_11e9_8fa5_c8bcc89f66f8level0_row4\" class=\"row_heading level0 row4\" >oldbalanceDest</th>\n",
       "                        <td id=\"T_ccb30ac6_e38f_11e9_8fa5_c8bcc89f66f8row4_col0\" class=\"data row4 col0\" >0.032</td>\n",
       "                        <td id=\"T_ccb30ac6_e38f_11e9_8fa5_c8bcc89f66f8row4_col1\" class=\"data row4 col1\" >0.34</td>\n",
       "                        <td id=\"T_ccb30ac6_e38f_11e9_8fa5_c8bcc89f66f8row4_col2\" class=\"data row4 col2\" >0.063</td>\n",
       "                        <td id=\"T_ccb30ac6_e38f_11e9_8fa5_c8bcc89f66f8row4_col3\" class=\"data row4 col3\" >0.064</td>\n",
       "                        <td id=\"T_ccb30ac6_e38f_11e9_8fa5_c8bcc89f66f8row4_col4\" class=\"data row4 col4\" >1</td>\n",
       "                        <td id=\"T_ccb30ac6_e38f_11e9_8fa5_c8bcc89f66f8row4_col5\" class=\"data row4 col5\" >0.97</td>\n",
       "                        <td id=\"T_ccb30ac6_e38f_11e9_8fa5_c8bcc89f66f8row4_col6\" class=\"data row4 col6\" >-0.0057</td>\n",
       "                        <td id=\"T_ccb30ac6_e38f_11e9_8fa5_c8bcc89f66f8row4_col7\" class=\"data row4 col7\" >nan</td>\n",
       "            </tr>\n",
       "            <tr>\n",
       "                        <th id=\"T_ccb30ac6_e38f_11e9_8fa5_c8bcc89f66f8level0_row5\" class=\"row_heading level0 row5\" >newbalanceDest</th>\n",
       "                        <td id=\"T_ccb30ac6_e38f_11e9_8fa5_c8bcc89f66f8row5_col0\" class=\"data row5 col0\" >0.029</td>\n",
       "                        <td id=\"T_ccb30ac6_e38f_11e9_8fa5_c8bcc89f66f8row5_col1\" class=\"data row5 col1\" >0.5</td>\n",
       "                        <td id=\"T_ccb30ac6_e38f_11e9_8fa5_c8bcc89f66f8row5_col2\" class=\"data row5 col2\" >0.038</td>\n",
       "                        <td id=\"T_ccb30ac6_e38f_11e9_8fa5_c8bcc89f66f8row5_col3\" class=\"data row5 col3\" >0.038</td>\n",
       "                        <td id=\"T_ccb30ac6_e38f_11e9_8fa5_c8bcc89f66f8row5_col4\" class=\"data row5 col4\" >0.97</td>\n",
       "                        <td id=\"T_ccb30ac6_e38f_11e9_8fa5_c8bcc89f66f8row5_col5\" class=\"data row5 col5\" >1</td>\n",
       "                        <td id=\"T_ccb30ac6_e38f_11e9_8fa5_c8bcc89f66f8row5_col6\" class=\"data row5 col6\" >0.00015</td>\n",
       "                        <td id=\"T_ccb30ac6_e38f_11e9_8fa5_c8bcc89f66f8row5_col7\" class=\"data row5 col7\" >nan</td>\n",
       "            </tr>\n",
       "            <tr>\n",
       "                        <th id=\"T_ccb30ac6_e38f_11e9_8fa5_c8bcc89f66f8level0_row6\" class=\"row_heading level0 row6\" >isFraud</th>\n",
       "                        <td id=\"T_ccb30ac6_e38f_11e9_8fa5_c8bcc89f66f8row6_col0\" class=\"data row6 col0\" >0.027</td>\n",
       "                        <td id=\"T_ccb30ac6_e38f_11e9_8fa5_c8bcc89f66f8row6_col1\" class=\"data row6 col1\" >0.069</td>\n",
       "                        <td id=\"T_ccb30ac6_e38f_11e9_8fa5_c8bcc89f66f8row6_col2\" class=\"data row6 col2\" >0.0046</td>\n",
       "                        <td id=\"T_ccb30ac6_e38f_11e9_8fa5_c8bcc89f66f8row6_col3\" class=\"data row6 col3\" >-0.012</td>\n",
       "                        <td id=\"T_ccb30ac6_e38f_11e9_8fa5_c8bcc89f66f8row6_col4\" class=\"data row6 col4\" >-0.0057</td>\n",
       "                        <td id=\"T_ccb30ac6_e38f_11e9_8fa5_c8bcc89f66f8row6_col5\" class=\"data row6 col5\" >0.00015</td>\n",
       "                        <td id=\"T_ccb30ac6_e38f_11e9_8fa5_c8bcc89f66f8row6_col6\" class=\"data row6 col6\" >1</td>\n",
       "                        <td id=\"T_ccb30ac6_e38f_11e9_8fa5_c8bcc89f66f8row6_col7\" class=\"data row6 col7\" >nan</td>\n",
       "            </tr>\n",
       "            <tr>\n",
       "                        <th id=\"T_ccb30ac6_e38f_11e9_8fa5_c8bcc89f66f8level0_row7\" class=\"row_heading level0 row7\" >isFlaggedFraud</th>\n",
       "                        <td id=\"T_ccb30ac6_e38f_11e9_8fa5_c8bcc89f66f8row7_col0\" class=\"data row7 col0\" >nan</td>\n",
       "                        <td id=\"T_ccb30ac6_e38f_11e9_8fa5_c8bcc89f66f8row7_col1\" class=\"data row7 col1\" >nan</td>\n",
       "                        <td id=\"T_ccb30ac6_e38f_11e9_8fa5_c8bcc89f66f8row7_col2\" class=\"data row7 col2\" >nan</td>\n",
       "                        <td id=\"T_ccb30ac6_e38f_11e9_8fa5_c8bcc89f66f8row7_col3\" class=\"data row7 col3\" >nan</td>\n",
       "                        <td id=\"T_ccb30ac6_e38f_11e9_8fa5_c8bcc89f66f8row7_col4\" class=\"data row7 col4\" >nan</td>\n",
       "                        <td id=\"T_ccb30ac6_e38f_11e9_8fa5_c8bcc89f66f8row7_col5\" class=\"data row7 col5\" >nan</td>\n",
       "                        <td id=\"T_ccb30ac6_e38f_11e9_8fa5_c8bcc89f66f8row7_col6\" class=\"data row7 col6\" >nan</td>\n",
       "                        <td id=\"T_ccb30ac6_e38f_11e9_8fa5_c8bcc89f66f8row7_col7\" class=\"data row7 col7\" >nan</td>\n",
       "            </tr>\n",
       "    </tbody></table>"
      ],
      "text/plain": [
       "<pandas.io.formats.style.Styler at 0x12377c828>"
      ]
     },
     "execution_count": 35,
     "metadata": {},
     "output_type": "execute_result"
    }
   ],
   "source": [
    "fraud_coor = fraud_detect.corr()\n",
    "heatmap = fraud_coor.style.background_gradient(cmap='RdYlGn',axis=None).set_precision(2)\n",
    "heatmap #the worst correlation map ever"
   ]
  },
  {
   "cell_type": "code",
   "execution_count": 15,
   "metadata": {},
   "outputs": [
    {
     "data": {
      "text/plain": [
       "'\\nimportant features for the outcome... well everything has a horrible correlation\\n'"
      ]
     },
     "execution_count": 15,
     "metadata": {},
     "output_type": "execute_result"
    }
   ],
   "source": [
    "'''\n",
    "important features for the outcome... well everything has a horrible correlation due to inbalance data\n",
    "'''"
   ]
  },
  {
   "cell_type": "code",
   "execution_count": 16,
   "metadata": {},
   "outputs": [
    {
     "data": {
      "text/plain": [
       "<seaborn.axisgrid.PairGrid at 0x11fdf6b38>"
      ]
     },
     "execution_count": 16,
     "metadata": {},
     "output_type": "execute_result"
    },
    {
     "data": {
      "image/png": "[encoded data removed]",
      "text/plain": [
       "<Figure size 1440x1440 with 72 Axes>"
      ]
     },
     "metadata": {
      "needs_background": "light"
     },
     "output_type": "display_data"
    }
   ],
   "source": [
    "#pairplot\n",
    "#sns.pairplot(fraud_detect)"
   ]
  },
  {
   "cell_type": "markdown",
   "metadata": {},
   "source": [
    "### What is the distribution of the outcome? "
   ]
  },
  {
   "cell_type": "code",
   "execution_count": 36,
   "metadata": {},
   "outputs": [
    {
     "data": {
      "text/plain": [
       "<matplotlib.axes._subplots.AxesSubplot at 0x123777208>"
      ]
     },
     "execution_count": 36,
     "metadata": {},
     "output_type": "execute_result"
    },
    {
     "data": {
      "image/png": "[encoded data removed]",
      "text/plain": [
       "<Figure size 432x288 with 1 Axes>"
      ]
     },
     "metadata": {
      "needs_background": "light"
     },
     "output_type": "display_data"
    }
   ],
   "source": [
    "# Your response here\n",
    "sns.countplot(fraud_detect.isFraud)\n",
    "\n",
    "#given that we have only two options, it's a bernouli distribution\n",
    "#I used countplot but histogram would also work\n",
    "#unbalanced "
   ]
  },
  {
   "cell_type": "code",
   "execution_count": 65,
   "metadata": {},
   "outputs": [
    {
     "data": {
      "text/plain": [
       "0    6354407\n",
       "1       8213\n",
       "Name: isFraud, dtype: int64"
      ]
     },
     "execution_count": 65,
     "metadata": {},
     "output_type": "execute_result"
    }
   ],
   "source": [
    "fraud.isFraud.value_counts()"
   ]
  },
  {
   "cell_type": "code",
   "execution_count": 68,
   "metadata": {},
   "outputs": [],
   "source": [
    "#treat unbalance data. Undersampling:\n",
    "\n",
    "# Shuffle the Dataset.\n",
    "shuffled_fraud = fraud.sample(frac=1,random_state=4)\n",
    "\n",
    "# Put all the fraud class in a separate dataset.\n",
    "fraud_df = shuffled_fraud.loc[shuffled_fraud['isFraud'] == 1]\n",
    "\n",
    "#Randomly select 492 observations from the non-fraud (majority class)\n",
    "non_fraud_df = shuffled_fraud.loc[shuffled_fraud['isFraud'] == 0].sample(n=8213,random_state=42)\n",
    "\n",
    "# Concatenate both dataframes again\n",
    "normalized_fraud = pd.concat([fraud_df, non_fraud_df])\n",
    "\n",
    "#plot\n",
    "#sns.countplot(normalized_fraud.isFraud)"
   ]
  },
  {
   "cell_type": "code",
   "execution_count": 71,
   "metadata": {},
   "outputs": [
    {
     "data": {
      "text/plain": [
       "(16426, 11)"
      ]
     },
     "execution_count": 71,
     "metadata": {},
     "output_type": "execute_result"
    }
   ],
   "source": [
    "normalized_fraud.shape"
   ]
  },
  {
   "cell_type": "code",
   "execution_count": 72,
   "metadata": {},
   "outputs": [
    {
     "data": {
      "text/plain": [
       "1    8213\n",
       "0    8213\n",
       "Name: isFraud, dtype: int64"
      ]
     },
     "execution_count": 72,
     "metadata": {},
     "output_type": "execute_result"
    }
   ],
   "source": [
    "normalized_fraud.isFraud.value_counts()"
   ]
  },
  {
   "cell_type": "code",
   "execution_count": null,
   "metadata": {},
   "outputs": [],
   "source": [
    "#normalized_fraud_coor = normalized_fraud.corr()\n",
    "#heatmap = normalized_fraud_coor.style.background_gradient(cmap='RdYlGn',axis=None).set_precision(2)\n",
    "#heatmap #it didn't got better..."
   ]
  },
  {
   "cell_type": "markdown",
   "metadata": {},
   "source": [
    "### Clean the dataset. How are you going to integrate the time variable? Do you think the step (integer) coding in which it is given is appropriate?"
   ]
  },
  {
   "cell_type": "code",
   "execution_count": 19,
   "metadata": {},
   "outputs": [
    {
     "data": {
      "text/plain": [
       "'\\nstep: maps a unit of time in the real world. In this case 1 step is 1 hour of time. \\nTotal steps 744 (30 days simulation).\\n'"
      ]
     },
     "execution_count": 19,
     "metadata": {},
     "output_type": "execute_result"
    }
   ],
   "source": [
    "'''\n",
    "step: maps a unit of time in the real world. In this case 1 step is 1 hour of time. \n",
    "Total steps 744 (30 days simulation).\n",
    "'''\n",
    "#Doesn't seem to contribute to the outcome. I will drop it."
   ]
  },
  {
   "cell_type": "code",
   "execution_count": 73,
   "metadata": {},
   "outputs": [
    {
     "data": {
      "text/plain": [
       "step              0\n",
       "type              0\n",
       "amount            0\n",
       "nameOrig          0\n",
       "oldbalanceOrg     0\n",
       "newbalanceOrig    0\n",
       "nameDest          0\n",
       "oldbalanceDest    0\n",
       "newbalanceDest    0\n",
       "isFraud           0\n",
       "isFlaggedFraud    0\n",
       "dtype: int64"
      ]
     },
     "execution_count": 73,
     "metadata": {},
     "output_type": "execute_result"
    }
   ],
   "source": [
    "# Your code here\n",
    "normalized_fraud.isnull().sum()"
   ]
  },
  {
   "cell_type": "code",
   "execution_count": 74,
   "metadata": {},
   "outputs": [
    {
     "data": {
      "text/plain": [
       "step                int64\n",
       "type               object\n",
       "amount            float64\n",
       "nameOrig           object\n",
       "oldbalanceOrg     float64\n",
       "newbalanceOrig    float64\n",
       "nameDest           object\n",
       "oldbalanceDest    float64\n",
       "newbalanceDest    float64\n",
       "isFraud             int64\n",
       "isFlaggedFraud      int64\n",
       "dtype: object"
      ]
     },
     "execution_count": 74,
     "metadata": {},
     "output_type": "execute_result"
    }
   ],
   "source": [
    "normalized_fraud.dtypes"
   ]
  },
  {
   "cell_type": "code",
   "execution_count": 75,
   "metadata": {},
   "outputs": [
    {
     "data": {
      "text/html": [
       "<div>\n",
       "<style scoped>\n",
       "    .dataframe tbody tr th:only-of-type {\n",
       "        vertical-align: middle;\n",
       "    }\n",
       "\n",
       "    .dataframe tbody tr th {\n",
       "        vertical-align: top;\n",
       "    }\n",
       "\n",
       "    .dataframe thead th {\n",
       "        text-align: right;\n",
       "    }\n",
       "</style>\n",
       "<table border=\"1\" class=\"dataframe\">\n",
       "  <thead>\n",
       "    <tr style=\"text-align: right;\">\n",
       "      <th></th>\n",
       "      <th>type</th>\n",
       "      <th>amount</th>\n",
       "      <th>oldbalanceOrg</th>\n",
       "      <th>newbalanceOrig</th>\n",
       "      <th>oldbalanceDest</th>\n",
       "      <th>newbalanceDest</th>\n",
       "      <th>isFraud</th>\n",
       "      <th>isFlaggedFraud</th>\n",
       "    </tr>\n",
       "  </thead>\n",
       "  <tbody>\n",
       "    <tr>\n",
       "      <th>1291987</th>\n",
       "      <td>TRANSFER</td>\n",
       "      <td>7927.06</td>\n",
       "      <td>7927.06</td>\n",
       "      <td>0.0</td>\n",
       "      <td>0.00</td>\n",
       "      <td>0.00</td>\n",
       "      <td>1</td>\n",
       "      <td>0</td>\n",
       "    </tr>\n",
       "    <tr>\n",
       "      <th>6276620</th>\n",
       "      <td>TRANSFER</td>\n",
       "      <td>246250.77</td>\n",
       "      <td>246250.77</td>\n",
       "      <td>0.0</td>\n",
       "      <td>0.00</td>\n",
       "      <td>0.00</td>\n",
       "      <td>1</td>\n",
       "      <td>0</td>\n",
       "    </tr>\n",
       "    <tr>\n",
       "      <th>347735</th>\n",
       "      <td>CASH_OUT</td>\n",
       "      <td>121626.82</td>\n",
       "      <td>121626.82</td>\n",
       "      <td>0.0</td>\n",
       "      <td>653744.34</td>\n",
       "      <td>775371.16</td>\n",
       "      <td>1</td>\n",
       "      <td>0</td>\n",
       "    </tr>\n",
       "    <tr>\n",
       "      <th>3658949</th>\n",
       "      <td>CASH_OUT</td>\n",
       "      <td>2607790.58</td>\n",
       "      <td>2607790.58</td>\n",
       "      <td>0.0</td>\n",
       "      <td>7640097.83</td>\n",
       "      <td>10247888.41</td>\n",
       "      <td>1</td>\n",
       "      <td>0</td>\n",
       "    </tr>\n",
       "    <tr>\n",
       "      <th>4486593</th>\n",
       "      <td>TRANSFER</td>\n",
       "      <td>10211.81</td>\n",
       "      <td>10211.81</td>\n",
       "      <td>0.0</td>\n",
       "      <td>0.00</td>\n",
       "      <td>0.00</td>\n",
       "      <td>1</td>\n",
       "      <td>0</td>\n",
       "    </tr>\n",
       "  </tbody>\n",
       "</table>\n",
       "</div>"
      ],
      "text/plain": [
       "             type      amount  oldbalanceOrg  newbalanceOrig  oldbalanceDest  \\\n",
       "1291987  TRANSFER     7927.06        7927.06             0.0            0.00   \n",
       "6276620  TRANSFER   246250.77      246250.77             0.0            0.00   \n",
       "347735   CASH_OUT   121626.82      121626.82             0.0       653744.34   \n",
       "3658949  CASH_OUT  2607790.58     2607790.58             0.0      7640097.83   \n",
       "4486593  TRANSFER    10211.81       10211.81             0.0            0.00   \n",
       "\n",
       "         newbalanceDest  isFraud  isFlaggedFraud  \n",
       "1291987            0.00        1               0  \n",
       "6276620            0.00        1               0  \n",
       "347735        775371.16        1               0  \n",
       "3658949     10247888.41        1               0  \n",
       "4486593            0.00        1               0  "
      ]
     },
     "execution_count": 75,
     "metadata": {},
     "output_type": "execute_result"
    }
   ],
   "source": [
    "#to train the model we don't need to know nameOrig, nameDest, so we can drop it\n",
    "fraud_det = normalized_fraud.drop(columns=['step','nameOrig','nameDest'])\n",
    "fraud_det.head()"
   ]
  },
  {
   "cell_type": "code",
   "execution_count": 76,
   "metadata": {},
   "outputs": [
    {
     "data": {
      "text/plain": [
       "(16426, 8)"
      ]
     },
     "execution_count": 76,
     "metadata": {},
     "output_type": "execute_result"
    }
   ],
   "source": [
    "fraud_det.shape"
   ]
  },
  {
   "cell_type": "code",
   "execution_count": 81,
   "metadata": {},
   "outputs": [
    {
     "data": {
      "text/plain": [
       "type               object\n",
       "amount            float64\n",
       "oldbalanceOrg     float64\n",
       "newbalanceOrig    float64\n",
       "oldbalanceDest    float64\n",
       "newbalanceDest    float64\n",
       "isFraud             int64\n",
       "isFlaggedFraud      int64\n",
       "dtype: object"
      ]
     },
     "execution_count": 81,
     "metadata": {},
     "output_type": "execute_result"
    }
   ],
   "source": [
    "fraud_det.dtypes"
   ]
  },
  {
   "cell_type": "code",
   "execution_count": 77,
   "metadata": {},
   "outputs": [
    {
     "data": {
      "text/plain": [
       "CASH_OUT    6935\n",
       "TRANSFER    4799\n",
       "PAYMENT     2796\n",
       "CASH_IN     1845\n",
       "DEBIT         51\n",
       "Name: type, dtype: int64"
      ]
     },
     "execution_count": 77,
     "metadata": {},
     "output_type": "execute_result"
    }
   ],
   "source": [
    "#'type' I can latter use get_dummies to convert from categorical to ordinal\n",
    "fraud_det.type.value_counts()"
   ]
  },
  {
   "cell_type": "code",
   "execution_count": 97,
   "metadata": {},
   "outputs": [
    {
     "data": {
      "text/html": [
       "<div>\n",
       "<style scoped>\n",
       "    .dataframe tbody tr th:only-of-type {\n",
       "        vertical-align: middle;\n",
       "    }\n",
       "\n",
       "    .dataframe tbody tr th {\n",
       "        vertical-align: top;\n",
       "    }\n",
       "\n",
       "    .dataframe thead th {\n",
       "        text-align: right;\n",
       "    }\n",
       "</style>\n",
       "<table border=\"1\" class=\"dataframe\">\n",
       "  <thead>\n",
       "    <tr style=\"text-align: right;\">\n",
       "      <th></th>\n",
       "      <th>amount</th>\n",
       "      <th>oldbalanceOrg</th>\n",
       "      <th>newbalanceOrig</th>\n",
       "      <th>oldbalanceDest</th>\n",
       "      <th>newbalanceDest</th>\n",
       "      <th>isFraud</th>\n",
       "      <th>isFlaggedFraud</th>\n",
       "      <th>type_CASH_OUT</th>\n",
       "      <th>type_DEBIT</th>\n",
       "      <th>type_PAYMENT</th>\n",
       "      <th>type_TRANSFER</th>\n",
       "    </tr>\n",
       "  </thead>\n",
       "  <tbody>\n",
       "    <tr>\n",
       "      <th>1291987</th>\n",
       "      <td>7927.06</td>\n",
       "      <td>7927.06</td>\n",
       "      <td>0.0</td>\n",
       "      <td>0.00</td>\n",
       "      <td>0.00</td>\n",
       "      <td>1</td>\n",
       "      <td>0</td>\n",
       "      <td>0</td>\n",
       "      <td>0</td>\n",
       "      <td>0</td>\n",
       "      <td>1</td>\n",
       "    </tr>\n",
       "    <tr>\n",
       "      <th>6276620</th>\n",
       "      <td>246250.77</td>\n",
       "      <td>246250.77</td>\n",
       "      <td>0.0</td>\n",
       "      <td>0.00</td>\n",
       "      <td>0.00</td>\n",
       "      <td>1</td>\n",
       "      <td>0</td>\n",
       "      <td>0</td>\n",
       "      <td>0</td>\n",
       "      <td>0</td>\n",
       "      <td>1</td>\n",
       "    </tr>\n",
       "    <tr>\n",
       "      <th>347735</th>\n",
       "      <td>121626.82</td>\n",
       "      <td>121626.82</td>\n",
       "      <td>0.0</td>\n",
       "      <td>653744.34</td>\n",
       "      <td>775371.16</td>\n",
       "      <td>1</td>\n",
       "      <td>0</td>\n",
       "      <td>1</td>\n",
       "      <td>0</td>\n",
       "      <td>0</td>\n",
       "      <td>0</td>\n",
       "    </tr>\n",
       "    <tr>\n",
       "      <th>3658949</th>\n",
       "      <td>2607790.58</td>\n",
       "      <td>2607790.58</td>\n",
       "      <td>0.0</td>\n",
       "      <td>7640097.83</td>\n",
       "      <td>10247888.41</td>\n",
       "      <td>1</td>\n",
       "      <td>0</td>\n",
       "      <td>1</td>\n",
       "      <td>0</td>\n",
       "      <td>0</td>\n",
       "      <td>0</td>\n",
       "    </tr>\n",
       "    <tr>\n",
       "      <th>4486593</th>\n",
       "      <td>10211.81</td>\n",
       "      <td>10211.81</td>\n",
       "      <td>0.0</td>\n",
       "      <td>0.00</td>\n",
       "      <td>0.00</td>\n",
       "      <td>1</td>\n",
       "      <td>0</td>\n",
       "      <td>0</td>\n",
       "      <td>0</td>\n",
       "      <td>0</td>\n",
       "      <td>1</td>\n",
       "    </tr>\n",
       "  </tbody>\n",
       "</table>\n",
       "</div>"
      ],
      "text/plain": [
       "             amount  oldbalanceOrg  newbalanceOrig  oldbalanceDest  \\\n",
       "1291987     7927.06        7927.06             0.0            0.00   \n",
       "6276620   246250.77      246250.77             0.0            0.00   \n",
       "347735    121626.82      121626.82             0.0       653744.34   \n",
       "3658949  2607790.58     2607790.58             0.0      7640097.83   \n",
       "4486593    10211.81       10211.81             0.0            0.00   \n",
       "\n",
       "         newbalanceDest  isFraud  isFlaggedFraud  type_CASH_OUT  type_DEBIT  \\\n",
       "1291987            0.00        1               0              0           0   \n",
       "6276620            0.00        1               0              0           0   \n",
       "347735        775371.16        1               0              1           0   \n",
       "3658949     10247888.41        1               0              1           0   \n",
       "4486593            0.00        1               0              0           0   \n",
       "\n",
       "         type_PAYMENT  type_TRANSFER  \n",
       "1291987             0              1  \n",
       "6276620             0              1  \n",
       "347735              0              0  \n",
       "3658949             0              0  \n",
       "4486593             0              1  "
      ]
     },
     "execution_count": 97,
     "metadata": {},
     "output_type": "execute_result"
    }
   ],
   "source": [
    "fraud_dummy = pd.get_dummies(fraud_det, drop_first=True)\n",
    "fraud_dummy.head()"
   ]
  },
  {
   "cell_type": "markdown",
   "metadata": {},
   "source": [
    "### Run a logisitc regression classifier and evaluate its accuracy."
   ]
  },
  {
   "cell_type": "code",
   "execution_count": 98,
   "metadata": {},
   "outputs": [],
   "source": [
    "#scalling?\n",
    "from sklearn.preprocessing import MinMaxScaler, StandardScaler "
   ]
  },
  {
   "cell_type": "code",
   "execution_count": 99,
   "metadata": {},
   "outputs": [],
   "source": [
    "from sklearn.model_selection import train_test_split\n",
    "\n",
    "y = fraud_dummy['isFraud']\n",
    "X = fraud_dummy.drop(['isFraud'], axis = 1)\n",
    "\n",
    "X_train, X_test, y_train, y_test = train_test_split(X, y, test_size = 0.2, random_state=29)"
   ]
  },
  {
   "cell_type": "code",
   "execution_count": 101,
   "metadata": {},
   "outputs": [
    {
     "name": "stdout",
     "output_type": "stream",
     "text": [
      "Test Accuracy 82.99%\n"
     ]
    },
    {
     "name": "stderr",
     "output_type": "stream",
     "text": [
      "/Library/Frameworks/Python.framework/Versions/3.6/lib/python3.6/site-packages/sklearn/linear_model/logistic.py:432: FutureWarning: Default solver will be changed to 'lbfgs' in 0.22. Specify a solver to silence this warning.\n",
      "  FutureWarning)\n"
     ]
    }
   ],
   "source": [
    "lr = LogisticRegression()\n",
    "lr.fit(X_train,y_train)\n",
    "acc = lr.score(X_test,y_test)*100\n",
    "\n",
    "print(f\"Test Accuracy {round(acc, 2)}%\") "
   ]
  },
  {
   "cell_type": "code",
   "execution_count": 86,
   "metadata": {},
   "outputs": [
    {
     "data": {
      "text/plain": [
       "0    6354407\n",
       "1       8213\n",
       "Name: isFraud, dtype: int64"
      ]
     },
     "execution_count": 86,
     "metadata": {},
     "output_type": "execute_result"
    }
   ],
   "source": [
    "#another way of dealing with inbalanced data\n",
    "'''\n",
    "https://towardsdatascience.com/having-an-imbalanced-dataset-here-is-how-you-can-solve-it-1640568947eb\n",
    "'''\n",
    "\n",
    "#get the original data (not undersampled)\n",
    "fraud.isFraud.value_counts()"
   ]
  },
  {
   "cell_type": "code",
   "execution_count": 87,
   "metadata": {},
   "outputs": [
    {
     "data": {
      "text/html": [
       "<div>\n",
       "<style scoped>\n",
       "    .dataframe tbody tr th:only-of-type {\n",
       "        vertical-align: middle;\n",
       "    }\n",
       "\n",
       "    .dataframe tbody tr th {\n",
       "        vertical-align: top;\n",
       "    }\n",
       "\n",
       "    .dataframe thead th {\n",
       "        text-align: right;\n",
       "    }\n",
       "</style>\n",
       "<table border=\"1\" class=\"dataframe\">\n",
       "  <thead>\n",
       "    <tr style=\"text-align: right;\">\n",
       "      <th></th>\n",
       "      <th>type</th>\n",
       "      <th>amount</th>\n",
       "      <th>oldbalanceOrg</th>\n",
       "      <th>newbalanceOrig</th>\n",
       "      <th>oldbalanceDest</th>\n",
       "      <th>newbalanceDest</th>\n",
       "      <th>isFraud</th>\n",
       "      <th>isFlaggedFraud</th>\n",
       "    </tr>\n",
       "  </thead>\n",
       "  <tbody>\n",
       "    <tr>\n",
       "      <th>0</th>\n",
       "      <td>PAYMENT</td>\n",
       "      <td>9839.64</td>\n",
       "      <td>170136.0</td>\n",
       "      <td>160296.36</td>\n",
       "      <td>0.0</td>\n",
       "      <td>0.0</td>\n",
       "      <td>0</td>\n",
       "      <td>0</td>\n",
       "    </tr>\n",
       "    <tr>\n",
       "      <th>1</th>\n",
       "      <td>PAYMENT</td>\n",
       "      <td>1864.28</td>\n",
       "      <td>21249.0</td>\n",
       "      <td>19384.72</td>\n",
       "      <td>0.0</td>\n",
       "      <td>0.0</td>\n",
       "      <td>0</td>\n",
       "      <td>0</td>\n",
       "    </tr>\n",
       "    <tr>\n",
       "      <th>2</th>\n",
       "      <td>TRANSFER</td>\n",
       "      <td>181.00</td>\n",
       "      <td>181.0</td>\n",
       "      <td>0.00</td>\n",
       "      <td>0.0</td>\n",
       "      <td>0.0</td>\n",
       "      <td>1</td>\n",
       "      <td>0</td>\n",
       "    </tr>\n",
       "    <tr>\n",
       "      <th>3</th>\n",
       "      <td>CASH_OUT</td>\n",
       "      <td>181.00</td>\n",
       "      <td>181.0</td>\n",
       "      <td>0.00</td>\n",
       "      <td>21182.0</td>\n",
       "      <td>0.0</td>\n",
       "      <td>1</td>\n",
       "      <td>0</td>\n",
       "    </tr>\n",
       "    <tr>\n",
       "      <th>4</th>\n",
       "      <td>PAYMENT</td>\n",
       "      <td>11668.14</td>\n",
       "      <td>41554.0</td>\n",
       "      <td>29885.86</td>\n",
       "      <td>0.0</td>\n",
       "      <td>0.0</td>\n",
       "      <td>0</td>\n",
       "      <td>0</td>\n",
       "    </tr>\n",
       "  </tbody>\n",
       "</table>\n",
       "</div>"
      ],
      "text/plain": [
       "       type    amount  oldbalanceOrg  newbalanceOrig  oldbalanceDest  \\\n",
       "0   PAYMENT   9839.64       170136.0       160296.36             0.0   \n",
       "1   PAYMENT   1864.28        21249.0        19384.72             0.0   \n",
       "2  TRANSFER    181.00          181.0            0.00             0.0   \n",
       "3  CASH_OUT    181.00          181.0            0.00         21182.0   \n",
       "4   PAYMENT  11668.14        41554.0        29885.86             0.0   \n",
       "\n",
       "   newbalanceDest  isFraud  isFlaggedFraud  \n",
       "0             0.0        0               0  \n",
       "1             0.0        0               0  \n",
       "2             0.0        1               0  \n",
       "3             0.0        1               0  \n",
       "4             0.0        0               0  "
      ]
     },
     "execution_count": 87,
     "metadata": {},
     "output_type": "execute_result"
    }
   ],
   "source": [
    "fraud2 = fraud.drop(columns=['step','nameOrig','nameDest'])\n",
    "fraud2.head()"
   ]
  },
  {
   "cell_type": "code",
   "execution_count": 88,
   "metadata": {},
   "outputs": [
    {
     "data": {
      "text/html": [
       "<div>\n",
       "<style scoped>\n",
       "    .dataframe tbody tr th:only-of-type {\n",
       "        vertical-align: middle;\n",
       "    }\n",
       "\n",
       "    .dataframe tbody tr th {\n",
       "        vertical-align: top;\n",
       "    }\n",
       "\n",
       "    .dataframe thead th {\n",
       "        text-align: right;\n",
       "    }\n",
       "</style>\n",
       "<table border=\"1\" class=\"dataframe\">\n",
       "  <thead>\n",
       "    <tr style=\"text-align: right;\">\n",
       "      <th></th>\n",
       "      <th>amount</th>\n",
       "      <th>oldbalanceOrg</th>\n",
       "      <th>newbalanceOrig</th>\n",
       "      <th>oldbalanceDest</th>\n",
       "      <th>newbalanceDest</th>\n",
       "      <th>isFraud</th>\n",
       "      <th>isFlaggedFraud</th>\n",
       "      <th>type_CASH_OUT</th>\n",
       "      <th>type_DEBIT</th>\n",
       "      <th>type_PAYMENT</th>\n",
       "      <th>type_TRANSFER</th>\n",
       "    </tr>\n",
       "  </thead>\n",
       "  <tbody>\n",
       "    <tr>\n",
       "      <th>0</th>\n",
       "      <td>9839.64</td>\n",
       "      <td>170136.0</td>\n",
       "      <td>160296.36</td>\n",
       "      <td>0.0</td>\n",
       "      <td>0.0</td>\n",
       "      <td>0</td>\n",
       "      <td>0</td>\n",
       "      <td>0</td>\n",
       "      <td>0</td>\n",
       "      <td>1</td>\n",
       "      <td>0</td>\n",
       "    </tr>\n",
       "    <tr>\n",
       "      <th>1</th>\n",
       "      <td>1864.28</td>\n",
       "      <td>21249.0</td>\n",
       "      <td>19384.72</td>\n",
       "      <td>0.0</td>\n",
       "      <td>0.0</td>\n",
       "      <td>0</td>\n",
       "      <td>0</td>\n",
       "      <td>0</td>\n",
       "      <td>0</td>\n",
       "      <td>1</td>\n",
       "      <td>0</td>\n",
       "    </tr>\n",
       "    <tr>\n",
       "      <th>2</th>\n",
       "      <td>181.00</td>\n",
       "      <td>181.0</td>\n",
       "      <td>0.00</td>\n",
       "      <td>0.0</td>\n",
       "      <td>0.0</td>\n",
       "      <td>1</td>\n",
       "      <td>0</td>\n",
       "      <td>0</td>\n",
       "      <td>0</td>\n",
       "      <td>0</td>\n",
       "      <td>1</td>\n",
       "    </tr>\n",
       "    <tr>\n",
       "      <th>3</th>\n",
       "      <td>181.00</td>\n",
       "      <td>181.0</td>\n",
       "      <td>0.00</td>\n",
       "      <td>21182.0</td>\n",
       "      <td>0.0</td>\n",
       "      <td>1</td>\n",
       "      <td>0</td>\n",
       "      <td>1</td>\n",
       "      <td>0</td>\n",
       "      <td>0</td>\n",
       "      <td>0</td>\n",
       "    </tr>\n",
       "    <tr>\n",
       "      <th>4</th>\n",
       "      <td>11668.14</td>\n",
       "      <td>41554.0</td>\n",
       "      <td>29885.86</td>\n",
       "      <td>0.0</td>\n",
       "      <td>0.0</td>\n",
       "      <td>0</td>\n",
       "      <td>0</td>\n",
       "      <td>0</td>\n",
       "      <td>0</td>\n",
       "      <td>1</td>\n",
       "      <td>0</td>\n",
       "    </tr>\n",
       "  </tbody>\n",
       "</table>\n",
       "</div>"
      ],
      "text/plain": [
       "     amount  oldbalanceOrg  newbalanceOrig  oldbalanceDest  newbalanceDest  \\\n",
       "0   9839.64       170136.0       160296.36             0.0             0.0   \n",
       "1   1864.28        21249.0        19384.72             0.0             0.0   \n",
       "2    181.00          181.0            0.00             0.0             0.0   \n",
       "3    181.00          181.0            0.00         21182.0             0.0   \n",
       "4  11668.14        41554.0        29885.86             0.0             0.0   \n",
       "\n",
       "   isFraud  isFlaggedFraud  type_CASH_OUT  type_DEBIT  type_PAYMENT  \\\n",
       "0        0               0              0           0             1   \n",
       "1        0               0              0           0             1   \n",
       "2        1               0              0           0             0   \n",
       "3        1               0              1           0             0   \n",
       "4        0               0              0           0             1   \n",
       "\n",
       "   type_TRANSFER  \n",
       "0              0  \n",
       "1              0  \n",
       "2              1  \n",
       "3              0  \n",
       "4              0  "
      ]
     },
     "execution_count": 88,
     "metadata": {},
     "output_type": "execute_result"
    }
   ],
   "source": [
    "fraud2_dummy = pd.get_dummies(fraud2, drop_first=True)\n",
    "fraud2_dummy.head()"
   ]
  },
  {
   "cell_type": "code",
   "execution_count": 92,
   "metadata": {},
   "outputs": [
    {
     "data": {
      "text/plain": [
       "(6362620, 11)"
      ]
     },
     "execution_count": 92,
     "metadata": {},
     "output_type": "execute_result"
    }
   ],
   "source": [
    "fraud2_dummy.shape"
   ]
  },
  {
   "cell_type": "code",
   "execution_count": 94,
   "metadata": {},
   "outputs": [
    {
     "name": "stderr",
     "output_type": "stream",
     "text": [
      "/Library/Frameworks/Python.framework/Versions/3.6/lib/python3.6/site-packages/sklearn/linear_model/logistic.py:432: FutureWarning: Default solver will be changed to 'lbfgs' in 0.22. Specify a solver to silence this warning.\n",
      "  FutureWarning)\n",
      "/Library/Frameworks/Python.framework/Versions/3.6/lib/python3.6/site-packages/sklearn/linear_model/logistic.py:432: FutureWarning: Default solver will be changed to 'lbfgs' in 0.22. Specify a solver to silence this warning.\n",
      "  FutureWarning)\n",
      "/Library/Frameworks/Python.framework/Versions/3.6/lib/python3.6/site-packages/sklearn/linear_model/logistic.py:432: FutureWarning: Default solver will be changed to 'lbfgs' in 0.22. Specify a solver to silence this warning.\n",
      "  FutureWarning)\n",
      "/Library/Frameworks/Python.framework/Versions/3.6/lib/python3.6/site-packages/sklearn/linear_model/logistic.py:432: FutureWarning: Default solver will be changed to 'lbfgs' in 0.22. Specify a solver to silence this warning.\n",
      "  FutureWarning)\n",
      "/Library/Frameworks/Python.framework/Versions/3.6/lib/python3.6/site-packages/sklearn/linear_model/logistic.py:432: FutureWarning: Default solver will be changed to 'lbfgs' in 0.22. Specify a solver to silence this warning.\n",
      "  FutureWarning)\n",
      "/Library/Frameworks/Python.framework/Versions/3.6/lib/python3.6/site-packages/sklearn/linear_model/logistic.py:432: FutureWarning: Default solver will be changed to 'lbfgs' in 0.22. Specify a solver to silence this warning.\n",
      "  FutureWarning)\n",
      "/Library/Frameworks/Python.framework/Versions/3.6/lib/python3.6/site-packages/sklearn/linear_model/logistic.py:432: FutureWarning: Default solver will be changed to 'lbfgs' in 0.22. Specify a solver to silence this warning.\n",
      "  FutureWarning)\n",
      "/Library/Frameworks/Python.framework/Versions/3.6/lib/python3.6/site-packages/sklearn/linear_model/logistic.py:432: FutureWarning: Default solver will be changed to 'lbfgs' in 0.22. Specify a solver to silence this warning.\n",
      "  FutureWarning)\n",
      "/Library/Frameworks/Python.framework/Versions/3.6/lib/python3.6/site-packages/sklearn/linear_model/logistic.py:432: FutureWarning: Default solver will be changed to 'lbfgs' in 0.22. Specify a solver to silence this warning.\n",
      "  FutureWarning)\n",
      "/Library/Frameworks/Python.framework/Versions/3.6/lib/python3.6/site-packages/sklearn/linear_model/logistic.py:432: FutureWarning: Default solver will be changed to 'lbfgs' in 0.22. Specify a solver to silence this warning.\n",
      "  FutureWarning)\n"
     ]
    },
    {
     "ename": "ValueError",
     "evalue": "Expected 2D array, got 1D array instead:\narray=[0 0 0 ... 0 0 0].\nReshape your data either using array.reshape(-1, 1) if your data has a single feature or array.reshape(1, -1) if it contains a single sample.",
     "output_type": "error",
     "traceback": [
      "\u001b[0;31m---------------------------------------------------------------------------\u001b[0m",
      "\u001b[0;31mValueError\u001b[0m                                Traceback (most recent call last)",
      "\u001b[0;32m<ipython-input-94-5e60d49b703e>\u001b[0m in \u001b[0;36m<module>\u001b[0;34m\u001b[0m\n\u001b[1;32m     16\u001b[0m \u001b[0mbbc\u001b[0m\u001b[0;34m.\u001b[0m\u001b[0mfit\u001b[0m\u001b[0;34m(\u001b[0m\u001b[0mX_train\u001b[0m\u001b[0;34m,\u001b[0m \u001b[0my_train\u001b[0m\u001b[0;34m)\u001b[0m\u001b[0;34m\u001b[0m\u001b[0m\n\u001b[1;32m     17\u001b[0m \u001b[0my_pred\u001b[0m \u001b[0;34m=\u001b[0m \u001b[0mbbc\u001b[0m\u001b[0;34m.\u001b[0m\u001b[0mpredict\u001b[0m\u001b[0;34m(\u001b[0m\u001b[0mX_train\u001b[0m\u001b[0;34m)\u001b[0m\u001b[0;34m\u001b[0m\u001b[0m\n\u001b[0;32m---> 18\u001b[0;31m \u001b[0macc\u001b[0m \u001b[0;34m=\u001b[0m \u001b[0mbbc\u001b[0m\u001b[0;34m.\u001b[0m\u001b[0mscore\u001b[0m\u001b[0;34m(\u001b[0m\u001b[0my_test\u001b[0m\u001b[0;34m,\u001b[0m\u001b[0my_pred\u001b[0m\u001b[0;34m)\u001b[0m\u001b[0;34m*\u001b[0m\u001b[0;36m100\u001b[0m\u001b[0;34m\u001b[0m\u001b[0m\n\u001b[0m\u001b[1;32m     19\u001b[0m \u001b[0;31m#acc = balanced_accuracy_score(y_test, y_pred)*100\u001b[0m\u001b[0;34m\u001b[0m\u001b[0;34m\u001b[0m\u001b[0m\n\u001b[1;32m     20\u001b[0m \u001b[0;34m\u001b[0m\u001b[0m\n",
      "\u001b[0;32m/Library/Frameworks/Python.framework/Versions/3.6/lib/python3.6/site-packages/sklearn/base.py\u001b[0m in \u001b[0;36mscore\u001b[0;34m(self, X, y, sample_weight)\u001b[0m\n\u001b[1;32m    355\u001b[0m         \"\"\"\n\u001b[1;32m    356\u001b[0m         \u001b[0;32mfrom\u001b[0m \u001b[0;34m.\u001b[0m\u001b[0mmetrics\u001b[0m \u001b[0;32mimport\u001b[0m \u001b[0maccuracy_score\u001b[0m\u001b[0;34m\u001b[0m\u001b[0m\n\u001b[0;32m--> 357\u001b[0;31m         \u001b[0;32mreturn\u001b[0m \u001b[0maccuracy_score\u001b[0m\u001b[0;34m(\u001b[0m\u001b[0my\u001b[0m\u001b[0;34m,\u001b[0m \u001b[0mself\u001b[0m\u001b[0;34m.\u001b[0m\u001b[0mpredict\u001b[0m\u001b[0;34m(\u001b[0m\u001b[0mX\u001b[0m\u001b[0;34m)\u001b[0m\u001b[0;34m,\u001b[0m \u001b[0msample_weight\u001b[0m\u001b[0;34m=\u001b[0m\u001b[0msample_weight\u001b[0m\u001b[0;34m)\u001b[0m\u001b[0;34m\u001b[0m\u001b[0m\n\u001b[0m\u001b[1;32m    358\u001b[0m \u001b[0;34m\u001b[0m\u001b[0m\n\u001b[1;32m    359\u001b[0m \u001b[0;34m\u001b[0m\u001b[0m\n",
      "\u001b[0;32m/Library/Frameworks/Python.framework/Versions/3.6/lib/python3.6/site-packages/sklearn/ensemble/bagging.py\u001b[0m in \u001b[0;36mpredict\u001b[0;34m(self, X)\u001b[0m\n\u001b[1;32m    646\u001b[0m             \u001b[0mThe\u001b[0m \u001b[0mpredicted\u001b[0m \u001b[0mclasses\u001b[0m\u001b[0;34m.\u001b[0m\u001b[0;34m\u001b[0m\u001b[0m\n\u001b[1;32m    647\u001b[0m         \"\"\"\n\u001b[0;32m--> 648\u001b[0;31m         \u001b[0mpredicted_probabilitiy\u001b[0m \u001b[0;34m=\u001b[0m \u001b[0mself\u001b[0m\u001b[0;34m.\u001b[0m\u001b[0mpredict_proba\u001b[0m\u001b[0;34m(\u001b[0m\u001b[0mX\u001b[0m\u001b[0;34m)\u001b[0m\u001b[0;34m\u001b[0m\u001b[0m\n\u001b[0m\u001b[1;32m    649\u001b[0m         return self.classes_.take((np.argmax(predicted_probabilitiy, axis=1)),\n\u001b[1;32m    650\u001b[0m                                   axis=0)\n",
      "\u001b[0;32m/Library/Frameworks/Python.framework/Versions/3.6/lib/python3.6/site-packages/sklearn/ensemble/bagging.py\u001b[0m in \u001b[0;36mpredict_proba\u001b[0;34m(self, X)\u001b[0m\n\u001b[1;32m    676\u001b[0m         X = check_array(\n\u001b[1;32m    677\u001b[0m             \u001b[0mX\u001b[0m\u001b[0;34m,\u001b[0m \u001b[0maccept_sparse\u001b[0m\u001b[0;34m=\u001b[0m\u001b[0;34m[\u001b[0m\u001b[0;34m'csr'\u001b[0m\u001b[0;34m,\u001b[0m \u001b[0;34m'csc'\u001b[0m\u001b[0;34m]\u001b[0m\u001b[0;34m,\u001b[0m \u001b[0mdtype\u001b[0m\u001b[0;34m=\u001b[0m\u001b[0;32mNone\u001b[0m\u001b[0;34m,\u001b[0m\u001b[0;34m\u001b[0m\u001b[0m\n\u001b[0;32m--> 678\u001b[0;31m             \u001b[0mforce_all_finite\u001b[0m\u001b[0;34m=\u001b[0m\u001b[0;32mFalse\u001b[0m\u001b[0;34m\u001b[0m\u001b[0m\n\u001b[0m\u001b[1;32m    679\u001b[0m         )\n\u001b[1;32m    680\u001b[0m \u001b[0;34m\u001b[0m\u001b[0m\n",
      "\u001b[0;32m/Library/Frameworks/Python.framework/Versions/3.6/lib/python3.6/site-packages/sklearn/utils/validation.py\u001b[0m in \u001b[0;36mcheck_array\u001b[0;34m(array, accept_sparse, accept_large_sparse, dtype, order, copy, force_all_finite, ensure_2d, allow_nd, ensure_min_samples, ensure_min_features, warn_on_dtype, estimator)\u001b[0m\n\u001b[1;32m    519\u001b[0m                     \u001b[0;34m\"Reshape your data either using array.reshape(-1, 1) if \"\u001b[0m\u001b[0;34m\u001b[0m\u001b[0m\n\u001b[1;32m    520\u001b[0m                     \u001b[0;34m\"your data has a single feature or array.reshape(1, -1) \"\u001b[0m\u001b[0;34m\u001b[0m\u001b[0m\n\u001b[0;32m--> 521\u001b[0;31m                     \"if it contains a single sample.\".format(array))\n\u001b[0m\u001b[1;32m    522\u001b[0m \u001b[0;34m\u001b[0m\u001b[0m\n\u001b[1;32m    523\u001b[0m         \u001b[0;31m# in the future np.flexible dtypes will be handled like object dtypes\u001b[0m\u001b[0;34m\u001b[0m\u001b[0;34m\u001b[0m\u001b[0m\n",
      "\u001b[0;31mValueError\u001b[0m: Expected 2D array, got 1D array instead:\narray=[0 0 0 ... 0 0 0].\nReshape your data either using array.reshape(-1, 1) if your data has a single feature or array.reshape(1, -1) if it contains a single sample."
     ]
    }
   ],
   "source": [
    "#another model\n",
    "\n",
    "from imblearn.ensemble import BalancedBaggingClassifier\n",
    "\n",
    "bbc = BalancedBaggingClassifier(base_estimator=LogisticRegression(),\n",
    "                                sampling_strategy='auto',\n",
    "                                replacement=False,\n",
    "                                random_state=0)\n",
    "\n",
    "y = fraud2_dummy['isFraud']\n",
    "X = fraud2_dummy.drop(['isFraud'], axis = 1)\n",
    "\n",
    "X_train, X_test, y_train, y_test = train_test_split(X, y, test_size = 0.2, random_state=0)\n",
    "\n",
    "#Train the classifier.\n",
    "bbc.fit(X_train, y_train)\n",
    "y_pred = bbc.predict(X_train)\n",
    "acc = bbc.score(y_test,y_pred)*100\n",
    "\n",
    "print(f\"Test Accuracy {round(acc, 2)}%\") #didn't work..."
   ]
  },
  {
   "cell_type": "markdown",
   "metadata": {},
   "source": [
    "### Now pick a model of your choice and evaluate its accuracy."
   ]
  },
  {
   "cell_type": "code",
   "execution_count": 112,
   "metadata": {},
   "outputs": [
    {
     "name": "stdout",
     "output_type": "stream",
     "text": [
      "2 neighbors KNN Score: 95.5%\n"
     ]
    }
   ],
   "source": [
    "# Your code here\n",
    "from sklearn.neighbors import KNeighborsClassifier\n",
    "\n",
    "y = fraud_dummy['isFraud']\n",
    "X = fraud_dummy.drop(['isFraud'], axis = 1)\n",
    "\n",
    "X_train, X_test, y_train, y_test = train_test_split(X, y, test_size = 0.2, random_state=29)\n",
    "\n",
    "\n",
    "knn = KNeighborsClassifier(n_neighbors = 2)\n",
    "knn.fit(X_train, y_train)\n",
    "y_pred = knn.predict(X_test)\n",
    "\n",
    "acc = knn.score(X_test, y_test)*100\n",
    "print(f\"2 neighbors KNN Score: {round(acc,2)}%\")"
   ]
  },
  {
   "cell_type": "markdown",
   "metadata": {},
   "source": [
    "### Which model worked better and how do you know?"
   ]
  },
  {
   "cell_type": "code",
   "execution_count": null,
   "metadata": {},
   "outputs": [],
   "source": [
    "# Your response here"
   ]
  },
  {
   "cell_type": "code",
   "execution_count": 104,
   "metadata": {},
   "outputs": [
    {
     "name": "stderr",
     "output_type": "stream",
     "text": [
      "/Library/Frameworks/Python.framework/Versions/3.6/lib/python3.6/site-packages/sklearn/linear_model/logistic.py:432: FutureWarning: Default solver will be changed to 'lbfgs' in 0.22. Specify a solver to silence this warning.\n",
      "  FutureWarning)\n",
      "/Library/Frameworks/Python.framework/Versions/3.6/lib/python3.6/site-packages/sklearn/linear_model/logistic.py:432: FutureWarning: Default solver will be changed to 'lbfgs' in 0.22. Specify a solver to silence this warning.\n",
      "  FutureWarning)\n",
      "/Library/Frameworks/Python.framework/Versions/3.6/lib/python3.6/site-packages/sklearn/linear_model/logistic.py:432: FutureWarning: Default solver will be changed to 'lbfgs' in 0.22. Specify a solver to silence this warning.\n",
      "  FutureWarning)\n",
      "/Library/Frameworks/Python.framework/Versions/3.6/lib/python3.6/site-packages/sklearn/linear_model/logistic.py:432: FutureWarning: Default solver will be changed to 'lbfgs' in 0.22. Specify a solver to silence this warning.\n",
      "  FutureWarning)\n",
      "/Library/Frameworks/Python.framework/Versions/3.6/lib/python3.6/site-packages/sklearn/linear_model/logistic.py:432: FutureWarning: Default solver will be changed to 'lbfgs' in 0.22. Specify a solver to silence this warning.\n",
      "  FutureWarning)\n"
     ]
    },
    {
     "data": {
      "text/plain": [
       "array([0.82744979, 0.82927572, 0.90900791, 0.81973203, 0.82612667])"
      ]
     },
     "execution_count": 104,
     "metadata": {},
     "output_type": "execute_result"
    }
   ],
   "source": [
    "#cross validation to logistic regression\n",
    "from sklearn.model_selection import cross_val_score\n",
    "cv_results = cross_val_score(lr, X, y, cv=5) \n",
    "cv_results"
   ]
  },
  {
   "cell_type": "code",
   "execution_count": 106,
   "metadata": {},
   "outputs": [
    {
     "data": {
      "text/plain": [
       "array([0.95252587, 0.95404747, 0.95709069, 0.96010962, 0.95797808])"
      ]
     },
     "execution_count": 106,
     "metadata": {},
     "output_type": "execute_result"
    }
   ],
   "source": [
    "#cross validation to KNN\n",
    "from sklearn.model_selection import cross_val_score\n",
    "cv_results = cross_val_score(knn, X, y, cv=5) \n",
    "cv_results"
   ]
  },
  {
   "cell_type": "code",
   "execution_count": null,
   "metadata": {},
   "outputs": [],
   "source": [
    "'''\n",
    "Given that KNN gives me the best score in accuracy and it is consistent accross 5 different validations,\n",
    "I would say that KNN did better here\n",
    "'''"
   ]
  },
  {
   "cell_type": "code",
   "execution_count": 108,
   "metadata": {},
   "outputs": [
    {
     "data": {
      "text/plain": [
       "{'n_neighbors': 1}"
      ]
     },
     "execution_count": 108,
     "metadata": {},
     "output_type": "execute_result"
    }
   ],
   "source": [
    "#grid search for KNN\n",
    "\n",
    "from sklearn.model_selection import GridSearchCV\n",
    "from sklearn import neighbors\n",
    "\n",
    "param_grid = {'n_neighbors': np.arange(1,15)} \n",
    "knn = neighbors.KNeighborsClassifier()\n",
    "knn_cv = GridSearchCV(knn, param_grid, cv=5)\n",
    "knn_cv.fit(X,y)\n",
    "knn_cv.best_params_"
   ]
  },
  {
   "cell_type": "code",
   "execution_count": 109,
   "metadata": {},
   "outputs": [
    {
     "data": {
      "text/plain": [
       "0.9601850724461221"
      ]
     },
     "execution_count": 109,
     "metadata": {},
     "output_type": "execute_result"
    }
   ],
   "source": [
    "knn_cv.best_score_"
   ]
  },
  {
   "cell_type": "code",
   "execution_count": 113,
   "metadata": {},
   "outputs": [
    {
     "name": "stdout",
     "output_type": "stream",
     "text": [
      "2 neighbors KNN Score: 96.1%\n"
     ]
    }
   ],
   "source": [
    "'''\n",
    "So actually the above tells me I should run the KNN with n_neighbors = 1 to have better results\n",
    "'''\n",
    "y = fraud_dummy['isFraud']\n",
    "X = fraud_dummy.drop(['isFraud'], axis = 1)\n",
    "\n",
    "X_train, X_test, y_train, y_test = train_test_split(X, y, test_size = 0.2, random_state=29)\n",
    "\n",
    "\n",
    "knn = KNeighborsClassifier(n_neighbors = 1)\n",
    "knn.fit(X_train, y_train)\n",
    "y_pred = knn.predict(X_test)\n",
    "\n",
    "acc = knn.score(X_test, y_test)*100\n",
    "print(f\"2 neighbors KNN Score: {round(acc,2)}%\")"
   ]
  },
  {
   "cell_type": "code",
   "execution_count": 115,
   "metadata": {},
   "outputs": [
    {
     "data": {
      "text/plain": [
       "array([[1523,   79],\n",
       "       [  49, 1635]])"
      ]
     },
     "execution_count": 115,
     "metadata": {},
     "output_type": "execute_result"
    }
   ],
   "source": [
    "from sklearn.metrics import confusion_matrix\n",
    "\n",
    "y_pred = knn.predict(X_test)\n",
    "confusion_matrix(y_test, y_pred)"
   ]
  },
  {
   "cell_type": "code",
   "execution_count": null,
   "metadata": {},
   "outputs": [],
   "source": []
  }
 ],
 "metadata": {
  "kernelspec": {
   "display_name": "Python 3",
   "language": "python",
   "name": "python3"
  },
  "language_info": {
   "codemirror_mode": {
    "name": "ipython",
    "version": 3
   },
   "file_extension": ".py",
   "mimetype": "text/x-python",
   "name": "python",
   "nbconvert_exporter": "python",
   "pygments_lexer": "ipython3",
   "version": "3.6.1"
  }
 },
 "nbformat": 4,
 "nbformat_minor": 2
}
