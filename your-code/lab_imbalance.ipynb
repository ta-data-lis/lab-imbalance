{
 "cells": [
  {
   "cell_type": "markdown",
   "metadata": {},
   "source": [
    "# Inbalanced Classes\n",
    "## In this lab, we are going to explore a case of imbalanced classes. \n",
    "\n",
    "\n",
    "Like we disussed in class, when we have noisy data, if we are not careful, we can end up fitting our model to the noise in the data and not the 'signal'-- the factors that actually determine the outcome. This is called overfitting, and results in good results in training, and in bad results when the model is applied to real data. Similarly, we could have a model that is too simplistic to accurately model the signal. This produces a model that doesnt work well (ever). \n"
   ]
  },
  {
   "cell_type": "markdown",
   "metadata": {},
   "source": [
    "### Note: before doing the first commit, make sure you don't include the large csv file, either by adding it to .gitignore, or by deleting it."
   ]
  },
  {
   "cell_type": "markdown",
   "metadata": {},
   "source": [
    "### First, download the data from: https://www.kaggle.com/ntnu-testimon/paysim1. Import the dataset and provide some discriptive statistics and plots. What do you think will be the important features in determining the outcome?\n",
    "### Note: don't use the entire dataset, use a sample instead, with n=100000 elements, so your computer doesn't freeze."
   ]
  },
  {
   "cell_type": "code",
   "execution_count": 7,
   "metadata": {},
   "outputs": [],
   "source": [
    "import pandas as pd\n",
    "import numpy as np\n",
    "import matplotlib.pyplot as plt\n",
    "from sklearn.model_selection import train_test_split\n",
    "from sklearn.preprocessing import LabelEncoder\n",
    "from sklearn.linear_model import LogisticRegression\n",
    "from sklearn.tree import DecisionTreeClassifier\n",
    "from sklearn.preprocessing import RobustScaler, StandardScaler, PolynomialFeatures, MinMaxScaler\n",
    "import seaborn as sns"
   ]
  },
  {
   "cell_type": "code",
   "execution_count": 26,
   "metadata": {},
   "outputs": [],
   "source": [
    "fraud = pd.read_csv('C:/Users/Zaca/Documents/Datasets/simulated_payment_data/fraud.csv').sample(1000000)"
   ]
  },
  {
   "cell_type": "code",
   "execution_count": 27,
   "metadata": {},
   "outputs": [
    {
     "data": {
      "text/plain": [
       "(1000000, 11)"
      ]
     },
     "execution_count": 27,
     "metadata": {},
     "output_type": "execute_result"
    }
   ],
   "source": [
    "fraud.shape"
   ]
  },
  {
   "cell_type": "code",
   "execution_count": 28,
   "metadata": {
    "scrolled": true
   },
   "outputs": [
    {
     "data": {
      "text/html": [
       "<div>\n",
       "<style scoped>\n",
       "    .dataframe tbody tr th:only-of-type {\n",
       "        vertical-align: middle;\n",
       "    }\n",
       "\n",
       "    .dataframe tbody tr th {\n",
       "        vertical-align: top;\n",
       "    }\n",
       "\n",
       "    .dataframe thead th {\n",
       "        text-align: right;\n",
       "    }\n",
       "</style>\n",
       "<table border=\"1\" class=\"dataframe\">\n",
       "  <thead>\n",
       "    <tr style=\"text-align: right;\">\n",
       "      <th></th>\n",
       "      <th>step</th>\n",
       "      <th>type</th>\n",
       "      <th>amount</th>\n",
       "      <th>nameOrig</th>\n",
       "      <th>oldbalanceOrg</th>\n",
       "      <th>newbalanceOrig</th>\n",
       "      <th>nameDest</th>\n",
       "      <th>oldbalanceDest</th>\n",
       "      <th>newbalanceDest</th>\n",
       "      <th>isFraud</th>\n",
       "      <th>isFlaggedFraud</th>\n",
       "    </tr>\n",
       "  </thead>\n",
       "  <tbody>\n",
       "    <tr>\n",
       "      <td>2345681</td>\n",
       "      <td>189</td>\n",
       "      <td>CASH_OUT</td>\n",
       "      <td>24343.06</td>\n",
       "      <td>C1172641997</td>\n",
       "      <td>155.00</td>\n",
       "      <td>0.00</td>\n",
       "      <td>C715885997</td>\n",
       "      <td>0.00</td>\n",
       "      <td>24343.06</td>\n",
       "      <td>0</td>\n",
       "      <td>0</td>\n",
       "    </tr>\n",
       "    <tr>\n",
       "      <td>5501018</td>\n",
       "      <td>380</td>\n",
       "      <td>CASH_OUT</td>\n",
       "      <td>56113.43</td>\n",
       "      <td>C1178267475</td>\n",
       "      <td>30564.00</td>\n",
       "      <td>0.00</td>\n",
       "      <td>C1674925903</td>\n",
       "      <td>0.00</td>\n",
       "      <td>56113.43</td>\n",
       "      <td>0</td>\n",
       "      <td>0</td>\n",
       "    </tr>\n",
       "    <tr>\n",
       "      <td>874737</td>\n",
       "      <td>42</td>\n",
       "      <td>PAYMENT</td>\n",
       "      <td>21914.32</td>\n",
       "      <td>C2086871501</td>\n",
       "      <td>537012.00</td>\n",
       "      <td>515097.68</td>\n",
       "      <td>M1875681686</td>\n",
       "      <td>0.00</td>\n",
       "      <td>0.00</td>\n",
       "      <td>0</td>\n",
       "      <td>0</td>\n",
       "    </tr>\n",
       "    <tr>\n",
       "      <td>6051973</td>\n",
       "      <td>495</td>\n",
       "      <td>CASH_IN</td>\n",
       "      <td>152124.48</td>\n",
       "      <td>C2092445131</td>\n",
       "      <td>7231715.65</td>\n",
       "      <td>7383840.13</td>\n",
       "      <td>C532019803</td>\n",
       "      <td>1786875.29</td>\n",
       "      <td>1634750.81</td>\n",
       "      <td>0</td>\n",
       "      <td>0</td>\n",
       "    </tr>\n",
       "    <tr>\n",
       "      <td>6151179</td>\n",
       "      <td>546</td>\n",
       "      <td>TRANSFER</td>\n",
       "      <td>457713.12</td>\n",
       "      <td>C970587691</td>\n",
       "      <td>0.00</td>\n",
       "      <td>0.00</td>\n",
       "      <td>C427165150</td>\n",
       "      <td>5822106.49</td>\n",
       "      <td>6279819.62</td>\n",
       "      <td>0</td>\n",
       "      <td>0</td>\n",
       "    </tr>\n",
       "  </tbody>\n",
       "</table>\n",
       "</div>"
      ],
      "text/plain": [
       "         step      type     amount     nameOrig  oldbalanceOrg  \\\n",
       "2345681   189  CASH_OUT   24343.06  C1172641997         155.00   \n",
       "5501018   380  CASH_OUT   56113.43  C1178267475       30564.00   \n",
       "874737     42   PAYMENT   21914.32  C2086871501      537012.00   \n",
       "6051973   495   CASH_IN  152124.48  C2092445131     7231715.65   \n",
       "6151179   546  TRANSFER  457713.12   C970587691           0.00   \n",
       "\n",
       "         newbalanceOrig     nameDest  oldbalanceDest  newbalanceDest  isFraud  \\\n",
       "2345681            0.00   C715885997            0.00        24343.06        0   \n",
       "5501018            0.00  C1674925903            0.00        56113.43        0   \n",
       "874737        515097.68  M1875681686            0.00            0.00        0   \n",
       "6051973      7383840.13   C532019803      1786875.29      1634750.81        0   \n",
       "6151179            0.00   C427165150      5822106.49      6279819.62        0   \n",
       "\n",
       "         isFlaggedFraud  \n",
       "2345681               0  \n",
       "5501018               0  \n",
       "874737                0  \n",
       "6051973               0  \n",
       "6151179               0  "
      ]
     },
     "execution_count": 28,
     "metadata": {},
     "output_type": "execute_result"
    }
   ],
   "source": [
    "fraud.head()"
   ]
  },
  {
   "cell_type": "code",
   "execution_count": 29,
   "metadata": {},
   "outputs": [
    {
     "data": {
      "text/plain": [
       "step                int64\n",
       "type               object\n",
       "amount            float64\n",
       "nameOrig           object\n",
       "oldbalanceOrg     float64\n",
       "newbalanceOrig    float64\n",
       "nameDest           object\n",
       "oldbalanceDest    float64\n",
       "newbalanceDest    float64\n",
       "isFraud             int64\n",
       "isFlaggedFraud      int64\n",
       "dtype: object"
      ]
     },
     "execution_count": 29,
     "metadata": {},
     "output_type": "execute_result"
    }
   ],
   "source": [
    "fraud.dtypes"
   ]
  },
  {
   "cell_type": "code",
   "execution_count": 30,
   "metadata": {},
   "outputs": [
    {
     "data": {
      "text/plain": [
       "CASH_OUT    351440\n",
       "PAYMENT     338098\n",
       "CASH_IN     220008\n",
       "TRANSFER     83989\n",
       "DEBIT         6465\n",
       "Name: type, dtype: int64"
      ]
     },
     "execution_count": 30,
     "metadata": {},
     "output_type": "execute_result"
    }
   ],
   "source": [
    "# there are only 5 types so we can label these\n",
    "fraud.type.value_counts()"
   ]
  },
  {
   "cell_type": "code",
   "execution_count": 31,
   "metadata": {},
   "outputs": [
    {
     "data": {
      "text/plain": [
       "C1590550415    26\n",
       "C1286084959    23\n",
       "C1978557426    20\n",
       "C985934102     19\n",
       "C1027017168    19\n",
       "               ..\n",
       "M1324883766     1\n",
       "C346358398      1\n",
       "M1382740876     1\n",
       "M1200518987     1\n",
       "M916026574      1\n",
       "Name: nameDest, Length: 648603, dtype: int64"
      ]
     },
     "execution_count": 31,
     "metadata": {},
     "output_type": "execute_result"
    }
   ],
   "source": [
    "# the other object column is namedest and nameorig. there are too many unique values, I will drop.\n",
    "fraud.nameDest.value_counts()"
   ]
  },
  {
   "cell_type": "code",
   "execution_count": 32,
   "metadata": {},
   "outputs": [],
   "source": [
    "fraud.drop(labels=['nameDest', 'nameOrig'], axis=1, inplace=True)"
   ]
  },
  {
   "cell_type": "markdown",
   "metadata": {},
   "source": [
    "### What is the distribution of the outcome? "
   ]
  },
  {
   "cell_type": "code",
   "execution_count": 33,
   "metadata": {},
   "outputs": [
    {
     "data": {
      "text/plain": [
       "0    0.998703\n",
       "1    0.001297\n",
       "Name: isFraud, dtype: float64"
      ]
     },
     "execution_count": 33,
     "metadata": {},
     "output_type": "execute_result"
    }
   ],
   "source": [
    "fraud.isFraud.value_counts(normalize=True)"
   ]
  },
  {
   "cell_type": "markdown",
   "metadata": {},
   "source": [
    "### Clean the dataset. How are you going to integrate the time variable? Do you think the step (integer) coding in which it is given is appropriate?"
   ]
  },
  {
   "cell_type": "code",
   "execution_count": 34,
   "metadata": {},
   "outputs": [],
   "source": [
    "# Why not? Much like time, it is an arbitrary number. As long as the same number always represents the same hour..."
   ]
  },
  {
   "cell_type": "code",
   "execution_count": 35,
   "metadata": {},
   "outputs": [],
   "source": [
    "# label the type of transaction:\n",
    "le = LabelEncoder()\n",
    "label_cols = ['type']\n",
    "fraud[label_cols] = fraud[label_cols].apply(le.fit_transform)"
   ]
  },
  {
   "cell_type": "markdown",
   "metadata": {},
   "source": [
    "### Run a logisitc regression classifier and evaluate its accuracy."
   ]
  },
  {
   "cell_type": "code",
   "execution_count": 36,
   "metadata": {},
   "outputs": [],
   "source": [
    "y = fraud['isFraud']\n",
    "X = fraud.drop(labels='isFraud', axis=1)\n",
    "\n",
    "#scaler = StandardScaler()\n",
    "#scaler.fit_transform(X)\n",
    "\n",
    "# divide train test\n",
    "X_train, X_test, y_train, y_test = train_test_split(X, y, test_size= 0.2)"
   ]
  },
  {
   "cell_type": "code",
   "execution_count": 48,
   "metadata": {},
   "outputs": [
    {
     "name": "stderr",
     "output_type": "stream",
     "text": [
      "C:\\Users\\Zaca\\Anaconda3\\lib\\site-packages\\sklearn\\linear_model\\logistic.py:432: FutureWarning: Default solver will be changed to 'lbfgs' in 0.22. Specify a solver to silence this warning.\n",
      "  FutureWarning)\n"
     ]
    },
    {
     "name": "stdout",
     "output_type": "stream",
     "text": [
      "Logistic Regression Test Accuracy 99.81%\n"
     ]
    }
   ],
   "source": [
    "lr = LogisticRegression()#class_weight='balanced')\n",
    "lr.fit(X_train, y_train)\n",
    "acc = lr.score(X_test, y_test)*100\n",
    "\n",
    "print(f\"Logistic Regression Test Accuracy {round(acc, 2)}%\")"
   ]
  },
  {
   "cell_type": "code",
   "execution_count": 49,
   "metadata": {},
   "outputs": [
    {
     "name": "stdout",
     "output_type": "stream",
     "text": [
      "99.8112\n",
      "[[249394    307]\n",
      " [   165    134]]\n",
      "Precision  0.30385487528344673\n"
     ]
    }
   ],
   "source": [
    "from sklearn.metrics import confusion_matrix, accuracy_score\n",
    "\n",
    "y_pred = lr.predict(X_test)\n",
    "print(accuracy_score(y_test, y_pred)*100)\n",
    "cm = confusion_matrix(y_test, y_pred)\n",
    "print(cm)\n",
    "\n",
    "print('Precision ', cm[1,1]/(cm[0,1] + cm[1,1]))"
   ]
  },
  {
   "cell_type": "markdown",
   "metadata": {},
   "source": [
    "### Now pick a model of your choice and evaluate its accuracy."
   ]
  },
  {
   "cell_type": "code",
   "execution_count": 46,
   "metadata": {},
   "outputs": [
    {
     "name": "stdout",
     "output_type": "stream",
     "text": [
      "Decision Tree Test Accuracy 99.96%\n",
      "[[249645     56]\n",
      " [    51    248]]\n",
      "Precision  0.8157894736842105\n"
     ]
    }
   ],
   "source": [
    "from sklearn.tree import DecisionTreeClassifier\n",
    "dtc = DecisionTreeClassifier()\n",
    "dtc.fit(X_train, y_train)\n",
    "y_pred = dtc.predict(X_test)\n",
    "acc = dtc.score(X_test, y_test)*100\n",
    "print(f\"Decision Tree Test Accuracy {round(acc, 2)}%\")\n",
    "cm = confusion_matrix(y_test, y_pred)\n",
    "print(cm)\n",
    "\n",
    "print('Precision ', cm[1,1]/(cm[0,1] + cm[1,1]))"
   ]
  },
  {
   "cell_type": "markdown",
   "metadata": {},
   "source": [
    "### Which model worked better and how do you know?"
   ]
  },
  {
   "cell_type": "code",
   "execution_count": 50,
   "metadata": {},
   "outputs": [],
   "source": [
    "# I believe it is the decision tree the one that is better because it has more precision. The targets 1s are VERY\n",
    "# rare so precision might be the best measure. In this case DTC has 80% precision while LR has 30%"
   ]
  },
  {
   "cell_type": "code",
   "execution_count": 51,
   "metadata": {},
   "outputs": [],
   "source": [
    "# So what am I learning about imbalance here? I'm not clear."
   ]
  },
  {
   "cell_type": "markdown",
   "metadata": {},
   "source": [
    "### Note: before doing the first commit, make sure you don't include the large csv file, either by adding it to .gitignore, or by deleting it."
   ]
  }
 ],
 "metadata": {
  "kernelspec": {
   "display_name": "Python 3",
   "language": "python",
   "name": "python3"
  },
  "language_info": {
   "codemirror_mode": {
    "name": "ipython",
    "version": 3
   },
   "file_extension": ".py",
   "mimetype": "text/x-python",
   "name": "python",
   "nbconvert_exporter": "python",
   "pygments_lexer": "ipython3",
   "version": "3.7.4"
  }
 },
 "nbformat": 4,
 "nbformat_minor": 2
}
