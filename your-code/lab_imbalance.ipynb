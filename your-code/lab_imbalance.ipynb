{
 "cells": [
  {
   "cell_type": "markdown",
   "metadata": {},
   "source": [
    "# Inbalanced Classes\n",
    "## In this lab, we are going to explore a case of imbalanced classes. \n",
    "\n",
    "\n",
    "Like we disussed in class, when we have noisy data, if we are not careful, we can end up fitting our model to the noise in the data and not the 'signal'-- the factors that actually determine the outcome. This is called overfitting, and results in good results in training, and in bad results when the model is applied to real data. Similarly, we could have a model that is too simplistic to accurately model the signal. This produces a model that doesnt work well (ever). \n"
   ]
  },
  {
   "cell_type": "markdown",
   "metadata": {},
   "source": [
    "### Note: before doing the first commit, make sure you don't include the large csv file, either by adding it to .gitignore, or by deleting it."
   ]
  },
  {
   "cell_type": "markdown",
   "metadata": {},
   "source": [
    "### First, download the data from: https://www.kaggle.com/datasets/ealaxi/paysim1. Import the dataset and provide some discriptive statistics and plots. What do you think will be the important features in determining the outcome?\n",
    "### Note: don't use the entire dataset, use a sample instead, with n=100000 elements, so your computer doesn't freeze."
   ]
  },
  {
   "cell_type": "code",
   "execution_count": 17,
   "metadata": {},
   "outputs": [
    {
     "data": {
      "text/html": [
       "<div>\n",
       "<style scoped>\n",
       "    .dataframe tbody tr th:only-of-type {\n",
       "        vertical-align: middle;\n",
       "    }\n",
       "\n",
       "    .dataframe tbody tr th {\n",
       "        vertical-align: top;\n",
       "    }\n",
       "\n",
       "    .dataframe thead th {\n",
       "        text-align: right;\n",
       "    }\n",
       "</style>\n",
       "<table border=\"1\" class=\"dataframe\">\n",
       "  <thead>\n",
       "    <tr style=\"text-align: right;\">\n",
       "      <th></th>\n",
       "      <th>step</th>\n",
       "      <th>type</th>\n",
       "      <th>amount</th>\n",
       "      <th>nameOrig</th>\n",
       "      <th>oldbalanceOrg</th>\n",
       "      <th>newbalanceOrig</th>\n",
       "      <th>nameDest</th>\n",
       "      <th>oldbalanceDest</th>\n",
       "      <th>newbalanceDest</th>\n",
       "      <th>isFraud</th>\n",
       "      <th>isFlaggedFraud</th>\n",
       "    </tr>\n",
       "  </thead>\n",
       "  <tbody>\n",
       "    <tr>\n",
       "      <th>134364</th>\n",
       "      <td>11</td>\n",
       "      <td>CASH_IN</td>\n",
       "      <td>63402.09</td>\n",
       "      <td>C1610152695</td>\n",
       "      <td>220.00</td>\n",
       "      <td>63622.09</td>\n",
       "      <td>C2116285782</td>\n",
       "      <td>764063.11</td>\n",
       "      <td>1397717.72</td>\n",
       "      <td>0</td>\n",
       "      <td>0</td>\n",
       "    </tr>\n",
       "    <tr>\n",
       "      <th>2805349</th>\n",
       "      <td>225</td>\n",
       "      <td>PAYMENT</td>\n",
       "      <td>35153.23</td>\n",
       "      <td>C2146817319</td>\n",
       "      <td>149911.95</td>\n",
       "      <td>114758.72</td>\n",
       "      <td>M1426697974</td>\n",
       "      <td>0.00</td>\n",
       "      <td>0.00</td>\n",
       "      <td>0</td>\n",
       "      <td>0</td>\n",
       "    </tr>\n",
       "    <tr>\n",
       "      <th>2624794</th>\n",
       "      <td>208</td>\n",
       "      <td>CASH_OUT</td>\n",
       "      <td>173949.92</td>\n",
       "      <td>C822459157</td>\n",
       "      <td>229678.15</td>\n",
       "      <td>55728.23</td>\n",
       "      <td>C793116596</td>\n",
       "      <td>7751776.83</td>\n",
       "      <td>7925726.75</td>\n",
       "      <td>0</td>\n",
       "      <td>0</td>\n",
       "    </tr>\n",
       "  </tbody>\n",
       "</table>\n",
       "</div>"
      ],
      "text/plain": [
       "         step      type     amount     nameOrig  oldbalanceOrg  \\\n",
       "134364     11   CASH_IN   63402.09  C1610152695         220.00   \n",
       "2805349   225   PAYMENT   35153.23  C2146817319      149911.95   \n",
       "2624794   208  CASH_OUT  173949.92   C822459157      229678.15   \n",
       "\n",
       "         newbalanceOrig     nameDest  oldbalanceDest  newbalanceDest  isFraud  \\\n",
       "134364         63622.09  C2116285782       764063.11      1397717.72        0   \n",
       "2805349       114758.72  M1426697974            0.00            0.00        0   \n",
       "2624794        55728.23   C793116596      7751776.83      7925726.75        0   \n",
       "\n",
       "         isFlaggedFraud  \n",
       "134364                0  \n",
       "2805349               0  \n",
       "2624794               0  "
      ]
     },
     "execution_count": 17,
     "metadata": {},
     "output_type": "execute_result"
    }
   ],
   "source": [
    "# Your code here\n",
    "import pandas as pd\n",
    "\n",
    "data = pd.read_csv(r'C:\\Users\\Daniel Carvalho\\Desktop\\DataAnalysis\\WEEK7\\DAY4\\labs\\lab-imbalance\\PS_20174392719_1491204439457_log.csv').sample(n=100000)\n",
    "data.head(3)"
   ]
  },
  {
   "cell_type": "markdown",
   "metadata": {},
   "source": [
    "### What is the distribution of the outcome? "
   ]
  },
  {
   "cell_type": "code",
   "execution_count": 18,
   "metadata": {},
   "outputs": [
    {
     "data": {
      "text/plain": [
       "0    99857\n",
       "1      143\n",
       "Name: isFraud, dtype: int64"
      ]
     },
     "execution_count": 18,
     "metadata": {},
     "output_type": "execute_result"
    }
   ],
   "source": [
    "data['isFraud'].value_counts()"
   ]
  },
  {
   "cell_type": "code",
   "execution_count": 19,
   "metadata": {},
   "outputs": [
    {
     "data": {
      "image/png": "[encoded data removed]",
      "text/plain": [
       "<Figure size 432x288 with 1 Axes>"
      ]
     },
     "metadata": {
      "needs_background": "light"
     },
     "output_type": "display_data"
    }
   ],
   "source": [
    "# Your response here\n",
    "import matplotlib.pyplot as plt\n",
    "count_class = pd.value_counts(data['isFraud'])\n",
    "count_class.plot(kind='bar')\n",
    "plt.show()"
   ]
  },
  {
   "cell_type": "code",
   "execution_count": 22,
   "metadata": {},
   "outputs": [
    {
     "data": {
      "text/html": [
       "<div>\n",
       "<style scoped>\n",
       "    .dataframe tbody tr th:only-of-type {\n",
       "        vertical-align: middle;\n",
       "    }\n",
       "\n",
       "    .dataframe tbody tr th {\n",
       "        vertical-align: top;\n",
       "    }\n",
       "\n",
       "    .dataframe thead th {\n",
       "        text-align: right;\n",
       "    }\n",
       "</style>\n",
       "<table border=\"1\" class=\"dataframe\">\n",
       "  <thead>\n",
       "    <tr style=\"text-align: right;\">\n",
       "      <th></th>\n",
       "      <th>step</th>\n",
       "      <th>type</th>\n",
       "      <th>amount</th>\n",
       "      <th>nameOrig</th>\n",
       "      <th>oldbalanceOrg</th>\n",
       "      <th>newbalanceOrig</th>\n",
       "      <th>nameDest</th>\n",
       "      <th>oldbalanceDest</th>\n",
       "      <th>newbalanceDest</th>\n",
       "      <th>isFraud</th>\n",
       "      <th>isFlaggedFraud</th>\n",
       "    </tr>\n",
       "  </thead>\n",
       "  <tbody>\n",
       "    <tr>\n",
       "      <th>134364</th>\n",
       "      <td>11</td>\n",
       "      <td>CASH_IN</td>\n",
       "      <td>63402.09</td>\n",
       "      <td>C1610152695</td>\n",
       "      <td>220.00</td>\n",
       "      <td>63622.09</td>\n",
       "      <td>C2116285782</td>\n",
       "      <td>764063.11</td>\n",
       "      <td>1397717.72</td>\n",
       "      <td>0</td>\n",
       "      <td>0</td>\n",
       "    </tr>\n",
       "    <tr>\n",
       "      <th>2805349</th>\n",
       "      <td>225</td>\n",
       "      <td>PAYMENT</td>\n",
       "      <td>35153.23</td>\n",
       "      <td>C2146817319</td>\n",
       "      <td>149911.95</td>\n",
       "      <td>114758.72</td>\n",
       "      <td>M1426697974</td>\n",
       "      <td>0.00</td>\n",
       "      <td>0.00</td>\n",
       "      <td>0</td>\n",
       "      <td>0</td>\n",
       "    </tr>\n",
       "    <tr>\n",
       "      <th>2624794</th>\n",
       "      <td>208</td>\n",
       "      <td>CASH_OUT</td>\n",
       "      <td>173949.92</td>\n",
       "      <td>C822459157</td>\n",
       "      <td>229678.15</td>\n",
       "      <td>55728.23</td>\n",
       "      <td>C793116596</td>\n",
       "      <td>7751776.83</td>\n",
       "      <td>7925726.75</td>\n",
       "      <td>0</td>\n",
       "      <td>0</td>\n",
       "    </tr>\n",
       "    <tr>\n",
       "      <th>1906681</th>\n",
       "      <td>166</td>\n",
       "      <td>CASH_OUT</td>\n",
       "      <td>23752.01</td>\n",
       "      <td>C11169511</td>\n",
       "      <td>21376.00</td>\n",
       "      <td>0.00</td>\n",
       "      <td>C378897201</td>\n",
       "      <td>385481.29</td>\n",
       "      <td>74485.54</td>\n",
       "      <td>0</td>\n",
       "      <td>0</td>\n",
       "    </tr>\n",
       "    <tr>\n",
       "      <th>4100102</th>\n",
       "      <td>301</td>\n",
       "      <td>CASH_IN</td>\n",
       "      <td>313576.86</td>\n",
       "      <td>C1494862854</td>\n",
       "      <td>21473405.04</td>\n",
       "      <td>21786981.91</td>\n",
       "      <td>C1253040515</td>\n",
       "      <td>7963543.31</td>\n",
       "      <td>7649966.44</td>\n",
       "      <td>0</td>\n",
       "      <td>0</td>\n",
       "    </tr>\n",
       "  </tbody>\n",
       "</table>\n",
       "</div>"
      ],
      "text/plain": [
       "         step      type     amount     nameOrig  oldbalanceOrg  \\\n",
       "134364     11   CASH_IN   63402.09  C1610152695         220.00   \n",
       "2805349   225   PAYMENT   35153.23  C2146817319      149911.95   \n",
       "2624794   208  CASH_OUT  173949.92   C822459157      229678.15   \n",
       "1906681   166  CASH_OUT   23752.01    C11169511       21376.00   \n",
       "4100102   301   CASH_IN  313576.86  C1494862854    21473405.04   \n",
       "\n",
       "         newbalanceOrig     nameDest  oldbalanceDest  newbalanceDest  isFraud  \\\n",
       "134364         63622.09  C2116285782       764063.11      1397717.72        0   \n",
       "2805349       114758.72  M1426697974            0.00            0.00        0   \n",
       "2624794        55728.23   C793116596      7751776.83      7925726.75        0   \n",
       "1906681            0.00   C378897201       385481.29        74485.54        0   \n",
       "4100102     21786981.91  C1253040515      7963543.31      7649966.44        0   \n",
       "\n",
       "         isFlaggedFraud  \n",
       "134364                0  \n",
       "2805349               0  \n",
       "2624794               0  \n",
       "1906681               0  \n",
       "4100102               0  "
      ]
     },
     "execution_count": 22,
     "metadata": {},
     "output_type": "execute_result"
    }
   ],
   "source": [
    "data.head()"
   ]
  },
  {
   "cell_type": "markdown",
   "metadata": {},
   "source": [
    "### Clean the dataset. How are you going to integrate the time variable? Do you think the step (integer) coding in which it is given is appropriate?"
   ]
  },
  {
   "cell_type": "code",
   "execution_count": 23,
   "metadata": {},
   "outputs": [],
   "source": [
    "data = data.drop(columns=['type', 'nameOrig','nameDest'])\n",
    "data['step'] = data['step'].astype(float)"
   ]
  },
  {
   "cell_type": "code",
   "execution_count": 24,
   "metadata": {},
   "outputs": [
    {
     "data": {
      "text/html": [
       "<div>\n",
       "<style scoped>\n",
       "    .dataframe tbody tr th:only-of-type {\n",
       "        vertical-align: middle;\n",
       "    }\n",
       "\n",
       "    .dataframe tbody tr th {\n",
       "        vertical-align: top;\n",
       "    }\n",
       "\n",
       "    .dataframe thead th {\n",
       "        text-align: right;\n",
       "    }\n",
       "</style>\n",
       "<table border=\"1\" class=\"dataframe\">\n",
       "  <thead>\n",
       "    <tr style=\"text-align: right;\">\n",
       "      <th></th>\n",
       "      <th>step</th>\n",
       "      <th>amount</th>\n",
       "      <th>oldbalanceOrg</th>\n",
       "      <th>newbalanceOrig</th>\n",
       "      <th>oldbalanceDest</th>\n",
       "      <th>newbalanceDest</th>\n",
       "      <th>isFraud</th>\n",
       "      <th>isFlaggedFraud</th>\n",
       "    </tr>\n",
       "  </thead>\n",
       "  <tbody>\n",
       "    <tr>\n",
       "      <th>step</th>\n",
       "      <td>1.000000</td>\n",
       "      <td>0.026004</td>\n",
       "      <td>-0.013405</td>\n",
       "      <td>-0.013704</td>\n",
       "      <td>0.030670</td>\n",
       "      <td>0.029147</td>\n",
       "      <td>0.035254</td>\n",
       "      <td>NaN</td>\n",
       "    </tr>\n",
       "    <tr>\n",
       "      <th>amount</th>\n",
       "      <td>0.026004</td>\n",
       "      <td>1.000000</td>\n",
       "      <td>-0.003682</td>\n",
       "      <td>-0.008972</td>\n",
       "      <td>0.295318</td>\n",
       "      <td>0.466679</td>\n",
       "      <td>0.078436</td>\n",
       "      <td>NaN</td>\n",
       "    </tr>\n",
       "    <tr>\n",
       "      <th>oldbalanceOrg</th>\n",
       "      <td>-0.013405</td>\n",
       "      <td>-0.003682</td>\n",
       "      <td>1.000000</td>\n",
       "      <td>0.998807</td>\n",
       "      <td>0.066678</td>\n",
       "      <td>0.041310</td>\n",
       "      <td>0.010898</td>\n",
       "      <td>NaN</td>\n",
       "    </tr>\n",
       "    <tr>\n",
       "      <th>newbalanceOrig</th>\n",
       "      <td>-0.013704</td>\n",
       "      <td>-0.008972</td>\n",
       "      <td>0.998807</td>\n",
       "      <td>1.000000</td>\n",
       "      <td>0.068186</td>\n",
       "      <td>0.040854</td>\n",
       "      <td>-0.008077</td>\n",
       "      <td>NaN</td>\n",
       "    </tr>\n",
       "    <tr>\n",
       "      <th>oldbalanceDest</th>\n",
       "      <td>0.030670</td>\n",
       "      <td>0.295318</td>\n",
       "      <td>0.066678</td>\n",
       "      <td>0.068186</td>\n",
       "      <td>1.000000</td>\n",
       "      <td>0.974118</td>\n",
       "      <td>-0.006947</td>\n",
       "      <td>NaN</td>\n",
       "    </tr>\n",
       "    <tr>\n",
       "      <th>newbalanceDest</th>\n",
       "      <td>0.029147</td>\n",
       "      <td>0.466679</td>\n",
       "      <td>0.041310</td>\n",
       "      <td>0.040854</td>\n",
       "      <td>0.974118</td>\n",
       "      <td>1.000000</td>\n",
       "      <td>0.001060</td>\n",
       "      <td>NaN</td>\n",
       "    </tr>\n",
       "    <tr>\n",
       "      <th>isFraud</th>\n",
       "      <td>0.035254</td>\n",
       "      <td>0.078436</td>\n",
       "      <td>0.010898</td>\n",
       "      <td>-0.008077</td>\n",
       "      <td>-0.006947</td>\n",
       "      <td>0.001060</td>\n",
       "      <td>1.000000</td>\n",
       "      <td>NaN</td>\n",
       "    </tr>\n",
       "    <tr>\n",
       "      <th>isFlaggedFraud</th>\n",
       "      <td>NaN</td>\n",
       "      <td>NaN</td>\n",
       "      <td>NaN</td>\n",
       "      <td>NaN</td>\n",
       "      <td>NaN</td>\n",
       "      <td>NaN</td>\n",
       "      <td>NaN</td>\n",
       "      <td>NaN</td>\n",
       "    </tr>\n",
       "  </tbody>\n",
       "</table>\n",
       "</div>"
      ],
      "text/plain": [
       "                    step    amount  oldbalanceOrg  newbalanceOrig  \\\n",
       "step            1.000000  0.026004      -0.013405       -0.013704   \n",
       "amount          0.026004  1.000000      -0.003682       -0.008972   \n",
       "oldbalanceOrg  -0.013405 -0.003682       1.000000        0.998807   \n",
       "newbalanceOrig -0.013704 -0.008972       0.998807        1.000000   \n",
       "oldbalanceDest  0.030670  0.295318       0.066678        0.068186   \n",
       "newbalanceDest  0.029147  0.466679       0.041310        0.040854   \n",
       "isFraud         0.035254  0.078436       0.010898       -0.008077   \n",
       "isFlaggedFraud       NaN       NaN            NaN             NaN   \n",
       "\n",
       "                oldbalanceDest  newbalanceDest   isFraud  isFlaggedFraud  \n",
       "step                  0.030670        0.029147  0.035254             NaN  \n",
       "amount                0.295318        0.466679  0.078436             NaN  \n",
       "oldbalanceOrg         0.066678        0.041310  0.010898             NaN  \n",
       "newbalanceOrig        0.068186        0.040854 -0.008077             NaN  \n",
       "oldbalanceDest        1.000000        0.974118 -0.006947             NaN  \n",
       "newbalanceDest        0.974118        1.000000  0.001060             NaN  \n",
       "isFraud              -0.006947        0.001060  1.000000             NaN  \n",
       "isFlaggedFraud             NaN             NaN       NaN             NaN  "
      ]
     },
     "execution_count": 24,
     "metadata": {},
     "output_type": "execute_result"
    }
   ],
   "source": [
    "# Your code here\n",
    "data.corr()"
   ]
  },
  {
   "cell_type": "markdown",
   "metadata": {},
   "source": [
    "### Run a logisitc regression classifier and evaluate its accuracy."
   ]
  },
  {
   "cell_type": "code",
   "execution_count": 25,
   "metadata": {},
   "outputs": [
    {
     "data": {
      "text/plain": [
       "0.99808"
      ]
     },
     "execution_count": 25,
     "metadata": {},
     "output_type": "execute_result"
    }
   ],
   "source": [
    "# Your code here\n",
    "from sklearn.linear_model import LogisticRegression\n",
    "\n",
    "X = data.drop(columns=['isFraud'])\n",
    "y = data['isFraud']\n",
    "\n",
    "from sklearn.model_selection import train_test_split\n",
    "\n",
    "X_train, X_test, y_train, y_test = train_test_split(X,y,random_state=0)\n",
    "\n",
    "model = LogisticRegression()\n",
    "model.fit(X_train, y_train)\n",
    "model.score(X_test,y_test)"
   ]
  },
  {
   "cell_type": "code",
   "execution_count": 26,
   "metadata": {},
   "outputs": [
    {
     "name": "stdout",
     "output_type": "stream",
     "text": [
      "              precision    recall  f1-score   support\n",
      "\n",
      "           0       1.00      1.00      1.00     24961\n",
      "           1       0.41      0.51      0.45        39\n",
      "\n",
      "    accuracy                           1.00     25000\n",
      "   macro avg       0.70      0.76      0.73     25000\n",
      "weighted avg       1.00      1.00      1.00     25000\n",
      "\n"
     ]
    }
   ],
   "source": [
    "from sklearn.metrics import classification_report, confusion_matrix\n",
    "\n",
    "pred = model.predict(X_test)\n",
    "print(classification_report(y_test,pred))"
   ]
  },
  {
   "cell_type": "code",
   "execution_count": 27,
   "metadata": {},
   "outputs": [
    {
     "data": {
      "text/plain": [
       "array([[24932,    29],\n",
       "       [   19,    20]], dtype=int64)"
      ]
     },
     "execution_count": 27,
     "metadata": {},
     "output_type": "execute_result"
    }
   ],
   "source": [
    "confusion_matrix(y_test,pred)"
   ]
  },
  {
   "cell_type": "markdown",
   "metadata": {},
   "source": [
    "### Now pick a model of your choice and evaluate its accuracy."
   ]
  },
  {
   "cell_type": "code",
   "execution_count": 29,
   "metadata": {},
   "outputs": [
    {
     "name": "stdout",
     "output_type": "stream",
     "text": [
      "              precision    recall  f1-score   support\n",
      "\n",
      "           0       1.00      0.91      0.95     24961\n",
      "           1       0.02      1.00      0.03        39\n",
      "\n",
      "    accuracy                           0.91     25000\n",
      "   macro avg       0.51      0.95      0.49     25000\n",
      "weighted avg       1.00      0.91      0.95     25000\n",
      "\n"
     ]
    },
    {
     "data": {
      "text/plain": [
       "array([[22681,  2280],\n",
       "       [    0,    39]], dtype=int64)"
      ]
     },
     "execution_count": 29,
     "metadata": {},
     "output_type": "execute_result"
    }
   ],
   "source": [
    "from sklearn.utils import resample\n",
    "\n",
    "train = pd.concat([X_train,y_train], axis=1)\n",
    "\n",
    "no_fraud = train[train['isFraud'] == 0]\n",
    "yes_fraud = train[train['isFraud'] == 1]\n",
    "\n",
    "yes_fraud_oversampled = resample(yes_fraud, \n",
    "replace=True, \n",
    "n_samples=len(no_fraud), \n",
    "random_state=0)\n",
    "\n",
    "train_oversampled = pd.concat([no_fraud,yes_fraud_oversampled])\n",
    "\n",
    "X_train_over = train_oversampled.drop(columns=['isFraud'])\n",
    "y_train_over = train_oversampled['isFraud']\n",
    "\n",
    "model.fit(X_train_over,y_train_over)\n",
    "pred = model.predict(X_test)\n",
    "\n",
    "print(classification_report(y_test,pred))\n",
    "confusion_matrix(y_test,pred)"
   ]
  },
  {
   "cell_type": "markdown",
   "metadata": {},
   "source": [
    "### Which model worked better and how do you know?"
   ]
  },
  {
   "cell_type": "code",
   "execution_count": 30,
   "metadata": {},
   "outputs": [],
   "source": [
    "# Your response here\n",
    "\n",
    "## The problem here with the logistic regression is that it doest not catch the frauds at all, it has 0 recall so our model is horrible\n",
    "## even though we are very precise because of the inbalanced data..\n",
    "\n",
    "## meanwhile the second method we loose a litle bit of precision but we managed to capture everything single fraud and therefore save a lot of money."
   ]
  },
  {
   "cell_type": "markdown",
   "metadata": {},
   "source": [
    "### Note: before doing the first commit, make sure you don't include the large csv file, either by adding it to .gitignore, or by deleting it."
   ]
  }
 ],
 "metadata": {
  "kernelspec": {
   "display_name": "Python 3.9.13 ('CLasses')",
   "language": "python",
   "name": "python3"
  },
  "language_info": {
   "codemirror_mode": {
    "name": "ipython",
    "version": 3
   },
   "file_extension": ".py",
   "mimetype": "text/x-python",
   "name": "python",
   "nbconvert_exporter": "python",
   "pygments_lexer": "ipython3",
   "version": "3.9.13"
  },
  "vscode": {
   "interpreter": {
    "hash": "fd8103c585cc5071142faf5ebc004de0b2da2b7faa17a9198853f983d8f17421"
   }
  }
 },
 "nbformat": 4,
 "nbformat_minor": 2
}
