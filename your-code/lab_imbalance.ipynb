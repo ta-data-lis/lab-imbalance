{
 "cells": [
  {
   "cell_type": "markdown",
   "metadata": {},
   "source": [
    "# Inbalanced Classes\n",
    "## In this lab, we are going to explore a case of imbalanced classes. \n",
    "\n",
    "\n",
    "Like we disussed in class, when we have noisy data, if we are not careful, we can end up fitting our model to the noise in the data and not the 'signal'-- the factors that actually determine the outcome. This is called overfitting, and results in good results in training, and in bad results when the model is applied to real data. Similarly, we could have a model that is too simplistic to accurately model the signal. This produces a model that doesnt work well (ever). \n"
   ]
  },
  {
   "cell_type": "markdown",
   "metadata": {},
   "source": [
    "### Note: before doing the first commit, make sure you don't include the large csv file, either by adding it to .gitignore, or by deleting it."
   ]
  },
  {
   "cell_type": "markdown",
   "metadata": {},
   "source": [
    "### First, download the data from: https://www.kaggle.com/datasets/ealaxi/paysim1. Import the dataset and provide some discriptive statistics and plots. What do you think will be the important features in determining the outcome?\n",
    "### Note: don't use the entire dataset, use a sample instead, with n=100000 elements, so your computer doesn't freeze."
   ]
  },
  {
   "cell_type": "code",
   "execution_count": 13,
   "metadata": {},
   "outputs": [],
   "source": [
    "# Your code here\n",
    "\n",
    "## Importing libraries\n",
    "\n",
    "import pandas as pd\n",
    "import numpy as np\n",
    "\n",
    "import matplotlib.pyplot as plt\n",
    "import seaborn as sns\n",
    "\n",
    "from sklearn.model_selection import train_test_split\n",
    "\n",
    "import imblearn\n",
    "from sklearn.linear_model import LogisticRegression\n",
    "from sklearn.linear_model import DecisionTreeClassifier"
   ]
  },
  {
   "cell_type": "code",
   "execution_count": 19,
   "metadata": {},
   "outputs": [
    {
     "name": "stdout",
     "output_type": "stream",
     "text": [
      "(1000000, 11)\n"
     ]
    },
    {
     "data": {
      "text/html": [
       "<div>\n",
       "<style scoped>\n",
       "    .dataframe tbody tr th:only-of-type {\n",
       "        vertical-align: middle;\n",
       "    }\n",
       "\n",
       "    .dataframe tbody tr th {\n",
       "        vertical-align: top;\n",
       "    }\n",
       "\n",
       "    .dataframe thead th {\n",
       "        text-align: right;\n",
       "    }\n",
       "</style>\n",
       "<table border=\"1\" class=\"dataframe\">\n",
       "  <thead>\n",
       "    <tr style=\"text-align: right;\">\n",
       "      <th></th>\n",
       "      <th>step</th>\n",
       "      <th>type</th>\n",
       "      <th>amount</th>\n",
       "      <th>nameOrig</th>\n",
       "      <th>oldbalanceOrg</th>\n",
       "      <th>newbalanceOrig</th>\n",
       "      <th>nameDest</th>\n",
       "      <th>oldbalanceDest</th>\n",
       "      <th>newbalanceDest</th>\n",
       "      <th>isFraud</th>\n",
       "      <th>isFlaggedFraud</th>\n",
       "    </tr>\n",
       "  </thead>\n",
       "  <tbody>\n",
       "    <tr>\n",
       "      <th>3971530</th>\n",
       "      <td>297</td>\n",
       "      <td>PAYMENT</td>\n",
       "      <td>825.54</td>\n",
       "      <td>C1937876142</td>\n",
       "      <td>0.00</td>\n",
       "      <td>0.00</td>\n",
       "      <td>M1022738370</td>\n",
       "      <td>0.00</td>\n",
       "      <td>0.00</td>\n",
       "      <td>0</td>\n",
       "      <td>0</td>\n",
       "    </tr>\n",
       "    <tr>\n",
       "      <th>1371594</th>\n",
       "      <td>138</td>\n",
       "      <td>PAYMENT</td>\n",
       "      <td>14862.89</td>\n",
       "      <td>C64401466</td>\n",
       "      <td>61650.00</td>\n",
       "      <td>46787.11</td>\n",
       "      <td>M959468027</td>\n",
       "      <td>0.00</td>\n",
       "      <td>0.00</td>\n",
       "      <td>0</td>\n",
       "      <td>0</td>\n",
       "    </tr>\n",
       "    <tr>\n",
       "      <th>118535</th>\n",
       "      <td>11</td>\n",
       "      <td>CASH_OUT</td>\n",
       "      <td>53321.81</td>\n",
       "      <td>C929643735</td>\n",
       "      <td>0.00</td>\n",
       "      <td>0.00</td>\n",
       "      <td>C409060521</td>\n",
       "      <td>2042322.34</td>\n",
       "      <td>2665856.06</td>\n",
       "      <td>0</td>\n",
       "      <td>0</td>\n",
       "    </tr>\n",
       "    <tr>\n",
       "      <th>5193766</th>\n",
       "      <td>369</td>\n",
       "      <td>PAYMENT</td>\n",
       "      <td>11216.40</td>\n",
       "      <td>C141620937</td>\n",
       "      <td>214929.59</td>\n",
       "      <td>203713.19</td>\n",
       "      <td>M424037423</td>\n",
       "      <td>0.00</td>\n",
       "      <td>0.00</td>\n",
       "      <td>0</td>\n",
       "      <td>0</td>\n",
       "    </tr>\n",
       "    <tr>\n",
       "      <th>5140264</th>\n",
       "      <td>356</td>\n",
       "      <td>CASH_OUT</td>\n",
       "      <td>117.05</td>\n",
       "      <td>C218898777</td>\n",
       "      <td>38428.86</td>\n",
       "      <td>38311.81</td>\n",
       "      <td>C160840537</td>\n",
       "      <td>1490943.54</td>\n",
       "      <td>1491060.59</td>\n",
       "      <td>0</td>\n",
       "      <td>0</td>\n",
       "    </tr>\n",
       "  </tbody>\n",
       "</table>\n",
       "</div>"
      ],
      "text/plain": [
       "         step      type    amount     nameOrig  oldbalanceOrg  newbalanceOrig  \\\n",
       "3971530   297   PAYMENT    825.54  C1937876142           0.00            0.00   \n",
       "1371594   138   PAYMENT  14862.89    C64401466       61650.00        46787.11   \n",
       "118535     11  CASH_OUT  53321.81   C929643735           0.00            0.00   \n",
       "5193766   369   PAYMENT  11216.40   C141620937      214929.59       203713.19   \n",
       "5140264   356  CASH_OUT    117.05   C218898777       38428.86        38311.81   \n",
       "\n",
       "            nameDest  oldbalanceDest  newbalanceDest  isFraud  isFlaggedFraud  \n",
       "3971530  M1022738370            0.00            0.00        0               0  \n",
       "1371594   M959468027            0.00            0.00        0               0  \n",
       "118535    C409060521      2042322.34      2665856.06        0               0  \n",
       "5193766   M424037423            0.00            0.00        0               0  \n",
       "5140264   C160840537      1490943.54      1491060.59        0               0  "
      ]
     },
     "execution_count": 19,
     "metadata": {},
     "output_type": "execute_result"
    }
   ],
   "source": [
    "data = pd.read_csv(\"/Users/caionunez/Downloads/PS_20174392719_1491204439457_log.csv\").sample(1000000)\n",
    "print(data.shape)\n",
    "data.head()"
   ]
  },
  {
   "cell_type": "code",
   "execution_count": 20,
   "metadata": {},
   "outputs": [
    {
     "data": {
      "text/html": [
       "<div>\n",
       "<style scoped>\n",
       "    .dataframe tbody tr th:only-of-type {\n",
       "        vertical-align: middle;\n",
       "    }\n",
       "\n",
       "    .dataframe tbody tr th {\n",
       "        vertical-align: top;\n",
       "    }\n",
       "\n",
       "    .dataframe thead th {\n",
       "        text-align: right;\n",
       "    }\n",
       "</style>\n",
       "<table border=\"1\" class=\"dataframe\">\n",
       "  <thead>\n",
       "    <tr style=\"text-align: right;\">\n",
       "      <th></th>\n",
       "      <th>step</th>\n",
       "      <th>amount</th>\n",
       "      <th>oldbalanceOrg</th>\n",
       "      <th>newbalanceOrig</th>\n",
       "      <th>oldbalanceDest</th>\n",
       "      <th>newbalanceDest</th>\n",
       "      <th>isFraud</th>\n",
       "      <th>isFlaggedFraud</th>\n",
       "    </tr>\n",
       "  </thead>\n",
       "  <tbody>\n",
       "    <tr>\n",
       "      <th>count</th>\n",
       "      <td>1000000.000000</td>\n",
       "      <td>1.000000e+06</td>\n",
       "      <td>1.000000e+06</td>\n",
       "      <td>1.000000e+06</td>\n",
       "      <td>1.000000e+06</td>\n",
       "      <td>1.000000e+06</td>\n",
       "      <td>1000000.000000</td>\n",
       "      <td>1000000.000000</td>\n",
       "    </tr>\n",
       "    <tr>\n",
       "      <th>mean</th>\n",
       "      <td>243.405510</td>\n",
       "      <td>1.806395e+05</td>\n",
       "      <td>8.328807e+05</td>\n",
       "      <td>8.543091e+05</td>\n",
       "      <td>1.099738e+06</td>\n",
       "      <td>1.224374e+06</td>\n",
       "      <td>0.001340</td>\n",
       "      <td>0.000001</td>\n",
       "    </tr>\n",
       "    <tr>\n",
       "      <th>std</th>\n",
       "      <td>142.476961</td>\n",
       "      <td>6.185435e+05</td>\n",
       "      <td>2.883078e+06</td>\n",
       "      <td>2.918763e+06</td>\n",
       "      <td>3.388608e+06</td>\n",
       "      <td>3.676593e+06</td>\n",
       "      <td>0.036581</td>\n",
       "      <td>0.001000</td>\n",
       "    </tr>\n",
       "    <tr>\n",
       "      <th>min</th>\n",
       "      <td>1.000000</td>\n",
       "      <td>0.000000e+00</td>\n",
       "      <td>0.000000e+00</td>\n",
       "      <td>0.000000e+00</td>\n",
       "      <td>0.000000e+00</td>\n",
       "      <td>0.000000e+00</td>\n",
       "      <td>0.000000</td>\n",
       "      <td>0.000000</td>\n",
       "    </tr>\n",
       "    <tr>\n",
       "      <th>25%</th>\n",
       "      <td>155.000000</td>\n",
       "      <td>1.341511e+04</td>\n",
       "      <td>0.000000e+00</td>\n",
       "      <td>0.000000e+00</td>\n",
       "      <td>0.000000e+00</td>\n",
       "      <td>0.000000e+00</td>\n",
       "      <td>0.000000</td>\n",
       "      <td>0.000000</td>\n",
       "    </tr>\n",
       "    <tr>\n",
       "      <th>50%</th>\n",
       "      <td>239.000000</td>\n",
       "      <td>7.503728e+04</td>\n",
       "      <td>1.424776e+04</td>\n",
       "      <td>0.000000e+00</td>\n",
       "      <td>1.329255e+05</td>\n",
       "      <td>2.138667e+05</td>\n",
       "      <td>0.000000</td>\n",
       "      <td>0.000000</td>\n",
       "    </tr>\n",
       "    <tr>\n",
       "      <th>75%</th>\n",
       "      <td>335.000000</td>\n",
       "      <td>2.089625e+05</td>\n",
       "      <td>1.072873e+05</td>\n",
       "      <td>1.451902e+05</td>\n",
       "      <td>9.445696e+05</td>\n",
       "      <td>1.112732e+06</td>\n",
       "      <td>0.000000</td>\n",
       "      <td>0.000000</td>\n",
       "    </tr>\n",
       "    <tr>\n",
       "      <th>max</th>\n",
       "      <td>743.000000</td>\n",
       "      <td>6.384799e+07</td>\n",
       "      <td>5.958504e+07</td>\n",
       "      <td>4.958504e+07</td>\n",
       "      <td>3.249151e+08</td>\n",
       "      <td>3.555534e+08</td>\n",
       "      <td>1.000000</td>\n",
       "      <td>1.000000</td>\n",
       "    </tr>\n",
       "  </tbody>\n",
       "</table>\n",
       "</div>"
      ],
      "text/plain": [
       "                 step        amount  oldbalanceOrg  newbalanceOrig  \\\n",
       "count  1000000.000000  1.000000e+06   1.000000e+06    1.000000e+06   \n",
       "mean       243.405510  1.806395e+05   8.328807e+05    8.543091e+05   \n",
       "std        142.476961  6.185435e+05   2.883078e+06    2.918763e+06   \n",
       "min          1.000000  0.000000e+00   0.000000e+00    0.000000e+00   \n",
       "25%        155.000000  1.341511e+04   0.000000e+00    0.000000e+00   \n",
       "50%        239.000000  7.503728e+04   1.424776e+04    0.000000e+00   \n",
       "75%        335.000000  2.089625e+05   1.072873e+05    1.451902e+05   \n",
       "max        743.000000  6.384799e+07   5.958504e+07    4.958504e+07   \n",
       "\n",
       "       oldbalanceDest  newbalanceDest         isFraud  isFlaggedFraud  \n",
       "count    1.000000e+06    1.000000e+06  1000000.000000  1000000.000000  \n",
       "mean     1.099738e+06    1.224374e+06        0.001340        0.000001  \n",
       "std      3.388608e+06    3.676593e+06        0.036581        0.001000  \n",
       "min      0.000000e+00    0.000000e+00        0.000000        0.000000  \n",
       "25%      0.000000e+00    0.000000e+00        0.000000        0.000000  \n",
       "50%      1.329255e+05    2.138667e+05        0.000000        0.000000  \n",
       "75%      9.445696e+05    1.112732e+06        0.000000        0.000000  \n",
       "max      3.249151e+08    3.555534e+08        1.000000        1.000000  "
      ]
     },
     "execution_count": 20,
     "metadata": {},
     "output_type": "execute_result"
    }
   ],
   "source": [
    "data.describe()"
   ]
  },
  {
   "cell_type": "code",
   "execution_count": 21,
   "metadata": {},
   "outputs": [
    {
     "data": {
      "text/plain": [
       "step                int64\n",
       "type               object\n",
       "amount            float64\n",
       "nameOrig           object\n",
       "oldbalanceOrg     float64\n",
       "newbalanceOrig    float64\n",
       "nameDest           object\n",
       "oldbalanceDest    float64\n",
       "newbalanceDest    float64\n",
       "isFraud             int64\n",
       "isFlaggedFraud      int64\n",
       "dtype: object"
      ]
     },
     "execution_count": 21,
     "metadata": {},
     "output_type": "execute_result"
    }
   ],
   "source": [
    "## I'm thinking the outcome mentioned is the represented in the column \"isFraud\"\n",
    "\n",
    "data.dtypes"
   ]
  },
  {
   "cell_type": "code",
   "execution_count": 22,
   "metadata": {},
   "outputs": [
    {
     "data": {
      "text/plain": [
       "0    998660\n",
       "1      1340\n",
       "Name: isFraud, dtype: int64"
      ]
     },
     "execution_count": 22,
     "metadata": {},
     "output_type": "execute_result"
    }
   ],
   "source": [
    "data[\"isFraud\"].value_counts()"
   ]
  },
  {
   "cell_type": "code",
   "execution_count": 23,
   "metadata": {},
   "outputs": [
    {
     "data": {
      "text/plain": [
       "0    999999\n",
       "1         1\n",
       "Name: isFlaggedFraud, dtype: int64"
      ]
     },
     "execution_count": 23,
     "metadata": {},
     "output_type": "execute_result"
    }
   ],
   "source": [
    "data[\"isFlaggedFraud\"].value_counts()"
   ]
  },
  {
   "cell_type": "code",
   "execution_count": 24,
   "metadata": {},
   "outputs": [
    {
     "data": {
      "text/plain": [
       "CASH_OUT    350876\n",
       "PAYMENT     337961\n",
       "CASH_IN     220737\n",
       "TRANSFER     83854\n",
       "DEBIT         6572\n",
       "Name: type, dtype: int64"
      ]
     },
     "execution_count": 24,
     "metadata": {},
     "output_type": "execute_result"
    }
   ],
   "source": [
    "data[\"type\"].value_counts()"
   ]
  },
  {
   "cell_type": "code",
   "execution_count": 25,
   "metadata": {},
   "outputs": [
    {
     "data": {
      "text/html": [
       "<div>\n",
       "<style scoped>\n",
       "    .dataframe tbody tr th:only-of-type {\n",
       "        vertical-align: middle;\n",
       "    }\n",
       "\n",
       "    .dataframe tbody tr th {\n",
       "        vertical-align: top;\n",
       "    }\n",
       "\n",
       "    .dataframe thead th {\n",
       "        text-align: right;\n",
       "    }\n",
       "</style>\n",
       "<table border=\"1\" class=\"dataframe\">\n",
       "  <thead>\n",
       "    <tr style=\"text-align: right;\">\n",
       "      <th></th>\n",
       "      <th>step</th>\n",
       "      <th>amount</th>\n",
       "      <th>oldbalanceOrg</th>\n",
       "      <th>newbalanceOrig</th>\n",
       "      <th>oldbalanceDest</th>\n",
       "      <th>newbalanceDest</th>\n",
       "      <th>isFraud</th>\n",
       "      <th>isFlaggedFraud</th>\n",
       "    </tr>\n",
       "  </thead>\n",
       "  <tbody>\n",
       "    <tr>\n",
       "      <th>step</th>\n",
       "      <td>1.000000</td>\n",
       "      <td>0.022152</td>\n",
       "      <td>-0.010426</td>\n",
       "      <td>-0.010768</td>\n",
       "      <td>0.026199</td>\n",
       "      <td>0.024653</td>\n",
       "      <td>0.032884</td>\n",
       "      <td>0.002180</td>\n",
       "    </tr>\n",
       "    <tr>\n",
       "      <th>amount</th>\n",
       "      <td>0.022152</td>\n",
       "      <td>1.000000</td>\n",
       "      <td>-0.002622</td>\n",
       "      <td>-0.007568</td>\n",
       "      <td>0.305381</td>\n",
       "      <td>0.472149</td>\n",
       "      <td>0.071674</td>\n",
       "      <td>0.005490</td>\n",
       "    </tr>\n",
       "    <tr>\n",
       "      <th>oldbalanceOrg</th>\n",
       "      <td>-0.010426</td>\n",
       "      <td>-0.002622</td>\n",
       "      <td>1.000000</td>\n",
       "      <td>0.998807</td>\n",
       "      <td>0.067611</td>\n",
       "      <td>0.043007</td>\n",
       "      <td>0.009904</td>\n",
       "      <td>0.000952</td>\n",
       "    </tr>\n",
       "    <tr>\n",
       "      <th>newbalanceOrig</th>\n",
       "      <td>-0.010768</td>\n",
       "      <td>-0.007568</td>\n",
       "      <td>0.998807</td>\n",
       "      <td>1.000000</td>\n",
       "      <td>0.069179</td>\n",
       "      <td>0.042784</td>\n",
       "      <td>-0.007904</td>\n",
       "      <td>0.000933</td>\n",
       "    </tr>\n",
       "    <tr>\n",
       "      <th>oldbalanceDest</th>\n",
       "      <td>0.026199</td>\n",
       "      <td>0.305381</td>\n",
       "      <td>0.067611</td>\n",
       "      <td>0.069179</td>\n",
       "      <td>1.000000</td>\n",
       "      <td>0.976190</td>\n",
       "      <td>-0.006897</td>\n",
       "      <td>-0.000325</td>\n",
       "    </tr>\n",
       "    <tr>\n",
       "      <th>newbalanceDest</th>\n",
       "      <td>0.024653</td>\n",
       "      <td>0.472149</td>\n",
       "      <td>0.043007</td>\n",
       "      <td>0.042784</td>\n",
       "      <td>0.976190</td>\n",
       "      <td>1.000000</td>\n",
       "      <td>-0.000392</td>\n",
       "      <td>-0.000333</td>\n",
       "    </tr>\n",
       "    <tr>\n",
       "      <th>isFraud</th>\n",
       "      <td>0.032884</td>\n",
       "      <td>0.071674</td>\n",
       "      <td>0.009904</td>\n",
       "      <td>-0.007904</td>\n",
       "      <td>-0.006897</td>\n",
       "      <td>-0.000392</td>\n",
       "      <td>1.000000</td>\n",
       "      <td>0.027300</td>\n",
       "    </tr>\n",
       "    <tr>\n",
       "      <th>isFlaggedFraud</th>\n",
       "      <td>0.002180</td>\n",
       "      <td>0.005490</td>\n",
       "      <td>0.000952</td>\n",
       "      <td>0.000933</td>\n",
       "      <td>-0.000325</td>\n",
       "      <td>-0.000333</td>\n",
       "      <td>0.027300</td>\n",
       "      <td>1.000000</td>\n",
       "    </tr>\n",
       "  </tbody>\n",
       "</table>\n",
       "</div>"
      ],
      "text/plain": [
       "                    step    amount  oldbalanceOrg  newbalanceOrig  \\\n",
       "step            1.000000  0.022152      -0.010426       -0.010768   \n",
       "amount          0.022152  1.000000      -0.002622       -0.007568   \n",
       "oldbalanceOrg  -0.010426 -0.002622       1.000000        0.998807   \n",
       "newbalanceOrig -0.010768 -0.007568       0.998807        1.000000   \n",
       "oldbalanceDest  0.026199  0.305381       0.067611        0.069179   \n",
       "newbalanceDest  0.024653  0.472149       0.043007        0.042784   \n",
       "isFraud         0.032884  0.071674       0.009904       -0.007904   \n",
       "isFlaggedFraud  0.002180  0.005490       0.000952        0.000933   \n",
       "\n",
       "                oldbalanceDest  newbalanceDest   isFraud  isFlaggedFraud  \n",
       "step                  0.026199        0.024653  0.032884        0.002180  \n",
       "amount                0.305381        0.472149  0.071674        0.005490  \n",
       "oldbalanceOrg         0.067611        0.043007  0.009904        0.000952  \n",
       "newbalanceOrig        0.069179        0.042784 -0.007904        0.000933  \n",
       "oldbalanceDest        1.000000        0.976190 -0.006897       -0.000325  \n",
       "newbalanceDest        0.976190        1.000000 -0.000392       -0.000333  \n",
       "isFraud              -0.006897       -0.000392  1.000000        0.027300  \n",
       "isFlaggedFraud       -0.000325       -0.000333  0.027300        1.000000  "
      ]
     },
     "execution_count": 25,
     "metadata": {},
     "output_type": "execute_result"
    }
   ],
   "source": [
    "data.corr()\n",
    "\n",
    "## None of the columns appear to be highly correlated"
   ]
  },
  {
   "cell_type": "markdown",
   "metadata": {},
   "source": [
    "### What is the distribution of the outcome? "
   ]
  },
  {
   "cell_type": "code",
   "execution_count": 26,
   "metadata": {},
   "outputs": [
    {
     "data": {
      "text/plain": [
       "0    998660\n",
       "1      1340\n",
       "Name: isFraud, dtype: int64"
      ]
     },
     "execution_count": 26,
     "metadata": {},
     "output_type": "execute_result"
    }
   ],
   "source": [
    "# Your response here\n",
    "\n",
    "## Briging the value counts for the column again. I'm thinking that with this result, considering it's the\n",
    "## imbalance labs, we should do balance them out before proceeding.\n",
    "\n",
    "data[\"isFraud\"].value_counts()"
   ]
  },
  {
   "cell_type": "code",
   "execution_count": 27,
   "metadata": {},
   "outputs": [
    {
     "data": {
      "image/png": "[encoded data removed]",
      "text/plain": [
       "<Figure size 640x480 with 1 Axes>"
      ]
     },
     "metadata": {},
     "output_type": "display_data"
    }
   ],
   "source": [
    "data[\"isFraud\"].value_counts().plot(kind=\"bar\")\n",
    "plt.show()\n",
    "\n",
    "## Quite unbalanced"
   ]
  },
  {
   "cell_type": "markdown",
   "metadata": {},
   "source": [
    "### Clean the dataset. How are you going to integrate the time variable? Do you think the step (integer) coding in which it is given is appropriate?"
   ]
  },
  {
   "cell_type": "code",
   "execution_count": 28,
   "metadata": {},
   "outputs": [
    {
     "data": {
      "text/html": [
       "<div>\n",
       "<style scoped>\n",
       "    .dataframe tbody tr th:only-of-type {\n",
       "        vertical-align: middle;\n",
       "    }\n",
       "\n",
       "    .dataframe tbody tr th {\n",
       "        vertical-align: top;\n",
       "    }\n",
       "\n",
       "    .dataframe thead th {\n",
       "        text-align: right;\n",
       "    }\n",
       "</style>\n",
       "<table border=\"1\" class=\"dataframe\">\n",
       "  <thead>\n",
       "    <tr style=\"text-align: right;\">\n",
       "      <th></th>\n",
       "      <th>step</th>\n",
       "      <th>type</th>\n",
       "      <th>amount</th>\n",
       "      <th>oldbalanceOrg</th>\n",
       "      <th>newbalanceOrig</th>\n",
       "      <th>oldbalanceDest</th>\n",
       "      <th>newbalanceDest</th>\n",
       "      <th>isFraud</th>\n",
       "      <th>isFlaggedFraud</th>\n",
       "    </tr>\n",
       "  </thead>\n",
       "  <tbody>\n",
       "    <tr>\n",
       "      <th>3971530</th>\n",
       "      <td>297</td>\n",
       "      <td>PAYMENT</td>\n",
       "      <td>825.54</td>\n",
       "      <td>0.00</td>\n",
       "      <td>0.00</td>\n",
       "      <td>0.00</td>\n",
       "      <td>0.00</td>\n",
       "      <td>0</td>\n",
       "      <td>0</td>\n",
       "    </tr>\n",
       "    <tr>\n",
       "      <th>1371594</th>\n",
       "      <td>138</td>\n",
       "      <td>PAYMENT</td>\n",
       "      <td>14862.89</td>\n",
       "      <td>61650.00</td>\n",
       "      <td>46787.11</td>\n",
       "      <td>0.00</td>\n",
       "      <td>0.00</td>\n",
       "      <td>0</td>\n",
       "      <td>0</td>\n",
       "    </tr>\n",
       "    <tr>\n",
       "      <th>118535</th>\n",
       "      <td>11</td>\n",
       "      <td>CASH_OUT</td>\n",
       "      <td>53321.81</td>\n",
       "      <td>0.00</td>\n",
       "      <td>0.00</td>\n",
       "      <td>2042322.34</td>\n",
       "      <td>2665856.06</td>\n",
       "      <td>0</td>\n",
       "      <td>0</td>\n",
       "    </tr>\n",
       "    <tr>\n",
       "      <th>5193766</th>\n",
       "      <td>369</td>\n",
       "      <td>PAYMENT</td>\n",
       "      <td>11216.40</td>\n",
       "      <td>214929.59</td>\n",
       "      <td>203713.19</td>\n",
       "      <td>0.00</td>\n",
       "      <td>0.00</td>\n",
       "      <td>0</td>\n",
       "      <td>0</td>\n",
       "    </tr>\n",
       "    <tr>\n",
       "      <th>5140264</th>\n",
       "      <td>356</td>\n",
       "      <td>CASH_OUT</td>\n",
       "      <td>117.05</td>\n",
       "      <td>38428.86</td>\n",
       "      <td>38311.81</td>\n",
       "      <td>1490943.54</td>\n",
       "      <td>1491060.59</td>\n",
       "      <td>0</td>\n",
       "      <td>0</td>\n",
       "    </tr>\n",
       "  </tbody>\n",
       "</table>\n",
       "</div>"
      ],
      "text/plain": [
       "         step      type    amount  oldbalanceOrg  newbalanceOrig  \\\n",
       "3971530   297   PAYMENT    825.54           0.00            0.00   \n",
       "1371594   138   PAYMENT  14862.89       61650.00        46787.11   \n",
       "118535     11  CASH_OUT  53321.81           0.00            0.00   \n",
       "5193766   369   PAYMENT  11216.40      214929.59       203713.19   \n",
       "5140264   356  CASH_OUT    117.05       38428.86        38311.81   \n",
       "\n",
       "         oldbalanceDest  newbalanceDest  isFraud  isFlaggedFraud  \n",
       "3971530            0.00            0.00        0               0  \n",
       "1371594            0.00            0.00        0               0  \n",
       "118535       2042322.34      2665856.06        0               0  \n",
       "5193766            0.00            0.00        0               0  \n",
       "5140264      1490943.54      1491060.59        0               0  "
      ]
     },
     "execution_count": 28,
     "metadata": {},
     "output_type": "execute_result"
    }
   ],
   "source": [
    "# Your code here\n",
    "\n",
    "## I don't understand the question about the time variable, but I'm removing the name columns as they appear to not add any value. The other\n",
    "## string column, \"Type\" will not be dropped as it seems relevant to the understanding of the data. I'll create\n",
    "## dummies for it.\n",
    "\n",
    "data.drop(columns = ([\"nameOrig\", \"nameDest\"]), inplace = True)\n",
    "data.head()"
   ]
  },
  {
   "cell_type": "code",
   "execution_count": 31,
   "metadata": {},
   "outputs": [
    {
     "data": {
      "text/html": [
       "<div>\n",
       "<style scoped>\n",
       "    .dataframe tbody tr th:only-of-type {\n",
       "        vertical-align: middle;\n",
       "    }\n",
       "\n",
       "    .dataframe tbody tr th {\n",
       "        vertical-align: top;\n",
       "    }\n",
       "\n",
       "    .dataframe thead th {\n",
       "        text-align: right;\n",
       "    }\n",
       "</style>\n",
       "<table border=\"1\" class=\"dataframe\">\n",
       "  <thead>\n",
       "    <tr style=\"text-align: right;\">\n",
       "      <th></th>\n",
       "      <th>step</th>\n",
       "      <th>type</th>\n",
       "      <th>amount</th>\n",
       "      <th>oldbalanceOrg</th>\n",
       "      <th>newbalanceOrig</th>\n",
       "      <th>oldbalanceDest</th>\n",
       "      <th>newbalanceDest</th>\n",
       "      <th>isFraud</th>\n",
       "      <th>isFlaggedFraud</th>\n",
       "      <th>type_CASH_IN</th>\n",
       "      <th>type_CASH_OUT</th>\n",
       "      <th>type_DEBIT</th>\n",
       "      <th>type_PAYMENT</th>\n",
       "      <th>type_TRANSFER</th>\n",
       "    </tr>\n",
       "  </thead>\n",
       "  <tbody>\n",
       "    <tr>\n",
       "      <th>3971530</th>\n",
       "      <td>297</td>\n",
       "      <td>PAYMENT</td>\n",
       "      <td>825.54</td>\n",
       "      <td>0.00</td>\n",
       "      <td>0.00</td>\n",
       "      <td>0.00</td>\n",
       "      <td>0.00</td>\n",
       "      <td>0</td>\n",
       "      <td>0</td>\n",
       "      <td>0</td>\n",
       "      <td>0</td>\n",
       "      <td>0</td>\n",
       "      <td>1</td>\n",
       "      <td>0</td>\n",
       "    </tr>\n",
       "    <tr>\n",
       "      <th>1371594</th>\n",
       "      <td>138</td>\n",
       "      <td>PAYMENT</td>\n",
       "      <td>14862.89</td>\n",
       "      <td>61650.00</td>\n",
       "      <td>46787.11</td>\n",
       "      <td>0.00</td>\n",
       "      <td>0.00</td>\n",
       "      <td>0</td>\n",
       "      <td>0</td>\n",
       "      <td>0</td>\n",
       "      <td>0</td>\n",
       "      <td>0</td>\n",
       "      <td>1</td>\n",
       "      <td>0</td>\n",
       "    </tr>\n",
       "    <tr>\n",
       "      <th>118535</th>\n",
       "      <td>11</td>\n",
       "      <td>CASH_OUT</td>\n",
       "      <td>53321.81</td>\n",
       "      <td>0.00</td>\n",
       "      <td>0.00</td>\n",
       "      <td>2042322.34</td>\n",
       "      <td>2665856.06</td>\n",
       "      <td>0</td>\n",
       "      <td>0</td>\n",
       "      <td>0</td>\n",
       "      <td>1</td>\n",
       "      <td>0</td>\n",
       "      <td>0</td>\n",
       "      <td>0</td>\n",
       "    </tr>\n",
       "    <tr>\n",
       "      <th>5193766</th>\n",
       "      <td>369</td>\n",
       "      <td>PAYMENT</td>\n",
       "      <td>11216.40</td>\n",
       "      <td>214929.59</td>\n",
       "      <td>203713.19</td>\n",
       "      <td>0.00</td>\n",
       "      <td>0.00</td>\n",
       "      <td>0</td>\n",
       "      <td>0</td>\n",
       "      <td>0</td>\n",
       "      <td>0</td>\n",
       "      <td>0</td>\n",
       "      <td>1</td>\n",
       "      <td>0</td>\n",
       "    </tr>\n",
       "    <tr>\n",
       "      <th>5140264</th>\n",
       "      <td>356</td>\n",
       "      <td>CASH_OUT</td>\n",
       "      <td>117.05</td>\n",
       "      <td>38428.86</td>\n",
       "      <td>38311.81</td>\n",
       "      <td>1490943.54</td>\n",
       "      <td>1491060.59</td>\n",
       "      <td>0</td>\n",
       "      <td>0</td>\n",
       "      <td>0</td>\n",
       "      <td>1</td>\n",
       "      <td>0</td>\n",
       "      <td>0</td>\n",
       "      <td>0</td>\n",
       "    </tr>\n",
       "  </tbody>\n",
       "</table>\n",
       "</div>"
      ],
      "text/plain": [
       "         step      type    amount  oldbalanceOrg  newbalanceOrig  \\\n",
       "3971530   297   PAYMENT    825.54           0.00            0.00   \n",
       "1371594   138   PAYMENT  14862.89       61650.00        46787.11   \n",
       "118535     11  CASH_OUT  53321.81           0.00            0.00   \n",
       "5193766   369   PAYMENT  11216.40      214929.59       203713.19   \n",
       "5140264   356  CASH_OUT    117.05       38428.86        38311.81   \n",
       "\n",
       "         oldbalanceDest  newbalanceDest  isFraud  isFlaggedFraud  \\\n",
       "3971530            0.00            0.00        0               0   \n",
       "1371594            0.00            0.00        0               0   \n",
       "118535       2042322.34      2665856.06        0               0   \n",
       "5193766            0.00            0.00        0               0   \n",
       "5140264      1490943.54      1491060.59        0               0   \n",
       "\n",
       "         type_CASH_IN  type_CASH_OUT  type_DEBIT  type_PAYMENT  type_TRANSFER  \n",
       "3971530             0              0           0             1              0  \n",
       "1371594             0              0           0             1              0  \n",
       "118535              0              1           0             0              0  \n",
       "5193766             0              0           0             1              0  \n",
       "5140264             0              1           0             0              0  "
      ]
     },
     "execution_count": 31,
     "metadata": {},
     "output_type": "execute_result"
    }
   ],
   "source": [
    "dummies = pd.get_dummies(data['type'], prefix = \"type\")\n",
    "data = pd.concat([data, dummies], axis=1)\n",
    "data.head()"
   ]
  },
  {
   "cell_type": "code",
   "execution_count": 34,
   "metadata": {},
   "outputs": [
    {
     "data": {
      "text/html": [
       "<div>\n",
       "<style scoped>\n",
       "    .dataframe tbody tr th:only-of-type {\n",
       "        vertical-align: middle;\n",
       "    }\n",
       "\n",
       "    .dataframe tbody tr th {\n",
       "        vertical-align: top;\n",
       "    }\n",
       "\n",
       "    .dataframe thead th {\n",
       "        text-align: right;\n",
       "    }\n",
       "</style>\n",
       "<table border=\"1\" class=\"dataframe\">\n",
       "  <thead>\n",
       "    <tr style=\"text-align: right;\">\n",
       "      <th></th>\n",
       "      <th>step</th>\n",
       "      <th>amount</th>\n",
       "      <th>oldbalanceOrg</th>\n",
       "      <th>newbalanceOrig</th>\n",
       "      <th>oldbalanceDest</th>\n",
       "      <th>newbalanceDest</th>\n",
       "      <th>isFraud</th>\n",
       "      <th>isFlaggedFraud</th>\n",
       "      <th>type_CASH_IN</th>\n",
       "      <th>type_CASH_OUT</th>\n",
       "      <th>type_DEBIT</th>\n",
       "      <th>type_PAYMENT</th>\n",
       "      <th>type_TRANSFER</th>\n",
       "    </tr>\n",
       "  </thead>\n",
       "  <tbody>\n",
       "    <tr>\n",
       "      <th>3971530</th>\n",
       "      <td>297</td>\n",
       "      <td>825.54</td>\n",
       "      <td>0.00</td>\n",
       "      <td>0.00</td>\n",
       "      <td>0.00</td>\n",
       "      <td>0.00</td>\n",
       "      <td>0</td>\n",
       "      <td>0</td>\n",
       "      <td>0</td>\n",
       "      <td>0</td>\n",
       "      <td>0</td>\n",
       "      <td>1</td>\n",
       "      <td>0</td>\n",
       "    </tr>\n",
       "    <tr>\n",
       "      <th>1371594</th>\n",
       "      <td>138</td>\n",
       "      <td>14862.89</td>\n",
       "      <td>61650.00</td>\n",
       "      <td>46787.11</td>\n",
       "      <td>0.00</td>\n",
       "      <td>0.00</td>\n",
       "      <td>0</td>\n",
       "      <td>0</td>\n",
       "      <td>0</td>\n",
       "      <td>0</td>\n",
       "      <td>0</td>\n",
       "      <td>1</td>\n",
       "      <td>0</td>\n",
       "    </tr>\n",
       "    <tr>\n",
       "      <th>118535</th>\n",
       "      <td>11</td>\n",
       "      <td>53321.81</td>\n",
       "      <td>0.00</td>\n",
       "      <td>0.00</td>\n",
       "      <td>2042322.34</td>\n",
       "      <td>2665856.06</td>\n",
       "      <td>0</td>\n",
       "      <td>0</td>\n",
       "      <td>0</td>\n",
       "      <td>1</td>\n",
       "      <td>0</td>\n",
       "      <td>0</td>\n",
       "      <td>0</td>\n",
       "    </tr>\n",
       "    <tr>\n",
       "      <th>5193766</th>\n",
       "      <td>369</td>\n",
       "      <td>11216.40</td>\n",
       "      <td>214929.59</td>\n",
       "      <td>203713.19</td>\n",
       "      <td>0.00</td>\n",
       "      <td>0.00</td>\n",
       "      <td>0</td>\n",
       "      <td>0</td>\n",
       "      <td>0</td>\n",
       "      <td>0</td>\n",
       "      <td>0</td>\n",
       "      <td>1</td>\n",
       "      <td>0</td>\n",
       "    </tr>\n",
       "    <tr>\n",
       "      <th>5140264</th>\n",
       "      <td>356</td>\n",
       "      <td>117.05</td>\n",
       "      <td>38428.86</td>\n",
       "      <td>38311.81</td>\n",
       "      <td>1490943.54</td>\n",
       "      <td>1491060.59</td>\n",
       "      <td>0</td>\n",
       "      <td>0</td>\n",
       "      <td>0</td>\n",
       "      <td>1</td>\n",
       "      <td>0</td>\n",
       "      <td>0</td>\n",
       "      <td>0</td>\n",
       "    </tr>\n",
       "  </tbody>\n",
       "</table>\n",
       "</div>"
      ],
      "text/plain": [
       "         step    amount  oldbalanceOrg  newbalanceOrig  oldbalanceDest  \\\n",
       "3971530   297    825.54           0.00            0.00            0.00   \n",
       "1371594   138  14862.89       61650.00        46787.11            0.00   \n",
       "118535     11  53321.81           0.00            0.00      2042322.34   \n",
       "5193766   369  11216.40      214929.59       203713.19            0.00   \n",
       "5140264   356    117.05       38428.86        38311.81      1490943.54   \n",
       "\n",
       "         newbalanceDest  isFraud  isFlaggedFraud  type_CASH_IN  type_CASH_OUT  \\\n",
       "3971530            0.00        0               0             0              0   \n",
       "1371594            0.00        0               0             0              0   \n",
       "118535       2665856.06        0               0             0              1   \n",
       "5193766            0.00        0               0             0              0   \n",
       "5140264      1491060.59        0               0             0              1   \n",
       "\n",
       "         type_DEBIT  type_PAYMENT  type_TRANSFER  \n",
       "3971530           0             1              0  \n",
       "1371594           0             1              0  \n",
       "118535            0             0              0  \n",
       "5193766           0             1              0  \n",
       "5140264           0             0              0  "
      ]
     },
     "execution_count": 34,
     "metadata": {},
     "output_type": "execute_result"
    }
   ],
   "source": [
    "#data.drop([\"type\"], axis = 1, inplace = True)\n",
    "data.head()"
   ]
  },
  {
   "cell_type": "code",
   "execution_count": 38,
   "metadata": {},
   "outputs": [
    {
     "name": "stdout",
     "output_type": "stream",
     "text": [
      "Train accuracy score:  0.9981973333333334\n",
      "Test accuracy score:  0.99824\n"
     ]
    }
   ],
   "source": [
    "## I'll create a baseline model with data like this, and then do the balancing and run the other models\n",
    "## requested in the cells below.\n",
    "\n",
    "X = data.drop(columns = [\"isFraud\"])\n",
    "y = data[\"isFraud\"]\n",
    "\n",
    "X_train, X_test, y_train, y_test = train_test_split(X,y,random_state=0)\n",
    "\n",
    "log_reg = LogisticRegression(max_iter = 1000)\n",
    "log_reg.fit(X_train, y_train)\n",
    "print(\"Train accuracy score: \", log_reg.score(X_train, y_train))\n",
    "print(\"Test accuracy score: \", log_reg.score(X_test, y_test))\n",
    "\n",
    "## okay I think they are not as good as they seem due to the data being so unbalanced. "
   ]
  },
  {
   "cell_type": "code",
   "execution_count": 39,
   "metadata": {},
   "outputs": [
    {
     "data": {
      "text/plain": [
       "array([[249419,    257],\n",
       "       [   183,    141]])"
      ]
     },
     "execution_count": 39,
     "metadata": {},
     "output_type": "execute_result"
    }
   ],
   "source": [
    "from sklearn.metrics import confusion_matrix\n",
    "\n",
    "pred = log_reg.predict(X_test)\n",
    "confusion_matrix(y_test, pred)\n",
    "\n",
    "## A lot of false negatives considering the actual number of negatives, will proceed with the balancing"
   ]
  },
  {
   "cell_type": "code",
   "execution_count": 41,
   "metadata": {},
   "outputs": [
    {
     "name": "stdout",
     "output_type": "stream",
     "text": [
      "(748984, 13)\n",
      "(1016, 13)\n"
     ]
    }
   ],
   "source": [
    "## Oversampling of the data\n",
    "\n",
    "train = pd.concat([X_train,y_train], axis = 1)\n",
    "no_fraud = train[train[\"isFraud\"]==0]\n",
    "yes_fraud = train[train[\"isFraud\"]==1]\n",
    "\n",
    "print(no_fraud.shape)\n",
    "print(yes_fraud.shape)"
   ]
  },
  {
   "cell_type": "code",
   "execution_count": 42,
   "metadata": {},
   "outputs": [
    {
     "name": "stdout",
     "output_type": "stream",
     "text": [
      "(748984, 13)\n",
      "(748984, 13)\n"
     ]
    }
   ],
   "source": [
    "## Oversampling in the minority\n",
    "\n",
    "from sklearn.utils import resample\n",
    "\n",
    "yes_fraud_oversampled = resample(yes_fraud, ## -- > oversample from here\n",
    "                                   replace = True, ## -- > we need replacement since we don't have enough datapoints. This will always be used for oversampling\n",
    "                                   n_samples = len(no_fraud), ## --> matching the lenghts/nº of observations for both yes/no diabetes\n",
    "                                   random_state=0) \n",
    "\n",
    "print(no_fraud.shape)\n",
    "print(yes_fraud_oversampled.shape)"
   ]
  },
  {
   "cell_type": "code",
   "execution_count": 43,
   "metadata": {},
   "outputs": [
    {
     "name": "stdout",
     "output_type": "stream",
     "text": [
      "(1497968, 13)\n"
     ]
    },
    {
     "data": {
      "text/html": [
       "<div>\n",
       "<style scoped>\n",
       "    .dataframe tbody tr th:only-of-type {\n",
       "        vertical-align: middle;\n",
       "    }\n",
       "\n",
       "    .dataframe tbody tr th {\n",
       "        vertical-align: top;\n",
       "    }\n",
       "\n",
       "    .dataframe thead th {\n",
       "        text-align: right;\n",
       "    }\n",
       "</style>\n",
       "<table border=\"1\" class=\"dataframe\">\n",
       "  <thead>\n",
       "    <tr style=\"text-align: right;\">\n",
       "      <th></th>\n",
       "      <th>step</th>\n",
       "      <th>amount</th>\n",
       "      <th>oldbalanceOrg</th>\n",
       "      <th>newbalanceOrig</th>\n",
       "      <th>oldbalanceDest</th>\n",
       "      <th>newbalanceDest</th>\n",
       "      <th>isFlaggedFraud</th>\n",
       "      <th>type_CASH_IN</th>\n",
       "      <th>type_CASH_OUT</th>\n",
       "      <th>type_DEBIT</th>\n",
       "      <th>type_PAYMENT</th>\n",
       "      <th>type_TRANSFER</th>\n",
       "      <th>isFraud</th>\n",
       "    </tr>\n",
       "  </thead>\n",
       "  <tbody>\n",
       "    <tr>\n",
       "      <th>6258077</th>\n",
       "      <td>599</td>\n",
       "      <td>3118.07</td>\n",
       "      <td>691532.00</td>\n",
       "      <td>688413.93</td>\n",
       "      <td>0.00</td>\n",
       "      <td>0.00</td>\n",
       "      <td>0</td>\n",
       "      <td>0</td>\n",
       "      <td>0</td>\n",
       "      <td>0</td>\n",
       "      <td>1</td>\n",
       "      <td>0</td>\n",
       "      <td>0</td>\n",
       "    </tr>\n",
       "    <tr>\n",
       "      <th>408921</th>\n",
       "      <td>18</td>\n",
       "      <td>88732.48</td>\n",
       "      <td>108.00</td>\n",
       "      <td>88840.48</td>\n",
       "      <td>272817.72</td>\n",
       "      <td>184085.24</td>\n",
       "      <td>0</td>\n",
       "      <td>1</td>\n",
       "      <td>0</td>\n",
       "      <td>0</td>\n",
       "      <td>0</td>\n",
       "      <td>0</td>\n",
       "      <td>0</td>\n",
       "    </tr>\n",
       "    <tr>\n",
       "      <th>6300210</th>\n",
       "      <td>681</td>\n",
       "      <td>454.83</td>\n",
       "      <td>122.00</td>\n",
       "      <td>0.00</td>\n",
       "      <td>0.00</td>\n",
       "      <td>0.00</td>\n",
       "      <td>0</td>\n",
       "      <td>0</td>\n",
       "      <td>0</td>\n",
       "      <td>0</td>\n",
       "      <td>1</td>\n",
       "      <td>0</td>\n",
       "      <td>0</td>\n",
       "    </tr>\n",
       "    <tr>\n",
       "      <th>5400141</th>\n",
       "      <td>377</td>\n",
       "      <td>14467.89</td>\n",
       "      <td>336004.27</td>\n",
       "      <td>321536.38</td>\n",
       "      <td>0.00</td>\n",
       "      <td>0.00</td>\n",
       "      <td>0</td>\n",
       "      <td>0</td>\n",
       "      <td>0</td>\n",
       "      <td>0</td>\n",
       "      <td>1</td>\n",
       "      <td>0</td>\n",
       "      <td>0</td>\n",
       "    </tr>\n",
       "    <tr>\n",
       "      <th>2048181</th>\n",
       "      <td>181</td>\n",
       "      <td>487887.45</td>\n",
       "      <td>0.00</td>\n",
       "      <td>0.00</td>\n",
       "      <td>563517.54</td>\n",
       "      <td>1051404.99</td>\n",
       "      <td>0</td>\n",
       "      <td>0</td>\n",
       "      <td>0</td>\n",
       "      <td>0</td>\n",
       "      <td>0</td>\n",
       "      <td>1</td>\n",
       "      <td>0</td>\n",
       "    </tr>\n",
       "  </tbody>\n",
       "</table>\n",
       "</div>"
      ],
      "text/plain": [
       "         step     amount  oldbalanceOrg  newbalanceOrig  oldbalanceDest  \\\n",
       "6258077   599    3118.07      691532.00       688413.93            0.00   \n",
       "408921     18   88732.48         108.00        88840.48       272817.72   \n",
       "6300210   681     454.83         122.00            0.00            0.00   \n",
       "5400141   377   14467.89      336004.27       321536.38            0.00   \n",
       "2048181   181  487887.45           0.00            0.00       563517.54   \n",
       "\n",
       "         newbalanceDest  isFlaggedFraud  type_CASH_IN  type_CASH_OUT  \\\n",
       "6258077            0.00               0             0              0   \n",
       "408921        184085.24               0             1              0   \n",
       "6300210            0.00               0             0              0   \n",
       "5400141            0.00               0             0              0   \n",
       "2048181      1051404.99               0             0              0   \n",
       "\n",
       "         type_DEBIT  type_PAYMENT  type_TRANSFER  isFraud  \n",
       "6258077           0             1              0        0  \n",
       "408921            0             0              0        0  \n",
       "6300210           0             1              0        0  \n",
       "5400141           0             1              0        0  \n",
       "2048181           0             0              1        0  "
      ]
     },
     "execution_count": 43,
     "metadata": {},
     "output_type": "execute_result"
    }
   ],
   "source": [
    "train_over = pd.concat([no_fraud, yes_fraud_oversampled])\n",
    "print(train_over.shape)\n",
    "train_over.head()"
   ]
  },
  {
   "cell_type": "markdown",
   "metadata": {},
   "source": [
    "### Run a logisitc regression classifier and evaluate its accuracy."
   ]
  },
  {
   "cell_type": "code",
   "execution_count": 44,
   "metadata": {},
   "outputs": [
    {
     "name": "stdout",
     "output_type": "stream",
     "text": [
      "Train accuracy score:  0.9252046772694744\n",
      "Test accuracy score:  0.935416\n"
     ]
    }
   ],
   "source": [
    "# Your code here\n",
    "\n",
    "## Data is now balanced, will run a logistic regression\n",
    "\n",
    "X_train_over = train_over.drop(columns = [\"isFraud\"], axis=1)\n",
    "y_train_over = train_over[\"isFraud\"]\n",
    "\n",
    "log_reg = LogisticRegression(max_iter = 1000)\n",
    "log_reg.fit(X_train_over, y_train_over)\n",
    "print(\"Train accuracy score: \", log_reg.score(X_train_over, y_train_over))\n",
    "print(\"Test accuracy score: \", log_reg.score(X_test, y_test))"
   ]
  },
  {
   "cell_type": "code",
   "execution_count": 45,
   "metadata": {},
   "outputs": [
    {
     "data": {
      "text/plain": [
       "array([[233568,  16108],\n",
       "       [    38,    286]])"
      ]
     },
     "execution_count": 45,
     "metadata": {},
     "output_type": "execute_result"
    }
   ],
   "source": [
    "pred = log_reg.predict(X_test)\n",
    "confusion_matrix(y_test, pred)\n",
    "\n",
    "## Although accuracy decreased, there are considerably less false negatives.\n",
    "## From what I understand that is a relevant improvement"
   ]
  },
  {
   "cell_type": "markdown",
   "metadata": {},
   "source": [
    "### Now pick a model of your choice and evaluate its accuracy."
   ]
  },
  {
   "cell_type": "code",
   "execution_count": 49,
   "metadata": {},
   "outputs": [
    {
     "name": "stdout",
     "output_type": "stream",
     "text": [
      "test data accuracy is: 0.991852\n",
      "training data accuracy is: 0.9959631981457547\n"
     ]
    }
   ],
   "source": [
    "# Your code here\n",
    "\n",
    "## Going with Decision Tree\n",
    "from sklearn.tree import DecisionTreeClassifier\n",
    "\n",
    "## Initializing model\n",
    "tree = DecisionTreeClassifier(max_depth=10) ## Max depth means we want to make 10 splits/levels at maximum\n",
    "\n",
    "## Training the model\n",
    "tree.fit(X_train_over,y_train_over)\n",
    "\n",
    "##Score/eveluation\n",
    "\n",
    "print(\"test data accuracy is:\", tree.score(X_test,y_test))\n",
    "print(\"training data accuracy is:\", tree.score(X_train_over,y_train_over))"
   ]
  },
  {
   "cell_type": "code",
   "execution_count": 50,
   "metadata": {},
   "outputs": [
    {
     "data": {
      "text/plain": [
       "array([[247662,   2014],\n",
       "       [    23,    301]])"
      ]
     },
     "execution_count": 50,
     "metadata": {},
     "output_type": "execute_result"
    }
   ],
   "source": [
    "pred = tree.predict(X_test)\n",
    "confusion_matrix(y_test, pred)"
   ]
  },
  {
   "cell_type": "markdown",
   "metadata": {},
   "source": [
    "### Which model worked better and how do you know?"
   ]
  },
  {
   "cell_type": "code",
   "execution_count": 51,
   "metadata": {},
   "outputs": [],
   "source": [
    "# Your response here\n",
    "\n",
    "## I believe the decision tree model after the balancing is the best alternative. The accuracy score is high\n",
    "## and we decreased the numbers of false negatives a lot, which is important considering the fraud/no fraud scenario."
   ]
  },
  {
   "cell_type": "code",
   "execution_count": 52,
   "metadata": {},
   "outputs": [
    {
     "name": "stdout",
     "output_type": "stream",
     "text": [
      "recall 0.8827160493827161\n",
      "              precision    recall  f1-score   support\n",
      "\n",
      "           0       1.00      0.94      0.97    249676\n",
      "           1       0.02      0.88      0.03       324\n",
      "\n",
      "    accuracy                           0.94    250000\n",
      "   macro avg       0.51      0.91      0.50    250000\n",
      "weighted avg       1.00      0.94      0.97    250000\n",
      "\n"
     ]
    }
   ],
   "source": [
    "## Using other metrics for evaluation\n",
    "\n",
    "from sklearn.metrics import classification_report\n",
    "from sklearn.metrics import recall_score\n",
    "\n",
    "## Logistic regression other metrics\n",
    "\n",
    "pred = log_reg.predict(X_test)\n",
    "print(\"recall\", recall_score(y_test, pred))\n",
    "print(classification_report(y_test,pred))"
   ]
  },
  {
   "cell_type": "code",
   "execution_count": 53,
   "metadata": {},
   "outputs": [
    {
     "name": "stdout",
     "output_type": "stream",
     "text": [
      "recall 0.9290123456790124\n",
      "              precision    recall  f1-score   support\n",
      "\n",
      "           0       1.00      0.99      1.00    249676\n",
      "           1       0.13      0.93      0.23       324\n",
      "\n",
      "    accuracy                           0.99    250000\n",
      "   macro avg       0.56      0.96      0.61    250000\n",
      "weighted avg       1.00      0.99      0.99    250000\n",
      "\n"
     ]
    }
   ],
   "source": [
    "## Decision tree other metrics\n",
    "\n",
    "pred = tree.predict(X_test)\n",
    "print(\"recall\", recall_score(y_test, pred))\n",
    "print(classification_report(y_test,pred))"
   ]
  },
  {
   "cell_type": "markdown",
   "metadata": {},
   "source": [
    "### Note: before doing the first commit, make sure you don't include the large csv file, either by adding it to .gitignore, or by deleting it."
   ]
  }
 ],
 "metadata": {
  "kernelspec": {
   "display_name": "Python 3 (ipykernel)",
   "language": "python",
   "name": "python3"
  },
  "language_info": {
   "codemirror_mode": {
    "name": "ipython",
    "version": 3
   },
   "file_extension": ".py",
   "mimetype": "text/x-python",
   "name": "python",
   "nbconvert_exporter": "python",
   "pygments_lexer": "ipython3",
   "version": "3.9.13"
  }
 },
 "nbformat": 4,
 "nbformat_minor": 2
}
