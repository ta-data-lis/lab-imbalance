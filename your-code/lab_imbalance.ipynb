{
 "cells": [
  {
   "cell_type": "markdown",
   "metadata": {},
   "source": [
    "# Inbalanced Classes\n",
    "## In this lab, we are going to explore a case of imbalanced classes. \n",
    "\n",
    "\n",
    "Like we disussed in class, when we have noisy data, if we are not careful, we can end up fitting our model to the noise in the data and not the 'signal'-- the factors that actually determine the outcome. This is called overfitting, and results in good results in training, and in bad results when the model is applied to real data. Similarly, we could have a model that is too simplistic to accurately model the signal. This produces a model that doesnt work well (ever). \n"
   ]
  },
  {
   "cell_type": "markdown",
   "metadata": {},
   "source": [
    "### Note: before doing the first commit, make sure you don't include the large csv file, either by adding it to .gitignore, or by deleting it."
   ]
  },
  {
   "cell_type": "markdown",
   "metadata": {},
   "source": [
    "### First, download the data from: https://www.kaggle.com/datasets/ealaxi/paysim1. Import the dataset and provide some discriptive statistics and plots. What do you think will be the important features in determining the outcome?\n",
    "### Note: don't use the entire dataset, use a sample instead, with n=100000 elements, so your computer doesn't freeze."
   ]
  },
  {
   "cell_type": "code",
   "execution_count": 1,
   "metadata": {},
   "outputs": [],
   "source": [
    "import pandas as pd\n",
    "import numpy as np\n",
    "import imblearn\n",
    "import matplotlib.pyplot as plt\n",
    "\n",
    "from sklearn.linear_model import LogisticRegression\n",
    "from sklearn.preprocessing import StandardScaler\n",
    "from sklearn.model_selection import train_test_split"
   ]
  },
  {
   "cell_type": "code",
   "execution_count": 4,
   "metadata": {},
   "outputs": [
    {
     "data": {
      "text/html": [
       "<div>\n",
       "<style scoped>\n",
       "    .dataframe tbody tr th:only-of-type {\n",
       "        vertical-align: middle;\n",
       "    }\n",
       "\n",
       "    .dataframe tbody tr th {\n",
       "        vertical-align: top;\n",
       "    }\n",
       "\n",
       "    .dataframe thead th {\n",
       "        text-align: right;\n",
       "    }\n",
       "</style>\n",
       "<table border=\"1\" class=\"dataframe\">\n",
       "  <thead>\n",
       "    <tr style=\"text-align: right;\">\n",
       "      <th></th>\n",
       "      <th>step</th>\n",
       "      <th>type</th>\n",
       "      <th>amount</th>\n",
       "      <th>nameOrig</th>\n",
       "      <th>oldbalanceOrg</th>\n",
       "      <th>newbalanceOrig</th>\n",
       "      <th>nameDest</th>\n",
       "      <th>oldbalanceDest</th>\n",
       "      <th>newbalanceDest</th>\n",
       "      <th>isFraud</th>\n",
       "      <th>isFlaggedFraud</th>\n",
       "    </tr>\n",
       "  </thead>\n",
       "  <tbody>\n",
       "    <tr>\n",
       "      <th>736176</th>\n",
       "      <td>38</td>\n",
       "      <td>PAYMENT</td>\n",
       "      <td>7959.38</td>\n",
       "      <td>C2126805508</td>\n",
       "      <td>26952.00</td>\n",
       "      <td>18992.62</td>\n",
       "      <td>M1898089637</td>\n",
       "      <td>0.00</td>\n",
       "      <td>0.00</td>\n",
       "      <td>0</td>\n",
       "      <td>0</td>\n",
       "    </tr>\n",
       "    <tr>\n",
       "      <th>4402373</th>\n",
       "      <td>321</td>\n",
       "      <td>PAYMENT</td>\n",
       "      <td>26463.20</td>\n",
       "      <td>C674711351</td>\n",
       "      <td>0.00</td>\n",
       "      <td>0.00</td>\n",
       "      <td>M1322840643</td>\n",
       "      <td>0.00</td>\n",
       "      <td>0.00</td>\n",
       "      <td>0</td>\n",
       "      <td>0</td>\n",
       "    </tr>\n",
       "    <tr>\n",
       "      <th>1900270</th>\n",
       "      <td>165</td>\n",
       "      <td>CASH_IN</td>\n",
       "      <td>156967.14</td>\n",
       "      <td>C95679624</td>\n",
       "      <td>51743.00</td>\n",
       "      <td>208710.14</td>\n",
       "      <td>C468652831</td>\n",
       "      <td>438548.78</td>\n",
       "      <td>281581.65</td>\n",
       "      <td>0</td>\n",
       "      <td>0</td>\n",
       "    </tr>\n",
       "    <tr>\n",
       "      <th>5401590</th>\n",
       "      <td>377</td>\n",
       "      <td>PAYMENT</td>\n",
       "      <td>35654.03</td>\n",
       "      <td>C781169667</td>\n",
       "      <td>0.00</td>\n",
       "      <td>0.00</td>\n",
       "      <td>M1783548772</td>\n",
       "      <td>0.00</td>\n",
       "      <td>0.00</td>\n",
       "      <td>0</td>\n",
       "      <td>0</td>\n",
       "    </tr>\n",
       "    <tr>\n",
       "      <th>3964088</th>\n",
       "      <td>297</td>\n",
       "      <td>PAYMENT</td>\n",
       "      <td>33506.29</td>\n",
       "      <td>C691264809</td>\n",
       "      <td>62007.00</td>\n",
       "      <td>28500.71</td>\n",
       "      <td>M632076351</td>\n",
       "      <td>0.00</td>\n",
       "      <td>0.00</td>\n",
       "      <td>0</td>\n",
       "      <td>0</td>\n",
       "    </tr>\n",
       "    <tr>\n",
       "      <th>...</th>\n",
       "      <td>...</td>\n",
       "      <td>...</td>\n",
       "      <td>...</td>\n",
       "      <td>...</td>\n",
       "      <td>...</td>\n",
       "      <td>...</td>\n",
       "      <td>...</td>\n",
       "      <td>...</td>\n",
       "      <td>...</td>\n",
       "      <td>...</td>\n",
       "      <td>...</td>\n",
       "    </tr>\n",
       "    <tr>\n",
       "      <th>5785565</th>\n",
       "      <td>400</td>\n",
       "      <td>CASH_OUT</td>\n",
       "      <td>154633.65</td>\n",
       "      <td>C1929566219</td>\n",
       "      <td>0.00</td>\n",
       "      <td>0.00</td>\n",
       "      <td>C1520472655</td>\n",
       "      <td>185745.48</td>\n",
       "      <td>340379.13</td>\n",
       "      <td>0</td>\n",
       "      <td>0</td>\n",
       "    </tr>\n",
       "    <tr>\n",
       "      <th>6127999</th>\n",
       "      <td>542</td>\n",
       "      <td>CASH_OUT</td>\n",
       "      <td>23859.86</td>\n",
       "      <td>C613398830</td>\n",
       "      <td>9482.00</td>\n",
       "      <td>0.00</td>\n",
       "      <td>C143665280</td>\n",
       "      <td>12716259.38</td>\n",
       "      <td>12740119.25</td>\n",
       "      <td>0</td>\n",
       "      <td>0</td>\n",
       "    </tr>\n",
       "    <tr>\n",
       "      <th>1122963</th>\n",
       "      <td>130</td>\n",
       "      <td>CASH_IN</td>\n",
       "      <td>452641.53</td>\n",
       "      <td>C320077420</td>\n",
       "      <td>7865861.33</td>\n",
       "      <td>8318502.86</td>\n",
       "      <td>C303956982</td>\n",
       "      <td>760849.95</td>\n",
       "      <td>308208.42</td>\n",
       "      <td>0</td>\n",
       "      <td>0</td>\n",
       "    </tr>\n",
       "    <tr>\n",
       "      <th>55531</th>\n",
       "      <td>9</td>\n",
       "      <td>CASH_OUT</td>\n",
       "      <td>157537.88</td>\n",
       "      <td>C2098030400</td>\n",
       "      <td>594832.47</td>\n",
       "      <td>437294.59</td>\n",
       "      <td>C222581384</td>\n",
       "      <td>0.00</td>\n",
       "      <td>347710.24</td>\n",
       "      <td>0</td>\n",
       "      <td>0</td>\n",
       "    </tr>\n",
       "    <tr>\n",
       "      <th>5543544</th>\n",
       "      <td>382</td>\n",
       "      <td>CASH_OUT</td>\n",
       "      <td>155881.00</td>\n",
       "      <td>C1298557230</td>\n",
       "      <td>144501.00</td>\n",
       "      <td>0.00</td>\n",
       "      <td>C1972245755</td>\n",
       "      <td>422651.53</td>\n",
       "      <td>578532.53</td>\n",
       "      <td>0</td>\n",
       "      <td>0</td>\n",
       "    </tr>\n",
       "  </tbody>\n",
       "</table>\n",
       "<p>100000 rows × 11 columns</p>\n",
       "</div>"
      ],
      "text/plain": [
       "         step      type     amount     nameOrig  oldbalanceOrg  \\\n",
       "736176     38   PAYMENT    7959.38  C2126805508       26952.00   \n",
       "4402373   321   PAYMENT   26463.20   C674711351           0.00   \n",
       "1900270   165   CASH_IN  156967.14    C95679624       51743.00   \n",
       "5401590   377   PAYMENT   35654.03   C781169667           0.00   \n",
       "3964088   297   PAYMENT   33506.29   C691264809       62007.00   \n",
       "...       ...       ...        ...          ...            ...   \n",
       "5785565   400  CASH_OUT  154633.65  C1929566219           0.00   \n",
       "6127999   542  CASH_OUT   23859.86   C613398830        9482.00   \n",
       "1122963   130   CASH_IN  452641.53   C320077420     7865861.33   \n",
       "55531       9  CASH_OUT  157537.88  C2098030400      594832.47   \n",
       "5543544   382  CASH_OUT  155881.00  C1298557230      144501.00   \n",
       "\n",
       "         newbalanceOrig     nameDest  oldbalanceDest  newbalanceDest  isFraud  \\\n",
       "736176         18992.62  M1898089637            0.00            0.00        0   \n",
       "4402373            0.00  M1322840643            0.00            0.00        0   \n",
       "1900270       208710.14   C468652831       438548.78       281581.65        0   \n",
       "5401590            0.00  M1783548772            0.00            0.00        0   \n",
       "3964088        28500.71   M632076351            0.00            0.00        0   \n",
       "...                 ...          ...             ...             ...      ...   \n",
       "5785565            0.00  C1520472655       185745.48       340379.13        0   \n",
       "6127999            0.00   C143665280     12716259.38     12740119.25        0   \n",
       "1122963      8318502.86   C303956982       760849.95       308208.42        0   \n",
       "55531         437294.59   C222581384            0.00       347710.24        0   \n",
       "5543544            0.00  C1972245755       422651.53       578532.53        0   \n",
       "\n",
       "         isFlaggedFraud  \n",
       "736176                0  \n",
       "4402373               0  \n",
       "1900270               0  \n",
       "5401590               0  \n",
       "3964088               0  \n",
       "...                 ...  \n",
       "5785565               0  \n",
       "6127999               0  \n",
       "1122963               0  \n",
       "55531                 0  \n",
       "5543544               0  \n",
       "\n",
       "[100000 rows x 11 columns]"
      ]
     },
     "execution_count": 4,
     "metadata": {},
     "output_type": "execute_result"
    }
   ],
   "source": [
    "financial_data = pd.read_csv(r\"C:\\Users\\dulce\\Downloads\\archive (1)\\PS_20174392719_1491204439457_log.csv\").sample(n = 100000)\n",
    "financial_data"
   ]
  },
  {
   "cell_type": "code",
   "execution_count": 5,
   "metadata": {},
   "outputs": [
    {
     "name": "stdout",
     "output_type": "stream",
     "text": [
      "                step        amount  oldbalanceOrg  newbalanceOrig  \\\n",
      "count  100000.000000  1.000000e+05   1.000000e+05    1.000000e+05   \n",
      "mean      243.062430  1.843948e+05   8.320349e+05    8.531603e+05   \n",
      "std       142.303386  6.734997e+05   2.883308e+06    2.918311e+06   \n",
      "min         1.000000  1.600000e-01   0.000000e+00    0.000000e+00   \n",
      "25%       155.000000  1.331933e+04   0.000000e+00    0.000000e+00   \n",
      "50%       238.000000  7.506494e+04   1.385339e+04    0.000000e+00   \n",
      "75%       335.000000  2.095494e+05   1.067000e+05    1.445242e+05   \n",
      "max       741.000000  7.117248e+07   3.729746e+07    3.753800e+07   \n",
      "\n",
      "       oldbalanceDest  newbalanceDest        isFraud  isFlaggedFraud  \n",
      "count    1.000000e+05    1.000000e+05  100000.000000        100000.0  \n",
      "mean     1.094580e+06    1.226624e+06       0.001250             0.0  \n",
      "std      3.494292e+06    3.868588e+06       0.035333             0.0  \n",
      "min      0.000000e+00    0.000000e+00       0.000000             0.0  \n",
      "25%      0.000000e+00    0.000000e+00       0.000000             0.0  \n",
      "50%      1.343827e+05    2.160202e+05       0.000000             0.0  \n",
      "75%      9.284622e+05    1.102906e+06       0.000000             0.0  \n",
      "max      2.502615e+08    3.114049e+08       1.000000             0.0  \n"
     ]
    }
   ],
   "source": [
    "print(financial_data.describe())"
   ]
  },
  {
   "cell_type": "code",
   "execution_count": 20,
   "metadata": {},
   "outputs": [
    {
     "data": {
      "text/plain": [
       "Index(['step', 'type', 'amount', 'nameOrig', 'oldbalanceOrg', 'newbalanceOrig',\n",
       "       'nameDest', 'oldbalanceDest', 'newbalanceDest', 'isFraud',\n",
       "       'isFlaggedFraud'],\n",
       "      dtype='object')"
      ]
     },
     "execution_count": 20,
     "metadata": {},
     "output_type": "execute_result"
    }
   ],
   "source": [
    "financial_data.columns"
   ]
  },
  {
   "cell_type": "code",
   "execution_count": 15,
   "metadata": {},
   "outputs": [
    {
     "data": {
      "text/plain": [
       "step                int64\n",
       "type               object\n",
       "amount            float64\n",
       "nameOrig           object\n",
       "oldbalanceOrg     float64\n",
       "newbalanceOrig    float64\n",
       "nameDest           object\n",
       "oldbalanceDest    float64\n",
       "newbalanceDest    float64\n",
       "isFraud             int64\n",
       "isFlaggedFraud      int64\n",
       "dtype: object"
      ]
     },
     "execution_count": 15,
     "metadata": {},
     "output_type": "execute_result"
    }
   ],
   "source": [
    "financial_data.dtypes"
   ]
  },
  {
   "cell_type": "code",
   "execution_count": 19,
   "metadata": {},
   "outputs": [
    {
     "data": {
      "text/plain": [
       "step              0\n",
       "type              0\n",
       "amount            0\n",
       "nameOrig          0\n",
       "oldbalanceOrg     0\n",
       "newbalanceOrig    0\n",
       "nameDest          0\n",
       "oldbalanceDest    0\n",
       "newbalanceDest    0\n",
       "isFraud           0\n",
       "isFlaggedFraud    0\n",
       "dtype: int64"
      ]
     },
     "execution_count": 19,
     "metadata": {},
     "output_type": "execute_result"
    }
   ],
   "source": [
    "missing_values = financial_data.isnull().sum()\n",
    "missing_values"
   ]
  },
  {
   "cell_type": "code",
   "execution_count": 12,
   "metadata": {},
   "outputs": [
    {
     "name": "stderr",
     "output_type": "stream",
     "text": [
      "C:\\Users\\dulce\\AppData\\Local\\Temp\\ipykernel_16748\\862492489.py:3: FutureWarning: The default value of numeric_only in DataFrame.corr is deprecated. In a future version, it will default to False. Select only valid columns or specify the value of numeric_only to silence this warning.\n",
      "  correlation_matrix = financial_data.corr()\n"
     ]
    },
    {
     "data": {
      "image/png": "[encoded data removed]",
      "text/plain": [
       "<Figure size 1000x600 with 2 Axes>"
      ]
     },
     "metadata": {},
     "output_type": "display_data"
    }
   ],
   "source": [
    "# Understanding the Correlatio\n",
    "\n",
    "correlation_matrix = financial_data.corr()\n",
    "plt.figure(figsize=(10, 6))\n",
    "sns.heatmap(correlation_matrix, annot=True, cmap='coolwarm')\n",
    "plt.title('Correlation Matrix')\n",
    "plt.show()"
   ]
  },
  {
   "cell_type": "markdown",
   "metadata": {},
   "source": [
    "### What is the distribution of the outcome? "
   ]
  },
  {
   "cell_type": "code",
   "execution_count": 21,
   "metadata": {},
   "outputs": [
    {
     "data": {
      "image/png": "[encoded data removed]",
      "text/plain": [
       "<Figure size 600x400 with 1 Axes>"
      ]
     },
     "metadata": {},
     "output_type": "display_data"
    }
   ],
   "source": [
    "fraud_distribution = financial_data['isFraud'].value_counts()\n",
    "\n",
    "plt.figure(figsize=(6, 4))\n",
    "sns.barplot(x=fraud_distribution.index, y=fraud_distribution.values)\n",
    "plt.title('Distribution of Fraudulent Transactions')\n",
    "plt.xlabel('isFraud')\n",
    "plt.ylabel('Count')\n",
    "plt.xticks([0, 1], ['Non-Fraudulent (0)', 'Fraudulent (1)'])\n",
    "plt.show()"
   ]
  },
  {
   "cell_type": "markdown",
   "metadata": {},
   "source": [
    "### Clean the dataset. How are you going to integrate the time variable? Do you think the step (integer) coding in which it is given is appropriate?"
   ]
  },
  {
   "cell_type": "code",
   "execution_count": 22,
   "metadata": {},
   "outputs": [],
   "source": [
    "financial_data_cleaned = financial_data.dropna()"
   ]
  },
  {
   "cell_type": "code",
   "execution_count": 23,
   "metadata": {},
   "outputs": [],
   "source": [
    "financial_data_cleaned['timestamp'] = pd.to_datetime(financial_data_cleaned['step'] * 3600, unit='s')\n",
    "\n",
    "financial_data_cleaned['time_since_last_transaction'] = financial_data_cleaned.groupby('nameOrig')['timestamp'].diff().dt.total_seconds().fillna(0)"
   ]
  },
  {
   "cell_type": "code",
   "execution_count": 37,
   "metadata": {},
   "outputs": [],
   "source": [
    "column_name_mapping = {\n",
    "    'step': 'Time_step',\n",
    "    'type': 'Transaction_type',\n",
    "    'amount': 'Transaction_amount',\n",
    "    'nameOrig': 'Sender_account_name',\n",
    "    'oldbalanceOrg': 'Sender_starting_balance',\n",
    "    'newbalanceOrig': 'Sender_ending_balance',\n",
    "    'nameDest': 'Destinatary_account_name',\n",
    "    'oldbalanceDest': 'Destinatary_starting_balance',\n",
    "    'newbalanceDest': 'Destinatary_ending_balance',\n",
    "    'isFraud': 'Fraudulent_transaction',\n",
    "    'isFlaggedFraud': 'Flagged_as_fraud'\n",
    "}\n",
    "\n",
    "financial_data_cleaned.rename(columns=column_name_mapping, inplace=True)"
   ]
  },
  {
   "cell_type": "code",
   "execution_count": 38,
   "metadata": {},
   "outputs": [],
   "source": [
    "financial_data_cleaned.to_csv('cleaned_financial_data.csv', index = False)"
   ]
  },
  {
   "cell_type": "markdown",
   "metadata": {},
   "source": [
    "### Run a logisitc regression classifier and evaluate its accuracy."
   ]
  },
  {
   "cell_type": "code",
   "execution_count": 40,
   "metadata": {},
   "outputs": [
    {
     "name": "stdout",
     "output_type": "stream",
     "text": [
      "Accuracy: 1.00\n",
      "Confusion Matrix:\n",
      "[[19944    33]\n",
      " [    0    23]]\n",
      "\n",
      "Classification Report:\n",
      "              precision    recall  f1-score   support\n",
      "\n",
      "           0       1.00      1.00      1.00     19977\n",
      "           1       0.41      1.00      0.58        23\n",
      "\n",
      "    accuracy                           1.00     20000\n",
      "   macro avg       0.71      1.00      0.79     20000\n",
      "weighted avg       1.00      1.00      1.00     20000\n",
      "\n"
     ]
    }
   ],
   "source": [
    "X = financial_data_cleaned[['Transaction_amount', 'Sender_starting_balance', 'Sender_ending_balance']]\n",
    "y = financial_data_cleaned['Fraudulent_transaction']\n",
    "\n",
    "X_train, X_test, y_train, y_test = train_test_split(X, y, test_size=0.20)\n",
    "\n",
    "model = LogisticRegression()\n",
    "model.fit(X_train, y_train)\n",
    "\n",
    "y_pred = model.predict(X_test)\n",
    "\n",
    "accuracy = accuracy_score(y_test, y_pred)\n",
    "print(f'Accuracy: {accuracy:.2f}')\n",
    "\n",
    "confusion = confusion_matrix(y_test, y_pred)\n",
    "report = classification_report(y_test, y_pred)\n",
    "\n",
    "print('Confusion Matrix:')\n",
    "print(confusion)\n",
    "print('\\nClassification Report:')\n",
    "print(report)"
   ]
  },
  {
   "cell_type": "markdown",
   "metadata": {},
   "source": [
    "### Now pick a model of your choice and evaluate its accuracy."
   ]
  },
  {
   "cell_type": "code",
   "execution_count": 42,
   "metadata": {},
   "outputs": [
    {
     "name": "stdout",
     "output_type": "stream",
     "text": [
      "Accuracy: 1.00\n",
      "Confusion Matrix:\n",
      "[[19981     0]\n",
      " [   17     2]]\n",
      "\n",
      "Classification Report:\n",
      "              precision    recall  f1-score   support\n",
      "\n",
      "           0       1.00      1.00      1.00     19981\n",
      "           1       1.00      0.11      0.19        19\n",
      "\n",
      "    accuracy                           1.00     20000\n",
      "   macro avg       1.00      0.55      0.60     20000\n",
      "weighted avg       1.00      1.00      1.00     20000\n",
      "\n"
     ]
    }
   ],
   "source": [
    "from sklearn.svm import SVC\n",
    "\n",
    "X = financial_data_cleaned[['Transaction_amount', 'Sender_starting_balance', 'Sender_ending_balance']]\n",
    "y = financial_data_cleaned['Fraudulent_transaction']\n",
    "\n",
    "X_train, X_test, y_train, y_test = train_test_split(X, y, test_size=0.20)\n",
    "\n",
    "model = SVC()\n",
    "model.fit(X_train, y_train)\n",
    "\n",
    "y_pred = model.predict(X_test)\n",
    "\n",
    "accuracy = accuracy_score(y_test, y_pred)\n",
    "print(f'Accuracy: {accuracy:.2f}')\n",
    "\n",
    "confusion = confusion_matrix(y_test, y_pred)\n",
    "report = classification_report(y_test, y_pred)\n",
    "\n",
    "print('Confusion Matrix:')\n",
    "print(confusion)\n",
    "print('\\nClassification Report:')\n",
    "print(report)"
   ]
  },
  {
   "cell_type": "code",
   "execution_count": 43,
   "metadata": {},
   "outputs": [
    {
     "name": "stdout",
     "output_type": "stream",
     "text": [
      "Accuracy: 1.00\n",
      "Confusion Matrix:\n",
      "[[19976     2]\n",
      " [   14     8]]\n",
      "\n",
      "Classification Report:\n",
      "              precision    recall  f1-score   support\n",
      "\n",
      "           0       1.00      1.00      1.00     19978\n",
      "           1       0.80      0.36      0.50        22\n",
      "\n",
      "    accuracy                           1.00     20000\n",
      "   macro avg       0.90      0.68      0.75     20000\n",
      "weighted avg       1.00      1.00      1.00     20000\n",
      "\n"
     ]
    }
   ],
   "source": [
    "from sklearn.ensemble import RandomForestClassifier\n",
    "\n",
    "X = financial_data_cleaned[['Transaction_amount', 'Sender_starting_balance', 'Sender_ending_balance']]\n",
    "y = financial_data_cleaned['Fraudulent_transaction']\n",
    "\n",
    "X_train, X_test, y_train, y_test = train_test_split(X, y, test_size=0.20)\n",
    "\n",
    "model = RandomForestClassifier()\n",
    "model.fit(X_train, y_train)\n",
    "\n",
    "y_pred = model.predict(X_test)\n",
    "\n",
    "accuracy = accuracy_score(y_test, y_pred)\n",
    "print(f'Accuracy: {accuracy:.2f}')\n",
    "\n",
    "confusion = confusion_matrix(y_test, y_pred)\n",
    "report = classification_report(y_test, y_pred)\n",
    "\n",
    "print('Confusion Matrix:')\n",
    "print(confusion)\n",
    "print('\\nClassification Report:')\n",
    "print(report)"
   ]
  },
  {
   "cell_type": "markdown",
   "metadata": {},
   "source": [
    "### Which model worked better and how do you know?"
   ]
  },
  {
   "cell_type": "code",
   "execution_count": null,
   "metadata": {},
   "outputs": [],
   "source": [
    "# Seems like the Random Forest classifier performs better with a higher F1-score, precision, \n",
    "# and recall compared to the SVM. "
   ]
  },
  {
   "cell_type": "markdown",
   "metadata": {},
   "source": [
    "### Note: before doing the first commit, make sure you don't include the large csv file, either by adding it to .gitignore, or by deleting it."
   ]
  }
 ],
 "metadata": {
  "kernelspec": {
   "display_name": "Python 3",
   "language": "python",
   "name": "python3"
  },
  "language_info": {
   "codemirror_mode": {
    "name": "ipython",
    "version": 3
   },
   "file_extension": ".py",
   "mimetype": "text/x-python",
   "name": "python",
   "nbconvert_exporter": "python",
   "pygments_lexer": "ipython3",
   "version": "3.10.9"
  }
 },
 "nbformat": 4,
 "nbformat_minor": 2
}
