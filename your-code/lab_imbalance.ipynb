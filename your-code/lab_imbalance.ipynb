{
 "cells": [
  {
   "cell_type": "markdown",
   "metadata": {},
   "source": [
    "# Inbalanced Classes\n",
    "## In this lab, we are going to explore a case of imbalanced classes. \n",
    "\n",
    "\n",
    "Like we disussed in class, when we have noisy data, if we are not careful, we can end up fitting our model to the noise in the data and not the 'signal'-- the factors that actually determine the outcome. This is called overfitting, and results in good results in training, and in bad results when the model is applied to real data. Similarly, we could have a model that is too simplistic to accurately model the signal. This produces a model that doesnt work well (ever). \n"
   ]
  },
  {
   "cell_type": "markdown",
   "metadata": {},
   "source": [
    "### Note: before doing the first commit, make sure you don't include the large csv file, either by adding it to .gitignore, or by deleting it."
   ]
  },
  {
   "cell_type": "markdown",
   "metadata": {},
   "source": [
    "### First, download the data from: https://www.kaggle.com/ntnu-testimon/paysim1. Import the dataset and provide some discriptive statistics and plots. What do you think will be the important features in determining the outcome?\n",
    "### Note: don't use the entire dataset, use a sample instead, with n=100000 elements, so your computer doesn't freeze."
   ]
  },
  {
   "cell_type": "code",
   "execution_count": 1,
   "metadata": {},
   "outputs": [],
   "source": [
    "import matplotlib.pyplot as plt\n",
    "import seaborn as sns\n",
    "import pandas as pd\n",
    "import numpy as np\n",
    "from sklearn.model_selection import train_test_split\n",
    "from sklearn.preprocessing import LabelEncoder\n",
    "from sklearn.linear_model import LogisticRegression\n",
    "import imblearn\n",
    "from imblearn.over_sampling import SMOTE\n",
    "   "
   ]
  },
  {
   "cell_type": "code",
   "execution_count": 2,
   "metadata": {},
   "outputs": [
    {
     "data": {
      "text/html": [
       "<div>\n",
       "<style scoped>\n",
       "    .dataframe tbody tr th:only-of-type {\n",
       "        vertical-align: middle;\n",
       "    }\n",
       "\n",
       "    .dataframe tbody tr th {\n",
       "        vertical-align: top;\n",
       "    }\n",
       "\n",
       "    .dataframe thead th {\n",
       "        text-align: right;\n",
       "    }\n",
       "</style>\n",
       "<table border=\"1\" class=\"dataframe\">\n",
       "  <thead>\n",
       "    <tr style=\"text-align: right;\">\n",
       "      <th></th>\n",
       "      <th>step</th>\n",
       "      <th>type</th>\n",
       "      <th>amount</th>\n",
       "      <th>nameOrig</th>\n",
       "      <th>oldbalanceOrg</th>\n",
       "      <th>newbalanceOrig</th>\n",
       "      <th>nameDest</th>\n",
       "      <th>oldbalanceDest</th>\n",
       "      <th>newbalanceDest</th>\n",
       "      <th>isFraud</th>\n",
       "      <th>isFlaggedFraud</th>\n",
       "    </tr>\n",
       "  </thead>\n",
       "  <tbody>\n",
       "    <tr>\n",
       "      <th>5073566</th>\n",
       "      <td>355</td>\n",
       "      <td>CASH_OUT</td>\n",
       "      <td>158185.91</td>\n",
       "      <td>C115070170</td>\n",
       "      <td>262.00</td>\n",
       "      <td>0.00</td>\n",
       "      <td>C577333345</td>\n",
       "      <td>350766.76</td>\n",
       "      <td>508952.67</td>\n",
       "      <td>0</td>\n",
       "      <td>0</td>\n",
       "    </tr>\n",
       "    <tr>\n",
       "      <th>5563268</th>\n",
       "      <td>386</td>\n",
       "      <td>CASH_OUT</td>\n",
       "      <td>9723.82</td>\n",
       "      <td>C1593579457</td>\n",
       "      <td>98225.96</td>\n",
       "      <td>88502.14</td>\n",
       "      <td>C44247024</td>\n",
       "      <td>3963698.23</td>\n",
       "      <td>3973422.05</td>\n",
       "      <td>0</td>\n",
       "      <td>0</td>\n",
       "    </tr>\n",
       "    <tr>\n",
       "      <th>496429</th>\n",
       "      <td>20</td>\n",
       "      <td>CASH_IN</td>\n",
       "      <td>28506.65</td>\n",
       "      <td>C230509228</td>\n",
       "      <td>585295.70</td>\n",
       "      <td>613802.34</td>\n",
       "      <td>C368761144</td>\n",
       "      <td>2245989.48</td>\n",
       "      <td>2113160.89</td>\n",
       "      <td>0</td>\n",
       "      <td>0</td>\n",
       "    </tr>\n",
       "    <tr>\n",
       "      <th>44758</th>\n",
       "      <td>9</td>\n",
       "      <td>PAYMENT</td>\n",
       "      <td>3326.12</td>\n",
       "      <td>C1591821227</td>\n",
       "      <td>76474.69</td>\n",
       "      <td>73148.57</td>\n",
       "      <td>M490347577</td>\n",
       "      <td>0.00</td>\n",
       "      <td>0.00</td>\n",
       "      <td>0</td>\n",
       "      <td>0</td>\n",
       "    </tr>\n",
       "    <tr>\n",
       "      <th>4962368</th>\n",
       "      <td>351</td>\n",
       "      <td>CASH_OUT</td>\n",
       "      <td>50398.68</td>\n",
       "      <td>C735380759</td>\n",
       "      <td>0.00</td>\n",
       "      <td>0.00</td>\n",
       "      <td>C932597815</td>\n",
       "      <td>176759.01</td>\n",
       "      <td>227157.69</td>\n",
       "      <td>0</td>\n",
       "      <td>0</td>\n",
       "    </tr>\n",
       "  </tbody>\n",
       "</table>\n",
       "</div>"
      ],
      "text/plain": [
       "         step      type     amount     nameOrig  oldbalanceOrg  \\\n",
       "5073566   355  CASH_OUT  158185.91   C115070170         262.00   \n",
       "5563268   386  CASH_OUT    9723.82  C1593579457       98225.96   \n",
       "496429     20   CASH_IN   28506.65   C230509228      585295.70   \n",
       "44758       9   PAYMENT    3326.12  C1591821227       76474.69   \n",
       "4962368   351  CASH_OUT   50398.68   C735380759           0.00   \n",
       "\n",
       "         newbalanceOrig    nameDest  oldbalanceDest  newbalanceDest  isFraud  \\\n",
       "5073566            0.00  C577333345       350766.76       508952.67        0   \n",
       "5563268        88502.14   C44247024      3963698.23      3973422.05        0   \n",
       "496429        613802.34  C368761144      2245989.48      2113160.89        0   \n",
       "44758          73148.57  M490347577            0.00            0.00        0   \n",
       "4962368            0.00  C932597815       176759.01       227157.69        0   \n",
       "\n",
       "         isFlaggedFraud  \n",
       "5073566               0  \n",
       "5563268               0  \n",
       "496429                0  \n",
       "44758                 0  \n",
       "4962368               0  "
      ]
     },
     "execution_count": 2,
     "metadata": {},
     "output_type": "execute_result"
    }
   ],
   "source": [
    "# Your code here\n",
    "fraud_df = pd.read_csv('fraud.csv').sample(100000)\n",
    "fraud_df.head()"
   ]
  },
  {
   "cell_type": "markdown",
   "metadata": {},
   "source": [
    "### What is the distribution of the outcome? "
   ]
  },
  {
   "cell_type": "code",
   "execution_count": 3,
   "metadata": {},
   "outputs": [
    {
     "data": {
      "text/plain": [
       "0    99884\n",
       "1      116\n",
       "Name: isFraud, dtype: int64"
      ]
     },
     "execution_count": 3,
     "metadata": {},
     "output_type": "execute_result"
    }
   ],
   "source": [
    "# Your response here\n",
    "fraud_df[\"isFraud\"].value_counts()"
   ]
  },
  {
   "cell_type": "markdown",
   "metadata": {},
   "source": [
    "### Clean the dataset. How are you going to integrate the time variable? Do you think the step (integer) coding in which it is given is appropriate?"
   ]
  },
  {
   "cell_type": "code",
   "execution_count": 4,
   "metadata": {},
   "outputs": [
    {
     "data": {
      "text/plain": [
       "step                int64\n",
       "type               object\n",
       "amount            float64\n",
       "nameOrig           object\n",
       "oldbalanceOrg     float64\n",
       "newbalanceOrig    float64\n",
       "nameDest           object\n",
       "oldbalanceDest    float64\n",
       "newbalanceDest    float64\n",
       "isFraud             int64\n",
       "isFlaggedFraud      int64\n",
       "dtype: object"
      ]
     },
     "execution_count": 4,
     "metadata": {},
     "output_type": "execute_result"
    }
   ],
   "source": [
    "# Your code here\n",
    "fraud_df.dtypes"
   ]
  },
  {
   "cell_type": "code",
   "execution_count": 5,
   "metadata": {},
   "outputs": [
    {
     "data": {
      "text/plain": [
       "CASH_OUT    35098\n",
       "PAYMENT     33775\n",
       "CASH_IN     22149\n",
       "TRANSFER     8309\n",
       "DEBIT         669\n",
       "Name: type, dtype: int64"
      ]
     },
     "execution_count": 5,
     "metadata": {},
     "output_type": "execute_result"
    }
   ],
   "source": [
    "fraud_df[\"type\"].value_counts()"
   ]
  },
  {
   "cell_type": "code",
   "execution_count": 6,
   "metadata": {},
   "outputs": [
    {
     "data": {
      "text/plain": [
       "step              0\n",
       "type              0\n",
       "amount            0\n",
       "nameOrig          0\n",
       "oldbalanceOrg     0\n",
       "newbalanceOrig    0\n",
       "nameDest          0\n",
       "oldbalanceDest    0\n",
       "newbalanceDest    0\n",
       "isFraud           0\n",
       "isFlaggedFraud    0\n",
       "dtype: int64"
      ]
     },
     "execution_count": 6,
     "metadata": {},
     "output_type": "execute_result"
    }
   ],
   "source": [
    "fraud_df.isnull().sum()"
   ]
  },
  {
   "cell_type": "code",
   "execution_count": 7,
   "metadata": {},
   "outputs": [
    {
     "data": {
      "text/html": [
       "<div>\n",
       "<style scoped>\n",
       "    .dataframe tbody tr th:only-of-type {\n",
       "        vertical-align: middle;\n",
       "    }\n",
       "\n",
       "    .dataframe tbody tr th {\n",
       "        vertical-align: top;\n",
       "    }\n",
       "\n",
       "    .dataframe thead th {\n",
       "        text-align: right;\n",
       "    }\n",
       "</style>\n",
       "<table border=\"1\" class=\"dataframe\">\n",
       "  <thead>\n",
       "    <tr style=\"text-align: right;\">\n",
       "      <th></th>\n",
       "      <th>step</th>\n",
       "      <th>amount</th>\n",
       "      <th>nameOrig</th>\n",
       "      <th>oldbalanceOrg</th>\n",
       "      <th>newbalanceOrig</th>\n",
       "      <th>nameDest</th>\n",
       "      <th>oldbalanceDest</th>\n",
       "      <th>newbalanceDest</th>\n",
       "      <th>isFraud</th>\n",
       "      <th>isFlaggedFraud</th>\n",
       "      <th>type_CASH_IN</th>\n",
       "      <th>type_CASH_OUT</th>\n",
       "      <th>type_DEBIT</th>\n",
       "      <th>type_PAYMENT</th>\n",
       "      <th>type_TRANSFER</th>\n",
       "    </tr>\n",
       "  </thead>\n",
       "  <tbody>\n",
       "    <tr>\n",
       "      <th>5073566</th>\n",
       "      <td>355</td>\n",
       "      <td>158185.91</td>\n",
       "      <td>C115070170</td>\n",
       "      <td>262.00</td>\n",
       "      <td>0.00</td>\n",
       "      <td>C577333345</td>\n",
       "      <td>350766.76</td>\n",
       "      <td>508952.67</td>\n",
       "      <td>0</td>\n",
       "      <td>0</td>\n",
       "      <td>0</td>\n",
       "      <td>1</td>\n",
       "      <td>0</td>\n",
       "      <td>0</td>\n",
       "      <td>0</td>\n",
       "    </tr>\n",
       "    <tr>\n",
       "      <th>5563268</th>\n",
       "      <td>386</td>\n",
       "      <td>9723.82</td>\n",
       "      <td>C1593579457</td>\n",
       "      <td>98225.96</td>\n",
       "      <td>88502.14</td>\n",
       "      <td>C44247024</td>\n",
       "      <td>3963698.23</td>\n",
       "      <td>3973422.05</td>\n",
       "      <td>0</td>\n",
       "      <td>0</td>\n",
       "      <td>0</td>\n",
       "      <td>1</td>\n",
       "      <td>0</td>\n",
       "      <td>0</td>\n",
       "      <td>0</td>\n",
       "    </tr>\n",
       "    <tr>\n",
       "      <th>496429</th>\n",
       "      <td>20</td>\n",
       "      <td>28506.65</td>\n",
       "      <td>C230509228</td>\n",
       "      <td>585295.70</td>\n",
       "      <td>613802.34</td>\n",
       "      <td>C368761144</td>\n",
       "      <td>2245989.48</td>\n",
       "      <td>2113160.89</td>\n",
       "      <td>0</td>\n",
       "      <td>0</td>\n",
       "      <td>1</td>\n",
       "      <td>0</td>\n",
       "      <td>0</td>\n",
       "      <td>0</td>\n",
       "      <td>0</td>\n",
       "    </tr>\n",
       "    <tr>\n",
       "      <th>44758</th>\n",
       "      <td>9</td>\n",
       "      <td>3326.12</td>\n",
       "      <td>C1591821227</td>\n",
       "      <td>76474.69</td>\n",
       "      <td>73148.57</td>\n",
       "      <td>M490347577</td>\n",
       "      <td>0.00</td>\n",
       "      <td>0.00</td>\n",
       "      <td>0</td>\n",
       "      <td>0</td>\n",
       "      <td>0</td>\n",
       "      <td>0</td>\n",
       "      <td>0</td>\n",
       "      <td>1</td>\n",
       "      <td>0</td>\n",
       "    </tr>\n",
       "    <tr>\n",
       "      <th>4962368</th>\n",
       "      <td>351</td>\n",
       "      <td>50398.68</td>\n",
       "      <td>C735380759</td>\n",
       "      <td>0.00</td>\n",
       "      <td>0.00</td>\n",
       "      <td>C932597815</td>\n",
       "      <td>176759.01</td>\n",
       "      <td>227157.69</td>\n",
       "      <td>0</td>\n",
       "      <td>0</td>\n",
       "      <td>0</td>\n",
       "      <td>1</td>\n",
       "      <td>0</td>\n",
       "      <td>0</td>\n",
       "      <td>0</td>\n",
       "    </tr>\n",
       "  </tbody>\n",
       "</table>\n",
       "</div>"
      ],
      "text/plain": [
       "         step     amount     nameOrig  oldbalanceOrg  newbalanceOrig  \\\n",
       "5073566   355  158185.91   C115070170         262.00            0.00   \n",
       "5563268   386    9723.82  C1593579457       98225.96        88502.14   \n",
       "496429     20   28506.65   C230509228      585295.70       613802.34   \n",
       "44758       9    3326.12  C1591821227       76474.69        73148.57   \n",
       "4962368   351   50398.68   C735380759           0.00            0.00   \n",
       "\n",
       "           nameDest  oldbalanceDest  newbalanceDest  isFraud  isFlaggedFraud  \\\n",
       "5073566  C577333345       350766.76       508952.67        0               0   \n",
       "5563268   C44247024      3963698.23      3973422.05        0               0   \n",
       "496429   C368761144      2245989.48      2113160.89        0               0   \n",
       "44758    M490347577            0.00            0.00        0               0   \n",
       "4962368  C932597815       176759.01       227157.69        0               0   \n",
       "\n",
       "         type_CASH_IN  type_CASH_OUT  type_DEBIT  type_PAYMENT  type_TRANSFER  \n",
       "5073566             0              1           0             0              0  \n",
       "5563268             0              1           0             0              0  \n",
       "496429              1              0           0             0              0  \n",
       "44758               0              0           0             1              0  \n",
       "4962368             0              1           0             0              0  "
      ]
     },
     "execution_count": 7,
     "metadata": {},
     "output_type": "execute_result"
    }
   ],
   "source": [
    "fraud_df=pd.get_dummies(fraud_df, columns=['type'])\n",
    "fraud_df.head()"
   ]
  },
  {
   "cell_type": "markdown",
   "metadata": {},
   "source": [
    "### Run a logisitc regression classifier and evaluate its accuracy."
   ]
  },
  {
   "cell_type": "code",
   "execution_count": 14,
   "metadata": {},
   "outputs": [],
   "source": [
    "# Your code here\n",
    "X = fraud_df.drop(['nameOrig','nameDest', 'isFraud'],axis=1)\n",
    "y = fraud_df['isFraud']\n",
    "\n",
    "X_train, X_test, y_train, y_test = train_test_split(X,y,random_state=0)\n",
    "model = LogisticRegression()\n",
    "model.fit(X_train,y_train)\n",
    "model.score(X_test, y_test)\n",
    "pred = model.predict(X_test)\n"
   ]
  },
  {
   "cell_type": "code",
   "execution_count": 15,
   "metadata": {},
   "outputs": [],
   "source": [
    "from sklearn.metrics import classification_report, confusion_matrix"
   ]
  },
  {
   "cell_type": "code",
   "execution_count": 16,
   "metadata": {},
   "outputs": [
    {
     "name": "stdout",
     "output_type": "stream",
     "text": [
      "              precision    recall  f1-score   support\n",
      "\n",
      "           0       1.00      1.00      1.00     24969\n",
      "           1       0.45      0.48      0.47        31\n",
      "\n",
      "    accuracy                           1.00     25000\n",
      "   macro avg       0.73      0.74      0.73     25000\n",
      "weighted avg       1.00      1.00      1.00     25000\n",
      "\n"
     ]
    },
    {
     "data": {
      "text/plain": [
       "array([[24951,    18],\n",
       "       [   16,    15]])"
      ]
     },
     "execution_count": 16,
     "metadata": {},
     "output_type": "execute_result"
    }
   ],
   "source": [
    "print(classification_report(y_test, pred))\n",
    "confusion_matrix(y_test,pred)"
   ]
  },
  {
   "cell_type": "markdown",
   "metadata": {},
   "source": [
    "### Now pick a model of your choice and evaluate its accuracy."
   ]
  },
  {
   "cell_type": "code",
   "execution_count": 17,
   "metadata": {},
   "outputs": [
    {
     "name": "stdout",
     "output_type": "stream",
     "text": [
      "              precision    recall  f1-score   support\n",
      "\n",
      "           0       1.00      0.99      1.00     24969\n",
      "           1       0.09      0.68      0.16        31\n",
      "\n",
      "    accuracy                           0.99     25000\n",
      "   macro avg       0.55      0.83      0.58     25000\n",
      "weighted avg       1.00      0.99      0.99     25000\n",
      "\n"
     ]
    },
    {
     "data": {
      "text/plain": [
       "array([[24762,   207],\n",
       "       [   10,    21]])"
      ]
     },
     "execution_count": 17,
     "metadata": {},
     "output_type": "execute_result"
    }
   ],
   "source": [
    "# Your code here\n",
    "sm = SMOTE(random_state=1, sampling_strategy=0.05) \n",
    "X_train_smote, y_train_smote = sm.fit_resample(X_train,y_train)\n",
    "model_smote= LogisticRegression(max_iter=1000)\n",
    "model_smote.fit(X_train_smote,y_train_smote)\n",
    "pred = model_smote.predict(X_test)\n",
    "print(classification_report(y_test, pred))\n",
    "confusion_matrix(y_test,pred)"
   ]
  },
  {
   "cell_type": "markdown",
   "metadata": {},
   "source": [
    "### Which model worked better and how do you know?"
   ]
  },
  {
   "cell_type": "code",
   "execution_count": 10,
   "metadata": {},
   "outputs": [],
   "source": [
    "# Your response here\n",
    "#recall is higher now for case 1"
   ]
  },
  {
   "cell_type": "markdown",
   "metadata": {},
   "source": [
    "### Note: before doing the first commit, make sure you don't include the large csv file, either by adding it to .gitignore, or by deleting it."
   ]
  }
 ],
 "metadata": {
  "kernelspec": {
   "display_name": "Python 3",
   "language": "python",
   "name": "python3"
  },
  "language_info": {
   "codemirror_mode": {
    "name": "ipython",
    "version": 3
   },
   "file_extension": ".py",
   "mimetype": "text/x-python",
   "name": "python",
   "nbconvert_exporter": "python",
   "pygments_lexer": "ipython3",
   "version": "3.9.10"
  }
 },
 "nbformat": 4,
 "nbformat_minor": 2
}
