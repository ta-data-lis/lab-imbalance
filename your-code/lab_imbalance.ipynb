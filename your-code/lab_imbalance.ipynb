{
 "cells": [
  {
   "cell_type": "markdown",
   "metadata": {},
   "source": [
    "# Inbalanced Classes\n",
    "## In this lab, we are going to explore a case of imbalanced classes. \n",
    "\n",
    "\n",
    "Like we disussed in class, when we have noisy data, if we are not careful, we can end up fitting our model to the noise in the data and not the 'signal'-- the factors that actually determine the outcome. This is called overfitting, and results in good results in training, and in bad results when the model is applied to real data. Similarly, we could have a model that is too simplistic to accurately model the signal. This produces a model that doesnt work well (ever). \n"
   ]
  },
  {
   "cell_type": "markdown",
   "metadata": {},
   "source": [
    "### Note: before doing the first commit, make sure you don't include the large csv file, either by adding it to .gitignore, or by deleting it."
   ]
  },
  {
   "cell_type": "markdown",
   "metadata": {},
   "source": [
    "### First, download the data from: https://www.kaggle.com/ntnu-testimon/paysim1. Import the dataset and provide some discriptive statistics and plots. What do you think will be the important features in determining the outcome?\n",
    "### Note: don't use the entire dataset, use a sample instead, with n=100000 elements, so your computer doesn't freeze."
   ]
  },
  {
   "cell_type": "code",
   "execution_count": 36,
   "metadata": {},
   "outputs": [
    {
     "data": {
      "text/html": [
       "<div>\n",
       "<style scoped>\n",
       "    .dataframe tbody tr th:only-of-type {\n",
       "        vertical-align: middle;\n",
       "    }\n",
       "\n",
       "    .dataframe tbody tr th {\n",
       "        vertical-align: top;\n",
       "    }\n",
       "\n",
       "    .dataframe thead th {\n",
       "        text-align: right;\n",
       "    }\n",
       "</style>\n",
       "<table border=\"1\" class=\"dataframe\">\n",
       "  <thead>\n",
       "    <tr style=\"text-align: right;\">\n",
       "      <th></th>\n",
       "      <th>step</th>\n",
       "      <th>type</th>\n",
       "      <th>amount</th>\n",
       "      <th>nameOrig</th>\n",
       "      <th>oldbalanceOrg</th>\n",
       "      <th>newbalanceOrig</th>\n",
       "      <th>nameDest</th>\n",
       "      <th>oldbalanceDest</th>\n",
       "      <th>newbalanceDest</th>\n",
       "      <th>isFraud</th>\n",
       "      <th>isFlaggedFraud</th>\n",
       "    </tr>\n",
       "  </thead>\n",
       "  <tbody>\n",
       "    <tr>\n",
       "      <th>746007</th>\n",
       "      <td>38</td>\n",
       "      <td>CASH_IN</td>\n",
       "      <td>424001.13</td>\n",
       "      <td>C1194544739</td>\n",
       "      <td>414786.98</td>\n",
       "      <td>838788.11</td>\n",
       "      <td>C553955699</td>\n",
       "      <td>1785335.33</td>\n",
       "      <td>1361334.20</td>\n",
       "      <td>0</td>\n",
       "      <td>0</td>\n",
       "    </tr>\n",
       "    <tr>\n",
       "      <th>1889697</th>\n",
       "      <td>165</td>\n",
       "      <td>PAYMENT</td>\n",
       "      <td>4303.60</td>\n",
       "      <td>C1375334971</td>\n",
       "      <td>101661.00</td>\n",
       "      <td>97357.40</td>\n",
       "      <td>M1867882055</td>\n",
       "      <td>0.00</td>\n",
       "      <td>0.00</td>\n",
       "      <td>0</td>\n",
       "      <td>0</td>\n",
       "    </tr>\n",
       "    <tr>\n",
       "      <th>4417060</th>\n",
       "      <td>322</td>\n",
       "      <td>CASH_IN</td>\n",
       "      <td>68817.22</td>\n",
       "      <td>C1480738688</td>\n",
       "      <td>1006606.72</td>\n",
       "      <td>1075423.94</td>\n",
       "      <td>C1301488744</td>\n",
       "      <td>197097.80</td>\n",
       "      <td>128280.58</td>\n",
       "      <td>0</td>\n",
       "      <td>0</td>\n",
       "    </tr>\n",
       "    <tr>\n",
       "      <th>5896763</th>\n",
       "      <td>403</td>\n",
       "      <td>TRANSFER</td>\n",
       "      <td>196845.97</td>\n",
       "      <td>C1639286975</td>\n",
       "      <td>0.00</td>\n",
       "      <td>0.00</td>\n",
       "      <td>C1867253997</td>\n",
       "      <td>406412.33</td>\n",
       "      <td>543194.10</td>\n",
       "      <td>0</td>\n",
       "      <td>0</td>\n",
       "    </tr>\n",
       "    <tr>\n",
       "      <th>861434</th>\n",
       "      <td>42</td>\n",
       "      <td>CASH_IN</td>\n",
       "      <td>22474.13</td>\n",
       "      <td>C1549124539</td>\n",
       "      <td>55542.00</td>\n",
       "      <td>78016.13</td>\n",
       "      <td>C979752978</td>\n",
       "      <td>0.00</td>\n",
       "      <td>0.00</td>\n",
       "      <td>0</td>\n",
       "      <td>0</td>\n",
       "    </tr>\n",
       "  </tbody>\n",
       "</table>\n",
       "</div>"
      ],
      "text/plain": [
       "         step      type     amount     nameOrig  oldbalanceOrg  \\\n",
       "746007     38   CASH_IN  424001.13  C1194544739      414786.98   \n",
       "1889697   165   PAYMENT    4303.60  C1375334971      101661.00   \n",
       "4417060   322   CASH_IN   68817.22  C1480738688     1006606.72   \n",
       "5896763   403  TRANSFER  196845.97  C1639286975           0.00   \n",
       "861434     42   CASH_IN   22474.13  C1549124539       55542.00   \n",
       "\n",
       "         newbalanceOrig     nameDest  oldbalanceDest  newbalanceDest  isFraud  \\\n",
       "746007        838788.11   C553955699      1785335.33      1361334.20        0   \n",
       "1889697        97357.40  M1867882055            0.00            0.00        0   \n",
       "4417060      1075423.94  C1301488744       197097.80       128280.58        0   \n",
       "5896763            0.00  C1867253997       406412.33       543194.10        0   \n",
       "861434         78016.13   C979752978            0.00            0.00        0   \n",
       "\n",
       "         isFlaggedFraud  \n",
       "746007                0  \n",
       "1889697               0  \n",
       "4417060               0  \n",
       "5896763               0  \n",
       "861434                0  "
      ]
     },
     "execution_count": 36,
     "metadata": {},
     "output_type": "execute_result"
    }
   ],
   "source": [
    "# Your code here\n",
    "import pandas as pd\n",
    "data = pd.read_csv('data.csv').sample(100000)\n",
    "data.head()"
   ]
  },
  {
   "cell_type": "code",
   "execution_count": 37,
   "metadata": {},
   "outputs": [
    {
     "data": {
      "text/html": [
       "<div>\n",
       "<style scoped>\n",
       "    .dataframe tbody tr th:only-of-type {\n",
       "        vertical-align: middle;\n",
       "    }\n",
       "\n",
       "    .dataframe tbody tr th {\n",
       "        vertical-align: top;\n",
       "    }\n",
       "\n",
       "    .dataframe thead th {\n",
       "        text-align: right;\n",
       "    }\n",
       "</style>\n",
       "<table border=\"1\" class=\"dataframe\">\n",
       "  <thead>\n",
       "    <tr style=\"text-align: right;\">\n",
       "      <th></th>\n",
       "      <th>step</th>\n",
       "      <th>amount</th>\n",
       "      <th>oldbalanceOrg</th>\n",
       "      <th>newbalanceOrig</th>\n",
       "      <th>oldbalanceDest</th>\n",
       "      <th>newbalanceDest</th>\n",
       "      <th>isFraud</th>\n",
       "      <th>isFlaggedFraud</th>\n",
       "    </tr>\n",
       "  </thead>\n",
       "  <tbody>\n",
       "    <tr>\n",
       "      <th>count</th>\n",
       "      <td>100000.000000</td>\n",
       "      <td>1.000000e+05</td>\n",
       "      <td>1.000000e+05</td>\n",
       "      <td>1.000000e+05</td>\n",
       "      <td>1.000000e+05</td>\n",
       "      <td>1.000000e+05</td>\n",
       "      <td>100000.000000</td>\n",
       "      <td>100000.0</td>\n",
       "    </tr>\n",
       "    <tr>\n",
       "      <th>mean</th>\n",
       "      <td>243.106560</td>\n",
       "      <td>1.788775e+05</td>\n",
       "      <td>8.429651e+05</td>\n",
       "      <td>8.641737e+05</td>\n",
       "      <td>1.099220e+06</td>\n",
       "      <td>1.222078e+06</td>\n",
       "      <td>0.001180</td>\n",
       "      <td>0.0</td>\n",
       "    </tr>\n",
       "    <tr>\n",
       "      <th>std</th>\n",
       "      <td>142.547094</td>\n",
       "      <td>6.680244e+05</td>\n",
       "      <td>2.907751e+06</td>\n",
       "      <td>2.942661e+06</td>\n",
       "      <td>3.193768e+06</td>\n",
       "      <td>3.473666e+06</td>\n",
       "      <td>0.034331</td>\n",
       "      <td>0.0</td>\n",
       "    </tr>\n",
       "    <tr>\n",
       "      <th>min</th>\n",
       "      <td>1.000000</td>\n",
       "      <td>2.100000e-01</td>\n",
       "      <td>0.000000e+00</td>\n",
       "      <td>0.000000e+00</td>\n",
       "      <td>0.000000e+00</td>\n",
       "      <td>0.000000e+00</td>\n",
       "      <td>0.000000</td>\n",
       "      <td>0.0</td>\n",
       "    </tr>\n",
       "    <tr>\n",
       "      <th>25%</th>\n",
       "      <td>155.000000</td>\n",
       "      <td>1.337768e+04</td>\n",
       "      <td>0.000000e+00</td>\n",
       "      <td>0.000000e+00</td>\n",
       "      <td>0.000000e+00</td>\n",
       "      <td>0.000000e+00</td>\n",
       "      <td>0.000000</td>\n",
       "      <td>0.0</td>\n",
       "    </tr>\n",
       "    <tr>\n",
       "      <th>50%</th>\n",
       "      <td>238.000000</td>\n",
       "      <td>7.424470e+04</td>\n",
       "      <td>1.461650e+04</td>\n",
       "      <td>0.000000e+00</td>\n",
       "      <td>1.339480e+05</td>\n",
       "      <td>2.151653e+05</td>\n",
       "      <td>0.000000</td>\n",
       "      <td>0.0</td>\n",
       "    </tr>\n",
       "    <tr>\n",
       "      <th>75%</th>\n",
       "      <td>334.000000</td>\n",
       "      <td>2.080137e+05</td>\n",
       "      <td>1.087485e+05</td>\n",
       "      <td>1.465095e+05</td>\n",
       "      <td>9.343692e+05</td>\n",
       "      <td>1.106513e+06</td>\n",
       "      <td>0.000000</td>\n",
       "      <td>0.0</td>\n",
       "    </tr>\n",
       "    <tr>\n",
       "      <th>max</th>\n",
       "      <td>735.000000</td>\n",
       "      <td>9.244552e+07</td>\n",
       "      <td>3.335094e+07</td>\n",
       "      <td>3.346415e+07</td>\n",
       "      <td>1.772492e+08</td>\n",
       "      <td>1.854608e+08</td>\n",
       "      <td>1.000000</td>\n",
       "      <td>0.0</td>\n",
       "    </tr>\n",
       "  </tbody>\n",
       "</table>\n",
       "</div>"
      ],
      "text/plain": [
       "                step        amount  oldbalanceOrg  newbalanceOrig  \\\n",
       "count  100000.000000  1.000000e+05   1.000000e+05    1.000000e+05   \n",
       "mean      243.106560  1.788775e+05   8.429651e+05    8.641737e+05   \n",
       "std       142.547094  6.680244e+05   2.907751e+06    2.942661e+06   \n",
       "min         1.000000  2.100000e-01   0.000000e+00    0.000000e+00   \n",
       "25%       155.000000  1.337768e+04   0.000000e+00    0.000000e+00   \n",
       "50%       238.000000  7.424470e+04   1.461650e+04    0.000000e+00   \n",
       "75%       334.000000  2.080137e+05   1.087485e+05    1.465095e+05   \n",
       "max       735.000000  9.244552e+07   3.335094e+07    3.346415e+07   \n",
       "\n",
       "       oldbalanceDest  newbalanceDest        isFraud  isFlaggedFraud  \n",
       "count    1.000000e+05    1.000000e+05  100000.000000        100000.0  \n",
       "mean     1.099220e+06    1.222078e+06       0.001180             0.0  \n",
       "std      3.193768e+06    3.473666e+06       0.034331             0.0  \n",
       "min      0.000000e+00    0.000000e+00       0.000000             0.0  \n",
       "25%      0.000000e+00    0.000000e+00       0.000000             0.0  \n",
       "50%      1.339480e+05    2.151653e+05       0.000000             0.0  \n",
       "75%      9.343692e+05    1.106513e+06       0.000000             0.0  \n",
       "max      1.772492e+08    1.854608e+08       1.000000             0.0  "
      ]
     },
     "execution_count": 37,
     "metadata": {},
     "output_type": "execute_result"
    }
   ],
   "source": [
    "data.describe()"
   ]
  },
  {
   "cell_type": "code",
   "execution_count": 38,
   "metadata": {},
   "outputs": [
    {
     "data": {
      "text/plain": [
       "step                int64\n",
       "type               object\n",
       "amount            float64\n",
       "nameOrig           object\n",
       "oldbalanceOrg     float64\n",
       "newbalanceOrig    float64\n",
       "nameDest           object\n",
       "oldbalanceDest    float64\n",
       "newbalanceDest    float64\n",
       "isFraud             int64\n",
       "isFlaggedFraud      int64\n",
       "dtype: object"
      ]
     },
     "execution_count": 38,
     "metadata": {},
     "output_type": "execute_result"
    }
   ],
   "source": [
    "data.dtypes"
   ]
  },
  {
   "cell_type": "markdown",
   "metadata": {},
   "source": [
    "### What is the distribution of the outcome? "
   ]
  },
  {
   "cell_type": "code",
   "execution_count": 39,
   "metadata": {},
   "outputs": [
    {
     "name": "stdout",
     "output_type": "stream",
     "text": [
      "0    99882\n",
      "1      118\n",
      "Name: isFraud, dtype: int64\n"
     ]
    },
    {
     "data": {
      "text/plain": [
       "<AxesSubplot:>"
      ]
     },
     "execution_count": 39,
     "metadata": {},
     "output_type": "execute_result"
    },
    {
     "data": {
      "image/png": "[encoded data removed]",
      "text/plain": [
       "<Figure size 432x288 with 1 Axes>"
      ]
     },
     "metadata": {
      "needs_background": "light"
     },
     "output_type": "display_data"
    }
   ],
   "source": [
    "# Your response here\n",
    "outcome = pd.value_counts(data.isFraud)\n",
    "print(outcome)\n",
    "outcome.plot(kind='bar')"
   ]
  },
  {
   "cell_type": "markdown",
   "metadata": {},
   "source": [
    "### Clean the dataset. How are you going to integrate the time variable? Do you think the step (integer) coding in which it is given is appropriate?"
   ]
  },
  {
   "cell_type": "code",
   "execution_count": 40,
   "metadata": {},
   "outputs": [
    {
     "data": {
      "text/plain": [
       "step              0\n",
       "amount            0\n",
       "oldbalanceOrg     0\n",
       "newbalanceOrig    0\n",
       "oldbalanceDest    0\n",
       "newbalanceDest    0\n",
       "isFraud           0\n",
       "isFlaggedFraud    0\n",
       "dtype: int64"
      ]
     },
     "execution_count": 40,
     "metadata": {},
     "output_type": "execute_result"
    }
   ],
   "source": [
    "# Your code here\n",
    "data.drop(columns=['type', 'nameOrig', 'nameDest'], inplace=True)\n",
    "data.isnull().sum()"
   ]
  },
  {
   "cell_type": "code",
   "execution_count": 41,
   "metadata": {},
   "outputs": [],
   "source": [
    "# Step maps a unit of time in the real world. In this case 1 step is 1 hour of time.\n",
    "# So yes, I think it's appropriate to have it like that."
   ]
  },
  {
   "cell_type": "markdown",
   "metadata": {},
   "source": [
    "### Run a logisitc regression classifier and evaluate its accuracy."
   ]
  },
  {
   "cell_type": "code",
   "execution_count": 58,
   "metadata": {},
   "outputs": [
    {
     "name": "stdout",
     "output_type": "stream",
     "text": [
      "              precision    recall  f1-score   support\n",
      "\n",
      "           0       1.00      0.95      0.97     24967\n",
      "           1       0.02      1.00      0.05        33\n",
      "\n",
      "    accuracy                           0.95     25000\n",
      "   macro avg       0.51      0.97      0.51     25000\n",
      "weighted avg       1.00      0.95      0.97     25000\n",
      "\n"
     ]
    }
   ],
   "source": [
    "# Your code here\n",
    "from sklearn.metrics import classification_report\n",
    "from sklearn.linear_model import LogisticRegression\n",
    "from sklearn.model_selection import train_test_split\n",
    "from sklearn.utils import resample\n",
    "\n",
    "X = data.drop(columns='isFraud')\n",
    "y = data.isFraud\n",
    "\n",
    "X_train, X_test, y_train, y_test = train_test_split(X, y, random_state=1)\n",
    "\n",
    "# Oversample\n",
    "train = pd.concat([X_train, y_train], axis=1)\n",
    "\n",
    "no_fraud = train[train.isFraud == 0]\n",
    "yes_fraud = train[train.isFraud == 1]\n",
    "\n",
    "oversampled = resample(yes_fraud, replace=True, n_samples=len(no_fraud), random_state=0)\n",
    "\n",
    "train_oversampled = pd.concat([no_fraud, oversampled])\n",
    "\n",
    "y_train_oversampled = train_oversampled.isFraud.copy() \n",
    "X_train_oversampled = train_oversampled.drop(columns='isFraud').copy()\n",
    "\n",
    "LR = LogisticRegression(max_iter=1000).fit(X_train_oversampled, y_train_oversampled)\n",
    "\n",
    "y_pred = LR.predict(X_test)\n",
    "print(classification_report(y_test, y_pred)) # recall 100% ?"
   ]
  },
  {
   "cell_type": "markdown",
   "metadata": {},
   "source": [
    "### Now pick a model of your choice and evaluate its accuracy."
   ]
  },
  {
   "cell_type": "code",
   "execution_count": 59,
   "metadata": {},
   "outputs": [
    {
     "name": "stdout",
     "output_type": "stream",
     "text": [
      "              precision    recall  f1-score   support\n",
      "\n",
      "           0       1.00      0.92      0.96     24967\n",
      "           1       0.01      0.94      0.03        33\n",
      "\n",
      "    accuracy                           0.92     25000\n",
      "   macro avg       0.51      0.93      0.49     25000\n",
      "weighted avg       1.00      0.92      0.96     25000\n",
      "\n"
     ]
    }
   ],
   "source": [
    "# Your code here\n",
    "from sklearn.tree import DecisionTreeClassifier\n",
    "\n",
    "tree = DecisionTreeClassifier(max_depth=2).fit(X_train_oversampled, y_train_oversampled)\n",
    "\n",
    "y_pred = tree.predict(X_test)\n",
    "print(classification_report(y_test, y_pred))"
   ]
  },
  {
   "cell_type": "markdown",
   "metadata": {},
   "source": [
    "### Which model worked better and how do you know?"
   ]
  },
  {
   "cell_type": "code",
   "execution_count": 44,
   "metadata": {},
   "outputs": [],
   "source": [
    "# Your response here\n",
    "# Decision tree was better. We have lower accuracy but recall is a lot better"
   ]
  },
  {
   "cell_type": "markdown",
   "metadata": {},
   "source": [
    "### Note: before doing the first commit, make sure you don't include the large csv file, either by adding it to .gitignore, or by deleting it."
   ]
  }
 ],
 "metadata": {
  "kernelspec": {
   "display_name": "Python 3",
   "language": "python",
   "name": "python3"
  },
  "language_info": {
   "codemirror_mode": {
    "name": "ipython",
    "version": 3
   },
   "file_extension": ".py",
   "mimetype": "text/x-python",
   "name": "python",
   "nbconvert_exporter": "python",
   "pygments_lexer": "ipython3",
   "version": "3.9.10"
  }
 },
 "nbformat": 4,
 "nbformat_minor": 2
}
