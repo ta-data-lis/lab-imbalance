{
 "cells": [
  {
   "cell_type": "markdown",
   "metadata": {},
   "source": [
    "# Inbalanced Classes\n",
    "## In this lab, we are going to explore a case of imbalanced classes. \n",
    "\n",
    "\n",
    "Like we disussed in class, when we have noisy data, if we are not careful, we can end up fitting our model to the noise in the data and not the 'signal'-- the factors that actually determine the outcome. This is called overfitting, and results in good results in training, and in bad results when the model is applied to real data. Similarly, we could have a model that is too simplistic to accurately model the signal. This produces a model that doesnt work well (ever). \n"
   ]
  },
  {
   "cell_type": "markdown",
   "metadata": {},
   "source": [
    "### Note: before doing the first commit, make sure you don't include the large csv file, either by adding it to .gitignore, or by deleting it."
   ]
  },
  {
   "cell_type": "markdown",
   "metadata": {},
   "source": [
    "### First, download the data from: https://www.kaggle.com/datasets/ealaxi/paysim1. Import the dataset and provide some discriptive statistics and plots. What do you think will be the important features in determining the outcome?\n",
    "### Note: don't use the entire dataset, use a sample instead, with n=100000 elements, so your computer doesn't freeze."
   ]
  },
  {
   "cell_type": "code",
   "execution_count": 1,
   "metadata": {},
   "outputs": [],
   "source": [
    "# Your code here\n",
    "import pandas as pd\n",
    "import numpy as np"
   ]
  },
  {
   "cell_type": "code",
   "execution_count": 3,
   "metadata": {},
   "outputs": [
    {
     "name": "stdout",
     "output_type": "stream",
     "text": [
      "(6362620, 11)\n"
     ]
    },
    {
     "data": {
      "text/html": [
       "<div>\n",
       "<style scoped>\n",
       "    .dataframe tbody tr th:only-of-type {\n",
       "        vertical-align: middle;\n",
       "    }\n",
       "\n",
       "    .dataframe tbody tr th {\n",
       "        vertical-align: top;\n",
       "    }\n",
       "\n",
       "    .dataframe thead th {\n",
       "        text-align: right;\n",
       "    }\n",
       "</style>\n",
       "<table border=\"1\" class=\"dataframe\">\n",
       "  <thead>\n",
       "    <tr style=\"text-align: right;\">\n",
       "      <th></th>\n",
       "      <th>step</th>\n",
       "      <th>type</th>\n",
       "      <th>amount</th>\n",
       "      <th>nameOrig</th>\n",
       "      <th>oldbalanceOrg</th>\n",
       "      <th>newbalanceOrig</th>\n",
       "      <th>nameDest</th>\n",
       "      <th>oldbalanceDest</th>\n",
       "      <th>newbalanceDest</th>\n",
       "      <th>isFraud</th>\n",
       "      <th>isFlaggedFraud</th>\n",
       "    </tr>\n",
       "  </thead>\n",
       "  <tbody>\n",
       "    <tr>\n",
       "      <th>0</th>\n",
       "      <td>1</td>\n",
       "      <td>PAYMENT</td>\n",
       "      <td>9839.64</td>\n",
       "      <td>C1231006815</td>\n",
       "      <td>170136.0</td>\n",
       "      <td>160296.36</td>\n",
       "      <td>M1979787155</td>\n",
       "      <td>0.0</td>\n",
       "      <td>0.0</td>\n",
       "      <td>0</td>\n",
       "      <td>0</td>\n",
       "    </tr>\n",
       "    <tr>\n",
       "      <th>1</th>\n",
       "      <td>1</td>\n",
       "      <td>PAYMENT</td>\n",
       "      <td>1864.28</td>\n",
       "      <td>C1666544295</td>\n",
       "      <td>21249.0</td>\n",
       "      <td>19384.72</td>\n",
       "      <td>M2044282225</td>\n",
       "      <td>0.0</td>\n",
       "      <td>0.0</td>\n",
       "      <td>0</td>\n",
       "      <td>0</td>\n",
       "    </tr>\n",
       "    <tr>\n",
       "      <th>2</th>\n",
       "      <td>1</td>\n",
       "      <td>TRANSFER</td>\n",
       "      <td>181.00</td>\n",
       "      <td>C1305486145</td>\n",
       "      <td>181.0</td>\n",
       "      <td>0.00</td>\n",
       "      <td>C553264065</td>\n",
       "      <td>0.0</td>\n",
       "      <td>0.0</td>\n",
       "      <td>1</td>\n",
       "      <td>0</td>\n",
       "    </tr>\n",
       "    <tr>\n",
       "      <th>3</th>\n",
       "      <td>1</td>\n",
       "      <td>CASH_OUT</td>\n",
       "      <td>181.00</td>\n",
       "      <td>C840083671</td>\n",
       "      <td>181.0</td>\n",
       "      <td>0.00</td>\n",
       "      <td>C38997010</td>\n",
       "      <td>21182.0</td>\n",
       "      <td>0.0</td>\n",
       "      <td>1</td>\n",
       "      <td>0</td>\n",
       "    </tr>\n",
       "    <tr>\n",
       "      <th>4</th>\n",
       "      <td>1</td>\n",
       "      <td>PAYMENT</td>\n",
       "      <td>11668.14</td>\n",
       "      <td>C2048537720</td>\n",
       "      <td>41554.0</td>\n",
       "      <td>29885.86</td>\n",
       "      <td>M1230701703</td>\n",
       "      <td>0.0</td>\n",
       "      <td>0.0</td>\n",
       "      <td>0</td>\n",
       "      <td>0</td>\n",
       "    </tr>\n",
       "  </tbody>\n",
       "</table>\n",
       "</div>"
      ],
      "text/plain": [
       "   step      type    amount     nameOrig  oldbalanceOrg  newbalanceOrig  \\\n",
       "0     1   PAYMENT   9839.64  C1231006815       170136.0       160296.36   \n",
       "1     1   PAYMENT   1864.28  C1666544295        21249.0        19384.72   \n",
       "2     1  TRANSFER    181.00  C1305486145          181.0            0.00   \n",
       "3     1  CASH_OUT    181.00   C840083671          181.0            0.00   \n",
       "4     1   PAYMENT  11668.14  C2048537720        41554.0        29885.86   \n",
       "\n",
       "      nameDest  oldbalanceDest  newbalanceDest  isFraud  isFlaggedFraud  \n",
       "0  M1979787155             0.0             0.0        0               0  \n",
       "1  M2044282225             0.0             0.0        0               0  \n",
       "2   C553264065             0.0             0.0        1               0  \n",
       "3    C38997010         21182.0             0.0        1               0  \n",
       "4  M1230701703             0.0             0.0        0               0  "
      ]
     },
     "execution_count": 3,
     "metadata": {},
     "output_type": "execute_result"
    }
   ],
   "source": [
    "finance = pd.read_csv(\"../data/PS_20174392719_1491204439457_log.csv\")\n",
    "print(finance.shape)\n",
    "finance.head()"
   ]
  },
  {
   "cell_type": "code",
   "execution_count": 36,
   "metadata": {},
   "outputs": [
    {
     "data": {
      "text/plain": [
       "0    6362604\n",
       "1         16\n",
       "Name: isFlaggedFraud, dtype: int64"
      ]
     },
     "execution_count": 36,
     "metadata": {},
     "output_type": "execute_result"
    }
   ],
   "source": [
    "finance[\"isFlaggedFraud\"].value_counts() #empty in the sample, but not in total -> so keep it!\n"
   ]
  },
  {
   "cell_type": "code",
   "execution_count": 37,
   "metadata": {},
   "outputs": [
    {
     "name": "stdout",
     "output_type": "stream",
     "text": [
      "(100000, 11)\n"
     ]
    },
    {
     "data": {
      "text/html": [
       "<div>\n",
       "<style scoped>\n",
       "    .dataframe tbody tr th:only-of-type {\n",
       "        vertical-align: middle;\n",
       "    }\n",
       "\n",
       "    .dataframe tbody tr th {\n",
       "        vertical-align: top;\n",
       "    }\n",
       "\n",
       "    .dataframe thead th {\n",
       "        text-align: right;\n",
       "    }\n",
       "</style>\n",
       "<table border=\"1\" class=\"dataframe\">\n",
       "  <thead>\n",
       "    <tr style=\"text-align: right;\">\n",
       "      <th></th>\n",
       "      <th>step</th>\n",
       "      <th>type</th>\n",
       "      <th>amount</th>\n",
       "      <th>nameOrig</th>\n",
       "      <th>oldbalanceOrg</th>\n",
       "      <th>newbalanceOrig</th>\n",
       "      <th>nameDest</th>\n",
       "      <th>oldbalanceDest</th>\n",
       "      <th>newbalanceDest</th>\n",
       "      <th>isFraud</th>\n",
       "      <th>isFlaggedFraud</th>\n",
       "    </tr>\n",
       "  </thead>\n",
       "  <tbody>\n",
       "    <tr>\n",
       "      <th>873929</th>\n",
       "      <td>42</td>\n",
       "      <td>CASH_OUT</td>\n",
       "      <td>245938.58</td>\n",
       "      <td>C114880637</td>\n",
       "      <td>0.0</td>\n",
       "      <td>0.00</td>\n",
       "      <td>C1262669158</td>\n",
       "      <td>496232.90</td>\n",
       "      <td>742171.48</td>\n",
       "      <td>0</td>\n",
       "      <td>0</td>\n",
       "    </tr>\n",
       "    <tr>\n",
       "      <th>1253644</th>\n",
       "      <td>134</td>\n",
       "      <td>CASH_OUT</td>\n",
       "      <td>127900.73</td>\n",
       "      <td>C380309768</td>\n",
       "      <td>10503.0</td>\n",
       "      <td>0.00</td>\n",
       "      <td>C245969082</td>\n",
       "      <td>56223.62</td>\n",
       "      <td>184124.35</td>\n",
       "      <td>0</td>\n",
       "      <td>0</td>\n",
       "    </tr>\n",
       "    <tr>\n",
       "      <th>5087416</th>\n",
       "      <td>355</td>\n",
       "      <td>CASH_OUT</td>\n",
       "      <td>62436.31</td>\n",
       "      <td>C2082494007</td>\n",
       "      <td>91775.0</td>\n",
       "      <td>29338.69</td>\n",
       "      <td>C829682895</td>\n",
       "      <td>476132.72</td>\n",
       "      <td>538569.04</td>\n",
       "      <td>0</td>\n",
       "      <td>0</td>\n",
       "    </tr>\n",
       "    <tr>\n",
       "      <th>5782972</th>\n",
       "      <td>400</td>\n",
       "      <td>TRANSFER</td>\n",
       "      <td>1002824.91</td>\n",
       "      <td>C375489976</td>\n",
       "      <td>0.0</td>\n",
       "      <td>0.00</td>\n",
       "      <td>C1265935034</td>\n",
       "      <td>16265948.10</td>\n",
       "      <td>17268773.01</td>\n",
       "      <td>0</td>\n",
       "      <td>0</td>\n",
       "    </tr>\n",
       "    <tr>\n",
       "      <th>5560569</th>\n",
       "      <td>384</td>\n",
       "      <td>PAYMENT</td>\n",
       "      <td>5880.12</td>\n",
       "      <td>C202170136</td>\n",
       "      <td>616.0</td>\n",
       "      <td>0.00</td>\n",
       "      <td>M1836466498</td>\n",
       "      <td>0.00</td>\n",
       "      <td>0.00</td>\n",
       "      <td>0</td>\n",
       "      <td>0</td>\n",
       "    </tr>\n",
       "  </tbody>\n",
       "</table>\n",
       "</div>"
      ],
      "text/plain": [
       "         step      type      amount     nameOrig  oldbalanceOrg  \\\n",
       "873929     42  CASH_OUT   245938.58   C114880637            0.0   \n",
       "1253644   134  CASH_OUT   127900.73   C380309768        10503.0   \n",
       "5087416   355  CASH_OUT    62436.31  C2082494007        91775.0   \n",
       "5782972   400  TRANSFER  1002824.91   C375489976            0.0   \n",
       "5560569   384   PAYMENT     5880.12   C202170136          616.0   \n",
       "\n",
       "         newbalanceOrig     nameDest  oldbalanceDest  newbalanceDest  isFraud  \\\n",
       "873929             0.00  C1262669158       496232.90       742171.48        0   \n",
       "1253644            0.00   C245969082        56223.62       184124.35        0   \n",
       "5087416        29338.69   C829682895       476132.72       538569.04        0   \n",
       "5782972            0.00  C1265935034     16265948.10     17268773.01        0   \n",
       "5560569            0.00  M1836466498            0.00            0.00        0   \n",
       "\n",
       "         isFlaggedFraud  \n",
       "873929                0  \n",
       "1253644               0  \n",
       "5087416               0  \n",
       "5782972               0  \n",
       "5560569               0  "
      ]
     },
     "execution_count": 37,
     "metadata": {},
     "output_type": "execute_result"
    }
   ],
   "source": [
    "#samle it\n",
    "n = 100000\n",
    "finance_sample = finance.sample(n=n, axis=0)\n",
    "print(finance_sample.shape)\n",
    "finance_sample.head()"
   ]
  },
  {
   "cell_type": "code",
   "execution_count": 38,
   "metadata": {},
   "outputs": [
    {
     "data": {
      "text/plain": [
       "step                int64\n",
       "type               object\n",
       "amount            float64\n",
       "nameOrig           object\n",
       "oldbalanceOrg     float64\n",
       "newbalanceOrig    float64\n",
       "nameDest           object\n",
       "oldbalanceDest    float64\n",
       "newbalanceDest    float64\n",
       "isFraud             int64\n",
       "isFlaggedFraud      int64\n",
       "dtype: object"
      ]
     },
     "execution_count": 38,
     "metadata": {},
     "output_type": "execute_result"
    }
   ],
   "source": [
    "finance_sample.dtypes"
   ]
  },
  {
   "cell_type": "code",
   "execution_count": 39,
   "metadata": {},
   "outputs": [
    {
     "data": {
      "text/html": [
       "<div>\n",
       "<style scoped>\n",
       "    .dataframe tbody tr th:only-of-type {\n",
       "        vertical-align: middle;\n",
       "    }\n",
       "\n",
       "    .dataframe tbody tr th {\n",
       "        vertical-align: top;\n",
       "    }\n",
       "\n",
       "    .dataframe thead th {\n",
       "        text-align: right;\n",
       "    }\n",
       "</style>\n",
       "<table border=\"1\" class=\"dataframe\">\n",
       "  <thead>\n",
       "    <tr style=\"text-align: right;\">\n",
       "      <th></th>\n",
       "      <th>step</th>\n",
       "      <th>amount</th>\n",
       "      <th>oldbalanceOrg</th>\n",
       "      <th>newbalanceOrig</th>\n",
       "      <th>oldbalanceDest</th>\n",
       "      <th>newbalanceDest</th>\n",
       "      <th>isFraud</th>\n",
       "      <th>isFlaggedFraud</th>\n",
       "    </tr>\n",
       "  </thead>\n",
       "  <tbody>\n",
       "    <tr>\n",
       "      <th>count</th>\n",
       "      <td>100000.0</td>\n",
       "      <td>100000.0</td>\n",
       "      <td>100000.0</td>\n",
       "      <td>100000.0</td>\n",
       "      <td>100000.0</td>\n",
       "      <td>100000.0</td>\n",
       "      <td>100000.0</td>\n",
       "      <td>100000.0</td>\n",
       "    </tr>\n",
       "    <tr>\n",
       "      <th>mean</th>\n",
       "      <td>242.19945</td>\n",
       "      <td>177947.331917</td>\n",
       "      <td>835535.949712</td>\n",
       "      <td>856089.690338</td>\n",
       "      <td>1092547.231855</td>\n",
       "      <td>1213872.554869</td>\n",
       "      <td>0.00129</td>\n",
       "      <td>0.0</td>\n",
       "    </tr>\n",
       "    <tr>\n",
       "      <th>std</th>\n",
       "      <td>141.738846</td>\n",
       "      <td>522483.703044</td>\n",
       "      <td>2889941.263654</td>\n",
       "      <td>2923452.491595</td>\n",
       "      <td>3374748.62442</td>\n",
       "      <td>3575851.769414</td>\n",
       "      <td>0.035894</td>\n",
       "      <td>0.0</td>\n",
       "    </tr>\n",
       "    <tr>\n",
       "      <th>min</th>\n",
       "      <td>1.0</td>\n",
       "      <td>0.18</td>\n",
       "      <td>0.0</td>\n",
       "      <td>0.0</td>\n",
       "      <td>0.0</td>\n",
       "      <td>0.0</td>\n",
       "      <td>0.0</td>\n",
       "      <td>0.0</td>\n",
       "    </tr>\n",
       "    <tr>\n",
       "      <th>25%</th>\n",
       "      <td>155.0</td>\n",
       "      <td>13213.6</td>\n",
       "      <td>0.0</td>\n",
       "      <td>0.0</td>\n",
       "      <td>0.0</td>\n",
       "      <td>0.0</td>\n",
       "      <td>0.0</td>\n",
       "      <td>0.0</td>\n",
       "    </tr>\n",
       "    <tr>\n",
       "      <th>50%</th>\n",
       "      <td>237.0</td>\n",
       "      <td>75234.795</td>\n",
       "      <td>14636.0</td>\n",
       "      <td>0.0</td>\n",
       "      <td>132812.895</td>\n",
       "      <td>216390.29</td>\n",
       "      <td>0.0</td>\n",
       "      <td>0.0</td>\n",
       "    </tr>\n",
       "    <tr>\n",
       "      <th>75%</th>\n",
       "      <td>333.0</td>\n",
       "      <td>208154.6925</td>\n",
       "      <td>107703.25</td>\n",
       "      <td>143700.545</td>\n",
       "      <td>937284.62</td>\n",
       "      <td>1105541.505</td>\n",
       "      <td>0.0</td>\n",
       "      <td>0.0</td>\n",
       "    </tr>\n",
       "    <tr>\n",
       "      <th>max</th>\n",
       "      <td>743.0</td>\n",
       "      <td>38929156.6</td>\n",
       "      <td>57316255.05</td>\n",
       "      <td>47316255.05</td>\n",
       "      <td>302275361.94</td>\n",
       "      <td>302322993.6</td>\n",
       "      <td>1.0</td>\n",
       "      <td>0.0</td>\n",
       "    </tr>\n",
       "    <tr>\n",
       "      <th>IQR</th>\n",
       "      <td>178.0</td>\n",
       "      <td>194941.0925</td>\n",
       "      <td>107703.25</td>\n",
       "      <td>143700.545</td>\n",
       "      <td>937284.62</td>\n",
       "      <td>1105541.505</td>\n",
       "      <td>0.0</td>\n",
       "      <td>0.0</td>\n",
       "    </tr>\n",
       "    <tr>\n",
       "      <th>outliers_low</th>\n",
       "      <td>False</td>\n",
       "      <td>False</td>\n",
       "      <td>False</td>\n",
       "      <td>False</td>\n",
       "      <td>False</td>\n",
       "      <td>False</td>\n",
       "      <td>False</td>\n",
       "      <td>False</td>\n",
       "    </tr>\n",
       "    <tr>\n",
       "      <th>outliers_up</th>\n",
       "      <td>True</td>\n",
       "      <td>True</td>\n",
       "      <td>True</td>\n",
       "      <td>True</td>\n",
       "      <td>True</td>\n",
       "      <td>True</td>\n",
       "      <td>True</td>\n",
       "      <td>False</td>\n",
       "    </tr>\n",
       "  </tbody>\n",
       "</table>\n",
       "</div>"
      ],
      "text/plain": [
       "                    step         amount   oldbalanceOrg  newbalanceOrig  \\\n",
       "count           100000.0       100000.0        100000.0        100000.0   \n",
       "mean           242.19945  177947.331917   835535.949712   856089.690338   \n",
       "std           141.738846  522483.703044  2889941.263654  2923452.491595   \n",
       "min                  1.0           0.18             0.0             0.0   \n",
       "25%                155.0        13213.6             0.0             0.0   \n",
       "50%                237.0      75234.795         14636.0             0.0   \n",
       "75%                333.0    208154.6925       107703.25      143700.545   \n",
       "max                743.0     38929156.6     57316255.05     47316255.05   \n",
       "IQR                178.0    194941.0925       107703.25      143700.545   \n",
       "outliers_low       False          False           False           False   \n",
       "outliers_up         True           True            True            True   \n",
       "\n",
       "              oldbalanceDest  newbalanceDest   isFraud isFlaggedFraud  \n",
       "count               100000.0        100000.0  100000.0       100000.0  \n",
       "mean          1092547.231855  1213872.554869   0.00129            0.0  \n",
       "std            3374748.62442  3575851.769414  0.035894            0.0  \n",
       "min                      0.0             0.0       0.0            0.0  \n",
       "25%                      0.0             0.0       0.0            0.0  \n",
       "50%               132812.895       216390.29       0.0            0.0  \n",
       "75%                937284.62     1105541.505       0.0            0.0  \n",
       "max             302275361.94     302322993.6       1.0            0.0  \n",
       "IQR                937284.62     1105541.505       0.0            0.0  \n",
       "outliers_low           False           False     False          False  \n",
       "outliers_up             True            True      True          False  "
      ]
     },
     "execution_count": 39,
     "metadata": {},
     "output_type": "execute_result"
    }
   ],
   "source": [
    "#finance_sample.describe()\n",
    "\n",
    "stats = finance_sample.describe().transpose()\n",
    "stats['IQR'] = stats['75%'] - stats['25%']\n",
    "stats['outliers_low'] = (stats['25%'] - 1.5*stats['IQR'])>stats['min']\n",
    "stats['outliers_up'] = (stats['75%'] + 1.5*stats['IQR'])<stats['max']\n",
    "stats.transpose()\n",
    "## Statistics show that a lot of the columns have mostly lower values and outliers on the upper end.\n",
    "## This might mean that scaling is very important (depending on the algorithm)."
   ]
  },
  {
   "cell_type": "code",
   "execution_count": 40,
   "metadata": {},
   "outputs": [
    {
     "data": {
      "text/plain": [
       "step              0\n",
       "type              0\n",
       "amount            0\n",
       "nameOrig          0\n",
       "oldbalanceOrg     0\n",
       "newbalanceOrig    0\n",
       "nameDest          0\n",
       "oldbalanceDest    0\n",
       "newbalanceDest    0\n",
       "isFraud           0\n",
       "isFlaggedFraud    0\n",
       "dtype: int64"
      ]
     },
     "execution_count": 40,
     "metadata": {},
     "output_type": "execute_result"
    }
   ],
   "source": [
    "finance_sample.isna().sum() #no null values in the number columns"
   ]
  },
  {
   "cell_type": "code",
   "execution_count": 41,
   "metadata": {},
   "outputs": [
    {
     "data": {
      "text/plain": [
       "CASH_OUT    35044\n",
       "PAYMENT     33751\n",
       "CASH_IN     22076\n",
       "TRANSFER     8492\n",
       "DEBIT         637\n",
       "Name: type, dtype: int64"
      ]
     },
     "execution_count": 41,
     "metadata": {},
     "output_type": "execute_result"
    }
   ],
   "source": [
    "finance_sample[\"type\"].value_counts() #not many, can be translated into dummies"
   ]
  },
  {
   "cell_type": "code",
   "execution_count": 43,
   "metadata": {},
   "outputs": [
    {
     "data": {
      "text/plain": [
       "99996"
      ]
     },
     "execution_count": 43,
     "metadata": {},
     "output_type": "execute_result"
    }
   ],
   "source": [
    "finance_sample[\"nameOrig\"].nunique() #99996 -> column can be dropped, all unique values"
   ]
  },
  {
   "cell_type": "code",
   "execution_count": 44,
   "metadata": {},
   "outputs": [
    {
     "data": {
      "text/plain": [
       "92808"
      ]
     },
     "execution_count": 44,
     "metadata": {},
     "output_type": "execute_result"
    }
   ],
   "source": [
    "finance_sample[\"nameDest\"].nunique() #93029 -> column can mabe dropped, too many unique values to be turned into number code\n",
    "## 93029/len(finance_sample) #--> 93% of data is unique names"
   ]
  },
  {
   "cell_type": "code",
   "execution_count": 45,
   "metadata": {},
   "outputs": [
    {
     "data": {
      "text/html": [
       "<div>\n",
       "<style scoped>\n",
       "    .dataframe tbody tr th:only-of-type {\n",
       "        vertical-align: middle;\n",
       "    }\n",
       "\n",
       "    .dataframe tbody tr th {\n",
       "        vertical-align: top;\n",
       "    }\n",
       "\n",
       "    .dataframe thead th {\n",
       "        text-align: right;\n",
       "    }\n",
       "</style>\n",
       "<table border=\"1\" class=\"dataframe\">\n",
       "  <thead>\n",
       "    <tr style=\"text-align: right;\">\n",
       "      <th></th>\n",
       "      <th>step</th>\n",
       "      <th>amount</th>\n",
       "      <th>oldbalanceOrg</th>\n",
       "      <th>newbalanceOrig</th>\n",
       "      <th>oldbalanceDest</th>\n",
       "      <th>newbalanceDest</th>\n",
       "      <th>isFraud</th>\n",
       "      <th>isFlaggedFraud</th>\n",
       "    </tr>\n",
       "  </thead>\n",
       "  <tbody>\n",
       "    <tr>\n",
       "      <th>step</th>\n",
       "      <td>1.000000</td>\n",
       "      <td>0.025246</td>\n",
       "      <td>-0.004706</td>\n",
       "      <td>-0.005338</td>\n",
       "      <td>0.032943</td>\n",
       "      <td>0.030707</td>\n",
       "      <td>0.035545</td>\n",
       "      <td>NaN</td>\n",
       "    </tr>\n",
       "    <tr>\n",
       "      <th>amount</th>\n",
       "      <td>0.025246</td>\n",
       "      <td>1.000000</td>\n",
       "      <td>0.001800</td>\n",
       "      <td>-0.006759</td>\n",
       "      <td>0.241713</td>\n",
       "      <td>0.394659</td>\n",
       "      <td>0.115305</td>\n",
       "      <td>NaN</td>\n",
       "    </tr>\n",
       "    <tr>\n",
       "      <th>oldbalanceOrg</th>\n",
       "      <td>-0.004706</td>\n",
       "      <td>0.001800</td>\n",
       "      <td>1.000000</td>\n",
       "      <td>0.998549</td>\n",
       "      <td>0.062647</td>\n",
       "      <td>0.039645</td>\n",
       "      <td>0.018461</td>\n",
       "      <td>NaN</td>\n",
       "    </tr>\n",
       "    <tr>\n",
       "      <th>newbalanceOrig</th>\n",
       "      <td>-0.005338</td>\n",
       "      <td>-0.006759</td>\n",
       "      <td>0.998549</td>\n",
       "      <td>1.000000</td>\n",
       "      <td>0.064333</td>\n",
       "      <td>0.039500</td>\n",
       "      <td>-0.004798</td>\n",
       "      <td>NaN</td>\n",
       "    </tr>\n",
       "    <tr>\n",
       "      <th>oldbalanceDest</th>\n",
       "      <td>0.032943</td>\n",
       "      <td>0.241713</td>\n",
       "      <td>0.062647</td>\n",
       "      <td>0.064333</td>\n",
       "      <td>1.000000</td>\n",
       "      <td>0.979554</td>\n",
       "      <td>0.011949</td>\n",
       "      <td>NaN</td>\n",
       "    </tr>\n",
       "    <tr>\n",
       "      <th>newbalanceDest</th>\n",
       "      <td>0.030707</td>\n",
       "      <td>0.394659</td>\n",
       "      <td>0.039645</td>\n",
       "      <td>0.039500</td>\n",
       "      <td>0.979554</td>\n",
       "      <td>1.000000</td>\n",
       "      <td>0.017534</td>\n",
       "      <td>NaN</td>\n",
       "    </tr>\n",
       "    <tr>\n",
       "      <th>isFraud</th>\n",
       "      <td>0.035545</td>\n",
       "      <td>0.115305</td>\n",
       "      <td>0.018461</td>\n",
       "      <td>-0.004798</td>\n",
       "      <td>0.011949</td>\n",
       "      <td>0.017534</td>\n",
       "      <td>1.000000</td>\n",
       "      <td>NaN</td>\n",
       "    </tr>\n",
       "    <tr>\n",
       "      <th>isFlaggedFraud</th>\n",
       "      <td>NaN</td>\n",
       "      <td>NaN</td>\n",
       "      <td>NaN</td>\n",
       "      <td>NaN</td>\n",
       "      <td>NaN</td>\n",
       "      <td>NaN</td>\n",
       "      <td>NaN</td>\n",
       "      <td>NaN</td>\n",
       "    </tr>\n",
       "  </tbody>\n",
       "</table>\n",
       "</div>"
      ],
      "text/plain": [
       "                    step    amount  oldbalanceOrg  newbalanceOrig  \\\n",
       "step            1.000000  0.025246      -0.004706       -0.005338   \n",
       "amount          0.025246  1.000000       0.001800       -0.006759   \n",
       "oldbalanceOrg  -0.004706  0.001800       1.000000        0.998549   \n",
       "newbalanceOrig -0.005338 -0.006759       0.998549        1.000000   \n",
       "oldbalanceDest  0.032943  0.241713       0.062647        0.064333   \n",
       "newbalanceDest  0.030707  0.394659       0.039645        0.039500   \n",
       "isFraud         0.035545  0.115305       0.018461       -0.004798   \n",
       "isFlaggedFraud       NaN       NaN            NaN             NaN   \n",
       "\n",
       "                oldbalanceDest  newbalanceDest   isFraud  isFlaggedFraud  \n",
       "step                  0.032943        0.030707  0.035545             NaN  \n",
       "amount                0.241713        0.394659  0.115305             NaN  \n",
       "oldbalanceOrg         0.062647        0.039645  0.018461             NaN  \n",
       "newbalanceOrig        0.064333        0.039500 -0.004798             NaN  \n",
       "oldbalanceDest        1.000000        0.979554  0.011949             NaN  \n",
       "newbalanceDest        0.979554        1.000000  0.017534             NaN  \n",
       "isFraud               0.011949        0.017534  1.000000             NaN  \n",
       "isFlaggedFraud             NaN             NaN       NaN             NaN  "
      ]
     },
     "execution_count": 45,
     "metadata": {},
     "output_type": "execute_result"
    }
   ],
   "source": [
    "finance_sample.corr()"
   ]
  },
  {
   "cell_type": "code",
   "execution_count": 46,
   "metadata": {
    "scrolled": true
   },
   "outputs": [
    {
     "name": "stderr",
     "output_type": "stream",
     "text": [
      "C:\\Users\\mycro\\AppData\\Local\\Temp\\ipykernel_21048\\3999707444.py:5: DeprecationWarning: `np.bool` is a deprecated alias for the builtin `bool`. To silence this warning, use `bool` by itself. Doing this will not modify any behavior and is safe. If you specifically wanted the numpy scalar type, use `np.bool_` here.\n",
      "Deprecated in NumPy 1.20; for more details and guidance: https://numpy.org/devdocs/release/1.20.0-notes.html#deprecations\n",
      "  mask = np.zeros_like(corr, dtype=np.bool)\n"
     ]
    },
    {
     "data": {
      "image/png": "[encoded data removed]",
      "text/plain": [
       "<Figure size 600x600 with 2 Axes>"
      ]
     },
     "metadata": {},
     "output_type": "display_data"
    }
   ],
   "source": [
    "import matplotlib.pyplot as plt\n",
    "import seaborn as sn\n",
    "corr=np.abs(finance_sample.corr())\n",
    "#Set up mask for triangle representation\n",
    "mask = np.zeros_like(corr, dtype=np.bool)\n",
    "mask[np.triu_indices_from(mask)] = True\n",
    "# Set up the matplotlib figure\n",
    "f, ax = plt.subplots(figsize=(6, 6))\n",
    "# Generate a custom diverging colormap\n",
    "cmap = sn.diverging_palette(220, 10, as_cmap=True)\n",
    "# Draw the heatmap with the mask and correct aspect ratio (squared -> only positive values)\n",
    "sn.heatmap(corr, mask=mask,  vmax=1,square=True, linewidths=.5, cbar_kws={\"shrink\": .5},annot = corr)\n",
    "plt.show()"
   ]
  },
  {
   "cell_type": "code",
   "execution_count": null,
   "metadata": {},
   "outputs": [],
   "source": [
    "#there is a perfect correlation between columns newbalanceOrig and oldbalanceOrg -> drop newbalanceOrig because smaller corr with fraud\n",
    "#there is a high correlation between columns newbalanceDest and oldbalanceDest -> drop newbalanceDest because higher cross corr"
   ]
  },
  {
   "cell_type": "markdown",
   "metadata": {},
   "source": [
    "### What is the distribution of the outcome? "
   ]
  },
  {
   "cell_type": "code",
   "execution_count": 47,
   "metadata": {},
   "outputs": [
    {
     "data": {
      "text/plain": [
       "0    99871\n",
       "1      129\n",
       "Name: isFraud, dtype: int64"
      ]
     },
     "execution_count": 47,
     "metadata": {},
     "output_type": "execute_result"
    }
   ],
   "source": [
    "# Your response here\n",
    "#target: isFraud\n",
    "finance_sample[\"isFraud\"].value_counts() #. plot(kind=\"bar\", figsize=(3,2)) -> sample for fraud too small to visualise\n",
    "\n",
    "#129/len(finance_sample) #--> 0.00129 --> 0.129% of the sample are fraud\n",
    "# will have to use re-sampling techniques to get a better result, that also contains this data."
   ]
  },
  {
   "cell_type": "markdown",
   "metadata": {},
   "source": [
    "### Clean the dataset. How are you going to integrate the time variable? Do you think the step (integer) coding in which it is given is appropriate?"
   ]
  },
  {
   "cell_type": "code",
   "execution_count": null,
   "metadata": {},
   "outputs": [],
   "source": [
    "##from here, start using the real data instead of the sample"
   ]
  },
  {
   "cell_type": "code",
   "execution_count": 92,
   "metadata": {},
   "outputs": [
    {
     "data": {
      "text/html": [
       "<div>\n",
       "<style scoped>\n",
       "    .dataframe tbody tr th:only-of-type {\n",
       "        vertical-align: middle;\n",
       "    }\n",
       "\n",
       "    .dataframe tbody tr th {\n",
       "        vertical-align: top;\n",
       "    }\n",
       "\n",
       "    .dataframe thead th {\n",
       "        text-align: right;\n",
       "    }\n",
       "</style>\n",
       "<table border=\"1\" class=\"dataframe\">\n",
       "  <thead>\n",
       "    <tr style=\"text-align: right;\">\n",
       "      <th></th>\n",
       "      <th>step</th>\n",
       "      <th>amount</th>\n",
       "      <th>oldbalanceOrg</th>\n",
       "      <th>oldbalanceDest</th>\n",
       "      <th>isFraud</th>\n",
       "      <th>isFlaggedFraud</th>\n",
       "      <th>type_CASH_IN</th>\n",
       "      <th>type_CASH_OUT</th>\n",
       "      <th>type_PAYMENT</th>\n",
       "      <th>type_TRANSFER</th>\n",
       "    </tr>\n",
       "  </thead>\n",
       "  <tbody>\n",
       "    <tr>\n",
       "      <th>0</th>\n",
       "      <td>1</td>\n",
       "      <td>9839.64</td>\n",
       "      <td>170136.0</td>\n",
       "      <td>0.0</td>\n",
       "      <td>0</td>\n",
       "      <td>0</td>\n",
       "      <td>0</td>\n",
       "      <td>0</td>\n",
       "      <td>1</td>\n",
       "      <td>0</td>\n",
       "    </tr>\n",
       "    <tr>\n",
       "      <th>1</th>\n",
       "      <td>1</td>\n",
       "      <td>1864.28</td>\n",
       "      <td>21249.0</td>\n",
       "      <td>0.0</td>\n",
       "      <td>0</td>\n",
       "      <td>0</td>\n",
       "      <td>0</td>\n",
       "      <td>0</td>\n",
       "      <td>1</td>\n",
       "      <td>0</td>\n",
       "    </tr>\n",
       "    <tr>\n",
       "      <th>2</th>\n",
       "      <td>1</td>\n",
       "      <td>181.00</td>\n",
       "      <td>181.0</td>\n",
       "      <td>0.0</td>\n",
       "      <td>1</td>\n",
       "      <td>0</td>\n",
       "      <td>0</td>\n",
       "      <td>0</td>\n",
       "      <td>0</td>\n",
       "      <td>1</td>\n",
       "    </tr>\n",
       "    <tr>\n",
       "      <th>3</th>\n",
       "      <td>1</td>\n",
       "      <td>181.00</td>\n",
       "      <td>181.0</td>\n",
       "      <td>21182.0</td>\n",
       "      <td>1</td>\n",
       "      <td>0</td>\n",
       "      <td>0</td>\n",
       "      <td>1</td>\n",
       "      <td>0</td>\n",
       "      <td>0</td>\n",
       "    </tr>\n",
       "    <tr>\n",
       "      <th>4</th>\n",
       "      <td>1</td>\n",
       "      <td>11668.14</td>\n",
       "      <td>41554.0</td>\n",
       "      <td>0.0</td>\n",
       "      <td>0</td>\n",
       "      <td>0</td>\n",
       "      <td>0</td>\n",
       "      <td>0</td>\n",
       "      <td>1</td>\n",
       "      <td>0</td>\n",
       "    </tr>\n",
       "  </tbody>\n",
       "</table>\n",
       "</div>"
      ],
      "text/plain": [
       "   step    amount  oldbalanceOrg  oldbalanceDest  isFraud  isFlaggedFraud  \\\n",
       "0     1   9839.64       170136.0             0.0        0               0   \n",
       "1     1   1864.28        21249.0             0.0        0               0   \n",
       "2     1    181.00          181.0             0.0        1               0   \n",
       "3     1    181.00          181.0         21182.0        1               0   \n",
       "4     1  11668.14        41554.0             0.0        0               0   \n",
       "\n",
       "   type_CASH_IN  type_CASH_OUT  type_PAYMENT  type_TRANSFER  \n",
       "0             0              0             1              0  \n",
       "1             0              0             1              0  \n",
       "2             0              0             0              1  \n",
       "3             0              1             0              0  \n",
       "4             0              0             1              0  "
      ]
     },
     "execution_count": 92,
     "metadata": {},
     "output_type": "execute_result"
    }
   ],
   "source": [
    "# Your code here\n",
    "# - 1 - first the cleaning\n",
    "### doing it all with a sample only ###\n",
    "finance_sample_clean = pd.merge(left = finance_sample, \n",
    "                              right = pd.get_dummies(finance_sample[\"type\"], prefix=\"type\"),\n",
    "                              left_index = True,\n",
    "                              right_index = True) \n",
    "### using all the data ### #this stays commented out if not in use#\n",
    "# finance_sample_clean = pd.merge(left = finance, \n",
    "#                               right = pd.get_dummies(finance[\"type\"], prefix=\"type\"),\n",
    "#                               left_index = True,\n",
    "#                               right_index = True) \n",
    "\n",
    "finance_sample_clean = finance_sample_clean.drop(columns=[\"newbalanceOrig\", \"newbalanceDest\", #because of correlation\n",
    "                                                          \"type\",\"type_DEBIT\", #because of dummies\n",
    "                                                          \"nameOrig\",\"nameDest\" #because of too many unique values\n",
    "                                                         ])\n",
    "finance_sample_clean.head()"
   ]
  },
  {
   "cell_type": "code",
   "execution_count": null,
   "metadata": {},
   "outputs": [],
   "source": [
    "# - 2 - then split it into test and train"
   ]
  },
  {
   "cell_type": "code",
   "execution_count": 93,
   "metadata": {},
   "outputs": [],
   "source": [
    "from sklearn.model_selection import train_test_split\n",
    "\n",
    "X = finance_sample_clean.drop(columns=[\"isFraud\"])\n",
    "Y = finance_sample_clean[\"isFraud\"]\n",
    "X_train, X_test, y_train, y_test = train_test_split(X, Y, test_size=0.15) #smaller test size because big data anyway"
   ]
  },
  {
   "cell_type": "code",
   "execution_count": 94,
   "metadata": {},
   "outputs": [
    {
     "data": {
      "text/plain": [
       "(954393,)"
      ]
     },
     "execution_count": 94,
     "metadata": {},
     "output_type": "execute_result"
    }
   ],
   "source": [
    "X_train.shape #(85000, 9)\n",
    "X_test.shape  #(15000, 9)\n",
    "y_train.shape #(85000,)\n",
    "y_test.shape  #(15000,)"
   ]
  },
  {
   "cell_type": "code",
   "execution_count": 95,
   "metadata": {},
   "outputs": [],
   "source": [
    "# - 3 - rescale the data, based on the train dataset\n",
    "from sklearn.preprocessing import MinMaxScaler\n",
    "\n",
    "normalizer = MinMaxScaler() #value before min will be 0, max will be 1, everything else somewher in btw.\n",
    "\n",
    "#do not use the test data for this!! Testdata is not known to the model.\n",
    "#do the normalizing fitting on all the input train data. \n",
    "normalizer.fit(X_train)\n",
    "\n",
    "#Then use that normalization function on the train data and anything coming later on into the model.\n",
    "X_train_normalized = normalizer.transform(X_train)\n",
    "X_test_normalized = normalizer.transform(X_test)"
   ]
  },
  {
   "cell_type": "code",
   "execution_count": 96,
   "metadata": {},
   "outputs": [
    {
     "data": {
      "text/plain": [
       "(954393,)"
      ]
     },
     "execution_count": 96,
     "metadata": {},
     "output_type": "execute_result"
    }
   ],
   "source": [
    "X_train_normalized.shape #(85000, 9)\n",
    "X_test_normalized.shape  #(15000, 9)\n",
    "y_train.shape            #(85000,)\n",
    "y_test.shape             #(15000,)"
   ]
  },
  {
   "cell_type": "code",
   "execution_count": 97,
   "metadata": {},
   "outputs": [],
   "source": [
    "# - 4 - re-sample, oversample some data\n",
    "from imblearn.over_sampling import SMOTE\n",
    "\n",
    "sm = SMOTE(sampling_strategy = 0.5, random_state = 0) ## 0.5 Means my minority class will be half has big as my majority class\n",
    "\n",
    "X_train_SMOTE,y_train_SMOTE = sm.fit_resample(X_train_normalized,y_train)"
   ]
  },
  {
   "cell_type": "code",
   "execution_count": 98,
   "metadata": {},
   "outputs": [
    {
     "data": {
      "text/plain": [
       "(954393,)"
      ]
     },
     "execution_count": 98,
     "metadata": {},
     "output_type": "execute_result"
    }
   ],
   "source": [
    "X_train_SMOTE.shape     #127344, 9)\n",
    "X_test_normalized.shape #(15000, 9)\n",
    "y_train_SMOTE.shape     #(127344,)\n",
    "y_test.shape            #(15000,)"
   ]
  },
  {
   "cell_type": "markdown",
   "metadata": {},
   "source": [
    "### Run a logistic regression classifier and evaluate its accuracy."
   ]
  },
  {
   "cell_type": "code",
   "execution_count": 71,
   "metadata": {},
   "outputs": [],
   "source": [
    "import time"
   ]
  },
  {
   "cell_type": "code",
   "execution_count": 99,
   "metadata": {
    "scrolled": true
   },
   "outputs": [
    {
     "name": "stderr",
     "output_type": "stream",
     "text": [
      "C:\\Users\\mycro\\anaconda3\\lib\\site-packages\\sklearn\\linear_model\\_logistic.py:814: ConvergenceWarning: lbfgs failed to converge (status=1):\n",
      "STOP: TOTAL NO. of ITERATIONS REACHED LIMIT.\n",
      "\n",
      "Increase the number of iterations (max_iter) or scale the data as shown in:\n",
      "    https://scikit-learn.org/stable/modules/preprocessing.html\n",
      "Please also refer to the documentation for alternative solver options:\n",
      "    https://scikit-learn.org/stable/modules/linear_model.html#logistic-regression\n",
      "  n_iter_i = _check_optimize_result(\n"
     ]
    },
    {
     "name": "stdout",
     "output_type": "stream",
     "text": [
      "test data accuracy is 0.9593144543180849\n",
      "train data accuracy is 0.9233926231588261\n",
      "Wall time: 1min 31s\n"
     ]
    }
   ],
   "source": [
    "%%time\n",
    "from sklearn.linear_model import LogisticRegression\n",
    "\n",
    "log_reg = LogisticRegression() \n",
    "log_reg.fit(X_train_SMOTE, y_train_SMOTE)\n",
    "\n",
    "print(\"test data accuracy is\", log_reg.score(X_test_normalized,y_test))\n",
    "print(\"train data accuracy is\", log_reg.score(X_train_SMOTE,y_train_SMOTE)) #no overfitting"
   ]
  },
  {
   "cell_type": "code",
   "execution_count": 100,
   "metadata": {},
   "outputs": [
    {
     "name": "stdout",
     "output_type": "stream",
     "text": [
      "              precision    recall  f1-score   support\n",
      "\n",
      "           0       1.00      0.96      0.98    953143\n",
      "           1       0.03      0.85      0.05      1250\n",
      "\n",
      "    accuracy                           0.96    954393\n",
      "   macro avg       0.51      0.90      0.52    954393\n",
      "weighted avg       1.00      0.96      0.98    954393\n",
      "\n"
     ]
    }
   ],
   "source": [
    "from sklearn.metrics import classification_report\n",
    "\n",
    "pred = log_reg.predict(X_test_normalized)\n",
    "print(classification_report(y_test,pred))"
   ]
  },
  {
   "cell_type": "code",
   "execution_count": 101,
   "metadata": {},
   "outputs": [
    {
     "data": {
      "text/plain": [
       "array([[914502,  38641],\n",
       "       [   189,   1061]], dtype=int64)"
      ]
     },
     "execution_count": 101,
     "metadata": {},
     "output_type": "execute_result"
    }
   ],
   "source": [
    "from sklearn.metrics import confusion_matrix\n",
    "confusion_matrix(y_test, pred)\n",
    "#this gives the sample counts in these 4 groups:\n",
    "## True Negative | False Positive\n",
    "##False Negative |  True Positive"
   ]
  },
  {
   "cell_type": "code",
   "execution_count": null,
   "metadata": {},
   "outputs": [],
   "source": [
    "## LogisticRegression\n",
    "## Result 1 (only using sample = 100000): misses 5 out of 25, recall of 80%. Overall score: 0.92\n",
    "## Result 2 (using all of the dataset)  : misses 189 out of 1250, recall of 85%. Overall score: 0.96"
   ]
  },
  {
   "cell_type": "markdown",
   "metadata": {},
   "source": [
    "### Now pick a model of your choice and evaluate its accuracy."
   ]
  },
  {
   "cell_type": "code",
   "execution_count": 103,
   "metadata": {},
   "outputs": [
    {
     "name": "stdout",
     "output_type": "stream",
     "text": [
      "test data accuracy is 0.9937845311103497\n",
      "train data accuracy is 0.9021104442713163\n",
      "Wall time: 17 s\n"
     ]
    }
   ],
   "source": [
    "%%time\n",
    "#DecisionTrees\n",
    "from sklearn.tree import DecisionTreeClassifier\n",
    "tree = DecisionTreeClassifier(max_depth = 3) #max 3 nodes splitting, chosen after tuning \n",
    "tree.fit(X_train_SMOTE, y_train_SMOTE)\n",
    "print(\"test data accuracy is\", tree.score(X_test_normalized,y_test))\n",
    "print(\"train data accuracy is\", tree.score(X_train_SMOTE,y_train_SMOTE)) #1 = overfitting completely. too high max_depth with 10."
   ]
  },
  {
   "cell_type": "code",
   "execution_count": 104,
   "metadata": {},
   "outputs": [
    {
     "name": "stdout",
     "output_type": "stream",
     "text": [
      "              precision    recall  f1-score   support\n",
      "\n",
      "           0       1.00      0.99      1.00    953143\n",
      "           1       0.14      0.72      0.23      1250\n",
      "\n",
      "    accuracy                           0.99    954393\n",
      "   macro avg       0.57      0.86      0.62    954393\n",
      "weighted avg       1.00      0.99      1.00    954393\n",
      "\n"
     ]
    },
    {
     "data": {
      "text/plain": [
       "array([[947556,   5587],\n",
       "       [   345,    905]], dtype=int64)"
      ]
     },
     "execution_count": 104,
     "metadata": {},
     "output_type": "execute_result"
    }
   ],
   "source": [
    "pred = tree.predict(X_test_normalized)\n",
    "print(classification_report(y_test,pred))\n",
    "confusion_matrix(y_test, pred)"
   ]
  },
  {
   "cell_type": "code",
   "execution_count": null,
   "metadata": {},
   "outputs": [],
   "source": [
    "## DecisionTreeClassifier\n",
    "## Result 1 (only using sample = 100000): misses 2 out of 25, recall of 92%. Overall score: 0.965\n",
    "## Result 2 (using all of the dataset)  : misses 345 out of 1250, recall of 72%. Overall score: 0.994"
   ]
  },
  {
   "cell_type": "code",
   "execution_count": 78,
   "metadata": {},
   "outputs": [
    {
     "data": {
      "image/png": "[encoded data removed]",
      "text/plain": [
       "<Figure size 640x480 with 1 Axes>"
      ]
     },
     "metadata": {},
     "output_type": "display_data"
    }
   ],
   "source": [
    "# hyerparameter tuning - find the right max_depth\n",
    "\n",
    "import matplotlib.pyplot as plt\n",
    "training_accuracy = []\n",
    "test_accuracy = []\n",
    "# try from 1 to 15\n",
    "max_depth_settings = range(1, 15)\n",
    "for max_depth in max_depth_settings:\n",
    "  # build the model\n",
    "  tree = DecisionTreeClassifier(max_depth=max_depth)\n",
    "  #training the model\n",
    "  tree.fit(X_train_SMOTE, y_train_SMOTE)\n",
    "  # record training set accuracy\n",
    "  training_accuracy.append(tree.score(X_train_SMOTE, y_train_SMOTE))\n",
    "  # record generalization accuracy\n",
    "  test_accuracy.append(tree.score(X_test_normalized, y_test))\n",
    "plt.plot(max_depth_settings, training_accuracy, label=\"training accuracy\")\n",
    "plt.plot(max_depth_settings, test_accuracy, label=\"test accuracy\")\n",
    "\n",
    "plt.ylabel(\"Accuracy\")\n",
    "plt.xlabel(\"max_depth\")\n",
    "plt.legend()\n",
    "plt.grid()\n",
    "plt.show()"
   ]
  },
  {
   "cell_type": "code",
   "execution_count": 105,
   "metadata": {},
   "outputs": [
    {
     "name": "stdout",
     "output_type": "stream",
     "text": [
      "Wall time: 7min 44s\n"
     ]
    },
    {
     "data": {
      "text/plain": [
       "0.9821446720585755"
      ]
     },
     "execution_count": 105,
     "metadata": {},
     "output_type": "execute_result"
    }
   ],
   "source": [
    "%%time\n",
    "# B Gradient Boosting - always using DecTrees, no method choosing\n",
    "#correcting the mistakes done in the previous trees\n",
    "from sklearn.ensemble import GradientBoostingClassifier\n",
    "\n",
    "gb_clas = GradientBoostingClassifier(max_depth=3,\n",
    "                                    n_estimators = 25, #used 100 for the sample, only 25 for the whole data\n",
    "                                    random_state = 1)\n",
    "gb_clas.fit(X_train_SMOTE, y_train_SMOTE)\n",
    "gb_clas.score(X_test_normalized, y_test)"
   ]
  },
  {
   "cell_type": "code",
   "execution_count": 106,
   "metadata": {},
   "outputs": [
    {
     "name": "stdout",
     "output_type": "stream",
     "text": [
      "              precision    recall  f1-score   support\n",
      "\n",
      "           0       1.00      0.98      0.99    953143\n",
      "           1       0.06      0.85      0.11      1250\n",
      "\n",
      "    accuracy                           0.98    954393\n",
      "   macro avg       0.53      0.91      0.55    954393\n",
      "weighted avg       1.00      0.98      0.99    954393\n",
      "\n"
     ]
    },
    {
     "data": {
      "text/plain": [
       "array([[936295,  16848],\n",
       "       [   193,   1057]], dtype=int64)"
      ]
     },
     "execution_count": 106,
     "metadata": {},
     "output_type": "execute_result"
    }
   ],
   "source": [
    "pred = gb_clas.predict(X_test_normalized)\n",
    "print(classification_report(y_test,pred))\n",
    "confusion_matrix(y_test, pred)"
   ]
  },
  {
   "cell_type": "code",
   "execution_count": null,
   "metadata": {},
   "outputs": [],
   "source": [
    "## GradientBoostingClassifier\n",
    "## Result 1 (only using sample = 100000): misses 1 out of 25, recall of 96%. Overall score: 0.99\n",
    "## Result 2 (using all of the dataset)  : misses 193 out of 1250, recall of 85%. Overall score: 0.98"
   ]
  },
  {
   "cell_type": "markdown",
   "metadata": {},
   "source": [
    "### Which model worked better and how do you know?"
   ]
  },
  {
   "cell_type": "code",
   "execution_count": 2,
   "metadata": {},
   "outputs": [],
   "source": [
    "# Your response here\n",
    "\n",
    "# Looking at the sample data, the LogisticRegression was worse than DecisionTreeClassifier was worse than GradientBoostingClassifier.\n",
    "# That makes sense as I tried hyperparameter tuning only for the decision tree model, not the logistic regression.\n",
    "# The GradientBoostingClassifier uses the tuned hyperparameter but runs the Decision tree 100 times, so the result is even better.\n",
    "\n",
    "# How do I recognise a better result? Looking at the overall score on the test data (going up from LogisticRegression to \n",
    "# DecisionTreeClassifier), and more importantly, at the recall value (going up from LogisticRegression to DecisionTreeClassifier).\n",
    "# A higher recall value means there was less False negatives in the prediction, the prediction did not miss so many fraud transfers.\n",
    "\n",
    "# Looking at the complete data, the DecisionTreeClassifier is worse than the other two (very similar).\n",
    "# DecisionTreeClassifier has a high overall score, but the recall value goes down to 72%.\n",
    "# Both of the other models, LogisticRegression and GradientBoostingClassifier, have a better recall rate with 85%.\n",
    "# The model GradientBoostingClassifier has a higher overall score, meaning that it does less false positive alerts.\n",
    "\n",
    "# In the end, I would choose GradientBoostingClassifier as my model, as it had the best results with the sampled down data\n",
    "# and is still in the better group of results with the complete dataset. "
   ]
  },
  {
   "cell_type": "markdown",
   "metadata": {},
   "source": [
    "### Note: before doing the first commit, make sure you don't include the large csv file, either by adding it to .gitignore, or by deleting it."
   ]
  }
 ],
 "metadata": {
  "kernelspec": {
   "display_name": "Python 3 (ipykernel)",
   "language": "python",
   "name": "python3"
  },
  "language_info": {
   "codemirror_mode": {
    "name": "ipython",
    "version": 3
   },
   "file_extension": ".py",
   "mimetype": "text/x-python",
   "name": "python",
   "nbconvert_exporter": "python",
   "pygments_lexer": "ipython3",
   "version": "3.9.13"
  }
 },
 "nbformat": 4,
 "nbformat_minor": 2
}
