{
 "cells": [
  {
   "cell_type": "markdown",
   "metadata": {},
   "source": [
    "# Inbalanced Classes\n",
    "## In this lab, we are going to explore a case of imbalanced classes. \n",
    "\n",
    "\n",
    "Like we disussed in class, when we have noisy data, if we are not careful, we can end up fitting our model to the noise in the data and not the 'signal'-- the factors that actually determine the outcome. This is called overfitting, and results in good results in training, and in bad results when the model is applied to real data. Similarly, we could have a model that is too simplistic to accurately model the signal. This produces a model that doesnt work well (ever). \n"
   ]
  },
  {
   "cell_type": "markdown",
   "metadata": {},
   "source": [
    "### Note: before doing the first commit, make sure you don't include the large csv file, either by adding it to .gitignore, or by deleting it."
   ]
  },
  {
   "cell_type": "markdown",
   "metadata": {},
   "source": [
    "### First, download the data from: https://www.kaggle.com/datasets/ealaxi/paysim1. Import the dataset and provide some discriptive statistics and plots. What do you think will be the important features in determining the outcome?\n",
    "### Note: don't use the entire dataset, use a sample instead, with n=100000 elements, so your computer doesn't freeze."
   ]
  },
  {
   "cell_type": "code",
   "execution_count": 3,
   "metadata": {},
   "outputs": [],
   "source": [
    "import pandas as pd\n",
    "import numpy as np"
   ]
  },
  {
   "cell_type": "code",
   "execution_count": 5,
   "metadata": {},
   "outputs": [
    {
     "data": {
      "text/html": [
       "<div>\n",
       "<style scoped>\n",
       "    .dataframe tbody tr th:only-of-type {\n",
       "        vertical-align: middle;\n",
       "    }\n",
       "\n",
       "    .dataframe tbody tr th {\n",
       "        vertical-align: top;\n",
       "    }\n",
       "\n",
       "    .dataframe thead th {\n",
       "        text-align: right;\n",
       "    }\n",
       "</style>\n",
       "<table border=\"1\" class=\"dataframe\">\n",
       "  <thead>\n",
       "    <tr style=\"text-align: right;\">\n",
       "      <th></th>\n",
       "      <th>step</th>\n",
       "      <th>type</th>\n",
       "      <th>amount</th>\n",
       "      <th>nameOrig</th>\n",
       "      <th>oldbalanceOrg</th>\n",
       "      <th>newbalanceOrig</th>\n",
       "      <th>nameDest</th>\n",
       "      <th>oldbalanceDest</th>\n",
       "      <th>newbalanceDest</th>\n",
       "      <th>isFraud</th>\n",
       "      <th>isFlaggedFraud</th>\n",
       "    </tr>\n",
       "  </thead>\n",
       "  <tbody>\n",
       "    <tr>\n",
       "      <th>4322754</th>\n",
       "      <td>308</td>\n",
       "      <td>CASH_IN</td>\n",
       "      <td>300104.98</td>\n",
       "      <td>C1860022258</td>\n",
       "      <td>49610.00</td>\n",
       "      <td>349714.98</td>\n",
       "      <td>C500312084</td>\n",
       "      <td>0.00</td>\n",
       "      <td>0.00</td>\n",
       "      <td>0</td>\n",
       "      <td>0</td>\n",
       "    </tr>\n",
       "    <tr>\n",
       "      <th>2014520</th>\n",
       "      <td>180</td>\n",
       "      <td>PAYMENT</td>\n",
       "      <td>2279.49</td>\n",
       "      <td>C489513967</td>\n",
       "      <td>45070.00</td>\n",
       "      <td>42790.51</td>\n",
       "      <td>M100076367</td>\n",
       "      <td>0.00</td>\n",
       "      <td>0.00</td>\n",
       "      <td>0</td>\n",
       "      <td>0</td>\n",
       "    </tr>\n",
       "    <tr>\n",
       "      <th>1464593</th>\n",
       "      <td>140</td>\n",
       "      <td>CASH_OUT</td>\n",
       "      <td>207500.36</td>\n",
       "      <td>C766669440</td>\n",
       "      <td>0.00</td>\n",
       "      <td>0.00</td>\n",
       "      <td>C2023176555</td>\n",
       "      <td>3377272.26</td>\n",
       "      <td>3567270.55</td>\n",
       "      <td>0</td>\n",
       "      <td>0</td>\n",
       "    </tr>\n",
       "    <tr>\n",
       "      <th>1195060</th>\n",
       "      <td>132</td>\n",
       "      <td>TRANSFER</td>\n",
       "      <td>561898.95</td>\n",
       "      <td>C1047514788</td>\n",
       "      <td>540585.00</td>\n",
       "      <td>0.00</td>\n",
       "      <td>C2129305383</td>\n",
       "      <td>78744.41</td>\n",
       "      <td>640643.36</td>\n",
       "      <td>0</td>\n",
       "      <td>0</td>\n",
       "    </tr>\n",
       "    <tr>\n",
       "      <th>2181325</th>\n",
       "      <td>185</td>\n",
       "      <td>PAYMENT</td>\n",
       "      <td>1825.79</td>\n",
       "      <td>C953842295</td>\n",
       "      <td>148853.03</td>\n",
       "      <td>147027.24</td>\n",
       "      <td>M1794173888</td>\n",
       "      <td>0.00</td>\n",
       "      <td>0.00</td>\n",
       "      <td>0</td>\n",
       "      <td>0</td>\n",
       "    </tr>\n",
       "  </tbody>\n",
       "</table>\n",
       "</div>"
      ],
      "text/plain": [
       "         step      type     amount     nameOrig  oldbalanceOrg  \\\n",
       "4322754   308   CASH_IN  300104.98  C1860022258       49610.00   \n",
       "2014520   180   PAYMENT    2279.49   C489513967       45070.00   \n",
       "1464593   140  CASH_OUT  207500.36   C766669440           0.00   \n",
       "1195060   132  TRANSFER  561898.95  C1047514788      540585.00   \n",
       "2181325   185   PAYMENT    1825.79   C953842295      148853.03   \n",
       "\n",
       "         newbalanceOrig     nameDest  oldbalanceDest  newbalanceDest  isFraud  \\\n",
       "4322754       349714.98   C500312084            0.00            0.00        0   \n",
       "2014520        42790.51   M100076367            0.00            0.00        0   \n",
       "1464593            0.00  C2023176555      3377272.26      3567270.55        0   \n",
       "1195060            0.00  C2129305383        78744.41       640643.36        0   \n",
       "2181325       147027.24  M1794173888            0.00            0.00        0   \n",
       "\n",
       "         isFlaggedFraud  \n",
       "4322754               0  \n",
       "2014520               0  \n",
       "1464593               0  \n",
       "1195060               0  \n",
       "2181325               0  "
      ]
     },
     "execution_count": 5,
     "metadata": {},
     "output_type": "execute_result"
    }
   ],
   "source": [
    "# Your code here\n",
    "df = pd.read_csv(\"PS_20174392719_1491204439457_log.csv\").sample(1000000)\n",
    "df.head()"
   ]
  },
  {
   "cell_type": "code",
   "execution_count": 7,
   "metadata": {},
   "outputs": [
    {
     "data": {
      "text/plain": [
       "step                int64\n",
       "type               object\n",
       "amount            float64\n",
       "nameOrig           object\n",
       "oldbalanceOrg     float64\n",
       "newbalanceOrig    float64\n",
       "nameDest           object\n",
       "oldbalanceDest    float64\n",
       "newbalanceDest    float64\n",
       "isFraud             int64\n",
       "isFlaggedFraud      int64\n",
       "dtype: object"
      ]
     },
     "execution_count": 7,
     "metadata": {},
     "output_type": "execute_result"
    }
   ],
   "source": [
    "df.dtypes"
   ]
  },
  {
   "cell_type": "code",
   "execution_count": 9,
   "metadata": {},
   "outputs": [
    {
     "name": "stderr",
     "output_type": "stream",
     "text": [
      "C:\\Users\\jmpcs\\AppData\\Local\\Temp\\ipykernel_21428\\1134722465.py:1: FutureWarning: The default value of numeric_only in DataFrame.corr is deprecated. In a future version, it will default to False. Select only valid columns or specify the value of numeric_only to silence this warning.\n",
      "  df.corr()\n"
     ]
    },
    {
     "data": {
      "text/html": [
       "<div>\n",
       "<style scoped>\n",
       "    .dataframe tbody tr th:only-of-type {\n",
       "        vertical-align: middle;\n",
       "    }\n",
       "\n",
       "    .dataframe tbody tr th {\n",
       "        vertical-align: top;\n",
       "    }\n",
       "\n",
       "    .dataframe thead th {\n",
       "        text-align: right;\n",
       "    }\n",
       "</style>\n",
       "<table border=\"1\" class=\"dataframe\">\n",
       "  <thead>\n",
       "    <tr style=\"text-align: right;\">\n",
       "      <th></th>\n",
       "      <th>step</th>\n",
       "      <th>amount</th>\n",
       "      <th>oldbalanceOrg</th>\n",
       "      <th>newbalanceOrig</th>\n",
       "      <th>oldbalanceDest</th>\n",
       "      <th>newbalanceDest</th>\n",
       "      <th>isFraud</th>\n",
       "      <th>isFlaggedFraud</th>\n",
       "    </tr>\n",
       "  </thead>\n",
       "  <tbody>\n",
       "    <tr>\n",
       "      <th>step</th>\n",
       "      <td>1.000000</td>\n",
       "      <td>0.022195</td>\n",
       "      <td>-0.010006</td>\n",
       "      <td>-0.010303</td>\n",
       "      <td>0.028883</td>\n",
       "      <td>0.027078</td>\n",
       "      <td>0.032551</td>\n",
       "      <td>0.001617</td>\n",
       "    </tr>\n",
       "    <tr>\n",
       "      <th>amount</th>\n",
       "      <td>0.022195</td>\n",
       "      <td>1.000000</td>\n",
       "      <td>-0.002772</td>\n",
       "      <td>-0.007899</td>\n",
       "      <td>0.292567</td>\n",
       "      <td>0.455528</td>\n",
       "      <td>0.079009</td>\n",
       "      <td>0.016886</td>\n",
       "    </tr>\n",
       "    <tr>\n",
       "      <th>oldbalanceOrg</th>\n",
       "      <td>-0.010006</td>\n",
       "      <td>-0.002772</td>\n",
       "      <td>1.000000</td>\n",
       "      <td>0.998809</td>\n",
       "      <td>0.066670</td>\n",
       "      <td>0.042737</td>\n",
       "      <td>0.009661</td>\n",
       "      <td>0.005578</td>\n",
       "    </tr>\n",
       "    <tr>\n",
       "      <th>newbalanceOrig</th>\n",
       "      <td>-0.010303</td>\n",
       "      <td>-0.007899</td>\n",
       "      <td>0.998809</td>\n",
       "      <td>1.000000</td>\n",
       "      <td>0.068156</td>\n",
       "      <td>0.042505</td>\n",
       "      <td>-0.008695</td>\n",
       "      <td>0.005499</td>\n",
       "    </tr>\n",
       "    <tr>\n",
       "      <th>oldbalanceDest</th>\n",
       "      <td>0.028883</td>\n",
       "      <td>0.292567</td>\n",
       "      <td>0.066670</td>\n",
       "      <td>0.068156</td>\n",
       "      <td>1.000000</td>\n",
       "      <td>0.977110</td>\n",
       "      <td>-0.005703</td>\n",
       "      <td>-0.000455</td>\n",
       "    </tr>\n",
       "    <tr>\n",
       "      <th>newbalanceDest</th>\n",
       "      <td>0.027078</td>\n",
       "      <td>0.455528</td>\n",
       "      <td>0.042737</td>\n",
       "      <td>0.042505</td>\n",
       "      <td>0.977110</td>\n",
       "      <td>1.000000</td>\n",
       "      <td>0.000739</td>\n",
       "      <td>-0.000470</td>\n",
       "    </tr>\n",
       "    <tr>\n",
       "      <th>isFraud</th>\n",
       "      <td>0.032551</td>\n",
       "      <td>0.079009</td>\n",
       "      <td>0.009661</td>\n",
       "      <td>-0.008695</td>\n",
       "      <td>-0.005703</td>\n",
       "      <td>0.000739</td>\n",
       "      <td>1.000000</td>\n",
       "      <td>0.039674</td>\n",
       "    </tr>\n",
       "    <tr>\n",
       "      <th>isFlaggedFraud</th>\n",
       "      <td>0.001617</td>\n",
       "      <td>0.016886</td>\n",
       "      <td>0.005578</td>\n",
       "      <td>0.005499</td>\n",
       "      <td>-0.000455</td>\n",
       "      <td>-0.000470</td>\n",
       "      <td>0.039674</td>\n",
       "      <td>1.000000</td>\n",
       "    </tr>\n",
       "  </tbody>\n",
       "</table>\n",
       "</div>"
      ],
      "text/plain": [
       "                    step    amount  oldbalanceOrg  newbalanceOrig  \\\n",
       "step            1.000000  0.022195      -0.010006       -0.010303   \n",
       "amount          0.022195  1.000000      -0.002772       -0.007899   \n",
       "oldbalanceOrg  -0.010006 -0.002772       1.000000        0.998809   \n",
       "newbalanceOrig -0.010303 -0.007899       0.998809        1.000000   \n",
       "oldbalanceDest  0.028883  0.292567       0.066670        0.068156   \n",
       "newbalanceDest  0.027078  0.455528       0.042737        0.042505   \n",
       "isFraud         0.032551  0.079009       0.009661       -0.008695   \n",
       "isFlaggedFraud  0.001617  0.016886       0.005578        0.005499   \n",
       "\n",
       "                oldbalanceDest  newbalanceDest   isFraud  isFlaggedFraud  \n",
       "step                  0.028883        0.027078  0.032551        0.001617  \n",
       "amount                0.292567        0.455528  0.079009        0.016886  \n",
       "oldbalanceOrg         0.066670        0.042737  0.009661        0.005578  \n",
       "newbalanceOrig        0.068156        0.042505 -0.008695        0.005499  \n",
       "oldbalanceDest        1.000000        0.977110 -0.005703       -0.000455  \n",
       "newbalanceDest        0.977110        1.000000  0.000739       -0.000470  \n",
       "isFraud              -0.005703        0.000739  1.000000        0.039674  \n",
       "isFlaggedFraud       -0.000455       -0.000470  0.039674        1.000000  "
      ]
     },
     "execution_count": 9,
     "metadata": {},
     "output_type": "execute_result"
    }
   ],
   "source": [
    "df.corr()"
   ]
  },
  {
   "cell_type": "markdown",
   "metadata": {},
   "source": [
    "### What is the distribution of the outcome? "
   ]
  },
  {
   "cell_type": "code",
   "execution_count": 10,
   "metadata": {},
   "outputs": [
    {
     "data": {
      "text/plain": [
       "<AxesSubplot: >"
      ]
     },
     "execution_count": 10,
     "metadata": {},
     "output_type": "execute_result"
    },
    {
     "data": {
      "image/png": "[encoded data removed]",
      "text/plain": [
       "<Figure size 640x480 with 1 Axes>"
      ]
     },
     "metadata": {},
     "output_type": "display_data"
    }
   ],
   "source": [
    "# Your response here\n",
    "pd.value_counts(df['isFraud']).plot(kind = 'bar')"
   ]
  },
  {
   "cell_type": "markdown",
   "metadata": {},
   "source": [
    "### Clean the dataset. How are you going to integrate the time variable? Do you think the step (integer) coding in which it is given is appropriate?"
   ]
  },
  {
   "cell_type": "code",
   "execution_count": 11,
   "metadata": {},
   "outputs": [
    {
     "data": {
      "text/plain": [
       "<AxesSubplot: >"
      ]
     },
     "execution_count": 11,
     "metadata": {},
     "output_type": "execute_result"
    },
    {
     "data": {
      "image/png": "[encoded data removed]",
      "text/plain": [
       "<Figure size 640x480 with 1 Axes>"
      ]
     },
     "metadata": {},
     "output_type": "display_data"
    }
   ],
   "source": [
    "# Your code here\n",
    "pd.value_counts(df['type']).plot(kind = 'bar')"
   ]
  },
  {
   "cell_type": "code",
   "execution_count": 12,
   "metadata": {},
   "outputs": [
    {
     "data": {
      "text/html": [
       "<div>\n",
       "<style scoped>\n",
       "    .dataframe tbody tr th:only-of-type {\n",
       "        vertical-align: middle;\n",
       "    }\n",
       "\n",
       "    .dataframe tbody tr th {\n",
       "        vertical-align: top;\n",
       "    }\n",
       "\n",
       "    .dataframe thead th {\n",
       "        text-align: right;\n",
       "    }\n",
       "</style>\n",
       "<table border=\"1\" class=\"dataframe\">\n",
       "  <thead>\n",
       "    <tr style=\"text-align: right;\">\n",
       "      <th></th>\n",
       "      <th>step</th>\n",
       "      <th>amount</th>\n",
       "      <th>oldbalanceOrg</th>\n",
       "      <th>newbalanceOrig</th>\n",
       "      <th>oldbalanceDest</th>\n",
       "      <th>newbalanceDest</th>\n",
       "      <th>isFraud</th>\n",
       "      <th>isFlaggedFraud</th>\n",
       "      <th>type_CASH_IN</th>\n",
       "      <th>type_CASH_OUT</th>\n",
       "      <th>type_DEBIT</th>\n",
       "      <th>type_PAYMENT</th>\n",
       "      <th>type_TRANSFER</th>\n",
       "    </tr>\n",
       "  </thead>\n",
       "  <tbody>\n",
       "    <tr>\n",
       "      <th>4322754</th>\n",
       "      <td>308</td>\n",
       "      <td>300104.98</td>\n",
       "      <td>49610.00</td>\n",
       "      <td>349714.98</td>\n",
       "      <td>0.00</td>\n",
       "      <td>0.00</td>\n",
       "      <td>0</td>\n",
       "      <td>0</td>\n",
       "      <td>1</td>\n",
       "      <td>0</td>\n",
       "      <td>0</td>\n",
       "      <td>0</td>\n",
       "      <td>0</td>\n",
       "    </tr>\n",
       "    <tr>\n",
       "      <th>2014520</th>\n",
       "      <td>180</td>\n",
       "      <td>2279.49</td>\n",
       "      <td>45070.00</td>\n",
       "      <td>42790.51</td>\n",
       "      <td>0.00</td>\n",
       "      <td>0.00</td>\n",
       "      <td>0</td>\n",
       "      <td>0</td>\n",
       "      <td>0</td>\n",
       "      <td>0</td>\n",
       "      <td>0</td>\n",
       "      <td>1</td>\n",
       "      <td>0</td>\n",
       "    </tr>\n",
       "    <tr>\n",
       "      <th>1464593</th>\n",
       "      <td>140</td>\n",
       "      <td>207500.36</td>\n",
       "      <td>0.00</td>\n",
       "      <td>0.00</td>\n",
       "      <td>3377272.26</td>\n",
       "      <td>3567270.55</td>\n",
       "      <td>0</td>\n",
       "      <td>0</td>\n",
       "      <td>0</td>\n",
       "      <td>1</td>\n",
       "      <td>0</td>\n",
       "      <td>0</td>\n",
       "      <td>0</td>\n",
       "    </tr>\n",
       "    <tr>\n",
       "      <th>1195060</th>\n",
       "      <td>132</td>\n",
       "      <td>561898.95</td>\n",
       "      <td>540585.00</td>\n",
       "      <td>0.00</td>\n",
       "      <td>78744.41</td>\n",
       "      <td>640643.36</td>\n",
       "      <td>0</td>\n",
       "      <td>0</td>\n",
       "      <td>0</td>\n",
       "      <td>0</td>\n",
       "      <td>0</td>\n",
       "      <td>0</td>\n",
       "      <td>1</td>\n",
       "    </tr>\n",
       "    <tr>\n",
       "      <th>2181325</th>\n",
       "      <td>185</td>\n",
       "      <td>1825.79</td>\n",
       "      <td>148853.03</td>\n",
       "      <td>147027.24</td>\n",
       "      <td>0.00</td>\n",
       "      <td>0.00</td>\n",
       "      <td>0</td>\n",
       "      <td>0</td>\n",
       "      <td>0</td>\n",
       "      <td>0</td>\n",
       "      <td>0</td>\n",
       "      <td>1</td>\n",
       "      <td>0</td>\n",
       "    </tr>\n",
       "  </tbody>\n",
       "</table>\n",
       "</div>"
      ],
      "text/plain": [
       "         step     amount  oldbalanceOrg  newbalanceOrig  oldbalanceDest  \\\n",
       "4322754   308  300104.98       49610.00       349714.98            0.00   \n",
       "2014520   180    2279.49       45070.00        42790.51            0.00   \n",
       "1464593   140  207500.36           0.00            0.00      3377272.26   \n",
       "1195060   132  561898.95      540585.00            0.00        78744.41   \n",
       "2181325   185    1825.79      148853.03       147027.24            0.00   \n",
       "\n",
       "         newbalanceDest  isFraud  isFlaggedFraud  type_CASH_IN  type_CASH_OUT  \\\n",
       "4322754            0.00        0               0             1              0   \n",
       "2014520            0.00        0               0             0              0   \n",
       "1464593      3567270.55        0               0             0              1   \n",
       "1195060       640643.36        0               0             0              0   \n",
       "2181325            0.00        0               0             0              0   \n",
       "\n",
       "         type_DEBIT  type_PAYMENT  type_TRANSFER  \n",
       "4322754           0             0              0  \n",
       "2014520           0             1              0  \n",
       "1464593           0             0              0  \n",
       "1195060           0             0              1  \n",
       "2181325           0             1              0  "
      ]
     },
     "execution_count": 12,
     "metadata": {},
     "output_type": "execute_result"
    }
   ],
   "source": [
    "df = pd.get_dummies(df, columns=['type'])\n",
    "df.drop(['nameOrig','nameDest'], axis = 1, inplace=True)\n",
    "df.head()"
   ]
  },
  {
   "cell_type": "markdown",
   "metadata": {},
   "source": [
    "### Run a logisitc regression classifier and evaluate its accuracy."
   ]
  },
  {
   "cell_type": "code",
   "execution_count": 14,
   "metadata": {},
   "outputs": [
    {
     "data": {
      "text/plain": [
       "0.99852"
      ]
     },
     "execution_count": 14,
     "metadata": {},
     "output_type": "execute_result"
    }
   ],
   "source": [
    "# Your code here\n",
    "from sklearn.model_selection import train_test_split\n",
    "from sklearn.linear_model import LogisticRegression\n",
    "from sklearn.metrics import classification_report, confusion_matrix\n",
    "\n",
    "data = df.drop(labels='isFraud', axis=1)\n",
    "target = df['isFraud']\n",
    "\n",
    "X_train, X_test, y_train, y_test = train_test_split(data, target, test_size= 0.2)\n",
    "\n",
    "LR = LogisticRegression()\n",
    "LR.fit(X_train,y_train)\n",
    "LR.score(X_test,y_test)\n",
    "pred = LR.predict(X_test)\n",
    "\n",
    "LR.score(X_train,y_train)"
   ]
  },
  {
   "cell_type": "code",
   "execution_count": 15,
   "metadata": {},
   "outputs": [
    {
     "data": {
      "text/plain": [
       "array([[199578,    175],\n",
       "       [   149,     98]], dtype=int64)"
      ]
     },
     "execution_count": 15,
     "metadata": {},
     "output_type": "execute_result"
    }
   ],
   "source": [
    "pred = LR.predict(X_test)\n",
    "confusion_matrix(y_test, pred)"
   ]
  },
  {
   "cell_type": "markdown",
   "metadata": {},
   "source": [
    "### Now pick a model of your choice and evaluate its accuracy."
   ]
  },
  {
   "cell_type": "code",
   "execution_count": 17,
   "metadata": {},
   "outputs": [
    {
     "ename": "KeyboardInterrupt",
     "evalue": "",
     "output_type": "error",
     "traceback": [
      "\u001b[1;31m---------------------------------------------------------------------------\u001b[0m",
      "\u001b[1;31mKeyboardInterrupt\u001b[0m                         Traceback (most recent call last)",
      "\u001b[1;32mc:\\Users\\jmpcs\\Desktop\\Ironhack\\Labs\\lab-imbalance\\your-code\\lab_imbalance.ipynb Cell 17\u001b[0m in \u001b[0;36m7\n\u001b[0;32m      <a href='vscode-notebook-cell:/c%3A/Users/jmpcs/Desktop/Ironhack/Labs/lab-imbalance/your-code/lab_imbalance.ipynb#X14sZmlsZQ%3D%3D?line=0'>1</a>\u001b[0m \u001b[39mfrom\u001b[39;00m \u001b[39msklearn\u001b[39;00m\u001b[39m.\u001b[39;00m\u001b[39mensemble\u001b[39;00m \u001b[39mimport\u001b[39;00m GradientBoostingClassifier\n\u001b[0;32m      <a href='vscode-notebook-cell:/c%3A/Users/jmpcs/Desktop/Ironhack/Labs/lab-imbalance/your-code/lab_imbalance.ipynb#X14sZmlsZQ%3D%3D?line=1'>2</a>\u001b[0m \u001b[39mfrom\u001b[39;00m \u001b[39msklearn\u001b[39;00m\u001b[39m.\u001b[39;00m\u001b[39mmetrics\u001b[39;00m \u001b[39mimport\u001b[39;00m accuracy_score\n\u001b[0;32m      <a href='vscode-notebook-cell:/c%3A/Users/jmpcs/Desktop/Ironhack/Labs/lab-imbalance/your-code/lab_imbalance.ipynb#X14sZmlsZQ%3D%3D?line=3'>4</a>\u001b[0m clf \u001b[39m=\u001b[39m GradientBoostingClassifier(n_estimators \u001b[39m=\u001b[39m \u001b[39m1000\u001b[39m\n\u001b[0;32m      <a href='vscode-notebook-cell:/c%3A/Users/jmpcs/Desktop/Ironhack/Labs/lab-imbalance/your-code/lab_imbalance.ipynb#X14sZmlsZQ%3D%3D?line=4'>5</a>\u001b[0m                                 ,learning_rate \u001b[39m=\u001b[39m \u001b[39m1\u001b[39m\n\u001b[0;32m      <a href='vscode-notebook-cell:/c%3A/Users/jmpcs/Desktop/Ironhack/Labs/lab-imbalance/your-code/lab_imbalance.ipynb#X14sZmlsZQ%3D%3D?line=5'>6</a>\u001b[0m                                 ,max_depth \u001b[39m=\u001b[39m \u001b[39m1\u001b[39m\n\u001b[1;32m----> <a href='vscode-notebook-cell:/c%3A/Users/jmpcs/Desktop/Ironhack/Labs/lab-imbalance/your-code/lab_imbalance.ipynb#X14sZmlsZQ%3D%3D?line=6'>7</a>\u001b[0m                                 ,random_state \u001b[39m=\u001b[39m \u001b[39m0\u001b[39m)\u001b[39m.\u001b[39mfit(X_train, y_train)\n\u001b[0;32m      <a href='vscode-notebook-cell:/c%3A/Users/jmpcs/Desktop/Ironhack/Labs/lab-imbalance/your-code/lab_imbalance.ipynb#X14sZmlsZQ%3D%3D?line=8'>9</a>\u001b[0m display(clf\u001b[39m.\u001b[39mscore(X_train,y_train))\n\u001b[0;32m     <a href='vscode-notebook-cell:/c%3A/Users/jmpcs/Desktop/Ironhack/Labs/lab-imbalance/your-code/lab_imbalance.ipynb#X14sZmlsZQ%3D%3D?line=10'>11</a>\u001b[0m display(accuracy_score(y_train, clf\u001b[39m.\u001b[39mpredict(X_train)))\n",
      "File \u001b[1;32mc:\\Users\\jmpcs\\AppData\\Local\\Programs\\Python\\Python310\\lib\\site-packages\\sklearn\\ensemble\\_gb.py:668\u001b[0m, in \u001b[0;36mBaseGradientBoosting.fit\u001b[1;34m(self, X, y, sample_weight, monitor)\u001b[0m\n\u001b[0;32m    665\u001b[0m     \u001b[39mself\u001b[39m\u001b[39m.\u001b[39m_resize_state()\n\u001b[0;32m    667\u001b[0m \u001b[39m# fit the boosting stages\u001b[39;00m\n\u001b[1;32m--> 668\u001b[0m n_stages \u001b[39m=\u001b[39m \u001b[39mself\u001b[39;49m\u001b[39m.\u001b[39;49m_fit_stages(\n\u001b[0;32m    669\u001b[0m     X,\n\u001b[0;32m    670\u001b[0m     y,\n\u001b[0;32m    671\u001b[0m     raw_predictions,\n\u001b[0;32m    672\u001b[0m     sample_weight,\n\u001b[0;32m    673\u001b[0m     \u001b[39mself\u001b[39;49m\u001b[39m.\u001b[39;49m_rng,\n\u001b[0;32m    674\u001b[0m     X_val,\n\u001b[0;32m    675\u001b[0m     y_val,\n\u001b[0;32m    676\u001b[0m     sample_weight_val,\n\u001b[0;32m    677\u001b[0m     begin_at_stage,\n\u001b[0;32m    678\u001b[0m     monitor,\n\u001b[0;32m    679\u001b[0m )\n\u001b[0;32m    681\u001b[0m \u001b[39m# change shape of arrays after fit (early-stopping or additional ests)\u001b[39;00m\n\u001b[0;32m    682\u001b[0m \u001b[39mif\u001b[39;00m n_stages \u001b[39m!=\u001b[39m \u001b[39mself\u001b[39m\u001b[39m.\u001b[39mestimators_\u001b[39m.\u001b[39mshape[\u001b[39m0\u001b[39m]:\n",
      "File \u001b[1;32mc:\\Users\\jmpcs\\AppData\\Local\\Programs\\Python\\Python310\\lib\\site-packages\\sklearn\\ensemble\\_gb.py:745\u001b[0m, in \u001b[0;36mBaseGradientBoosting._fit_stages\u001b[1;34m(self, X, y, raw_predictions, sample_weight, random_state, X_val, y_val, sample_weight_val, begin_at_stage, monitor)\u001b[0m\n\u001b[0;32m    738\u001b[0m     old_oob_score \u001b[39m=\u001b[39m loss_(\n\u001b[0;32m    739\u001b[0m         y[\u001b[39m~\u001b[39msample_mask],\n\u001b[0;32m    740\u001b[0m         raw_predictions[\u001b[39m~\u001b[39msample_mask],\n\u001b[0;32m    741\u001b[0m         sample_weight[\u001b[39m~\u001b[39msample_mask],\n\u001b[0;32m    742\u001b[0m     )\n\u001b[0;32m    744\u001b[0m \u001b[39m# fit next stage of trees\u001b[39;00m\n\u001b[1;32m--> 745\u001b[0m raw_predictions \u001b[39m=\u001b[39m \u001b[39mself\u001b[39;49m\u001b[39m.\u001b[39;49m_fit_stage(\n\u001b[0;32m    746\u001b[0m     i,\n\u001b[0;32m    747\u001b[0m     X,\n\u001b[0;32m    748\u001b[0m     y,\n\u001b[0;32m    749\u001b[0m     raw_predictions,\n\u001b[0;32m    750\u001b[0m     sample_weight,\n\u001b[0;32m    751\u001b[0m     sample_mask,\n\u001b[0;32m    752\u001b[0m     random_state,\n\u001b[0;32m    753\u001b[0m     X_csc,\n\u001b[0;32m    754\u001b[0m     X_csr,\n\u001b[0;32m    755\u001b[0m )\n\u001b[0;32m    757\u001b[0m \u001b[39m# track deviance (= loss)\u001b[39;00m\n\u001b[0;32m    758\u001b[0m \u001b[39mif\u001b[39;00m do_oob:\n",
      "File \u001b[1;32mc:\\Users\\jmpcs\\AppData\\Local\\Programs\\Python\\Python310\\lib\\site-packages\\sklearn\\ensemble\\_gb.py:247\u001b[0m, in \u001b[0;36mBaseGradientBoosting._fit_stage\u001b[1;34m(self, i, X, y, raw_predictions, sample_weight, sample_mask, random_state, X_csc, X_csr)\u001b[0m\n\u001b[0;32m    244\u001b[0m     sample_weight \u001b[39m=\u001b[39m sample_weight \u001b[39m*\u001b[39m sample_mask\u001b[39m.\u001b[39mastype(np\u001b[39m.\u001b[39mfloat64)\n\u001b[0;32m    246\u001b[0m X \u001b[39m=\u001b[39m X_csr \u001b[39mif\u001b[39;00m X_csr \u001b[39mis\u001b[39;00m \u001b[39mnot\u001b[39;00m \u001b[39mNone\u001b[39;00m \u001b[39melse\u001b[39;00m X\n\u001b[1;32m--> 247\u001b[0m tree\u001b[39m.\u001b[39;49mfit(X, residual, sample_weight\u001b[39m=\u001b[39;49msample_weight, check_input\u001b[39m=\u001b[39;49m\u001b[39mFalse\u001b[39;49;00m)\n\u001b[0;32m    249\u001b[0m \u001b[39m# update tree leaves\u001b[39;00m\n\u001b[0;32m    250\u001b[0m loss\u001b[39m.\u001b[39mupdate_terminal_regions(\n\u001b[0;32m    251\u001b[0m     tree\u001b[39m.\u001b[39mtree_,\n\u001b[0;32m    252\u001b[0m     X,\n\u001b[1;32m   (...)\u001b[0m\n\u001b[0;32m    259\u001b[0m     k\u001b[39m=\u001b[39mk,\n\u001b[0;32m    260\u001b[0m )\n",
      "File \u001b[1;32mc:\\Users\\jmpcs\\AppData\\Local\\Programs\\Python\\Python310\\lib\\site-packages\\sklearn\\tree\\_classes.py:1342\u001b[0m, in \u001b[0;36mDecisionTreeRegressor.fit\u001b[1;34m(self, X, y, sample_weight, check_input)\u001b[0m\n\u001b[0;32m   1313\u001b[0m \u001b[39mdef\u001b[39;00m \u001b[39mfit\u001b[39m(\u001b[39mself\u001b[39m, X, y, sample_weight\u001b[39m=\u001b[39m\u001b[39mNone\u001b[39;00m, check_input\u001b[39m=\u001b[39m\u001b[39mTrue\u001b[39;00m):\n\u001b[0;32m   1314\u001b[0m     \u001b[39m\"\"\"Build a decision tree regressor from the training set (X, y).\u001b[39;00m\n\u001b[0;32m   1315\u001b[0m \n\u001b[0;32m   1316\u001b[0m \u001b[39m    Parameters\u001b[39;00m\n\u001b[1;32m   (...)\u001b[0m\n\u001b[0;32m   1339\u001b[0m \u001b[39m        Fitted estimator.\u001b[39;00m\n\u001b[0;32m   1340\u001b[0m \u001b[39m    \"\"\"\u001b[39;00m\n\u001b[1;32m-> 1342\u001b[0m     \u001b[39msuper\u001b[39;49m()\u001b[39m.\u001b[39;49mfit(\n\u001b[0;32m   1343\u001b[0m         X,\n\u001b[0;32m   1344\u001b[0m         y,\n\u001b[0;32m   1345\u001b[0m         sample_weight\u001b[39m=\u001b[39;49msample_weight,\n\u001b[0;32m   1346\u001b[0m         check_input\u001b[39m=\u001b[39;49mcheck_input,\n\u001b[0;32m   1347\u001b[0m     )\n\u001b[0;32m   1348\u001b[0m     \u001b[39mreturn\u001b[39;00m \u001b[39mself\u001b[39m\n",
      "File \u001b[1;32mc:\\Users\\jmpcs\\AppData\\Local\\Programs\\Python\\Python310\\lib\\site-packages\\sklearn\\tree\\_classes.py:458\u001b[0m, in \u001b[0;36mBaseDecisionTree.fit\u001b[1;34m(self, X, y, sample_weight, check_input)\u001b[0m\n\u001b[0;32m    447\u001b[0m \u001b[39melse\u001b[39;00m:\n\u001b[0;32m    448\u001b[0m     builder \u001b[39m=\u001b[39m BestFirstTreeBuilder(\n\u001b[0;32m    449\u001b[0m         splitter,\n\u001b[0;32m    450\u001b[0m         min_samples_split,\n\u001b[1;32m   (...)\u001b[0m\n\u001b[0;32m    455\u001b[0m         \u001b[39mself\u001b[39m\u001b[39m.\u001b[39mmin_impurity_decrease,\n\u001b[0;32m    456\u001b[0m     )\n\u001b[1;32m--> 458\u001b[0m builder\u001b[39m.\u001b[39;49mbuild(\u001b[39mself\u001b[39;49m\u001b[39m.\u001b[39;49mtree_, X, y, sample_weight)\n\u001b[0;32m    460\u001b[0m \u001b[39mif\u001b[39;00m \u001b[39mself\u001b[39m\u001b[39m.\u001b[39mn_outputs_ \u001b[39m==\u001b[39m \u001b[39m1\u001b[39m \u001b[39mand\u001b[39;00m is_classifier(\u001b[39mself\u001b[39m):\n\u001b[0;32m    461\u001b[0m     \u001b[39mself\u001b[39m\u001b[39m.\u001b[39mn_classes_ \u001b[39m=\u001b[39m \u001b[39mself\u001b[39m\u001b[39m.\u001b[39mn_classes_[\u001b[39m0\u001b[39m]\n",
      "\u001b[1;31mKeyboardInterrupt\u001b[0m: "
     ]
    }
   ],
   "source": [
    "from sklearn.ensemble import GradientBoostingClassifier\n",
    "from sklearn.metrics import accuracy_score\n",
    "\n",
    "clf = GradientBoostingClassifier(n_estimators = 1000\n",
    "                                ,learning_rate = 1\n",
    "                                ,max_depth = 1\n",
    "                                ,random_state = 0).fit(X_train, y_train)\n",
    "\n",
    "display(clf.score(X_train,y_train))\n",
    "\n",
    "display(accuracy_score(y_train, clf.predict(X_train)))\n",
    "display(accuracy_score(y_test, clf.predict(X_test)))\n",
    "\n",
    "display(confusion_matrix(y_test, clf.predict(X_test)))"
   ]
  },
  {
   "cell_type": "markdown",
   "metadata": {},
   "source": [
    "### Which model worked better and how do you know?"
   ]
  },
  {
   "cell_type": "code",
   "execution_count": null,
   "metadata": {},
   "outputs": [],
   "source": [
    "#Regression Model worked better, LogisticRegression"
   ]
  },
  {
   "cell_type": "markdown",
   "metadata": {},
   "source": [
    "### Note: before doing the first commit, make sure you don't include the large csv file, either by adding it to .gitignore, or by deleting it."
   ]
  }
 ],
 "metadata": {
  "kernelspec": {
   "display_name": "Python 3",
   "language": "python",
   "name": "python3"
  },
  "language_info": {
   "codemirror_mode": {
    "name": "ipython",
    "version": 3
   },
   "file_extension": ".py",
   "mimetype": "text/x-python",
   "name": "python",
   "nbconvert_exporter": "python",
   "pygments_lexer": "ipython3",
   "version": "3.10.7"
  }
 },
 "nbformat": 4,
 "nbformat_minor": 2
}
