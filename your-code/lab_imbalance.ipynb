{
 "cells": [
  {
   "cell_type": "code",
   "execution_count": 40,
   "metadata": {},
   "outputs": [],
   "source": [
    "import pandas as pd\n",
    "from sklearn.preprocessing import StandardScaler\n",
    "from sklearn.linear_model import LogisticRegression\n",
    "from sklearn.model_selection import train_test_split\n",
    "from sklearn.tree import DecisionTreeClassifier\n",
    "from sklearn.metrics import classification_report\n",
    "from sklearn.metrics import confusion_matrix"
   ]
  },
  {
   "cell_type": "markdown",
   "metadata": {},
   "source": [
    "# Inbalanced Classes\n",
    "## In this lab, we are going to explore a case of imbalanced classes. \n",
    "\n",
    "\n",
    "Like we disussed in class, when we have noisy data, if we are not careful, we can end up fitting our model to the noise in the data and not the 'signal'-- the factors that actually determine the outcome. This is called overfitting, and results in good results in training, and in bad results when the model is applied to real data. Similarly, we could have a model that is too simplistic to accurately model the signal. This produces a model that doesnt work well (ever). \n"
   ]
  },
  {
   "cell_type": "markdown",
   "metadata": {},
   "source": [
    "### Note: before doing the first commit, make sure you don't include the large csv file, either by adding it to .gitignore, or by deleting it."
   ]
  },
  {
   "cell_type": "markdown",
   "metadata": {},
   "source": [
    "### First, download the data from: https://www.kaggle.com/datasets/ealaxi/paysim1. Import the dataset and provide some discriptive statistics and plots. What do you think will be the important features in determining the outcome?\n",
    "### Note: don't use the entire dataset, use a sample instead, with n=100000 elements, so your computer doesn't freeze."
   ]
  },
  {
   "cell_type": "code",
   "execution_count": 16,
   "metadata": {},
   "outputs": [
    {
     "data": {
      "text/html": [
       "<div>\n",
       "<style scoped>\n",
       "    .dataframe tbody tr th:only-of-type {\n",
       "        vertical-align: middle;\n",
       "    }\n",
       "\n",
       "    .dataframe tbody tr th {\n",
       "        vertical-align: top;\n",
       "    }\n",
       "\n",
       "    .dataframe thead th {\n",
       "        text-align: right;\n",
       "    }\n",
       "</style>\n",
       "<table border=\"1\" class=\"dataframe\">\n",
       "  <thead>\n",
       "    <tr style=\"text-align: right;\">\n",
       "      <th></th>\n",
       "      <th>step</th>\n",
       "      <th>type</th>\n",
       "      <th>amount</th>\n",
       "      <th>nameOrig</th>\n",
       "      <th>oldbalanceOrg</th>\n",
       "      <th>newbalanceOrig</th>\n",
       "      <th>nameDest</th>\n",
       "      <th>oldbalanceDest</th>\n",
       "      <th>newbalanceDest</th>\n",
       "      <th>isFraud</th>\n",
       "      <th>isFlaggedFraud</th>\n",
       "    </tr>\n",
       "  </thead>\n",
       "  <tbody>\n",
       "    <tr>\n",
       "      <th>4641774</th>\n",
       "      <td>330</td>\n",
       "      <td>TRANSFER</td>\n",
       "      <td>202580.66</td>\n",
       "      <td>C589587874</td>\n",
       "      <td>0.00</td>\n",
       "      <td>0.00</td>\n",
       "      <td>C1801993250</td>\n",
       "      <td>11209917.13</td>\n",
       "      <td>11412497.80</td>\n",
       "      <td>0</td>\n",
       "      <td>0</td>\n",
       "    </tr>\n",
       "    <tr>\n",
       "      <th>1577167</th>\n",
       "      <td>155</td>\n",
       "      <td>PAYMENT</td>\n",
       "      <td>5948.70</td>\n",
       "      <td>C547446279</td>\n",
       "      <td>24510.79</td>\n",
       "      <td>18562.09</td>\n",
       "      <td>M1379218191</td>\n",
       "      <td>0.00</td>\n",
       "      <td>0.00</td>\n",
       "      <td>0</td>\n",
       "      <td>0</td>\n",
       "    </tr>\n",
       "    <tr>\n",
       "      <th>957893</th>\n",
       "      <td>44</td>\n",
       "      <td>TRANSFER</td>\n",
       "      <td>46276.94</td>\n",
       "      <td>C1199059971</td>\n",
       "      <td>9330.00</td>\n",
       "      <td>0.00</td>\n",
       "      <td>C1449067028</td>\n",
       "      <td>54905.15</td>\n",
       "      <td>101182.09</td>\n",
       "      <td>0</td>\n",
       "      <td>0</td>\n",
       "    </tr>\n",
       "    <tr>\n",
       "      <th>3509959</th>\n",
       "      <td>259</td>\n",
       "      <td>CASH_OUT</td>\n",
       "      <td>290881.39</td>\n",
       "      <td>C1555220705</td>\n",
       "      <td>27469.00</td>\n",
       "      <td>0.00</td>\n",
       "      <td>C700491314</td>\n",
       "      <td>526492.58</td>\n",
       "      <td>817373.97</td>\n",
       "      <td>0</td>\n",
       "      <td>0</td>\n",
       "    </tr>\n",
       "    <tr>\n",
       "      <th>1724677</th>\n",
       "      <td>160</td>\n",
       "      <td>PAYMENT</td>\n",
       "      <td>8075.41</td>\n",
       "      <td>C682336650</td>\n",
       "      <td>0.00</td>\n",
       "      <td>0.00</td>\n",
       "      <td>M1679501402</td>\n",
       "      <td>0.00</td>\n",
       "      <td>0.00</td>\n",
       "      <td>0</td>\n",
       "      <td>0</td>\n",
       "    </tr>\n",
       "  </tbody>\n",
       "</table>\n",
       "</div>"
      ],
      "text/plain": [
       "         step      type     amount     nameOrig  oldbalanceOrg  \\\n",
       "4641774   330  TRANSFER  202580.66   C589587874           0.00   \n",
       "1577167   155   PAYMENT    5948.70   C547446279       24510.79   \n",
       "957893     44  TRANSFER   46276.94  C1199059971        9330.00   \n",
       "3509959   259  CASH_OUT  290881.39  C1555220705       27469.00   \n",
       "1724677   160   PAYMENT    8075.41   C682336650           0.00   \n",
       "\n",
       "         newbalanceOrig     nameDest  oldbalanceDest  newbalanceDest  isFraud  \\\n",
       "4641774            0.00  C1801993250     11209917.13     11412497.80        0   \n",
       "1577167        18562.09  M1379218191            0.00            0.00        0   \n",
       "957893             0.00  C1449067028        54905.15       101182.09        0   \n",
       "3509959            0.00   C700491314       526492.58       817373.97        0   \n",
       "1724677            0.00  M1679501402            0.00            0.00        0   \n",
       "\n",
       "         isFlaggedFraud  \n",
       "4641774               0  \n",
       "1577167               0  \n",
       "957893                0  \n",
       "3509959               0  \n",
       "1724677               0  "
      ]
     },
     "metadata": {},
     "output_type": "display_data"
    }
   ],
   "source": [
    "# Your code here\n",
    "paysim = pd.read_csv(\"dataset/paysim.csv\").sample(100000)\n",
    "display(paysim.head())"
   ]
  },
  {
   "cell_type": "markdown",
   "metadata": {},
   "source": [
    "### What is the distribution of the outcome? "
   ]
  },
  {
   "cell_type": "code",
   "execution_count": 17,
   "metadata": {},
   "outputs": [
    {
     "name": "stdout",
     "output_type": "stream",
     "text": [
      "[0 1]\n",
      "[0]\n",
      "0    0\n",
      "Name: isFraud, dtype: int64\n"
     ]
    }
   ],
   "source": [
    "# Your response here\n",
    "print(paysim[\"isFraud\"].unique())\n",
    "print(paysim[\"isFlaggedFraud\"].unique())\n",
    "print(paysim[\"isFraud\"].mode())\n"
   ]
  },
  {
   "cell_type": "markdown",
   "metadata": {},
   "source": [
    "### Clean the dataset. How are you going to integrate the time variable? Do you think the step (integer) coding in which it is given is appropriate?"
   ]
  },
  {
   "cell_type": "code",
   "execution_count": 18,
   "metadata": {},
   "outputs": [
    {
     "data": {
      "text/html": [
       "<div>\n",
       "<style scoped>\n",
       "    .dataframe tbody tr th:only-of-type {\n",
       "        vertical-align: middle;\n",
       "    }\n",
       "\n",
       "    .dataframe tbody tr th {\n",
       "        vertical-align: top;\n",
       "    }\n",
       "\n",
       "    .dataframe thead th {\n",
       "        text-align: right;\n",
       "    }\n",
       "</style>\n",
       "<table border=\"1\" class=\"dataframe\">\n",
       "  <thead>\n",
       "    <tr style=\"text-align: right;\">\n",
       "      <th></th>\n",
       "      <th>IsNull</th>\n",
       "    </tr>\n",
       "  </thead>\n",
       "  <tbody>\n",
       "    <tr>\n",
       "      <th>4641774</th>\n",
       "      <td>False</td>\n",
       "    </tr>\n",
       "    <tr>\n",
       "      <th>1577167</th>\n",
       "      <td>False</td>\n",
       "    </tr>\n",
       "    <tr>\n",
       "      <th>957893</th>\n",
       "      <td>False</td>\n",
       "    </tr>\n",
       "    <tr>\n",
       "      <th>3509959</th>\n",
       "      <td>False</td>\n",
       "    </tr>\n",
       "    <tr>\n",
       "      <th>1724677</th>\n",
       "      <td>False</td>\n",
       "    </tr>\n",
       "    <tr>\n",
       "      <th>...</th>\n",
       "      <td>...</td>\n",
       "    </tr>\n",
       "    <tr>\n",
       "      <th>1639142</th>\n",
       "      <td>False</td>\n",
       "    </tr>\n",
       "    <tr>\n",
       "      <th>3186983</th>\n",
       "      <td>False</td>\n",
       "    </tr>\n",
       "    <tr>\n",
       "      <th>4753939</th>\n",
       "      <td>False</td>\n",
       "    </tr>\n",
       "    <tr>\n",
       "      <th>2330008</th>\n",
       "      <td>False</td>\n",
       "    </tr>\n",
       "    <tr>\n",
       "      <th>2492278</th>\n",
       "      <td>False</td>\n",
       "    </tr>\n",
       "  </tbody>\n",
       "</table>\n",
       "<p>100000 rows × 1 columns</p>\n",
       "</div>"
      ],
      "text/plain": [
       "         IsNull\n",
       "4641774   False\n",
       "1577167   False\n",
       "957893    False\n",
       "3509959   False\n",
       "1724677   False\n",
       "...         ...\n",
       "1639142   False\n",
       "3186983   False\n",
       "4753939   False\n",
       "2330008   False\n",
       "2492278   False\n",
       "\n",
       "[100000 rows x 1 columns]"
      ]
     },
     "metadata": {},
     "output_type": "display_data"
    },
    {
     "name": "stdout",
     "output_type": "stream",
     "text": [
      "[]\n"
     ]
    }
   ],
   "source": [
    "# Your code here\n",
    "missing_values=[]\n",
    "missing = pd.DataFrame(paysim.isnull().any(axis=1), columns=[\"IsNull\"])\n",
    "for index in range(0,len(missing[\"IsNull\"])):\n",
    "    if missing.iloc[index][\"IsNull\"] == True:\n",
    "        missing_values.append(index)\n",
    "display(missing)\n",
    "print(missing_values)"
   ]
  },
  {
   "cell_type": "code",
   "execution_count": 19,
   "metadata": {},
   "outputs": [
    {
     "data": {
      "text/html": [
       "<div>\n",
       "<style scoped>\n",
       "    .dataframe tbody tr th:only-of-type {\n",
       "        vertical-align: middle;\n",
       "    }\n",
       "\n",
       "    .dataframe tbody tr th {\n",
       "        vertical-align: top;\n",
       "    }\n",
       "\n",
       "    .dataframe thead th {\n",
       "        text-align: right;\n",
       "    }\n",
       "</style>\n",
       "<table border=\"1\" class=\"dataframe\">\n",
       "  <thead>\n",
       "    <tr style=\"text-align: right;\">\n",
       "      <th></th>\n",
       "      <th>step</th>\n",
       "      <th>amount</th>\n",
       "      <th>oldbalanceOrg</th>\n",
       "      <th>newbalanceOrig</th>\n",
       "      <th>oldbalanceDest</th>\n",
       "      <th>newbalanceDest</th>\n",
       "      <th>isFraud</th>\n",
       "      <th>isFlaggedFraud</th>\n",
       "    </tr>\n",
       "  </thead>\n",
       "  <tbody>\n",
       "    <tr>\n",
       "      <th>0</th>\n",
       "      <td>0.604914</td>\n",
       "      <td>0.038186</td>\n",
       "      <td>-0.287852</td>\n",
       "      <td>-0.291535</td>\n",
       "      <td>2.939695</td>\n",
       "      <td>2.740955</td>\n",
       "      <td>-0.03771</td>\n",
       "      <td>0.0</td>\n",
       "    </tr>\n",
       "    <tr>\n",
       "      <th>1</th>\n",
       "      <td>-0.618164</td>\n",
       "      <td>-0.289893</td>\n",
       "      <td>-0.279285</td>\n",
       "      <td>-0.285122</td>\n",
       "      <td>-0.322041</td>\n",
       "      <td>-0.332104</td>\n",
       "      <td>-0.03771</td>\n",
       "      <td>0.0</td>\n",
       "    </tr>\n",
       "    <tr>\n",
       "      <th>2</th>\n",
       "      <td>-1.393944</td>\n",
       "      <td>-0.222606</td>\n",
       "      <td>-0.284591</td>\n",
       "      <td>-0.291535</td>\n",
       "      <td>-0.306065</td>\n",
       "      <td>-0.304859</td>\n",
       "      <td>-0.03771</td>\n",
       "      <td>0.0</td>\n",
       "    </tr>\n",
       "    <tr>\n",
       "      <th>3</th>\n",
       "      <td>0.108694</td>\n",
       "      <td>0.185515</td>\n",
       "      <td>-0.278251</td>\n",
       "      <td>-0.291535</td>\n",
       "      <td>-0.168848</td>\n",
       "      <td>-0.112009</td>\n",
       "      <td>-0.03771</td>\n",
       "      <td>0.0</td>\n",
       "    </tr>\n",
       "    <tr>\n",
       "      <th>4</th>\n",
       "      <td>-0.583218</td>\n",
       "      <td>-0.286345</td>\n",
       "      <td>-0.287852</td>\n",
       "      <td>-0.291535</td>\n",
       "      <td>-0.322041</td>\n",
       "      <td>-0.332104</td>\n",
       "      <td>-0.03771</td>\n",
       "      <td>0.0</td>\n",
       "    </tr>\n",
       "    <tr>\n",
       "      <th>...</th>\n",
       "      <td>...</td>\n",
       "      <td>...</td>\n",
       "      <td>...</td>\n",
       "      <td>...</td>\n",
       "      <td>...</td>\n",
       "      <td>...</td>\n",
       "      <td>...</td>\n",
       "      <td>...</td>\n",
       "    </tr>\n",
       "    <tr>\n",
       "      <th>99995</th>\n",
       "      <td>-0.604185</td>\n",
       "      <td>-0.299619</td>\n",
       "      <td>-0.286321</td>\n",
       "      <td>-0.290063</td>\n",
       "      <td>-0.322041</td>\n",
       "      <td>-0.332104</td>\n",
       "      <td>-0.03771</td>\n",
       "      <td>0.0</td>\n",
       "    </tr>\n",
       "    <tr>\n",
       "      <th>99996</th>\n",
       "      <td>-0.024097</td>\n",
       "      <td>-0.292306</td>\n",
       "      <td>-0.286788</td>\n",
       "      <td>-0.291535</td>\n",
       "      <td>-0.322041</td>\n",
       "      <td>-0.332104</td>\n",
       "      <td>-0.03771</td>\n",
       "      <td>0.0</td>\n",
       "    </tr>\n",
       "    <tr>\n",
       "      <th>99997</th>\n",
       "      <td>0.625881</td>\n",
       "      <td>0.015252</td>\n",
       "      <td>-0.278772</td>\n",
       "      <td>-0.291535</td>\n",
       "      <td>-0.085074</td>\n",
       "      <td>-0.061960</td>\n",
       "      <td>-0.03771</td>\n",
       "      <td>0.0</td>\n",
       "    </tr>\n",
       "    <tr>\n",
       "      <th>99998</th>\n",
       "      <td>-0.387526</td>\n",
       "      <td>-0.296031</td>\n",
       "      <td>-0.287491</td>\n",
       "      <td>-0.291535</td>\n",
       "      <td>-0.322041</td>\n",
       "      <td>-0.332104</td>\n",
       "      <td>-0.03771</td>\n",
       "      <td>0.0</td>\n",
       "    </tr>\n",
       "    <tr>\n",
       "      <th>99999</th>\n",
       "      <td>-0.275702</td>\n",
       "      <td>-0.293318</td>\n",
       "      <td>-0.254521</td>\n",
       "      <td>-0.259936</td>\n",
       "      <td>-0.322041</td>\n",
       "      <td>-0.332104</td>\n",
       "      <td>-0.03771</td>\n",
       "      <td>0.0</td>\n",
       "    </tr>\n",
       "  </tbody>\n",
       "</table>\n",
       "<p>100000 rows × 8 columns</p>\n",
       "</div>"
      ],
      "text/plain": [
       "           step    amount  oldbalanceOrg  newbalanceOrig  oldbalanceDest  \\\n",
       "0      0.604914  0.038186      -0.287852       -0.291535        2.939695   \n",
       "1     -0.618164 -0.289893      -0.279285       -0.285122       -0.322041   \n",
       "2     -1.393944 -0.222606      -0.284591       -0.291535       -0.306065   \n",
       "3      0.108694  0.185515      -0.278251       -0.291535       -0.168848   \n",
       "4     -0.583218 -0.286345      -0.287852       -0.291535       -0.322041   \n",
       "...         ...       ...            ...             ...             ...   \n",
       "99995 -0.604185 -0.299619      -0.286321       -0.290063       -0.322041   \n",
       "99996 -0.024097 -0.292306      -0.286788       -0.291535       -0.322041   \n",
       "99997  0.625881  0.015252      -0.278772       -0.291535       -0.085074   \n",
       "99998 -0.387526 -0.296031      -0.287491       -0.291535       -0.322041   \n",
       "99999 -0.275702 -0.293318      -0.254521       -0.259936       -0.322041   \n",
       "\n",
       "       newbalanceDest  isFraud  isFlaggedFraud  \n",
       "0            2.740955 -0.03771             0.0  \n",
       "1           -0.332104 -0.03771             0.0  \n",
       "2           -0.304859 -0.03771             0.0  \n",
       "3           -0.112009 -0.03771             0.0  \n",
       "4           -0.332104 -0.03771             0.0  \n",
       "...               ...      ...             ...  \n",
       "99995       -0.332104 -0.03771             0.0  \n",
       "99996       -0.332104 -0.03771             0.0  \n",
       "99997       -0.061960 -0.03771             0.0  \n",
       "99998       -0.332104 -0.03771             0.0  \n",
       "99999       -0.332104 -0.03771             0.0  \n",
       "\n",
       "[100000 rows x 8 columns]"
      ]
     },
     "execution_count": 19,
     "metadata": {},
     "output_type": "execute_result"
    }
   ],
   "source": [
    "#no null values\n",
    "#no, should've been a more accurate date tracking datatype like datetime\n",
    "\n",
    "#back up string type columns\n",
    "paysim_categorical= pd.DataFrame([paysim[\"type\"], paysim[\"nameOrig\"], paysim[\"nameDest\"]], columns=[\"type\", \"nameOrig\", \"nameDest\"])\n",
    "paysim.drop(columns=[\"type\", \"nameOrig\", \"nameDest\"], inplace=True)\n",
    "\n",
    "#standardize data\n",
    "scaler = StandardScaler()\n",
    "paysim_stdized= pd.DataFrame(scaler.fit_transform(paysim), columns=paysim.columns)\n",
    "paysim_stdized"
   ]
  },
  {
   "cell_type": "markdown",
   "metadata": {},
   "source": [
    "### Run a logisitc regression classifier and evaluate its accuracy."
   ]
  },
  {
   "cell_type": "code",
   "execution_count": 37,
   "metadata": {},
   "outputs": [],
   "source": [
    "# Your code here\n",
    "label = paysim[\"isFraud\"]\n",
    "features = paysim_stdized.drop(columns=[\"isFraud\", \"isFlaggedFraud\"])\n",
    "\n",
    "X_train, X_test, y_train, y_test = train_test_split(features, label, random_state=0)"
   ]
  },
  {
   "cell_type": "code",
   "execution_count": 43,
   "metadata": {},
   "outputs": [
    {
     "name": "stdout",
     "output_type": "stream",
     "text": [
      "Score by test values:  0.99864\n",
      "Score by train values:  0.9989333333333333\n"
     ]
    },
    {
     "data": {
      "text/plain": [
       "array([[24957,     0],\n",
       "       [   34,     9]], dtype=int64)"
      ]
     },
     "execution_count": 43,
     "metadata": {},
     "output_type": "execute_result"
    }
   ],
   "source": [
    "log_reg = LogisticRegression()\n",
    "log_reg.fit(X_train, y_train)\n",
    "print(\"Score by test values: \", log_reg.score(X_test, y_test))\n",
    "print(\"Score by train values: \", log_reg.score(X_train, y_train))\n",
    "pred = log_reg.predict(X_test)\n",
    "\n",
    "confusion_matrix(y_test, pred)"
   ]
  },
  {
   "cell_type": "markdown",
   "metadata": {},
   "source": [
    "### Now pick a model of your choice and evaluate its accuracy."
   ]
  },
  {
   "cell_type": "code",
   "execution_count": 44,
   "metadata": {},
   "outputs": [
    {
     "name": "stdout",
     "output_type": "stream",
     "text": [
      "Score by test values:  0.99896\n",
      "Score by train values:  1.0\n"
     ]
    },
    {
     "data": {
      "text/plain": [
       "array([[24947,    10],\n",
       "       [   16,    27]], dtype=int64)"
      ]
     },
     "execution_count": 44,
     "metadata": {},
     "output_type": "execute_result"
    }
   ],
   "source": [
    "# Your code here\n",
    "dec_tree = DecisionTreeClassifier()\n",
    "dec_tree.fit(X_train, y_train)\n",
    "\n",
    "print(\"Score by test values: \", dec_tree.score(X_test, y_test))\n",
    "print(\"Score by train values: \", dec_tree.score(X_train, y_train))\n",
    "pred = dec_tree.predict(X_test)\n",
    "\n",
    "confusion_matrix(y_test, pred)"
   ]
  },
  {
   "cell_type": "markdown",
   "metadata": {},
   "source": [
    "### Which model worked better and how do you know?"
   ]
  },
  {
   "cell_type": "code",
   "execution_count": 22,
   "metadata": {},
   "outputs": [],
   "source": [
    "# Your response here\n",
    "# the decision tree, since it had the lesser amount of false negatives on the confusion matrix (16<34)"
   ]
  },
  {
   "cell_type": "markdown",
   "metadata": {},
   "source": [
    "### Note: before doing the first commit, make sure you don't include the large csv file, either by adding it to .gitignore, or by deleting it."
   ]
  }
 ],
 "metadata": {
  "kernelspec": {
   "display_name": "Python 3.9.12 ('base')",
   "language": "python",
   "name": "python3"
  },
  "language_info": {
   "codemirror_mode": {
    "name": "ipython",
    "version": 3
   },
   "file_extension": ".py",
   "mimetype": "text/x-python",
   "name": "python",
   "nbconvert_exporter": "python",
   "pygments_lexer": "ipython3",
   "version": "3.9.12"
  },
  "vscode": {
   "interpreter": {
    "hash": "ca24d5afb66fcbb462fa71d0077b8bccae5a3d821a688de69b673156ae0e4c2b"
   }
  }
 },
 "nbformat": 4,
 "nbformat_minor": 2
}
