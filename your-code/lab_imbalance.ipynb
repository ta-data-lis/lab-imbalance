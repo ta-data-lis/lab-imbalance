{
 "cells": [
  {
   "cell_type": "markdown",
   "metadata": {},
   "source": [
    "# Inbalanced Classes\n",
    "## In this lab, we are going to explore a case of imbalanced classes. \n",
    "\n",
    "\n",
    "Like we disussed in class, when we have noisy data, if we are not careful, we can end up fitting our model to the noise in the data and not the 'signal'-- the factors that actually determine the outcome. This is called overfitting, and results in good results in training, and in bad results when the model is applied to real data. Similarly, we could have a model that is too simplistic to accurately model the signal. This produces a model that doesnt work well (ever). \n"
   ]
  },
  {
   "cell_type": "markdown",
   "metadata": {},
   "source": [
    "### Note: before doing the first commit, make sure you don't include the large csv file, either by adding it to .gitignore, or by deleting it."
   ]
  },
  {
   "cell_type": "markdown",
   "metadata": {},
   "source": [
    "### First, download the data from: https://www.kaggle.com/datasets/ealaxi/paysim1. Import the dataset and provide some discriptive statistics and plots. What do you think will be the important features in determining the outcome?\n",
    "### Note: don't use the entire dataset, use a sample instead, with n=100000 elements, so your computer doesn't freeze."
   ]
  },
  {
   "cell_type": "code",
   "execution_count": 35,
   "metadata": {},
   "outputs": [],
   "source": [
    "import pandas as pd\n",
    "import numpy as np"
   ]
  },
  {
   "cell_type": "code",
   "execution_count": 36,
   "metadata": {},
   "outputs": [],
   "source": [
    "# Your response here\n",
    "data = pd.read_csv(\"data.csv\")"
   ]
  },
  {
   "cell_type": "code",
   "execution_count": 37,
   "metadata": {},
   "outputs": [
    {
     "data": {
      "text/html": [
       "<div>\n",
       "<style scoped>\n",
       "    .dataframe tbody tr th:only-of-type {\n",
       "        vertical-align: middle;\n",
       "    }\n",
       "\n",
       "    .dataframe tbody tr th {\n",
       "        vertical-align: top;\n",
       "    }\n",
       "\n",
       "    .dataframe thead th {\n",
       "        text-align: right;\n",
       "    }\n",
       "</style>\n",
       "<table border=\"1\" class=\"dataframe\">\n",
       "  <thead>\n",
       "    <tr style=\"text-align: right;\">\n",
       "      <th></th>\n",
       "      <th>step</th>\n",
       "      <th>type</th>\n",
       "      <th>amount</th>\n",
       "      <th>nameOrig</th>\n",
       "      <th>oldbalanceOrg</th>\n",
       "      <th>newbalanceOrig</th>\n",
       "      <th>nameDest</th>\n",
       "      <th>oldbalanceDest</th>\n",
       "      <th>newbalanceDest</th>\n",
       "      <th>isFraud</th>\n",
       "      <th>isFlaggedFraud</th>\n",
       "    </tr>\n",
       "  </thead>\n",
       "  <tbody>\n",
       "    <tr>\n",
       "      <th>0</th>\n",
       "      <td>1</td>\n",
       "      <td>PAYMENT</td>\n",
       "      <td>9839.64</td>\n",
       "      <td>C1231006815</td>\n",
       "      <td>170136.0</td>\n",
       "      <td>160296.36</td>\n",
       "      <td>M1979787155</td>\n",
       "      <td>0.0</td>\n",
       "      <td>0.0</td>\n",
       "      <td>0</td>\n",
       "      <td>0</td>\n",
       "    </tr>\n",
       "    <tr>\n",
       "      <th>1</th>\n",
       "      <td>1</td>\n",
       "      <td>PAYMENT</td>\n",
       "      <td>1864.28</td>\n",
       "      <td>C1666544295</td>\n",
       "      <td>21249.0</td>\n",
       "      <td>19384.72</td>\n",
       "      <td>M2044282225</td>\n",
       "      <td>0.0</td>\n",
       "      <td>0.0</td>\n",
       "      <td>0</td>\n",
       "      <td>0</td>\n",
       "    </tr>\n",
       "    <tr>\n",
       "      <th>2</th>\n",
       "      <td>1</td>\n",
       "      <td>TRANSFER</td>\n",
       "      <td>181.00</td>\n",
       "      <td>C1305486145</td>\n",
       "      <td>181.0</td>\n",
       "      <td>0.00</td>\n",
       "      <td>C553264065</td>\n",
       "      <td>0.0</td>\n",
       "      <td>0.0</td>\n",
       "      <td>1</td>\n",
       "      <td>0</td>\n",
       "    </tr>\n",
       "    <tr>\n",
       "      <th>3</th>\n",
       "      <td>1</td>\n",
       "      <td>CASH_OUT</td>\n",
       "      <td>181.00</td>\n",
       "      <td>C840083671</td>\n",
       "      <td>181.0</td>\n",
       "      <td>0.00</td>\n",
       "      <td>C38997010</td>\n",
       "      <td>21182.0</td>\n",
       "      <td>0.0</td>\n",
       "      <td>1</td>\n",
       "      <td>0</td>\n",
       "    </tr>\n",
       "    <tr>\n",
       "      <th>4</th>\n",
       "      <td>1</td>\n",
       "      <td>PAYMENT</td>\n",
       "      <td>11668.14</td>\n",
       "      <td>C2048537720</td>\n",
       "      <td>41554.0</td>\n",
       "      <td>29885.86</td>\n",
       "      <td>M1230701703</td>\n",
       "      <td>0.0</td>\n",
       "      <td>0.0</td>\n",
       "      <td>0</td>\n",
       "      <td>0</td>\n",
       "    </tr>\n",
       "  </tbody>\n",
       "</table>\n",
       "</div>"
      ],
      "text/plain": [
       "   step      type    amount     nameOrig  oldbalanceOrg  newbalanceOrig  \\\n",
       "0     1   PAYMENT   9839.64  C1231006815       170136.0       160296.36   \n",
       "1     1   PAYMENT   1864.28  C1666544295        21249.0        19384.72   \n",
       "2     1  TRANSFER    181.00  C1305486145          181.0            0.00   \n",
       "3     1  CASH_OUT    181.00   C840083671          181.0            0.00   \n",
       "4     1   PAYMENT  11668.14  C2048537720        41554.0        29885.86   \n",
       "\n",
       "      nameDest  oldbalanceDest  newbalanceDest  isFraud  isFlaggedFraud  \n",
       "0  M1979787155             0.0             0.0        0               0  \n",
       "1  M2044282225             0.0             0.0        0               0  \n",
       "2   C553264065             0.0             0.0        1               0  \n",
       "3    C38997010         21182.0             0.0        1               0  \n",
       "4  M1230701703             0.0             0.0        0               0  "
      ]
     },
     "execution_count": 37,
     "metadata": {},
     "output_type": "execute_result"
    }
   ],
   "source": [
    "data.head()"
   ]
  },
  {
   "cell_type": "code",
   "execution_count": 38,
   "metadata": {},
   "outputs": [
    {
     "data": {
      "text/plain": [
       "(6362620, 11)"
      ]
     },
     "execution_count": 38,
     "metadata": {},
     "output_type": "execute_result"
    }
   ],
   "source": [
    "data.shape"
   ]
  },
  {
   "cell_type": "code",
   "execution_count": 39,
   "metadata": {},
   "outputs": [
    {
     "data": {
      "text/html": [
       "<div>\n",
       "<style scoped>\n",
       "    .dataframe tbody tr th:only-of-type {\n",
       "        vertical-align: middle;\n",
       "    }\n",
       "\n",
       "    .dataframe tbody tr th {\n",
       "        vertical-align: top;\n",
       "    }\n",
       "\n",
       "    .dataframe thead th {\n",
       "        text-align: right;\n",
       "    }\n",
       "</style>\n",
       "<table border=\"1\" class=\"dataframe\">\n",
       "  <thead>\n",
       "    <tr style=\"text-align: right;\">\n",
       "      <th></th>\n",
       "      <th>step</th>\n",
       "      <th>type</th>\n",
       "      <th>amount</th>\n",
       "      <th>nameOrig</th>\n",
       "      <th>oldbalanceOrg</th>\n",
       "      <th>newbalanceOrig</th>\n",
       "      <th>nameDest</th>\n",
       "      <th>oldbalanceDest</th>\n",
       "      <th>newbalanceDest</th>\n",
       "      <th>isFraud</th>\n",
       "      <th>isFlaggedFraud</th>\n",
       "    </tr>\n",
       "  </thead>\n",
       "  <tbody>\n",
       "    <tr>\n",
       "      <th>5870199</th>\n",
       "      <td>403</td>\n",
       "      <td>PAYMENT</td>\n",
       "      <td>17509.95</td>\n",
       "      <td>C482191795</td>\n",
       "      <td>303892.08</td>\n",
       "      <td>286382.13</td>\n",
       "      <td>M344648530</td>\n",
       "      <td>0.00</td>\n",
       "      <td>0.00</td>\n",
       "      <td>0</td>\n",
       "      <td>0</td>\n",
       "    </tr>\n",
       "    <tr>\n",
       "      <th>4193018</th>\n",
       "      <td>305</td>\n",
       "      <td>CASH_OUT</td>\n",
       "      <td>164344.44</td>\n",
       "      <td>C1742479150</td>\n",
       "      <td>48329.60</td>\n",
       "      <td>0.00</td>\n",
       "      <td>C1268033679</td>\n",
       "      <td>204610.35</td>\n",
       "      <td>368954.79</td>\n",
       "      <td>0</td>\n",
       "      <td>0</td>\n",
       "    </tr>\n",
       "    <tr>\n",
       "      <th>314193</th>\n",
       "      <td>16</td>\n",
       "      <td>CASH_IN</td>\n",
       "      <td>182877.50</td>\n",
       "      <td>C1625640897</td>\n",
       "      <td>3824909.55</td>\n",
       "      <td>4007787.05</td>\n",
       "      <td>C2141776586</td>\n",
       "      <td>3283310.23</td>\n",
       "      <td>2965018.09</td>\n",
       "      <td>0</td>\n",
       "      <td>0</td>\n",
       "    </tr>\n",
       "    <tr>\n",
       "      <th>5790096</th>\n",
       "      <td>401</td>\n",
       "      <td>TRANSFER</td>\n",
       "      <td>136487.99</td>\n",
       "      <td>C103052026</td>\n",
       "      <td>2052.76</td>\n",
       "      <td>0.00</td>\n",
       "      <td>C937885086</td>\n",
       "      <td>2215463.06</td>\n",
       "      <td>2351951.05</td>\n",
       "      <td>0</td>\n",
       "      <td>0</td>\n",
       "    </tr>\n",
       "    <tr>\n",
       "      <th>3911997</th>\n",
       "      <td>284</td>\n",
       "      <td>CASH_IN</td>\n",
       "      <td>217344.37</td>\n",
       "      <td>C495572889</td>\n",
       "      <td>4917976.08</td>\n",
       "      <td>5135320.46</td>\n",
       "      <td>C1487826082</td>\n",
       "      <td>11181782.39</td>\n",
       "      <td>10964438.01</td>\n",
       "      <td>0</td>\n",
       "      <td>0</td>\n",
       "    </tr>\n",
       "  </tbody>\n",
       "</table>\n",
       "</div>"
      ],
      "text/plain": [
       "         step      type     amount     nameOrig  oldbalanceOrg  \\\n",
       "5870199   403   PAYMENT   17509.95   C482191795      303892.08   \n",
       "4193018   305  CASH_OUT  164344.44  C1742479150       48329.60   \n",
       "314193     16   CASH_IN  182877.50  C1625640897     3824909.55   \n",
       "5790096   401  TRANSFER  136487.99   C103052026        2052.76   \n",
       "3911997   284   CASH_IN  217344.37   C495572889     4917976.08   \n",
       "\n",
       "         newbalanceOrig     nameDest  oldbalanceDest  newbalanceDest  isFraud  \\\n",
       "5870199       286382.13   M344648530            0.00            0.00        0   \n",
       "4193018            0.00  C1268033679       204610.35       368954.79        0   \n",
       "314193       4007787.05  C2141776586      3283310.23      2965018.09        0   \n",
       "5790096            0.00   C937885086      2215463.06      2351951.05        0   \n",
       "3911997      5135320.46  C1487826082     11181782.39     10964438.01        0   \n",
       "\n",
       "         isFlaggedFraud  \n",
       "5870199               0  \n",
       "4193018               0  \n",
       "314193                0  \n",
       "5790096               0  \n",
       "3911997               0  "
      ]
     },
     "execution_count": 39,
     "metadata": {},
     "output_type": "execute_result"
    }
   ],
   "source": [
    "n = 100000\n",
    "data_sample = data.sample(n=n, axis=0)\n",
    "\n",
    "data_sample.head()"
   ]
  },
  {
   "cell_type": "code",
   "execution_count": 40,
   "metadata": {},
   "outputs": [
    {
     "data": {
      "text/plain": [
       "(100000, 11)"
      ]
     },
     "execution_count": 40,
     "metadata": {},
     "output_type": "execute_result"
    }
   ],
   "source": [
    "data_sample.shape"
   ]
  },
  {
   "cell_type": "markdown",
   "metadata": {},
   "source": [
    "### What is the distribution of the outcome? "
   ]
  },
  {
   "cell_type": "code",
   "execution_count": 41,
   "metadata": {},
   "outputs": [],
   "source": [
    "# Your response here"
   ]
  },
  {
   "cell_type": "markdown",
   "metadata": {},
   "source": [
    "### Clean the dataset. How are you going to integrate the time variable? Do you think the step (integer) coding in which it is given is appropriate?"
   ]
  },
  {
   "cell_type": "code",
   "execution_count": 42,
   "metadata": {},
   "outputs": [
    {
     "data": {
      "text/plain": [
       "step                int64\n",
       "type               object\n",
       "amount            float64\n",
       "nameOrig           object\n",
       "oldbalanceOrg     float64\n",
       "newbalanceOrig    float64\n",
       "nameDest           object\n",
       "oldbalanceDest    float64\n",
       "newbalanceDest    float64\n",
       "isFraud             int64\n",
       "isFlaggedFraud      int64\n",
       "dtype: object"
      ]
     },
     "execution_count": 42,
     "metadata": {},
     "output_type": "execute_result"
    }
   ],
   "source": [
    "# Your code here\n",
    "data_sample.dtypes"
   ]
  },
  {
   "cell_type": "code",
   "execution_count": 43,
   "metadata": {},
   "outputs": [
    {
     "data": {
      "text/plain": [
       "step              0\n",
       "type              0\n",
       "amount            0\n",
       "nameOrig          0\n",
       "oldbalanceOrg     0\n",
       "newbalanceOrig    0\n",
       "nameDest          0\n",
       "oldbalanceDest    0\n",
       "newbalanceDest    0\n",
       "isFraud           0\n",
       "isFlaggedFraud    0\n",
       "dtype: int64"
      ]
     },
     "execution_count": 43,
     "metadata": {},
     "output_type": "execute_result"
    }
   ],
   "source": [
    "data_sample.isnull().sum()"
   ]
  },
  {
   "cell_type": "code",
   "execution_count": 44,
   "metadata": {},
   "outputs": [
    {
     "data": {
      "text/plain": [
       "CASH_OUT    35351\n",
       "PAYMENT     33775\n",
       "CASH_IN     21904\n",
       "TRANSFER     8311\n",
       "DEBIT         659\n",
       "Name: type, dtype: int64"
      ]
     },
     "execution_count": 44,
     "metadata": {},
     "output_type": "execute_result"
    }
   ],
   "source": [
    "data_sample[\"type\"].value_counts()"
   ]
  },
  {
   "cell_type": "code",
   "execution_count": 45,
   "metadata": {},
   "outputs": [],
   "source": [
    "dummies = pd.get_dummies(data_sample[\"type\"])"
   ]
  },
  {
   "cell_type": "code",
   "execution_count": 46,
   "metadata": {},
   "outputs": [],
   "source": [
    "new_data = pd.concat([data_sample, dummies], axis=1)"
   ]
  },
  {
   "cell_type": "code",
   "execution_count": 47,
   "metadata": {},
   "outputs": [],
   "source": [
    "new_data.drop(\"type\", inplace = True, axis = 1)"
   ]
  },
  {
   "cell_type": "code",
   "execution_count": 48,
   "metadata": {},
   "outputs": [],
   "source": [
    "new_data.drop(\"nameOrig\", inplace = True, axis = 1) #deleted because is a string"
   ]
  },
  {
   "cell_type": "code",
   "execution_count": 49,
   "metadata": {},
   "outputs": [],
   "source": [
    "new_data.drop(\"nameDest\", inplace = True, axis = 1) #deleted because is a string"
   ]
  },
  {
   "cell_type": "code",
   "execution_count": 50,
   "metadata": {},
   "outputs": [],
   "source": [
    "new_data.drop(\"isFlaggedFraud\", inplace = True, axis = 1) #deleted because only has values with 0"
   ]
  },
  {
   "cell_type": "code",
   "execution_count": 51,
   "metadata": {},
   "outputs": [
    {
     "data": {
      "text/html": [
       "<div>\n",
       "<style scoped>\n",
       "    .dataframe tbody tr th:only-of-type {\n",
       "        vertical-align: middle;\n",
       "    }\n",
       "\n",
       "    .dataframe tbody tr th {\n",
       "        vertical-align: top;\n",
       "    }\n",
       "\n",
       "    .dataframe thead th {\n",
       "        text-align: right;\n",
       "    }\n",
       "</style>\n",
       "<table border=\"1\" class=\"dataframe\">\n",
       "  <thead>\n",
       "    <tr style=\"text-align: right;\">\n",
       "      <th></th>\n",
       "      <th>step</th>\n",
       "      <th>amount</th>\n",
       "      <th>oldbalanceOrg</th>\n",
       "      <th>newbalanceOrig</th>\n",
       "      <th>oldbalanceDest</th>\n",
       "      <th>newbalanceDest</th>\n",
       "      <th>isFraud</th>\n",
       "      <th>CASH_IN</th>\n",
       "      <th>CASH_OUT</th>\n",
       "      <th>DEBIT</th>\n",
       "      <th>PAYMENT</th>\n",
       "      <th>TRANSFER</th>\n",
       "    </tr>\n",
       "  </thead>\n",
       "  <tbody>\n",
       "    <tr>\n",
       "      <th>5870199</th>\n",
       "      <td>403</td>\n",
       "      <td>17509.95</td>\n",
       "      <td>303892.08</td>\n",
       "      <td>286382.13</td>\n",
       "      <td>0.00</td>\n",
       "      <td>0.00</td>\n",
       "      <td>0</td>\n",
       "      <td>0</td>\n",
       "      <td>0</td>\n",
       "      <td>0</td>\n",
       "      <td>1</td>\n",
       "      <td>0</td>\n",
       "    </tr>\n",
       "    <tr>\n",
       "      <th>4193018</th>\n",
       "      <td>305</td>\n",
       "      <td>164344.44</td>\n",
       "      <td>48329.60</td>\n",
       "      <td>0.00</td>\n",
       "      <td>204610.35</td>\n",
       "      <td>368954.79</td>\n",
       "      <td>0</td>\n",
       "      <td>0</td>\n",
       "      <td>1</td>\n",
       "      <td>0</td>\n",
       "      <td>0</td>\n",
       "      <td>0</td>\n",
       "    </tr>\n",
       "    <tr>\n",
       "      <th>314193</th>\n",
       "      <td>16</td>\n",
       "      <td>182877.50</td>\n",
       "      <td>3824909.55</td>\n",
       "      <td>4007787.05</td>\n",
       "      <td>3283310.23</td>\n",
       "      <td>2965018.09</td>\n",
       "      <td>0</td>\n",
       "      <td>1</td>\n",
       "      <td>0</td>\n",
       "      <td>0</td>\n",
       "      <td>0</td>\n",
       "      <td>0</td>\n",
       "    </tr>\n",
       "    <tr>\n",
       "      <th>5790096</th>\n",
       "      <td>401</td>\n",
       "      <td>136487.99</td>\n",
       "      <td>2052.76</td>\n",
       "      <td>0.00</td>\n",
       "      <td>2215463.06</td>\n",
       "      <td>2351951.05</td>\n",
       "      <td>0</td>\n",
       "      <td>0</td>\n",
       "      <td>0</td>\n",
       "      <td>0</td>\n",
       "      <td>0</td>\n",
       "      <td>1</td>\n",
       "    </tr>\n",
       "    <tr>\n",
       "      <th>3911997</th>\n",
       "      <td>284</td>\n",
       "      <td>217344.37</td>\n",
       "      <td>4917976.08</td>\n",
       "      <td>5135320.46</td>\n",
       "      <td>11181782.39</td>\n",
       "      <td>10964438.01</td>\n",
       "      <td>0</td>\n",
       "      <td>1</td>\n",
       "      <td>0</td>\n",
       "      <td>0</td>\n",
       "      <td>0</td>\n",
       "      <td>0</td>\n",
       "    </tr>\n",
       "  </tbody>\n",
       "</table>\n",
       "</div>"
      ],
      "text/plain": [
       "         step     amount  oldbalanceOrg  newbalanceOrig  oldbalanceDest  \\\n",
       "5870199   403   17509.95      303892.08       286382.13            0.00   \n",
       "4193018   305  164344.44       48329.60            0.00       204610.35   \n",
       "314193     16  182877.50     3824909.55      4007787.05      3283310.23   \n",
       "5790096   401  136487.99        2052.76            0.00      2215463.06   \n",
       "3911997   284  217344.37     4917976.08      5135320.46     11181782.39   \n",
       "\n",
       "         newbalanceDest  isFraud  CASH_IN  CASH_OUT  DEBIT  PAYMENT  TRANSFER  \n",
       "5870199            0.00        0        0         0      0        1         0  \n",
       "4193018       368954.79        0        0         1      0        0         0  \n",
       "314193       2965018.09        0        1         0      0        0         0  \n",
       "5790096      2351951.05        0        0         0      0        0         1  \n",
       "3911997     10964438.01        0        1         0      0        0         0  "
      ]
     },
     "execution_count": 51,
     "metadata": {},
     "output_type": "execute_result"
    }
   ],
   "source": [
    "new_data.head()"
   ]
  },
  {
   "cell_type": "code",
   "execution_count": 52,
   "metadata": {},
   "outputs": [
    {
     "data": {
      "text/plain": [
       "step                int64\n",
       "amount            float64\n",
       "oldbalanceOrg     float64\n",
       "newbalanceOrig    float64\n",
       "oldbalanceDest    float64\n",
       "newbalanceDest    float64\n",
       "isFraud             int64\n",
       "CASH_IN             uint8\n",
       "CASH_OUT            uint8\n",
       "DEBIT               uint8\n",
       "PAYMENT             uint8\n",
       "TRANSFER            uint8\n",
       "dtype: object"
      ]
     },
     "execution_count": 52,
     "metadata": {},
     "output_type": "execute_result"
    }
   ],
   "source": [
    "new_data.dtypes"
   ]
  },
  {
   "cell_type": "code",
   "execution_count": 53,
   "metadata": {},
   "outputs": [
    {
     "data": {
      "text/html": [
       "<div>\n",
       "<style scoped>\n",
       "    .dataframe tbody tr th:only-of-type {\n",
       "        vertical-align: middle;\n",
       "    }\n",
       "\n",
       "    .dataframe tbody tr th {\n",
       "        vertical-align: top;\n",
       "    }\n",
       "\n",
       "    .dataframe thead th {\n",
       "        text-align: right;\n",
       "    }\n",
       "</style>\n",
       "<table border=\"1\" class=\"dataframe\">\n",
       "  <thead>\n",
       "    <tr style=\"text-align: right;\">\n",
       "      <th></th>\n",
       "      <th>step</th>\n",
       "      <th>amount</th>\n",
       "      <th>oldbalanceOrg</th>\n",
       "      <th>newbalanceOrig</th>\n",
       "      <th>oldbalanceDest</th>\n",
       "      <th>newbalanceDest</th>\n",
       "      <th>isFraud</th>\n",
       "      <th>CASH_IN</th>\n",
       "      <th>CASH_OUT</th>\n",
       "      <th>DEBIT</th>\n",
       "      <th>PAYMENT</th>\n",
       "      <th>TRANSFER</th>\n",
       "    </tr>\n",
       "  </thead>\n",
       "  <tbody>\n",
       "    <tr>\n",
       "      <th>step</th>\n",
       "      <td>1.000000</td>\n",
       "      <td>0.022357</td>\n",
       "      <td>-0.013393</td>\n",
       "      <td>-0.013325</td>\n",
       "      <td>0.026208</td>\n",
       "      <td>0.024380</td>\n",
       "      <td>0.035586</td>\n",
       "      <td>0.007531</td>\n",
       "      <td>-0.018334</td>\n",
       "      <td>0.001295</td>\n",
       "      <td>0.008759</td>\n",
       "      <td>0.005080</td>\n",
       "    </tr>\n",
       "    <tr>\n",
       "      <th>amount</th>\n",
       "      <td>0.022357</td>\n",
       "      <td>1.000000</td>\n",
       "      <td>-0.004457</td>\n",
       "      <td>-0.009061</td>\n",
       "      <td>0.271424</td>\n",
       "      <td>0.433445</td>\n",
       "      <td>0.073067</td>\n",
       "      <td>-0.010418</td>\n",
       "      <td>-0.003892</td>\n",
       "      <td>-0.022992</td>\n",
       "      <td>-0.192782</td>\n",
       "      <td>0.359373</td>\n",
       "    </tr>\n",
       "    <tr>\n",
       "      <th>oldbalanceOrg</th>\n",
       "      <td>-0.013393</td>\n",
       "      <td>-0.004457</td>\n",
       "      <td>1.000000</td>\n",
       "      <td>0.998834</td>\n",
       "      <td>0.064978</td>\n",
       "      <td>0.041942</td>\n",
       "      <td>0.007765</td>\n",
       "      <td>0.508080</td>\n",
       "      <td>-0.201436</td>\n",
       "      <td>-0.021589</td>\n",
       "      <td>-0.189429</td>\n",
       "      <td>-0.081529</td>\n",
       "    </tr>\n",
       "    <tr>\n",
       "      <th>newbalanceOrig</th>\n",
       "      <td>-0.013325</td>\n",
       "      <td>-0.009061</td>\n",
       "      <td>0.998834</td>\n",
       "      <td>1.000000</td>\n",
       "      <td>0.066294</td>\n",
       "      <td>0.041518</td>\n",
       "      <td>-0.009859</td>\n",
       "      <td>0.528501</td>\n",
       "      <td>-0.211654</td>\n",
       "      <td>-0.021998</td>\n",
       "      <td>-0.193733</td>\n",
       "      <td>-0.086935</td>\n",
       "    </tr>\n",
       "    <tr>\n",
       "      <th>oldbalanceDest</th>\n",
       "      <td>0.026208</td>\n",
       "      <td>0.271424</td>\n",
       "      <td>0.064978</td>\n",
       "      <td>0.066294</td>\n",
       "      <td>1.000000</td>\n",
       "      <td>0.978410</td>\n",
       "      <td>-0.005100</td>\n",
       "      <td>0.071319</td>\n",
       "      <td>0.085454</td>\n",
       "      <td>0.011058</td>\n",
       "      <td>-0.224243</td>\n",
       "      <td>0.126101</td>\n",
       "    </tr>\n",
       "    <tr>\n",
       "      <th>newbalanceDest</th>\n",
       "      <td>0.024380</td>\n",
       "      <td>0.433445</td>\n",
       "      <td>0.041942</td>\n",
       "      <td>0.041518</td>\n",
       "      <td>0.978410</td>\n",
       "      <td>1.000000</td>\n",
       "      <td>0.002068</td>\n",
       "      <td>0.032236</td>\n",
       "      <td>0.093539</td>\n",
       "      <td>0.008347</td>\n",
       "      <td>-0.232754</td>\n",
       "      <td>0.186032</td>\n",
       "    </tr>\n",
       "    <tr>\n",
       "      <th>isFraud</th>\n",
       "      <td>0.035586</td>\n",
       "      <td>0.073067</td>\n",
       "      <td>0.007765</td>\n",
       "      <td>-0.009859</td>\n",
       "      <td>-0.005100</td>\n",
       "      <td>0.002068</td>\n",
       "      <td>1.000000</td>\n",
       "      <td>-0.018736</td>\n",
       "      <td>0.017057</td>\n",
       "      <td>-0.002881</td>\n",
       "      <td>-0.025265</td>\n",
       "      <td>0.042662</td>\n",
       "    </tr>\n",
       "    <tr>\n",
       "      <th>CASH_IN</th>\n",
       "      <td>0.007531</td>\n",
       "      <td>-0.010418</td>\n",
       "      <td>0.508080</td>\n",
       "      <td>0.528501</td>\n",
       "      <td>0.071319</td>\n",
       "      <td>0.032236</td>\n",
       "      <td>-0.018736</td>\n",
       "      <td>1.000000</td>\n",
       "      <td>-0.391622</td>\n",
       "      <td>-0.043135</td>\n",
       "      <td>-0.378211</td>\n",
       "      <td>-0.159447</td>\n",
       "    </tr>\n",
       "    <tr>\n",
       "      <th>CASH_OUT</th>\n",
       "      <td>-0.018334</td>\n",
       "      <td>-0.003892</td>\n",
       "      <td>-0.201436</td>\n",
       "      <td>-0.211654</td>\n",
       "      <td>0.085454</td>\n",
       "      <td>0.093539</td>\n",
       "      <td>0.017057</td>\n",
       "      <td>-0.391622</td>\n",
       "      <td>1.000000</td>\n",
       "      <td>-0.060228</td>\n",
       "      <td>-0.528088</td>\n",
       "      <td>-0.222632</td>\n",
       "    </tr>\n",
       "    <tr>\n",
       "      <th>DEBIT</th>\n",
       "      <td>0.001295</td>\n",
       "      <td>-0.022992</td>\n",
       "      <td>-0.021589</td>\n",
       "      <td>-0.021998</td>\n",
       "      <td>0.011058</td>\n",
       "      <td>0.008347</td>\n",
       "      <td>-0.002881</td>\n",
       "      <td>-0.043135</td>\n",
       "      <td>-0.060228</td>\n",
       "      <td>1.000000</td>\n",
       "      <td>-0.058165</td>\n",
       "      <td>-0.024521</td>\n",
       "    </tr>\n",
       "    <tr>\n",
       "      <th>PAYMENT</th>\n",
       "      <td>0.008759</td>\n",
       "      <td>-0.192782</td>\n",
       "      <td>-0.189429</td>\n",
       "      <td>-0.193733</td>\n",
       "      <td>-0.224243</td>\n",
       "      <td>-0.232754</td>\n",
       "      <td>-0.025265</td>\n",
       "      <td>-0.378211</td>\n",
       "      <td>-0.528088</td>\n",
       "      <td>-0.058165</td>\n",
       "      <td>1.000000</td>\n",
       "      <td>-0.215008</td>\n",
       "    </tr>\n",
       "    <tr>\n",
       "      <th>TRANSFER</th>\n",
       "      <td>0.005080</td>\n",
       "      <td>0.359373</td>\n",
       "      <td>-0.081529</td>\n",
       "      <td>-0.086935</td>\n",
       "      <td>0.126101</td>\n",
       "      <td>0.186032</td>\n",
       "      <td>0.042662</td>\n",
       "      <td>-0.159447</td>\n",
       "      <td>-0.222632</td>\n",
       "      <td>-0.024521</td>\n",
       "      <td>-0.215008</td>\n",
       "      <td>1.000000</td>\n",
       "    </tr>\n",
       "  </tbody>\n",
       "</table>\n",
       "</div>"
      ],
      "text/plain": [
       "                    step    amount  oldbalanceOrg  newbalanceOrig  \\\n",
       "step            1.000000  0.022357      -0.013393       -0.013325   \n",
       "amount          0.022357  1.000000      -0.004457       -0.009061   \n",
       "oldbalanceOrg  -0.013393 -0.004457       1.000000        0.998834   \n",
       "newbalanceOrig -0.013325 -0.009061       0.998834        1.000000   \n",
       "oldbalanceDest  0.026208  0.271424       0.064978        0.066294   \n",
       "newbalanceDest  0.024380  0.433445       0.041942        0.041518   \n",
       "isFraud         0.035586  0.073067       0.007765       -0.009859   \n",
       "CASH_IN         0.007531 -0.010418       0.508080        0.528501   \n",
       "CASH_OUT       -0.018334 -0.003892      -0.201436       -0.211654   \n",
       "DEBIT           0.001295 -0.022992      -0.021589       -0.021998   \n",
       "PAYMENT         0.008759 -0.192782      -0.189429       -0.193733   \n",
       "TRANSFER        0.005080  0.359373      -0.081529       -0.086935   \n",
       "\n",
       "                oldbalanceDest  newbalanceDest   isFraud   CASH_IN  CASH_OUT  \\\n",
       "step                  0.026208        0.024380  0.035586  0.007531 -0.018334   \n",
       "amount                0.271424        0.433445  0.073067 -0.010418 -0.003892   \n",
       "oldbalanceOrg         0.064978        0.041942  0.007765  0.508080 -0.201436   \n",
       "newbalanceOrig        0.066294        0.041518 -0.009859  0.528501 -0.211654   \n",
       "oldbalanceDest        1.000000        0.978410 -0.005100  0.071319  0.085454   \n",
       "newbalanceDest        0.978410        1.000000  0.002068  0.032236  0.093539   \n",
       "isFraud              -0.005100        0.002068  1.000000 -0.018736  0.017057   \n",
       "CASH_IN               0.071319        0.032236 -0.018736  1.000000 -0.391622   \n",
       "CASH_OUT              0.085454        0.093539  0.017057 -0.391622  1.000000   \n",
       "DEBIT                 0.011058        0.008347 -0.002881 -0.043135 -0.060228   \n",
       "PAYMENT              -0.224243       -0.232754 -0.025265 -0.378211 -0.528088   \n",
       "TRANSFER              0.126101        0.186032  0.042662 -0.159447 -0.222632   \n",
       "\n",
       "                   DEBIT   PAYMENT  TRANSFER  \n",
       "step            0.001295  0.008759  0.005080  \n",
       "amount         -0.022992 -0.192782  0.359373  \n",
       "oldbalanceOrg  -0.021589 -0.189429 -0.081529  \n",
       "newbalanceOrig -0.021998 -0.193733 -0.086935  \n",
       "oldbalanceDest  0.011058 -0.224243  0.126101  \n",
       "newbalanceDest  0.008347 -0.232754  0.186032  \n",
       "isFraud        -0.002881 -0.025265  0.042662  \n",
       "CASH_IN        -0.043135 -0.378211 -0.159447  \n",
       "CASH_OUT       -0.060228 -0.528088 -0.222632  \n",
       "DEBIT           1.000000 -0.058165 -0.024521  \n",
       "PAYMENT        -0.058165  1.000000 -0.215008  \n",
       "TRANSFER       -0.024521 -0.215008  1.000000  "
      ]
     },
     "execution_count": 53,
     "metadata": {},
     "output_type": "execute_result"
    }
   ],
   "source": [
    "new_data.corr()"
   ]
  },
  {
   "cell_type": "markdown",
   "metadata": {},
   "source": [
    "### Run a logisitc regression classifier and evaluate its accuracy."
   ]
  },
  {
   "cell_type": "code",
   "execution_count": 57,
   "metadata": {},
   "outputs": [
    {
     "name": "stdout",
     "output_type": "stream",
     "text": [
      "0.9985\n",
      "Training data accuracy was 0.9987\n"
     ]
    }
   ],
   "source": [
    "# Your code here\n",
    "from sklearn.model_selection import train_test_split\n",
    "from sklearn.linear_model import LogisticRegression\n",
    "from sklearn.metrics import accuracy_score\n",
    "\n",
    "features = new_data.drop(\"isFraud\", axis = 1)\n",
    "target = new_data[\"isFraud\"]\n",
    "\n",
    "X_train, X_test, y_train, y_test = train_test_split(features, target, test_size = 0.20, random_state = 0)\n",
    "\n",
    "log_reg = LogisticRegression()\n",
    "log_reg.fit(X_train, y_train)\n",
    "\n",
    "print(log_reg.score(X_test, y_test))\n",
    "print(f\"Training data accuracy was {log_reg.score(X_train, y_train)}\")"
   ]
  },
  {
   "cell_type": "markdown",
   "metadata": {},
   "source": [
    "### Now pick a model of your choice and evaluate its accuracy."
   ]
  },
  {
   "cell_type": "code",
   "execution_count": 59,
   "metadata": {},
   "outputs": [
    {
     "name": "stdout",
     "output_type": "stream",
     "text": [
      "0.5383219853506562\n",
      "Training data accuracy was 0.9989275131167832\n"
     ]
    }
   ],
   "source": [
    "# Your code here\n",
    "#Extreme Gradient Boosting\n",
    "import xgboost\n",
    "\n",
    "xgb_reg = xgboost.XGBRegressor(max_depth = 5, n_estimators = 500)\n",
    "xgb_reg.fit(X_train, y_train)\n",
    "\n",
    "print(xgb_reg.score(X_test, y_test))\n",
    "print(f\"Training data accuracy was {xgb_reg.score(X_train, y_train)}\")"
   ]
  },
  {
   "cell_type": "markdown",
   "metadata": {},
   "source": [
    "### Which model worked better and how do you know?"
   ]
  },
  {
   "cell_type": "code",
   "execution_count": null,
   "metadata": {},
   "outputs": [],
   "source": [
    "# Your response here: Logistic logisitc regression worked better. Extreme Gradient Boosting is overfitting."
   ]
  },
  {
   "cell_type": "markdown",
   "metadata": {},
   "source": [
    "### Note: before doing the first commit, make sure you don't include the large csv file, either by adding it to .gitignore, or by deleting it."
   ]
  }
 ],
 "metadata": {
  "kernelspec": {
   "display_name": "Python 3 (ipykernel)",
   "language": "python",
   "name": "python3"
  },
  "language_info": {
   "codemirror_mode": {
    "name": "ipython",
    "version": 3
   },
   "file_extension": ".py",
   "mimetype": "text/x-python",
   "name": "python",
   "nbconvert_exporter": "python",
   "pygments_lexer": "ipython3",
   "version": "3.10.9"
  }
 },
 "nbformat": 4,
 "nbformat_minor": 2
}
