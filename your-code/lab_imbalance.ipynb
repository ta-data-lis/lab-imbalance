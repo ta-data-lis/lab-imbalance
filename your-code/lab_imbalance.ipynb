{
 "cells": [
  {
   "cell_type": "markdown",
   "metadata": {},
   "source": [
    "# Inbalanced Classes\n",
    "## In this lab, we are going to explore a case of imbalanced classes. \n",
    "\n",
    "\n",
    "Like we disussed in class, when we have noisy data, if we are not careful, we can end up fitting our model to the noise in the data and not the 'signal'-- the factors that actually determine the outcome. This is called overfitting, and results in good results in training, and in bad results when the model is applied to real data. Similarly, we could have a model that is too simplistic to accurately model the signal. This produces a model that doesnt work well (ever). \n"
   ]
  },
  {
   "cell_type": "markdown",
   "metadata": {},
   "source": [
    "### Note: before doing the first commit, make sure you don't include the large csv file, either by adding it to .gitignore, or by deleting it."
   ]
  },
  {
   "cell_type": "markdown",
   "metadata": {},
   "source": [
    "### First, download the data from: https://www.kaggle.com/datasets/ealaxi/paysim1. Import the dataset and provide some discriptive statistics and plots. What do you think will be the important features in determining the outcome?\n",
    "### Note: don't use the entire dataset, use a sample instead, with n=100000 elements, so your computer doesn't freeze."
   ]
  },
  {
   "cell_type": "code",
   "execution_count": 47,
   "metadata": {},
   "outputs": [],
   "source": [
    "import pandas as pd\n",
    "import numpy as np\n",
    "import matplotlib.pyplot as plt\n",
    "\n",
    "from sklearn.model_selection import train_test_split\n",
    "from sklearn.linear_model import LinearRegression\n",
    "\n",
    "\n",
    "from sklearn.utils import resample\n",
    "from sklearn.linear_model import LogisticRegression\n",
    "\n",
    "from sklearn.metrics import confusion_matrix"
   ]
  },
  {
   "cell_type": "code",
   "execution_count": 7,
   "metadata": {},
   "outputs": [
    {
     "data": {
      "text/html": [
       "<div>\n",
       "<style scoped>\n",
       "    .dataframe tbody tr th:only-of-type {\n",
       "        vertical-align: middle;\n",
       "    }\n",
       "\n",
       "    .dataframe tbody tr th {\n",
       "        vertical-align: top;\n",
       "    }\n",
       "\n",
       "    .dataframe thead th {\n",
       "        text-align: right;\n",
       "    }\n",
       "</style>\n",
       "<table border=\"1\" class=\"dataframe\">\n",
       "  <thead>\n",
       "    <tr style=\"text-align: right;\">\n",
       "      <th></th>\n",
       "      <th>step</th>\n",
       "      <th>type</th>\n",
       "      <th>amount</th>\n",
       "      <th>nameOrig</th>\n",
       "      <th>oldbalanceOrg</th>\n",
       "      <th>newbalanceOrig</th>\n",
       "      <th>nameDest</th>\n",
       "      <th>oldbalanceDest</th>\n",
       "      <th>newbalanceDest</th>\n",
       "      <th>isFraud</th>\n",
       "      <th>isFlaggedFraud</th>\n",
       "    </tr>\n",
       "  </thead>\n",
       "  <tbody>\n",
       "    <tr>\n",
       "      <th>950239</th>\n",
       "      <td>44</td>\n",
       "      <td>PAYMENT</td>\n",
       "      <td>1559.39</td>\n",
       "      <td>C1737204915</td>\n",
       "      <td>116107.00</td>\n",
       "      <td>114547.61</td>\n",
       "      <td>M1548885470</td>\n",
       "      <td>0.00</td>\n",
       "      <td>0.00</td>\n",
       "      <td>0</td>\n",
       "      <td>0</td>\n",
       "    </tr>\n",
       "    <tr>\n",
       "      <th>2240105</th>\n",
       "      <td>186</td>\n",
       "      <td>CASH_IN</td>\n",
       "      <td>21871.49</td>\n",
       "      <td>C1215175572</td>\n",
       "      <td>2024382.99</td>\n",
       "      <td>2046254.48</td>\n",
       "      <td>C882374491</td>\n",
       "      <td>131508.96</td>\n",
       "      <td>109637.47</td>\n",
       "      <td>0</td>\n",
       "      <td>0</td>\n",
       "    </tr>\n",
       "    <tr>\n",
       "      <th>4738923</th>\n",
       "      <td>332</td>\n",
       "      <td>PAYMENT</td>\n",
       "      <td>11002.45</td>\n",
       "      <td>C732301127</td>\n",
       "      <td>6685.00</td>\n",
       "      <td>0.00</td>\n",
       "      <td>M947180884</td>\n",
       "      <td>0.00</td>\n",
       "      <td>0.00</td>\n",
       "      <td>0</td>\n",
       "      <td>0</td>\n",
       "    </tr>\n",
       "    <tr>\n",
       "      <th>6320054</th>\n",
       "      <td>687</td>\n",
       "      <td>PAYMENT</td>\n",
       "      <td>14814.27</td>\n",
       "      <td>C1890604786</td>\n",
       "      <td>3392.00</td>\n",
       "      <td>0.00</td>\n",
       "      <td>M163361388</td>\n",
       "      <td>0.00</td>\n",
       "      <td>0.00</td>\n",
       "      <td>0</td>\n",
       "      <td>0</td>\n",
       "    </tr>\n",
       "    <tr>\n",
       "      <th>904025</th>\n",
       "      <td>43</td>\n",
       "      <td>CASH_IN</td>\n",
       "      <td>23425.12</td>\n",
       "      <td>C1621954591</td>\n",
       "      <td>16789677.68</td>\n",
       "      <td>16813102.79</td>\n",
       "      <td>C501173125</td>\n",
       "      <td>625787.27</td>\n",
       "      <td>602362.15</td>\n",
       "      <td>0</td>\n",
       "      <td>0</td>\n",
       "    </tr>\n",
       "    <tr>\n",
       "      <th>...</th>\n",
       "      <td>...</td>\n",
       "      <td>...</td>\n",
       "      <td>...</td>\n",
       "      <td>...</td>\n",
       "      <td>...</td>\n",
       "      <td>...</td>\n",
       "      <td>...</td>\n",
       "      <td>...</td>\n",
       "      <td>...</td>\n",
       "      <td>...</td>\n",
       "      <td>...</td>\n",
       "    </tr>\n",
       "    <tr>\n",
       "      <th>4760184</th>\n",
       "      <td>334</td>\n",
       "      <td>PAYMENT</td>\n",
       "      <td>24708.39</td>\n",
       "      <td>C702014193</td>\n",
       "      <td>0.00</td>\n",
       "      <td>0.00</td>\n",
       "      <td>M1382014603</td>\n",
       "      <td>0.00</td>\n",
       "      <td>0.00</td>\n",
       "      <td>0</td>\n",
       "      <td>0</td>\n",
       "    </tr>\n",
       "    <tr>\n",
       "      <th>1795150</th>\n",
       "      <td>162</td>\n",
       "      <td>CASH_IN</td>\n",
       "      <td>130243.71</td>\n",
       "      <td>C1569597388</td>\n",
       "      <td>50311.00</td>\n",
       "      <td>180554.71</td>\n",
       "      <td>C2036782938</td>\n",
       "      <td>184535.14</td>\n",
       "      <td>54291.43</td>\n",
       "      <td>0</td>\n",
       "      <td>0</td>\n",
       "    </tr>\n",
       "    <tr>\n",
       "      <th>4024354</th>\n",
       "      <td>299</td>\n",
       "      <td>CASH_IN</td>\n",
       "      <td>77891.34</td>\n",
       "      <td>C841256644</td>\n",
       "      <td>45634.00</td>\n",
       "      <td>123525.34</td>\n",
       "      <td>C272513686</td>\n",
       "      <td>1565308.07</td>\n",
       "      <td>1487416.73</td>\n",
       "      <td>0</td>\n",
       "      <td>0</td>\n",
       "    </tr>\n",
       "    <tr>\n",
       "      <th>1241644</th>\n",
       "      <td>134</td>\n",
       "      <td>CASH_OUT</td>\n",
       "      <td>100795.34</td>\n",
       "      <td>C685529739</td>\n",
       "      <td>177373.76</td>\n",
       "      <td>76578.41</td>\n",
       "      <td>C1831512617</td>\n",
       "      <td>335859.04</td>\n",
       "      <td>436654.38</td>\n",
       "      <td>0</td>\n",
       "      <td>0</td>\n",
       "    </tr>\n",
       "    <tr>\n",
       "      <th>271408</th>\n",
       "      <td>15</td>\n",
       "      <td>CASH_IN</td>\n",
       "      <td>323285.34</td>\n",
       "      <td>C485731798</td>\n",
       "      <td>58546.00</td>\n",
       "      <td>381831.34</td>\n",
       "      <td>C1537471880</td>\n",
       "      <td>2353613.11</td>\n",
       "      <td>2199231.18</td>\n",
       "      <td>0</td>\n",
       "      <td>0</td>\n",
       "    </tr>\n",
       "  </tbody>\n",
       "</table>\n",
       "<p>100000 rows × 11 columns</p>\n",
       "</div>"
      ],
      "text/plain": [
       "         step      type     amount     nameOrig  oldbalanceOrg  \\\n",
       "950239     44   PAYMENT    1559.39  C1737204915      116107.00   \n",
       "2240105   186   CASH_IN   21871.49  C1215175572     2024382.99   \n",
       "4738923   332   PAYMENT   11002.45   C732301127        6685.00   \n",
       "6320054   687   PAYMENT   14814.27  C1890604786        3392.00   \n",
       "904025     43   CASH_IN   23425.12  C1621954591    16789677.68   \n",
       "...       ...       ...        ...          ...            ...   \n",
       "4760184   334   PAYMENT   24708.39   C702014193           0.00   \n",
       "1795150   162   CASH_IN  130243.71  C1569597388       50311.00   \n",
       "4024354   299   CASH_IN   77891.34   C841256644       45634.00   \n",
       "1241644   134  CASH_OUT  100795.34   C685529739      177373.76   \n",
       "271408     15   CASH_IN  323285.34   C485731798       58546.00   \n",
       "\n",
       "         newbalanceOrig     nameDest  oldbalanceDest  newbalanceDest  isFraud  \\\n",
       "950239        114547.61  M1548885470            0.00            0.00        0   \n",
       "2240105      2046254.48   C882374491       131508.96       109637.47        0   \n",
       "4738923            0.00   M947180884            0.00            0.00        0   \n",
       "6320054            0.00   M163361388            0.00            0.00        0   \n",
       "904025      16813102.79   C501173125       625787.27       602362.15        0   \n",
       "...                 ...          ...             ...             ...      ...   \n",
       "4760184            0.00  M1382014603            0.00            0.00        0   \n",
       "1795150       180554.71  C2036782938       184535.14        54291.43        0   \n",
       "4024354       123525.34   C272513686      1565308.07      1487416.73        0   \n",
       "1241644        76578.41  C1831512617       335859.04       436654.38        0   \n",
       "271408        381831.34  C1537471880      2353613.11      2199231.18        0   \n",
       "\n",
       "         isFlaggedFraud  \n",
       "950239                0  \n",
       "2240105               0  \n",
       "4738923               0  \n",
       "6320054               0  \n",
       "904025                0  \n",
       "...                 ...  \n",
       "4760184               0  \n",
       "1795150               0  \n",
       "4024354               0  \n",
       "1241644               0  \n",
       "271408                0  \n",
       "\n",
       "[100000 rows x 11 columns]"
      ]
     },
     "execution_count": 7,
     "metadata": {},
     "output_type": "execute_result"
    }
   ],
   "source": [
    "data = pd.read_csv(\"PS_20174392719_1491204439457_log.csv\").sample(n = 100000)\n",
    "data"
   ]
  },
  {
   "cell_type": "code",
   "execution_count": 9,
   "metadata": {},
   "outputs": [
    {
     "data": {
      "text/html": [
       "<div>\n",
       "<style scoped>\n",
       "    .dataframe tbody tr th:only-of-type {\n",
       "        vertical-align: middle;\n",
       "    }\n",
       "\n",
       "    .dataframe tbody tr th {\n",
       "        vertical-align: top;\n",
       "    }\n",
       "\n",
       "    .dataframe thead th {\n",
       "        text-align: right;\n",
       "    }\n",
       "</style>\n",
       "<table border=\"1\" class=\"dataframe\">\n",
       "  <thead>\n",
       "    <tr style=\"text-align: right;\">\n",
       "      <th></th>\n",
       "      <th>step</th>\n",
       "      <th>amount</th>\n",
       "      <th>oldbalanceOrg</th>\n",
       "      <th>newbalanceOrig</th>\n",
       "      <th>oldbalanceDest</th>\n",
       "      <th>newbalanceDest</th>\n",
       "      <th>isFraud</th>\n",
       "      <th>isFlaggedFraud</th>\n",
       "    </tr>\n",
       "  </thead>\n",
       "  <tbody>\n",
       "    <tr>\n",
       "      <th>count</th>\n",
       "      <td>100000.000000</td>\n",
       "      <td>1.000000e+05</td>\n",
       "      <td>1.000000e+05</td>\n",
       "      <td>1.000000e+05</td>\n",
       "      <td>1.000000e+05</td>\n",
       "      <td>1.000000e+05</td>\n",
       "      <td>100000.00000</td>\n",
       "      <td>100000.0</td>\n",
       "    </tr>\n",
       "    <tr>\n",
       "      <th>mean</th>\n",
       "      <td>243.600210</td>\n",
       "      <td>1.788609e+05</td>\n",
       "      <td>8.358504e+05</td>\n",
       "      <td>8.567292e+05</td>\n",
       "      <td>1.096933e+06</td>\n",
       "      <td>1.218947e+06</td>\n",
       "      <td>0.00131</td>\n",
       "      <td>0.0</td>\n",
       "    </tr>\n",
       "    <tr>\n",
       "      <th>std</th>\n",
       "      <td>142.561539</td>\n",
       "      <td>5.964622e+05</td>\n",
       "      <td>2.873248e+06</td>\n",
       "      <td>2.909633e+06</td>\n",
       "      <td>3.332727e+06</td>\n",
       "      <td>3.579175e+06</td>\n",
       "      <td>0.03617</td>\n",
       "      <td>0.0</td>\n",
       "    </tr>\n",
       "    <tr>\n",
       "      <th>min</th>\n",
       "      <td>1.000000</td>\n",
       "      <td>0.000000e+00</td>\n",
       "      <td>0.000000e+00</td>\n",
       "      <td>0.000000e+00</td>\n",
       "      <td>0.000000e+00</td>\n",
       "      <td>0.000000e+00</td>\n",
       "      <td>0.00000</td>\n",
       "      <td>0.0</td>\n",
       "    </tr>\n",
       "    <tr>\n",
       "      <th>25%</th>\n",
       "      <td>156.000000</td>\n",
       "      <td>1.338920e+04</td>\n",
       "      <td>0.000000e+00</td>\n",
       "      <td>0.000000e+00</td>\n",
       "      <td>0.000000e+00</td>\n",
       "      <td>0.000000e+00</td>\n",
       "      <td>0.00000</td>\n",
       "      <td>0.0</td>\n",
       "    </tr>\n",
       "    <tr>\n",
       "      <th>50%</th>\n",
       "      <td>238.000000</td>\n",
       "      <td>7.443640e+04</td>\n",
       "      <td>1.405767e+04</td>\n",
       "      <td>0.000000e+00</td>\n",
       "      <td>1.317947e+05</td>\n",
       "      <td>2.118752e+05</td>\n",
       "      <td>0.00000</td>\n",
       "      <td>0.0</td>\n",
       "    </tr>\n",
       "    <tr>\n",
       "      <th>75%</th>\n",
       "      <td>335.000000</td>\n",
       "      <td>2.084491e+05</td>\n",
       "      <td>1.074788e+05</td>\n",
       "      <td>1.435545e+05</td>\n",
       "      <td>9.394442e+05</td>\n",
       "      <td>1.106856e+06</td>\n",
       "      <td>0.00000</td>\n",
       "      <td>0.0</td>\n",
       "    </tr>\n",
       "    <tr>\n",
       "      <th>max</th>\n",
       "      <td>742.000000</td>\n",
       "      <td>5.625500e+07</td>\n",
       "      <td>3.893942e+07</td>\n",
       "      <td>3.894623e+07</td>\n",
       "      <td>2.580347e+08</td>\n",
       "      <td>2.582821e+08</td>\n",
       "      <td>1.00000</td>\n",
       "      <td>0.0</td>\n",
       "    </tr>\n",
       "  </tbody>\n",
       "</table>\n",
       "</div>"
      ],
      "text/plain": [
       "                step        amount  oldbalanceOrg  newbalanceOrig  \\\n",
       "count  100000.000000  1.000000e+05   1.000000e+05    1.000000e+05   \n",
       "mean      243.600210  1.788609e+05   8.358504e+05    8.567292e+05   \n",
       "std       142.561539  5.964622e+05   2.873248e+06    2.909633e+06   \n",
       "min         1.000000  0.000000e+00   0.000000e+00    0.000000e+00   \n",
       "25%       156.000000  1.338920e+04   0.000000e+00    0.000000e+00   \n",
       "50%       238.000000  7.443640e+04   1.405767e+04    0.000000e+00   \n",
       "75%       335.000000  2.084491e+05   1.074788e+05    1.435545e+05   \n",
       "max       742.000000  5.625500e+07   3.893942e+07    3.894623e+07   \n",
       "\n",
       "       oldbalanceDest  newbalanceDest       isFraud  isFlaggedFraud  \n",
       "count    1.000000e+05    1.000000e+05  100000.00000        100000.0  \n",
       "mean     1.096933e+06    1.218947e+06       0.00131             0.0  \n",
       "std      3.332727e+06    3.579175e+06       0.03617             0.0  \n",
       "min      0.000000e+00    0.000000e+00       0.00000             0.0  \n",
       "25%      0.000000e+00    0.000000e+00       0.00000             0.0  \n",
       "50%      1.317947e+05    2.118752e+05       0.00000             0.0  \n",
       "75%      9.394442e+05    1.106856e+06       0.00000             0.0  \n",
       "max      2.580347e+08    2.582821e+08       1.00000             0.0  "
      ]
     },
     "execution_count": 9,
     "metadata": {},
     "output_type": "execute_result"
    }
   ],
   "source": [
    "data.describe()"
   ]
  },
  {
   "cell_type": "code",
   "execution_count": 20,
   "metadata": {},
   "outputs": [
    {
     "data": {
      "text/plain": [
       "array([[<Axes: title={'center': 'step'}>,\n",
       "        <Axes: title={'center': 'amount'}>,\n",
       "        <Axes: title={'center': 'oldbalanceOrg'}>],\n",
       "       [<Axes: title={'center': 'newbalanceOrig'}>,\n",
       "        <Axes: title={'center': 'oldbalanceDest'}>,\n",
       "        <Axes: title={'center': 'newbalanceDest'}>],\n",
       "       [<Axes: title={'center': 'isFraud'}>,\n",
       "        <Axes: title={'center': 'isFlaggedFraud'}>, <Axes: >]],\n",
       "      dtype=object)"
      ]
     },
     "execution_count": 20,
     "metadata": {},
     "output_type": "execute_result"
    },
    {
     "data": {
      "image/png": "[encoded data removed]",
      "text/plain": [
       "<Figure size 640x480 with 9 Axes>"
      ]
     },
     "metadata": {},
     "output_type": "display_data"
    }
   ],
   "source": [
    "data.hist()\n"
   ]
  },
  {
   "cell_type": "markdown",
   "metadata": {},
   "source": [
    "### What is the distribution of the outcome? "
   ]
  },
  {
   "cell_type": "code",
   "execution_count": 21,
   "metadata": {},
   "outputs": [
    {
     "data": {
      "text/plain": [
       "(array([99869.,     0.,     0.,     0.,     0.,     0.,     0.,     0.,\n",
       "            0.,   131.]),\n",
       " array([0. , 0.1, 0.2, 0.3, 0.4, 0.5, 0.6, 0.7, 0.8, 0.9, 1. ]),\n",
       " <BarContainer object of 10 artists>)"
      ]
     },
     "execution_count": 21,
     "metadata": {},
     "output_type": "execute_result"
    },
    {
     "data": {
      "image/png": "[encoded data removed]",
      "text/plain": [
       "<Figure size 640x480 with 1 Axes>"
      ]
     },
     "metadata": {},
     "output_type": "display_data"
    }
   ],
   "source": [
    "plt.hist(data[\"isFraud\"])"
   ]
  },
  {
   "cell_type": "markdown",
   "metadata": {},
   "source": [
    "### Clean the dataset. How are you going to integrate the time variable? Do you think the step (integer) coding in which it is given is appropriate?"
   ]
  },
  {
   "cell_type": "code",
   "execution_count": 22,
   "metadata": {},
   "outputs": [
    {
     "data": {
      "text/plain": [
       "step                int64\n",
       "type               object\n",
       "amount            float64\n",
       "nameOrig           object\n",
       "oldbalanceOrg     float64\n",
       "newbalanceOrig    float64\n",
       "nameDest           object\n",
       "oldbalanceDest    float64\n",
       "newbalanceDest    float64\n",
       "isFraud             int64\n",
       "isFlaggedFraud      int64\n",
       "dtype: object"
      ]
     },
     "execution_count": 22,
     "metadata": {},
     "output_type": "execute_result"
    }
   ],
   "source": [
    "data.dtypes\n"
   ]
  },
  {
   "cell_type": "markdown",
   "metadata": {},
   "source": [
    "### Run a logisitc regression classifier and evaluate its accuracy."
   ]
  },
  {
   "cell_type": "code",
   "execution_count": 37,
   "metadata": {},
   "outputs": [
    {
     "data": {
      "text/plain": [
       "0.22291581487489165"
      ]
     },
     "execution_count": 37,
     "metadata": {},
     "output_type": "execute_result"
    }
   ],
   "source": [
    "\n",
    "features = data[[\"amount\", \"oldbalanceOrg\", \"newbalanceOrig\", \"oldbalanceDest\",\"newbalanceDest\"]]\n",
    "\n",
    "#features = data.drop(\"type\", \"isFruad\", axis =1)\n",
    "\n",
    "target = data[\"isFraud\"]\n",
    "\n",
    "X_train, X_test, y_train, y_test = train_test_split(features, target, test_size = 0.20)\n",
    "\n",
    "\n",
    "#X = data[[\"amount\", \"oldbalanceOrg\", \"newbalanceOrig\", \"oldbalanceDest\",\"newbalanceDest\"]]\n",
    "#X = data.drop(\"type\", axis =1)\n",
    "\n",
    "#y = data[\"isFraud\"]\n",
    "\n",
    "# sometimes its easier to use linear regression so people(CEO) can better understand it\n",
    "\n",
    "reg = LinearRegression()\n",
    "reg.fit(X_train, y_train)\n",
    "reg.score(X_test, y_test)"
   ]
  },
  {
   "cell_type": "markdown",
   "metadata": {},
   "source": [
    "### Now pick a model of your choice and evaluate its accuracy."
   ]
  },
  {
   "cell_type": "code",
   "execution_count": 38,
   "metadata": {},
   "outputs": [
    {
     "name": "stdout",
     "output_type": "stream",
     "text": [
      "Test data accuracy was 0.9994\n",
      "Training data accuracy was 0.99895\n"
     ]
    }
   ],
   "source": [
    "\n",
    "from sklearn.tree import DecisionTreeClassifier\n",
    "\n",
    "model = DecisionTreeClassifier(max_depth = 3)   \n",
    "\n",
    "model.fit(X_train, y_train)\n",
    "\n",
    "print(f\"Test data accuracy was {model.score(X_test, y_test)}\")\n",
    "print(f\"Training data accuracy was {model.score(X_train, y_train)}\")"
   ]
  },
  {
   "cell_type": "code",
   "execution_count": null,
   "metadata": {},
   "outputs": [],
   "source": []
  },
  {
   "cell_type": "code",
   "execution_count": null,
   "metadata": {},
   "outputs": [],
   "source": []
  },
  {
   "cell_type": "code",
   "execution_count": 40,
   "metadata": {},
   "outputs": [
    {
     "name": "stdout",
     "output_type": "stream",
     "text": [
      "(79888, 6)\n",
      "(112, 6)\n"
     ]
    }
   ],
   "source": [
    "\n",
    "train = pd.concat([X_train, y_train], axis = 1)\n",
    "\n",
    "no_fraud = train[train[\"isFraud\"] == 0]\n",
    "yes_fraud = train[train[\"isFraud\"] == 1]\n",
    "\n",
    "print(no_fraud.shape)\n",
    "print(yes_fraud.shape)"
   ]
  },
  {
   "cell_type": "code",
   "execution_count": 48,
   "metadata": {},
   "outputs": [
    {
     "data": {
      "text/plain": [
       "0.9599"
      ]
     },
     "execution_count": 48,
     "metadata": {},
     "output_type": "execute_result"
    }
   ],
   "source": [
    "yes_fraud_oversampled = resample(yes_fraud,      # oversample from here\n",
    "                                   replace = True,     # need replacement, since we do not have enough data from the minority class\n",
    "                                   n_samples = len(no_fraud),  #equals the lenght of the other group\n",
    "                                   random_state = 0)\n",
    "\n",
    "train_oversampled = pd.concat([no_fraud, yes_fraud_oversampled], axis = 0)\n",
    "\n",
    "X_train_over = train_oversampled.drop(\"isFraud\", axis = 1)\n",
    "y_train_over = train_oversampled[\"isFraud\"]\n",
    "\n",
    "model = LogisticRegression(max_iter=1000)\n",
    "model.fit(X_train_over, y_train_over)\n",
    "model.score(X_test, y_test)\n"
   ]
  },
  {
   "cell_type": "code",
   "execution_count": null,
   "metadata": {},
   "outputs": [],
   "source": []
  },
  {
   "cell_type": "markdown",
   "metadata": {},
   "source": [
    "### Which model worked better and how do you know?"
   ]
  },
  {
   "cell_type": "code",
   "execution_count": 2,
   "metadata": {},
   "outputs": [],
   "source": [
    "# tree classifeir works better, but too good.\n",
    "# tried to oversampling and it seems more accurate"
   ]
  },
  {
   "cell_type": "markdown",
   "metadata": {},
   "source": [
    "### Note: before doing the first commit, make sure you don't include the large csv file, either by adding it to .gitignore, or by deleting it."
   ]
  }
 ],
 "metadata": {
  "kernelspec": {
   "display_name": "Python 3 (ipykernel)",
   "language": "python",
   "name": "python3"
  },
  "language_info": {
   "codemirror_mode": {
    "name": "ipython",
    "version": 3
   },
   "file_extension": ".py",
   "mimetype": "text/x-python",
   "name": "python",
   "nbconvert_exporter": "python",
   "pygments_lexer": "ipython3",
   "version": "3.10.9"
  }
 },
 "nbformat": 4,
 "nbformat_minor": 2
}
