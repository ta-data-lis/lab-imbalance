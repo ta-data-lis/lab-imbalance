{
 "cells": [
  {
   "cell_type": "markdown",
   "metadata": {},
   "source": [
    "# Inbalanced Classes\n",
    "## In this lab, we are going to explore a case of imbalanced classes. \n",
    "\n",
    "\n",
    "Like we disussed in class, when we have noisy data, if we are not careful, we can end up fitting our model to the noise in the data and not the 'signal'-- the factors that actually determine the outcome. This is called overfitting, and results in good results in training, and in bad results when the model is applied to real data. Similarly, we could have a model that is too simplistic to accurately model the signal. This produces a model that doesnt work well (ever). \n"
   ]
  },
  {
   "cell_type": "markdown",
   "metadata": {},
   "source": [
    "### Note: before doing the first commit, make sure you don't include the large csv file, either by adding it to .gitignore, or by deleting it."
   ]
  },
  {
   "cell_type": "markdown",
   "metadata": {},
   "source": [
    "### First, download the data from: https://www.kaggle.com/datasets/ealaxi/paysim1. Import the dataset and provide some discriptive statistics and plots. What do you think will be the important features in determining the outcome?\n",
    "### Note: don't use the entire dataset, use a sample instead, with n=100000 elements, so your computer doesn't freeze."
   ]
  },
  {
   "cell_type": "code",
   "execution_count": 40,
   "metadata": {},
   "outputs": [],
   "source": [
    "# Your code here\n",
    "\n",
    "import pandas as pd\n",
    "\n",
    "data = pd.read_csv(\"/Users/medea/Documents/Ironhack/Labs_Week_7/lab-imbalance/PS_20174392719_1491204439457_log.csv\").sample(n=1000)"
   ]
  },
  {
   "cell_type": "code",
   "execution_count": 30,
   "metadata": {},
   "outputs": [
    {
     "data": {
      "text/html": [
       "<div>\n",
       "<style scoped>\n",
       "    .dataframe tbody tr th:only-of-type {\n",
       "        vertical-align: middle;\n",
       "    }\n",
       "\n",
       "    .dataframe tbody tr th {\n",
       "        vertical-align: top;\n",
       "    }\n",
       "\n",
       "    .dataframe thead th {\n",
       "        text-align: right;\n",
       "    }\n",
       "</style>\n",
       "<table border=\"1\" class=\"dataframe\">\n",
       "  <thead>\n",
       "    <tr style=\"text-align: right;\">\n",
       "      <th></th>\n",
       "      <th>step</th>\n",
       "      <th>type</th>\n",
       "      <th>amount</th>\n",
       "      <th>nameOrig</th>\n",
       "      <th>oldbalanceOrg</th>\n",
       "      <th>newbalanceOrig</th>\n",
       "      <th>nameDest</th>\n",
       "      <th>oldbalanceDest</th>\n",
       "      <th>newbalanceDest</th>\n",
       "      <th>isFraud</th>\n",
       "      <th>isFlaggedFraud</th>\n",
       "    </tr>\n",
       "  </thead>\n",
       "  <tbody>\n",
       "    <tr>\n",
       "      <th>534802</th>\n",
       "      <td>21</td>\n",
       "      <td>PAYMENT</td>\n",
       "      <td>4287.87</td>\n",
       "      <td>C382961472</td>\n",
       "      <td>96.61</td>\n",
       "      <td>0.00</td>\n",
       "      <td>M965207122</td>\n",
       "      <td>0.00</td>\n",
       "      <td>0.00</td>\n",
       "      <td>0</td>\n",
       "      <td>0</td>\n",
       "    </tr>\n",
       "    <tr>\n",
       "      <th>26289</th>\n",
       "      <td>8</td>\n",
       "      <td>CASH_OUT</td>\n",
       "      <td>549997.27</td>\n",
       "      <td>C987348198</td>\n",
       "      <td>123140.00</td>\n",
       "      <td>0.00</td>\n",
       "      <td>C1227603646</td>\n",
       "      <td>0.00</td>\n",
       "      <td>332709.92</td>\n",
       "      <td>0</td>\n",
       "      <td>0</td>\n",
       "    </tr>\n",
       "    <tr>\n",
       "      <th>4331487</th>\n",
       "      <td>308</td>\n",
       "      <td>CASH_OUT</td>\n",
       "      <td>175380.36</td>\n",
       "      <td>C1702670898</td>\n",
       "      <td>71627.84</td>\n",
       "      <td>0.00</td>\n",
       "      <td>C614717878</td>\n",
       "      <td>5278009.61</td>\n",
       "      <td>5453389.96</td>\n",
       "      <td>0</td>\n",
       "      <td>0</td>\n",
       "    </tr>\n",
       "    <tr>\n",
       "      <th>879075</th>\n",
       "      <td>42</td>\n",
       "      <td>TRANSFER</td>\n",
       "      <td>1255097.47</td>\n",
       "      <td>C998756411</td>\n",
       "      <td>2005.00</td>\n",
       "      <td>0.00</td>\n",
       "      <td>C449911178</td>\n",
       "      <td>4801577.11</td>\n",
       "      <td>6056674.59</td>\n",
       "      <td>0</td>\n",
       "      <td>0</td>\n",
       "    </tr>\n",
       "    <tr>\n",
       "      <th>2179364</th>\n",
       "      <td>185</td>\n",
       "      <td>CASH_IN</td>\n",
       "      <td>148898.69</td>\n",
       "      <td>C1890644909</td>\n",
       "      <td>5868355.49</td>\n",
       "      <td>6017254.18</td>\n",
       "      <td>C498972208</td>\n",
       "      <td>1287952.04</td>\n",
       "      <td>1139053.36</td>\n",
       "      <td>0</td>\n",
       "      <td>0</td>\n",
       "    </tr>\n",
       "    <tr>\n",
       "      <th>...</th>\n",
       "      <td>...</td>\n",
       "      <td>...</td>\n",
       "      <td>...</td>\n",
       "      <td>...</td>\n",
       "      <td>...</td>\n",
       "      <td>...</td>\n",
       "      <td>...</td>\n",
       "      <td>...</td>\n",
       "      <td>...</td>\n",
       "      <td>...</td>\n",
       "      <td>...</td>\n",
       "    </tr>\n",
       "    <tr>\n",
       "      <th>431977</th>\n",
       "      <td>18</td>\n",
       "      <td>TRANSFER</td>\n",
       "      <td>1588252.33</td>\n",
       "      <td>C332106886</td>\n",
       "      <td>48965.00</td>\n",
       "      <td>0.00</td>\n",
       "      <td>C1187497097</td>\n",
       "      <td>0.00</td>\n",
       "      <td>1588252.33</td>\n",
       "      <td>0</td>\n",
       "      <td>0</td>\n",
       "    </tr>\n",
       "    <tr>\n",
       "      <th>2336206</th>\n",
       "      <td>189</td>\n",
       "      <td>CASH_OUT</td>\n",
       "      <td>81307.89</td>\n",
       "      <td>C11401457</td>\n",
       "      <td>0.00</td>\n",
       "      <td>0.00</td>\n",
       "      <td>C1242656943</td>\n",
       "      <td>168821.46</td>\n",
       "      <td>250129.35</td>\n",
       "      <td>0</td>\n",
       "      <td>0</td>\n",
       "    </tr>\n",
       "    <tr>\n",
       "      <th>5566468</th>\n",
       "      <td>393</td>\n",
       "      <td>CASH_IN</td>\n",
       "      <td>56186.19</td>\n",
       "      <td>C451176702</td>\n",
       "      <td>5176.20</td>\n",
       "      <td>61362.39</td>\n",
       "      <td>C971756929</td>\n",
       "      <td>681432.84</td>\n",
       "      <td>625246.65</td>\n",
       "      <td>0</td>\n",
       "      <td>0</td>\n",
       "    </tr>\n",
       "    <tr>\n",
       "      <th>5804015</th>\n",
       "      <td>401</td>\n",
       "      <td>CASH_IN</td>\n",
       "      <td>106262.47</td>\n",
       "      <td>C1467494968</td>\n",
       "      <td>5092.00</td>\n",
       "      <td>111354.47</td>\n",
       "      <td>C606759475</td>\n",
       "      <td>191496.32</td>\n",
       "      <td>0.00</td>\n",
       "      <td>0</td>\n",
       "      <td>0</td>\n",
       "    </tr>\n",
       "    <tr>\n",
       "      <th>4974539</th>\n",
       "      <td>352</td>\n",
       "      <td>CASH_OUT</td>\n",
       "      <td>68881.30</td>\n",
       "      <td>C256640528</td>\n",
       "      <td>288.00</td>\n",
       "      <td>0.00</td>\n",
       "      <td>C877782032</td>\n",
       "      <td>243046.67</td>\n",
       "      <td>311927.96</td>\n",
       "      <td>0</td>\n",
       "      <td>0</td>\n",
       "    </tr>\n",
       "  </tbody>\n",
       "</table>\n",
       "<p>1000 rows × 11 columns</p>\n",
       "</div>"
      ],
      "text/plain": [
       "         step      type      amount     nameOrig  oldbalanceOrg  \\\n",
       "534802     21   PAYMENT     4287.87   C382961472          96.61   \n",
       "26289       8  CASH_OUT   549997.27   C987348198      123140.00   \n",
       "4331487   308  CASH_OUT   175380.36  C1702670898       71627.84   \n",
       "879075     42  TRANSFER  1255097.47   C998756411        2005.00   \n",
       "2179364   185   CASH_IN   148898.69  C1890644909     5868355.49   \n",
       "...       ...       ...         ...          ...            ...   \n",
       "431977     18  TRANSFER  1588252.33   C332106886       48965.00   \n",
       "2336206   189  CASH_OUT    81307.89    C11401457           0.00   \n",
       "5566468   393   CASH_IN    56186.19   C451176702        5176.20   \n",
       "5804015   401   CASH_IN   106262.47  C1467494968        5092.00   \n",
       "4974539   352  CASH_OUT    68881.30   C256640528         288.00   \n",
       "\n",
       "         newbalanceOrig     nameDest  oldbalanceDest  newbalanceDest  isFraud  \\\n",
       "534802             0.00   M965207122            0.00            0.00        0   \n",
       "26289              0.00  C1227603646            0.00       332709.92        0   \n",
       "4331487            0.00   C614717878      5278009.61      5453389.96        0   \n",
       "879075             0.00   C449911178      4801577.11      6056674.59        0   \n",
       "2179364      6017254.18   C498972208      1287952.04      1139053.36        0   \n",
       "...                 ...          ...             ...             ...      ...   \n",
       "431977             0.00  C1187497097            0.00      1588252.33        0   \n",
       "2336206            0.00  C1242656943       168821.46       250129.35        0   \n",
       "5566468        61362.39   C971756929       681432.84       625246.65        0   \n",
       "5804015       111354.47   C606759475       191496.32            0.00        0   \n",
       "4974539            0.00   C877782032       243046.67       311927.96        0   \n",
       "\n",
       "         isFlaggedFraud  \n",
       "534802                0  \n",
       "26289                 0  \n",
       "4331487               0  \n",
       "879075                0  \n",
       "2179364               0  \n",
       "...                 ...  \n",
       "431977                0  \n",
       "2336206               0  \n",
       "5566468               0  \n",
       "5804015               0  \n",
       "4974539               0  \n",
       "\n",
       "[1000 rows x 11 columns]"
      ]
     },
     "execution_count": 30,
     "metadata": {},
     "output_type": "execute_result"
    }
   ],
   "source": [
    "data"
   ]
  },
  {
   "cell_type": "markdown",
   "metadata": {},
   "source": [
    "### What is the distribution of the outcome? "
   ]
  },
  {
   "cell_type": "code",
   "execution_count": 41,
   "metadata": {},
   "outputs": [
    {
     "data": {
      "text/plain": [
       "0    997\n",
       "1      3\n",
       "Name: isFraud, dtype: int64"
      ]
     },
     "execution_count": 41,
     "metadata": {},
     "output_type": "execute_result"
    }
   ],
   "source": [
    "# Your response here\n",
    "\n",
    "data[\"isFraud\"].value_counts()"
   ]
  },
  {
   "cell_type": "markdown",
   "metadata": {},
   "source": [
    "### Clean the dataset. How are you going to integrate the time variable? Do you think the step (integer) coding in which it is given is appropriate?"
   ]
  },
  {
   "cell_type": "code",
   "execution_count": 32,
   "metadata": {},
   "outputs": [
    {
     "data": {
      "text/plain": [
       "step                int64\n",
       "type               object\n",
       "amount            float64\n",
       "nameOrig           object\n",
       "oldbalanceOrg     float64\n",
       "newbalanceOrig    float64\n",
       "nameDest           object\n",
       "oldbalanceDest    float64\n",
       "newbalanceDest    float64\n",
       "isFraud             int64\n",
       "isFlaggedFraud      int64\n",
       "dtype: object"
      ]
     },
     "execution_count": 32,
     "metadata": {},
     "output_type": "execute_result"
    }
   ],
   "source": [
    "# Your code here\n",
    "data.dtypes"
   ]
  },
  {
   "cell_type": "code",
   "execution_count": 42,
   "metadata": {},
   "outputs": [],
   "source": [
    "dummies = pd.get_dummies(data[\"type\"])\n",
    "data_clean = pd.concat([data, dummies], axis=1)\n",
    "\n",
    "data_clean.drop(columns=[\"type\", \"nameOrig\",\"nameDest\"] , inplace=True)"
   ]
  },
  {
   "cell_type": "markdown",
   "metadata": {},
   "source": [
    "### Run a logisitc regression classifier and evaluate its accuracy."
   ]
  },
  {
   "cell_type": "code",
   "execution_count": 43,
   "metadata": {},
   "outputs": [],
   "source": [
    "# Your code here\n",
    "from sklearn.model_selection import train_test_split\n",
    "from sklearn.linear_model import LogisticRegression\n",
    "\n",
    "X = data_clean.drop(columns=\"isFraud\")\n",
    "y = data_clean[\"isFraud\"]\n",
    "\n",
    "X_train, X_test, y_train, y_test = train_test_split(X, y)"
   ]
  },
  {
   "cell_type": "code",
   "execution_count": 44,
   "metadata": {},
   "outputs": [
    {
     "data": {
      "text/plain": [
       "0    997\n",
       "1      3\n",
       "Name: isFraud, dtype: int64"
      ]
     },
     "execution_count": 44,
     "metadata": {},
     "output_type": "execute_result"
    }
   ],
   "source": [
    "data_clean[\"isFraud\"].value_counts()"
   ]
  },
  {
   "cell_type": "code",
   "execution_count": 45,
   "metadata": {},
   "outputs": [
    {
     "name": "stderr",
     "output_type": "stream",
     "text": [
      "/Users/medea/opt/anaconda3/envs/projectsql/lib/python3.8/site-packages/sklearn/linear_model/_logistic.py:814: ConvergenceWarning: lbfgs failed to converge (status=1):\n",
      "STOP: TOTAL NO. of ITERATIONS REACHED LIMIT.\n",
      "\n",
      "Increase the number of iterations (max_iter) or scale the data as shown in:\n",
      "    https://scikit-learn.org/stable/modules/preprocessing.html\n",
      "Please also refer to the documentation for alternative solver options:\n",
      "    https://scikit-learn.org/stable/modules/linear_model.html#logistic-regression\n",
      "  n_iter_i = _check_optimize_result(\n"
     ]
    },
    {
     "data": {
      "text/plain": [
       "0.992"
      ]
     },
     "execution_count": 45,
     "metadata": {},
     "output_type": "execute_result"
    }
   ],
   "source": [
    "lr = LogisticRegression()\n",
    "\n",
    "lr.fit(X_train, y_train)\n",
    "\n",
    "lr.score(X_test, y_test)"
   ]
  },
  {
   "cell_type": "markdown",
   "metadata": {},
   "source": [
    "### Now pick a model of your choice and evaluate its accuracy."
   ]
  },
  {
   "cell_type": "code",
   "execution_count": 46,
   "metadata": {},
   "outputs": [
    {
     "data": {
      "text/plain": [
       "0.996"
      ]
     },
     "execution_count": 46,
     "metadata": {},
     "output_type": "execute_result"
    }
   ],
   "source": [
    "# Your code here\n",
    "\n",
    "from sklearn.neighbors import KNeighborsClassifier\n",
    "\n",
    "knn = KNeighborsClassifier(n_neighbors=5)\n",
    "\n",
    "knn.fit(X_train,y_train)\n",
    "\n",
    "knn.score(X_test, y_test)"
   ]
  },
  {
   "cell_type": "markdown",
   "metadata": {},
   "source": [
    "### Which model worked better and how do you know?"
   ]
  },
  {
   "cell_type": "code",
   "execution_count": null,
   "metadata": {},
   "outputs": [],
   "source": [
    "# Your response here\n",
    "\n",
    "# the KNN worked better"
   ]
  },
  {
   "cell_type": "markdown",
   "metadata": {},
   "source": [
    "### Note: before doing the first commit, make sure you don't include the large csv file, either by adding it to .gitignore, or by deleting it."
   ]
  }
 ],
 "metadata": {
  "interpreter": {
   "hash": "ecb3fb6d188ff4619f90ca2a35ca6f2ca1746fcd172f4f953b4f0c73e8f5124d"
  },
  "kernelspec": {
   "display_name": "Python 3.8.5 ('projectsql')",
   "language": "python",
   "name": "python3"
  },
  "language_info": {
   "codemirror_mode": {
    "name": "ipython",
    "version": 3
   },
   "file_extension": ".py",
   "mimetype": "text/x-python",
   "name": "python",
   "nbconvert_exporter": "python",
   "pygments_lexer": "ipython3",
   "version": "3.8.5"
  }
 },
 "nbformat": 4,
 "nbformat_minor": 2
}
